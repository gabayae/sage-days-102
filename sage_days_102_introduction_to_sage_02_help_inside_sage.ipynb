{
 "cells": [
  {
   "cell_type": "markdown",
   "metadata": {},
   "source": [
    "<h1 style=\"text-align: left;\"><a title=\"Sage Days 102 Workshop\" href=\"https://wiki.sagemath.org/days102\">Sage Days 102 Workshop</a>, <a title=\"University of Ibadan\" href=\"https://www.ui.edu.ng/\">University of Ibadan</a> Nigeria.</h1>\n",
    "\n",
    "\n",
    "<h2 style=\"text-align: left;\">Day 02 — Introduction to <a title=\"SageMath\"href=\"http://www.sagemath.org/\"><em>SageMath</em></a>: A Mathematics Software for All</h2>\n",
    "\n",
    "\n",
    "### Instructor: [Evans Doe Ocansey](https://risc.jku.at/m/evans-doe-ocansey/)\n",
    "\n",
    "The outline of the this notebook is as follows:"
   ]
  },
  {
   "cell_type": "markdown",
   "metadata": {},
   "source": [
    "## Table of Contents: <a class=\"anchor\" id=\"toc\"></a>\n",
    "\n",
    "*  [<font color=blue>Help Inside SageMath</font>](#help-in-sagemath)\n",
    "    *  [<font color=blue>Documentation</font>](#documetation)\n",
    "    *  [<font color=blue>Tab Completion</font>](#tab-completion)"
   ]
  },
  {
   "cell_type": "markdown",
   "metadata": {},
   "source": [
    "## 2 Help Inside [Sage](http://www.sagemath.org/) <a class=\"anchor\" id=\"help-inside-sage\"></a>\n",
    "\n",
    "There are various ways to get help for doing things in [Sage](http://www.sagemath.org/). Here are several common ways to get help as you are working in the old SageNB worksheet or [Jupyter](https://jupyter.org/) notebook."
   ]
  },
  {
   "cell_type": "markdown",
   "metadata": {},
   "source": [
    "### 2.1 Documentation <a class=\"anchor\" id=documentation></a>\n",
    "\n",
    "[Sage](http://www.sagemath.org/) includes extensive documentation covering thousands of functions, with many examples, tutorials, and other helps.\n",
    "\n",
    "-   One way to access these is to click the “Help” link at the top right of any worksheet. This page has lots of useful commands for the notebook. At the top it has a list of documents; you can click your preferred option at the top of the help page.\n",
    "-   They are also available any time online at the [Sage website](http://www.sagemath.org/help.html), which has many other links, like video introductions.\n",
    "-   The [Quick Reference Cards](http://wiki.sagemath.org/quickref) are another useful tool once you get more familiar with Sage.\n",
    "\n",
    "Our main focus in this tutorial, though, is to help you get immediate access from within the [Jupyter](https://jupyter.org/) notebook, where you don’t have to do *any* of those things mentioned above."
   ]
  },
  {
   "cell_type": "markdown",
   "metadata": {},
   "source": [
    "### 2.2 Tab Completion <a class=\"anchor\" id=tab-completion></a>\n",
    "\n",
    "The most useful help available in the notebook is “*__tab completion__*”. The idea is that even if you are not one hundred percent sure of the name of a command, the first few letters should still be enough to help find it. Here’s an example.\n",
    "\n",
    "-   Suppose you want to do a specific type of plot - maybe a slope field plot - but aren’t quite sure what will do it.\n",
    "-   Still, it seems reasonable that the command might start with pl .\n",
    "-   Then one can type pl in an input cell, and then press the <kbd>Tab</kbd> key to see all the commands that start with the letters pl .\n",
    "\n",
    "Try tabbing after the pl in the following cell to see all the commands that start with the letters pl. You should see that `plot_slope_field` is one of them."
   ]
  },
  {
   "cell_type": "code",
   "execution_count": null,
   "metadata": {},
   "outputs": [],
   "source": [
    "pl"
   ]
  },
  {
   "cell_type": "code",
   "execution_count": null,
   "metadata": {},
   "outputs": [],
   "source": []
  }
 ],
 "metadata": {
  "kernelspec": {
   "display_name": "SageMath 8.8",
   "language": "sage",
   "name": "sagemath"
  },
  "language": "python",
  "language_info": {
   "codemirror_mode": {
    "name": "ipython",
    "version": 2
   },
   "file_extension": ".py",
   "mimetype": "text/x-python",
   "name": "python",
   "nbconvert_exporter": "python",
   "pygments_lexer": "ipython2",
   "version": "2.7.15"
  }
 },
 "nbformat": 4,
 "nbformat_minor": 2
}
