{
 "cells": [
  {
   "cell_type": "markdown",
   "metadata": {},
   "source": [
    "<h1 style=\"text-align: left;\"><a title=\"Sage Days 102 Workshop\" href=\"https://wiki.sagemath.org/days102\">Sage Days 102 Workshop</a>, <a title=\"University of Ibadan\" href=\"https://www.ui.edu.ng/\">University of Ibadan</a> Nigeria.</h1>\n",
    "\n",
    "\n",
    "<h2 style=\"text-align: left;\">Day 02 — Introduction to <a title=\"Sage\"href=\"http://www.sagemath.org/\"><em>Sage</em></a>: A Mathematics Software for All</h2>\n",
    "\n",
    "\n",
    "### Instructor: [Evans Doe Ocansey](https://risc.jku.at/m/evans-doe-ocansey/)\n",
    "\n",
    "The outline of the this notebook is as follows:"
   ]
  },
  {
   "cell_type": "markdown",
   "metadata": {},
   "source": [
    "## Table of Contents: <a class=\"anchor\" id=\"toc\"></a>\n",
    "\n",
    "*  [<font color=blue>Python Programming Constructs — Revision</font>](#python-pgrm-constructs-revision)\n",
    "    *  [<font color=blue>Loops</font>](#loops)\n",
    "        *  [<font color=blue>For Loops</font>](#for-loops)\n",
    "            *  [<font color=red>Exercise 28</font>](#exercise-28)\n",
    "            *  [<font color=red>Exercise 29</font>](#exercise-29)\n",
    "        *  [<font color=blue>While Loops</font>](#while-loops)\n",
    "            *  [<font color=red>Exercise 30</font>](#exercise-30)\n",
    "            *  [<font color=red>Exercise 31</font>](#exercise-31)\n",
    "        *  [<font color=blue>Conditionals</font>](#conditionals)\n",
    "            *  [<font color=red>Exercise 32</font>](#exercise-32)\n",
    "        *  [<font color=blue>Functions and Procedures</font>](#functions-and-procedures)\n",
    "            *  [<font color=red>Exercise 33</font>](#exercise-33)\n",
    "            *  [<font color=red>Exercise 34</font>](#exercise-34)\n",
    "            *  [<font color=red>Exercise 35</font>](#exercise-35)\n",
    "        *  [<font color=blue>Lambda Functions</font>](#lambda-functions)\n",
    "            *  [<font color=red>Exercise 36</font>](#exercise-36)\n",
    "        *  [<font color=blue>Recursive Functions</font>](#recursive-functions)\n",
    "            *  [<font color=red>Exercise 37</font>](#exercise-37)\n",
    "            *  [<font color=red>Exercise 38</font>](#exercise-38)\n",
    "            *  [<font color=red>Exercise 39</font>](#exercise-39)\n",
    "            *  [<font color=red>Exercise 40</font>](#exercise-40)"
   ]
  },
  {
   "cell_type": "markdown",
   "metadata": {},
   "source": [
    "## 8 Python Programming Constructs — Revision <a class=\"anchor\" id=\"python-pgrm-constructs-revision\"></a>\n",
    "\n",
    "You should be familiar with python programming constructs that we review here since most of them we already discussed in previous lectures. See the Software Carpentry materials on [Python Novice Inflammation](https://github.com/swcarpentry/python-novice-inflammation)."
   ]
  },
  {
   "cell_type": "markdown",
   "metadata": {},
   "source": [
    "### 8.1 Loops <a class=\"anchor\" id=\"loops\"></a>\n",
    "\n",
    "Suppose we want to do an operation for a repeated number of times. Then this can be done with the keyword for or while. Let's see each of them separately. Note that indentation is crucial when using these Sage or Python keywords."
   ]
  },
  {
   "cell_type": "markdown",
   "metadata": {},
   "source": [
    "#### 8.1.1 For Loops <a class=\"anchor\" id=\"for-loops\"></a>\n",
    "\n",
    "We use for loops when the number of iterations is already known. The construction in Sage or Python is as follows:\n",
    "\n",
    "    for <loop variable> in <iteratable object>:\n",
    "        <indented block of code>"
   ]
  },
  {
   "cell_type": "markdown",
   "metadata": {},
   "source": [
    "####  <font color=red>Exercise 28:</font> <a class=\"anchor\" id=\"exercise-28\"></a>\n",
    "\n",
    "Compute determinant of the power of the matrix $A = \\left(\\begin{array}{rr}1 & \\frac{2}{3} \\\\ \\frac{2}{5} & \\frac{7}{9}\\end{array}\\right)^{i}$ defined over $\\mathbb{Q}$ for $0\\le i\\le 3$ using Python's `for` loop construct."
   ]
  },
  {
   "cell_type": "code",
   "execution_count": null,
   "metadata": {},
   "outputs": [],
   "source": []
  },
  {
   "cell_type": "code",
   "execution_count": null,
   "metadata": {},
   "outputs": [],
   "source": []
  },
  {
   "cell_type": "markdown",
   "metadata": {},
   "source": [
    "####  <font color=red>Exercise 29:</font> <a class=\"anchor\" id=\"exercise-29\"></a>\n",
    "\n",
    "Consider the sequence $(u_{n})$ defined by\n",
    "\n",
    "$$u_{0}=1, \\quad \\forall\\, n \\in \\mathbb{N}, \\, u_{n+1}=\\frac{1}{2+u_{n}^{2}}.$$\n",
    "\n",
    "What is the value of $u_{20}$? Try to use Python's `for` loop construct."
   ]
  },
  {
   "cell_type": "code",
   "execution_count": null,
   "metadata": {},
   "outputs": [],
   "source": []
  },
  {
   "cell_type": "markdown",
   "metadata": {},
   "source": [
    "#### 8.1.2 While Loops <a class=\"anchor\" id=\"while-loops\"></a>\n",
    "\n",
    "The while loop, as its name says, executes instructions while a given condition is fulfilled. They have the following constructs:\n",
    "\n",
    "    while <condition>:\n",
    "        <indented block of code>"
   ]
  },
  {
   "cell_type": "markdown",
   "metadata": {},
   "source": [
    "####  <font color=red>Exercise 30:</font> <a class=\"anchor\" id=\"exercise-30\"></a>\n",
    "\n",
    "Use Python's `while` loop construct to answer <a href=\"#exercise-28\"><b><font color=red>Exercise 28</font></b></a>."
   ]
  },
  {
   "cell_type": "code",
   "execution_count": null,
   "metadata": {},
   "outputs": [],
   "source": []
  },
  {
   "cell_type": "markdown",
   "metadata": {},
   "source": [
    "####  <font color=red>Exercise 31:</font> <a class=\"anchor\" id=\"exercise-31\"></a>\n",
    "\n",
    "Let us compute the sum of the squares of non-negative integers whose exponential is less or equal to $10^6$. That is\n",
    "\n",
    "$$\\sum_{k\\in\\mathbb{N} \\text{ and } e^{k}\\leq10^{6}} k^{2}.$$ __Hint__: You may want to use Python's `while` loop construct."
   ]
  },
  {
   "cell_type": "code",
   "execution_count": null,
   "metadata": {},
   "outputs": [],
   "source": []
  },
  {
   "cell_type": "markdown",
   "metadata": {},
   "source": [
    "### 8.3 Conditionals <a class=\"anchor\" id=\"conditionals\"></a>\n",
    "\n",
    "The decision structure is to run something in the event that a condition is true. Decision structures evaluate multiple expressions which produce *TRUE* or *FALSE* as result. You need to determine which action to take and which statements to execute if outcome is *TRUE* or *FALSE* otherwise.\n",
    "\n",
    "That said, these comparisons can be placed inside of an `if` statement. Such statements have the following form:\n",
    "\n",
    "    if <condition>:\n",
    "        <indented block of code>\n",
    "\n",
    "\n",
    "The indented code will only be execute if the condition evaulates to *True*, which is a special boolean value."
   ]
  },
  {
   "cell_type": "code",
   "execution_count": null,
   "metadata": {},
   "outputs": [],
   "source": [
    "num = 4\n",
    "if num % 2 == 0 and num != 0:\n",
    "    print num/2"
   ]
  },
  {
   "cell_type": "markdown",
   "metadata": {},
   "source": [
    "The `if` statement can be combined to great effect with a corresponding `else` clause.\n",
    "\n",
    "    if <condition>:\n",
    "        <if block of code>\n",
    "    else:\n",
    "        <else block of code>\n",
    "\n",
    "When the condition is *True* the `if`-block is executed. When the condition is *False* the `else`-block is executed instead. Here is an example of an `if`-`else` block of Python code."
   ]
  },
  {
   "cell_type": "code",
   "execution_count": null,
   "metadata": {},
   "outputs": [],
   "source": [
    "num = 5\n",
    "if num % 2 == 0 and num != 0:\n",
    "    print num/2\n",
    "else:\n",
    "    print 3*num + 1"
   ]
  },
  {
   "cell_type": "markdown",
   "metadata": {},
   "source": [
    "Using the keyword elifwe can even add more conditions between the if block of code and the else block of code. There can be more than one elif. This is how the syntax looks like:\n",
    "\n",
    "    if <condition-1>:\n",
    "        <if block of code>\n",
    "    elif <condition-2>:\n",
    "        <first elif block of code>\n",
    "    elif <condition-3>:\n",
    "        <second elif block of code>\n",
    "    else:\n",
    "        <else-block of code>\n",
    "        \n",
    "Here is an example of an __if__-__elif__-__else__ block of Python code."
   ]
  },
  {
   "cell_type": "code",
   "execution_count": null,
   "metadata": {},
   "outputs": [],
   "source": [
    "num = 0\n",
    "if num % 2 == 0 and num != 0:\n",
    "    print num/2\n",
    "elif num % 2 == 1 and num != 0:\n",
    "    print 3*num + 1\n",
    "else:\n",
    "    print('I am zero.')"
   ]
  },
  {
   "cell_type": "code",
   "execution_count": null,
   "metadata": {},
   "outputs": [],
   "source": []
  },
  {
   "cell_type": "markdown",
   "metadata": {},
   "source": [
    "####  <font color=red>Exercise 32:</font> <a class=\"anchor\" id=\"exercise-32\"></a>\n",
    "\n",
    "Given the quadratic equation $a\\,x^{2}+b\\,x+c=0$, with $a=1, b=5, c=-6$ compute its discriminant, ${\\rm disc}=b^{2}-4\\,a\\,c$ and write a Python if-elif-elif-else construct that does the following:\n",
    "\n",
    "- If the discriminant, ${\\rm disc}=0$, then print the statement \"the roots of your equation are real and equal\"\n",
    "- If the discriminant, ${\\rm disc}>0$, then print the statement \"the roots of your equation are real and distinct\"\n",
    "- If the discriminant, ${\\rm disc}<0$, then print the statement \"the roots of your equation are complex conjugates\"\n",
    "\n",
    "Then finally print the roots of the equation."
   ]
  },
  {
   "cell_type": "markdown",
   "metadata": {},
   "source": [
    "### 8.4 Functions and Procedures <a class=\"anchor\" id=\"functions-and-procedures\"></a>\n",
    "\n",
    "One can use SageMath to define procedures or functions using the Python keyword `def` whose syntax will be detailed below for both procedures and functions. We call a function (resp. procedure) a sub-program with zero or at least one argument, or an optional parameter which returns  a result (resp. does not return). The construct for a SageMath/Python procedure is as follows:\n",
    "\n",
    "    def <name of procedure>:\n",
    "        <block of code>"
   ]
  },
  {
   "cell_type": "markdown",
   "metadata": {},
   "source": [
    "####  <font color=red>Exercise 33:</font> <a class=\"anchor\" id=\"exercise-33\"></a>\n",
    "\n",
    "Write a Sage/Python procedure with the name `i_am_a_procedure` that prints $5$."
   ]
  },
  {
   "cell_type": "code",
   "execution_count": null,
   "metadata": {},
   "outputs": [],
   "source": []
  },
  {
   "cell_type": "code",
   "execution_count": null,
   "metadata": {},
   "outputs": [],
   "source": [
    "i_am_a_procedure?"
   ]
  },
  {
   "cell_type": "code",
   "execution_count": null,
   "metadata": {},
   "outputs": [],
   "source": [
    "proc_val = i_am_a_procedure(); proc_val"
   ]
  },
  {
   "cell_type": "markdown",
   "metadata": {},
   "source": [
    "On the other hand, a SageMath/Python function is as follows.\n",
    "\n",
    "    def <function name>(<argument>):\n",
    "        <block of code>\n",
    "        return <local variable>"
   ]
  },
  {
   "cell_type": "markdown",
   "metadata": {},
   "source": [
    "####  <font color=red>Exercise 34:</font> <a class=\"anchor\" id=\"exercise-34\"></a>\n",
    "\n",
    "Let's create a Sage/Python function with the name `i_am_a_function` that returns $3$."
   ]
  },
  {
   "cell_type": "code",
   "execution_count": null,
   "metadata": {},
   "outputs": [],
   "source": []
  },
  {
   "cell_type": "code",
   "execution_count": null,
   "metadata": {},
   "outputs": [],
   "source": [
    "func_val = i_am_a_function(); func_val"
   ]
  },
  {
   "cell_type": "markdown",
   "metadata": {},
   "source": [
    "####  <font color=red>Exercise 35:</font> <a class=\"anchor\" id=\"exercise-35\"></a>\n",
    "\n",
    "- Write a function with the name `sum_of_squares` that takes two arguments $a$ and $b$ and returns their sum of squares.\n",
    "- Write a function that takes that computes the roots of a quadratic equation. Your function should print the statements mentioned in <a href=\"#exercise-32\"><font color=red><b>Exercise 32</b></font></a> and return the roots of the quadratic equation."
   ]
  },
  {
   "cell_type": "code",
   "execution_count": null,
   "metadata": {},
   "outputs": [],
   "source": [
    "def i am a function():\n",
    "    "
   ]
  },
  {
   "cell_type": "code",
   "execution_count": null,
   "metadata": {},
   "outputs": [],
   "source": []
  },
  {
   "cell_type": "markdown",
   "metadata": {},
   "source": [
    "### 8.5 Lambda Functions <a class=\"anchor\" id=\"lambda-functions\"></a>\n",
    "\n",
    "Sometimes you don't want to go to all the trouble of making a function (for instance, because it makes things more complex), but you nonetheless need a function. SageMath or Python's `lambda` functions are short one-line functions similar to `def` functions which are very helpful in such situations.\n",
    "\n",
    "-   Technical note: `lambda` functions do not create a new local scope, while def functions do.\n",
    "\n",
    "The syntax is very short. The input variables are before the colon, the output is after it."
   ]
  },
  {
   "cell_type": "code",
   "execution_count": null,
   "metadata": {},
   "outputs": [],
   "source": [
    "f = lambda x, y : x + y"
   ]
  },
  {
   "cell_type": "code",
   "execution_count": null,
   "metadata": {},
   "outputs": [],
   "source": [
    "sum_of_squares_lambda()"
   ]
  },
  {
   "cell_type": "markdown",
   "metadata": {},
   "source": [
    "Here is a nice example of using this. With just one line of code, we construct and show a [Paley graph](http://mathworld.wolfram.com/PaleyGraph.html). You don't need to know what this is to agree it is powerful."
   ]
  },
  {
   "cell_type": "code",
   "execution_count": null,
   "metadata": {},
   "outputs": [],
   "source": [
    "cyclic_graph = Graph([GF(13), lambda i, j: i!=j and (i-j).is_square()], pos = dict([i, [cos(2*pi*i/13).n(), sin(2*pi*i/13).n()]] for i in range(13)))"
   ]
  },
  {
   "cell_type": "markdown",
   "metadata": {},
   "source": [
    "####  <font color=red>Exercise 36:</font> <a class=\"anchor\" id=\"exercise-36\"></a>\n",
    "\n",
    "Write 2 lambda functions namely `sum_of_2_squares_lambda` and `sum_of_2_squares_lambda_with_default_args` that perfom the following tasks:\n",
    "\n",
    "1.  takes two arguments a and b and returns the sum of their squares, just like <a href=\"#exercise-35\"><b><font color=red>Exercise 35</font></b></a>.\n",
    "2.  takes two defualt arguments a=3 and b=4 and returns the sum of their squares."
   ]
  },
  {
   "cell_type": "code",
   "execution_count": null,
   "metadata": {},
   "outputs": [],
   "source": []
  },
  {
   "cell_type": "markdown",
   "metadata": {},
   "source": [
    "### 8.6 Recursive Functions <a class=\"anchor\" id=\"recursive-functions\"></a>\n",
    "\n",
    "One of the greatest features of functions is that they may call themselves from within their own bodies! This is known as recursion."
   ]
  },
  {
   "cell_type": "markdown",
   "metadata": {},
   "source": [
    "#### <font color=red>Exercise 37:</font> <a class=\"anchor\" id=\"exercise-37\"></a>\n",
    "\n",
    "Write a recursive function with the name `add_first_positive_n` to compute $1+2+3+\\cdots+n$ for $n\\ge1$."
   ]
  },
  {
   "cell_type": "code",
   "execution_count": null,
   "metadata": {},
   "outputs": [],
   "source": [
    "def add_first_positive_n(n):\n",
    "    \"\"\"\n",
    "    \n",
    "    \"\"\"\n",
    "    pass"
   ]
  },
  {
   "cell_type": "markdown",
   "metadata": {},
   "source": [
    "#### <font color=red>Exercise 38:</font> <a class=\"anchor\" id=\"exercise-38\"></a>\n",
    "\n",
    "Write a recursive function -- name it `my_factorial` -- that computes the factorial $n!$ of any positive integer $n$. That is, \n",
    "\n",
    "$$n! = 1 \\times 2 \\times 3 \\times \\cdots \\times n.$$ "
   ]
  },
  {
   "cell_type": "code",
   "execution_count": null,
   "metadata": {},
   "outputs": [],
   "source": [
    "def my_factorial(n):\n",
    "    \"\"\"\n",
    "    \n",
    "    \"\"\"\n",
    "    pass"
   ]
  },
  {
   "cell_type": "markdown",
   "metadata": {},
   "source": [
    "Test your fuction with the following inputs: $n=10, 50, 100$. Use the Python function `time` or `timeit` to check the real time or best computing time respectively. You may want to read the help documentation for `time` and `timeit` so you will know how they are used."
   ]
  },
  {
   "cell_type": "code",
   "execution_count": null,
   "metadata": {},
   "outputs": [],
   "source": [
    "# for n = 10\n",
    "\n"
   ]
  },
  {
   "cell_type": "code",
   "execution_count": null,
   "metadata": {},
   "outputs": [],
   "source": [
    "# for n = 50\n",
    "\n"
   ]
  },
  {
   "cell_type": "code",
   "execution_count": null,
   "metadata": {},
   "outputs": [],
   "source": [
    "# for n = 100\n",
    "\n"
   ]
  },
  {
   "cell_type": "markdown",
   "metadata": {},
   "source": [
    "#### <font color=red>Exercise 39:</font> <a class=\"anchor\" id=\"exercise-39\"></a>\n",
    "\n",
    "Implement the [Collatz Problem](https://en.wikipedia.org/wiki/Collatz_conjecture)\n",
    "\n",
    "$$c(n) := \\begin{cases} \\frac{n}{2} & \\text{if } n \\text{ is even,} \\\\ 3\\,n+1 & \\text{if } n \\text{ is odd and } n > 1, \\\\ 1 & \\text{if } n = 1 \\end{cases}$$\n",
    "\n",
    "as a Sage/Python recursive function. Name your function as `collatz_recursion`."
   ]
  },
  {
   "cell_type": "code",
   "execution_count": null,
   "metadata": {},
   "outputs": [],
   "source": []
  },
  {
   "cell_type": "markdown",
   "metadata": {},
   "source": [
    "#### <font color=red>Exercise 40:</font> <a class=\"anchor\" id=\"exercise-40\"></a>\n",
    "\n",
    "Write a Sage/Python procedure with the name `collatz_procedure` using Python's `while` loop construct that implements the Collataz problem but this time around, it prints the sequences that you get. So for example  `collatz_procedure(5)` should print `5, 16, 8, 4, 2, 1`."
   ]
  },
  {
   "cell_type": "code",
   "execution_count": null,
   "metadata": {},
   "outputs": [],
   "source": []
  },
  {
   "cell_type": "code",
   "execution_count": null,
   "metadata": {},
   "outputs": [],
   "source": []
  }
 ],
 "metadata": {
  "kernelspec": {
   "display_name": "SageMath 8.8",
   "language": "sage",
   "name": "sagemath"
  },
  "language": "python",
  "language_info": {
   "codemirror_mode": {
    "name": "ipython",
    "version": 2
   },
   "file_extension": ".py",
   "mimetype": "text/x-python",
   "name": "python",
   "nbconvert_exporter": "python",
   "pygments_lexer": "ipython2",
   "version": "2.7.15"
  }
 },
 "nbformat": 4,
 "nbformat_minor": 2
}
