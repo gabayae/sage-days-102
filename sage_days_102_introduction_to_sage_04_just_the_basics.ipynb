{
 "cells": [
  {
   "cell_type": "markdown",
   "metadata": {},
   "source": [
    "<h1 style=\"text-align: left;\"><a title=\"Sage Days 102 Workshop\" href=\"https://wiki.sagemath.org/days102\">Sage Days 102 Workshop</a>, <a title=\"University of Ibadan\" href=\"https://www.ui.edu.ng/\">University of Ibadan</a> Nigeria.</h1>\n",
    "\n",
    "\n",
    "<h2 style=\"text-align: left;\">Day 02 — Introduction to <a title=\"SageMath\"href=\"http://www.sagemath.org/\"><em>Sage</em></a>: A Mathematics Software for All</h2>\n",
    "\n",
    "\n",
    "### Instructor: [Evans Doe Ocansey](https://risc.jku.at/m/evans-doe-ocansey/)\n",
    "\n",
    "The outline of the this notebook is as follows:"
   ]
  },
  {
   "cell_type": "markdown",
   "metadata": {},
   "source": [
    "## Table of Contents: <a class=\"anchor\" id=\"toc\"></a>\n",
    "*  [<font color=blue>Just the Basics</font>](#just-the-basics)\n",
    "    *  [<font color=blue>Sage as a Calculator</font>](#sage-as-a-calculator)\n",
    "    *  [<font color=blue>Elementary Functions and Usual Constants</font>](#elementary-functions-and-usual-constants)\n",
    "    *  [<font color=blue>Python Variables</font>](#python-variables)\n",
    "    *  [<font color=blue>Symbolic Variables</font>](#symbolic-variables)\n",
    "        *  [<font color=red>Exercise 2</font>](#exercise-2)\n",
    "    *  [<font color=blue>Plotting in Brief</font>](#plotting-in-brief)"
   ]
  },
  {
   "cell_type": "markdown",
   "metadata": {},
   "source": [
    "## 4 Just the Basics <a class=\"anchor\" id=\"just-the-basics\"></a>\n",
    "\n",
    "Why do we need computers for math, anyway? Hopefully by now you and I don't need help with the following computations: "
   ]
  },
  {
   "cell_type": "code",
   "execution_count": null,
   "metadata": {},
   "outputs": [],
   "source": [
    "%display latex # this is just for since print out."
   ]
  },
  {
   "cell_type": "code",
   "execution_count": null,
   "metadata": {},
   "outputs": [],
   "source": [
    "4 + 2"
   ]
  },
  {
   "cell_type": "code",
   "execution_count": null,
   "metadata": {},
   "outputs": [],
   "source": [
    "-2^2"
   ]
  },
  {
   "cell_type": "code",
   "execution_count": null,
   "metadata": {},
   "outputs": [],
   "source": [
    "(-2)^2"
   ]
  },
  {
   "cell_type": "markdown",
   "metadata": {},
   "source": [
    "### 4.1 Sage as a Calculator <a class=\"anchor\" id=\"sage-as-a-calculator\"></a>\n",
    "\n",
    "Like every scientific calculator, [SageMath](http://www.sagemath.org/) adheres to the standard order of operations, `PEMDAS` (parenthesis, exponents, multiplication, division, addition, subtraction)."
   ]
  },
  {
   "cell_type": "code",
   "execution_count": null,
   "metadata": {},
   "outputs": [],
   "source": [
    "4 + 2 * 3 - 4 / 2"
   ]
  },
  {
   "cell_type": "markdown",
   "metadata": {},
   "source": [
    "As you maybe aware already, the character `*` stands for `multiplication`, `/` is for `division` and the `power` operation is either `**` or `^`."
   ]
  },
  {
   "cell_type": "code",
   "execution_count": null,
   "metadata": {},
   "outputs": [],
   "source": [
    "print(3**2)\n",
    "\n",
    "print(3^2)"
   ]
  },
  {
   "cell_type": "code",
   "execution_count": null,
   "metadata": {},
   "outputs": [],
   "source": [
    "40/12"
   ]
  },
  {
   "cell_type": "markdown",
   "metadata": {},
   "source": [
    "Observe that the above division, after simplification, is the rational number $\\frac{10}{3}$ and <b><font color=red>NOT</font></b> an approximation like $3.3333$. \n",
    "\n",
    "Continuing, there is no limit to the size of integers or rational numbers, unless otherwise due to the available memory of the computer in use."
   ]
  },
  {
   "cell_type": "code",
   "execution_count": null,
   "metadata": {},
   "outputs": [],
   "source": [
    "3^2000"
   ]
  },
  {
   "cell_type": "markdown",
   "metadata": {},
   "source": [
    "If for some reason, we do not want to see all the digits, we can use the numerical approximation function `numerical_approx` or `n` for short."
   ]
  },
  {
   "cell_type": "code",
   "execution_count": null,
   "metadata": {},
   "outputs": [],
   "source": [
    "numerical_approx(40/12)"
   ]
  },
  {
   "cell_type": "code",
   "execution_count": null,
   "metadata": {},
   "outputs": [],
   "source": [
    "(3^2000).n()"
   ]
  },
  {
   "cell_type": "markdown",
   "metadata": {},
   "source": [
    "Sage can compute numerical approximation of numbers to any large precision. Let us increase the precision of the rational number $\\frac{11}{7}$ to show the periodicity of its digit expansion."
   ]
  },
  {
   "cell_type": "code",
   "execution_count": null,
   "metadata": {},
   "outputs": [],
   "source": [
    "numerical_approx(11/7, digits=100)"
   ]
  },
  {
   "cell_type": "markdown",
   "metadata": {},
   "source": [
    "Can we confirm if the number of digits is really `100`? Yes we can, see the code below."
   ]
  },
  {
   "cell_type": "code",
   "execution_count": null,
   "metadata": {},
   "outputs": [],
   "source": [
    "sum(map(len, str(numerical_approx(11/7, digits=100)).split(\".\")))"
   ]
  },
  {
   "cell_type": "markdown",
   "metadata": {},
   "source": [
    "Very impressive! Do not panic if you do not understand the above code. Keep clam and relax, hopefully by the end of the session, you should be able to understand it.\n",
    "\n",
    "Continuing, the operators `//` and `%` returns the quotient and the remainder of the division of two integers respectively."
   ]
  },
  {
   "cell_type": "code",
   "execution_count": null,
   "metadata": {},
   "outputs": [],
   "source": [
    "40 // 12"
   ]
  },
  {
   "cell_type": "code",
   "execution_count": null,
   "metadata": {},
   "outputs": [],
   "source": [
    "40 % 12"
   ]
  },
  {
   "cell_type": "markdown",
   "metadata": {},
   "source": [
    "The output of the two operators `//` and `%` can also be obtained directly with the `divmod` function. "
   ]
  },
  {
   "cell_type": "code",
   "execution_count": null,
   "metadata": {},
   "outputs": [],
   "source": [
    "divmod(40, 12)"
   ]
  },
  {
   "cell_type": "markdown",
   "metadata": {},
   "source": [
    "here are several in-built functions that takes integers as inputs. Two of such functions are the `factorial` and the `binomial`."
   ]
  },
  {
   "cell_type": "code",
   "execution_count": null,
   "metadata": {},
   "outputs": [],
   "source": [
    "factorial(1000)"
   ]
  },
  {
   "cell_type": "markdown",
   "metadata": {},
   "source": [
    "Wow! That was very fast! You may not be impressed by this, but this computation took less than a second. To check it, we can either use `timeit` or `time` functions. "
   ]
  },
  {
   "cell_type": "code",
   "execution_count": null,
   "metadata": {},
   "outputs": [],
   "source": [
    "timeit(\"factorial(1000)\")"
   ]
  },
  {
   "cell_type": "code",
   "execution_count": null,
   "metadata": {},
   "outputs": [],
   "source": [
    "time(factorial(1000))"
   ]
  },
  {
   "cell_type": "markdown",
   "metadata": {},
   "source": [
    "Very impressive! If you are still not impressed, then in <a href=\"#exercise-15\"><font color=red><b>Exercise 15</b></font></a>, I ask you to write a recursive Python function that returns the factorial of any positive integer and compare the time it takes your function to compute 100! with that of Sage. \n",
    "\n",
    "The `binomial` function takes two integers. Here is an example."
   ]
  },
  {
   "cell_type": "code",
   "execution_count": null,
   "metadata": {},
   "outputs": [],
   "source": [
    "binomial(6, 3)"
   ]
  },
  {
   "cell_type": "markdown",
   "metadata": {},
   "source": [
    "We can also decompose an integer into prime factors. Let us factor the integer 1729. "
   ]
  },
  {
   "cell_type": "code",
   "execution_count": null,
   "metadata": {},
   "outputs": [],
   "source": [
    "factor(1729)"
   ]
  },
  {
   "cell_type": "markdown",
   "metadata": {},
   "source": [
    "Do you know anything about this number `1729`? It is a [taxicab number](https://simple.wikipedia.org/wiki/Taxicab_number) and there is a story behind it which goes like this: \n",
    "\n",
    "    Hardy said that it was just a boring number: 1729. Ramanujan replied that 1729 was not a boring number at all: it was a very interesting one. He explained that it was the smallest number that could be expressed by the sum of two cubes in two different ways. \n",
    "\n",
    "I also observed that the consecetive prime factors of the taxicab number $1729$ differ by $6$. ;)."
   ]
  },
  {
   "cell_type": "markdown",
   "metadata": {},
   "source": [
    "### 4.2 Elementary Functions and Usual Constants <a class=\"anchor\" id=\"elementary-functions-and-usual-constants\"></a>"
   ]
  },
  {
   "cell_type": "markdown",
   "metadata": {},
   "source": [
    "Some of the usual mathematical constant in sage includes `pi`, `e`, `golden_ratio`, `euler_gamma`, `catalan`. In other to see their real values, we will have to use Sage functions `numerical_approx` or its short form `n`. "
   ]
  },
  {
   "cell_type": "code",
   "execution_count": null,
   "metadata": {},
   "outputs": [],
   "source": [
    "pi.n()"
   ]
  },
  {
   "cell_type": "code",
   "execution_count": null,
   "metadata": {},
   "outputs": [],
   "source": [
    "numerical_approx(e, digits=10)"
   ]
  },
  {
   "cell_type": "code",
   "execution_count": null,
   "metadata": {},
   "outputs": [],
   "source": [
    "golden_ratio.n(digits=15)"
   ]
  },
  {
   "cell_type": "code",
   "execution_count": null,
   "metadata": {},
   "outputs": [],
   "source": [
    "euler_gamma.n()"
   ]
  },
  {
   "cell_type": "code",
   "execution_count": null,
   "metadata": {},
   "outputs": [],
   "source": [
    "catalan.n(digits=5)"
   ]
  },
  {
   "cell_type": "markdown",
   "metadata": {},
   "source": [
    "There are also elementary functions like: \n",
    "   - the exponential function `exp`;\n",
    "   - the logarithmic function `log`;\n",
    "   - trigonometric functions and their inverses: `sin`, `cos`, `tan`, and `arcsin`, `arccos`, `arctan` respectively; \n",
    "   - inverse trigonometric functions and their inverses `sec`, `csc`, `cot` and `sec`, `csc`, `cot` respectively;\n",
    "   - hyperbolic functions and their inverses: `sinh`, `cosh`, `tanh`, and `arcsinh`, `arccosh`, `arctanh` respectively;\n",
    "   - iverse hyperbolic functions and their inverses: `sech`, `csch`, `coth` and `arcsech`, `arccsch`, `arccoth`  respectively;\n",
    "   \n",
    "Let's look at a few of them in action. Note that the computations here are again exact. You can also use the Sage function `numerical_approx` or its alias `n` to get their numerical approximation."
   ]
  },
  {
   "cell_type": "code",
   "execution_count": null,
   "metadata": {},
   "outputs": [],
   "source": [
    "cos(pi)"
   ]
  },
  {
   "cell_type": "code",
   "execution_count": null,
   "metadata": {},
   "outputs": [],
   "source": [
    "sin(pi/3)"
   ]
  },
  {
   "cell_type": "code",
   "execution_count": null,
   "metadata": {},
   "outputs": [],
   "source": [
    "arccos(0)"
   ]
  },
  {
   "cell_type": "code",
   "execution_count": null,
   "metadata": {},
   "outputs": [],
   "source": [
    "exp(3 * I * pi)"
   ]
  },
  {
   "cell_type": "code",
   "execution_count": null,
   "metadata": {},
   "outputs": [],
   "source": [
    "exp(oo)"
   ]
  },
  {
   "cell_type": "code",
   "execution_count": null,
   "metadata": {},
   "outputs": [],
   "source": [
    "exp(-oo)"
   ]
  },
  {
   "cell_type": "code",
   "execution_count": null,
   "metadata": {},
   "outputs": [],
   "source": [
    "arccos(sin(pi/3))"
   ]
  },
  {
   "cell_type": "code",
   "execution_count": null,
   "metadata": {},
   "outputs": [],
   "source": [
    "sqrt(2)"
   ]
  },
  {
   "cell_type": "markdown",
   "metadata": {},
   "source": [
    "As you may have observed in the previous cell, one does not always get the expected results. Indeed, only few simplifications are done by Sage automatically. If needed, it is possible to explicitly call a simplification function `simplify`."
   ]
  },
  {
   "cell_type": "code",
   "execution_count": null,
   "metadata": {},
   "outputs": [],
   "source": [
    "simplify(arccos(sin(pi/3)))"
   ]
  },
  {
   "cell_type": "markdown",
   "metadata": {},
   "source": [
    "There is more we can say explore about simplication of symbolic expression. We can talk about this later if there is time. \n",
    "\n",
    "Once agian, it is also possible to compute numerical approximations of the results, with an accuracy as large as desired"
   ]
  },
  {
   "cell_type": "code",
   "execution_count": null,
   "metadata": {},
   "outputs": [],
   "source": [
    "numerical_approx(6*arccos(sin(pi/3)), digits=1000)"
   ]
  },
  {
   "cell_type": "code",
   "execution_count": null,
   "metadata": {},
   "outputs": [],
   "source": [
    "n(sqrt(2), digits=80)"
   ]
  },
  {
   "cell_type": "code",
   "execution_count": null,
   "metadata": {},
   "outputs": [],
   "source": []
  },
  {
   "cell_type": "markdown",
   "metadata": {},
   "source": [
    "### 4.3 Python Variables <a class=\"anchor\" id=\"python-variables\"></a>\n",
    "\n",
    "So far, none of the results of our compuations have been save. So if we want to reuse any result of the previous computations, we will have to either copy and paste it or type them again. This can be very stedious. However, we can avoid all this by using the __assignment operator__, `=` to assign the result to a variable."
   ]
  },
  {
   "cell_type": "code",
   "execution_count": null,
   "metadata": {},
   "outputs": [],
   "source": [
    "y = 2 * sin(pi/3) "
   ]
  },
  {
   "cell_type": "markdown",
   "metadata": {},
   "source": [
    "`y` is a Python variable. Note that in general, the result of a computation is not automatically printed when it is assigned to a variable. In other to print the content of a varible in the same cell it is assigned, we will have to do the following."
   ]
  },
  {
   "cell_type": "code",
   "execution_count": null,
   "metadata": {},
   "outputs": [],
   "source": [
    "y = 2 * sin(pi/3); y"
   ]
  },
  {
   "cell_type": "markdown",
   "metadata": {},
   "source": [
    "To reuse later, we only have to type `y`."
   ]
  },
  {
   "cell_type": "code",
   "execution_count": null,
   "metadata": {},
   "outputs": [],
   "source": [
    "(y + sqrt(2)) * 1/y"
   ]
  },
  {
   "cell_type": "markdown",
   "metadata": {},
   "source": [
    "Additionally, Sage saves the last three results in the special variables `_`, `__` and `___`:"
   ]
  },
  {
   "cell_type": "code",
   "execution_count": null,
   "metadata": {},
   "outputs": [],
   "source": [
    "2 * sin(pi/3)"
   ]
  },
  {
   "cell_type": "code",
   "execution_count": null,
   "metadata": {},
   "outputs": [],
   "source": [
    "(_ + sqrt(2)) * 1/_"
   ]
  },
  {
   "cell_type": "code",
   "execution_count": null,
   "metadata": {},
   "outputs": [],
   "source": [
    "_ * __"
   ]
  },
  {
   "cell_type": "code",
   "execution_count": null,
   "metadata": {},
   "outputs": [],
   "source": [
    "___ - _ * __"
   ]
  },
  {
   "cell_type": "markdown",
   "metadata": {},
   "source": [
    "You already know from the Programming with Python lectures that you should avoid using keywords as variables. It is a bad practise to redefine predefined constants and functions in Sage. Although doing this does not influence the internal behaviour of Sage, it could yield surprising results."
   ]
  },
  {
   "cell_type": "code",
   "execution_count": null,
   "metadata": {},
   "outputs": [],
   "source": [
    "len = 3; len"
   ]
  },
  {
   "cell_type": "code",
   "execution_count": null,
   "metadata": {},
   "outputs": [],
   "source": [
    "len([3,3])"
   ]
  },
  {
   "cell_type": "code",
   "execution_count": null,
   "metadata": {},
   "outputs": [],
   "source": [
    "pi = -I/3; pi"
   ]
  },
  {
   "cell_type": "code",
   "execution_count": null,
   "metadata": {},
   "outputs": [],
   "source": [
    "exp(3*I*pi)"
   ]
  },
  {
   "cell_type": "markdown",
   "metadata": {},
   "source": [
    "To restore the original value, one can type for example:"
   ]
  },
  {
   "cell_type": "code",
   "execution_count": null,
   "metadata": {},
   "outputs": [],
   "source": [
    "from sage.all import pi"
   ]
  },
  {
   "cell_type": "markdown",
   "metadata": {},
   "source": [
    "Let's check if this corrects our previous computation."
   ]
  },
  {
   "cell_type": "code",
   "execution_count": null,
   "metadata": {},
   "outputs": [],
   "source": [
    "exp(3*I*pi)"
   ]
  },
  {
   "cell_type": "markdown",
   "metadata": {},
   "source": [
    "Alternatively, you can also call the `restore()` function. Doing this will restore all predefined variables and functions to their default values. Let us try this on the previous example."
   ]
  },
  {
   "cell_type": "code",
   "execution_count": null,
   "metadata": {},
   "outputs": [],
   "source": [
    "pi = -I/3; pi"
   ]
  },
  {
   "cell_type": "code",
   "execution_count": null,
   "metadata": {},
   "outputs": [],
   "source": [
    "exp(3*I*pi)"
   ]
  },
  {
   "cell_type": "code",
   "execution_count": null,
   "metadata": {},
   "outputs": [],
   "source": [
    "restore()"
   ]
  },
  {
   "cell_type": "code",
   "execution_count": null,
   "metadata": {},
   "outputs": [],
   "source": [
    "exp(3*I*pi)"
   ]
  },
  {
   "cell_type": "markdown",
   "metadata": {},
   "source": [
    "But this does not correct the Python function `len`. Let us try to find the length of the list object `[1,3,5]`."
   ]
  },
  {
   "cell_type": "code",
   "execution_count": null,
   "metadata": {},
   "outputs": [],
   "source": [
    "len([1,3,5])"
   ]
  },
  {
   "cell_type": "markdown",
   "metadata": {},
   "source": [
    "To correct this you will have to call the function `reset()`. However it is importatnt to note that calling `reset()` does a complete reset. That is, it clears all user-defined variables. Let's call `reset()` to reset the Python function `len` to its default definition and test it by finding the length of the list object `[1,3,5]`"
   ]
  },
  {
   "cell_type": "code",
   "execution_count": null,
   "metadata": {},
   "outputs": [],
   "source": [
    "reset()"
   ]
  },
  {
   "cell_type": "code",
   "execution_count": null,
   "metadata": {},
   "outputs": [],
   "source": [
    "len([1,3,5])"
   ]
  },
  {
   "cell_type": "code",
   "execution_count": null,
   "metadata": {},
   "outputs": [],
   "source": []
  },
  {
   "cell_type": "markdown",
   "metadata": {},
   "source": [
    "### 4.4 Symbolic Variables <a class=\"anchor\" id=\"symbolic-variables\"></a>\n",
    "\n",
    "Sage is especially useful in dealing with expressions containing variables like $x^{2} - y^{2}\\,z^{2} + z^{3}$ or $\\sin^{3}(x) - 2\\,\\cos^{2}(x) + \\sin(x) - 1$. These are the kind of expressions that mathematicians and physicists are used to. The variables $x$, $y$, and $z$ that appear in those expressions are symbolic variables. In general, they differ from the Python variables discussed in the previous section. In Sage, the symbolic variables should be explicitly declared before being used except for the symbolic variable $x$ which is already defined. To declare a symbolic variable, we do the following: "
   ]
  },
  {
   "cell_type": "code",
   "execution_count": null,
   "metadata": {},
   "outputs": [],
   "source": [
    "y = SR.var('y'); y"
   ]
  },
  {
   "cell_type": "markdown",
   "metadata": {},
   "source": [
    "We can also use  double quote instead of single quote. That is "
   ]
  },
  {
   "cell_type": "code",
   "execution_count": null,
   "metadata": {},
   "outputs": [],
   "source": [
    "y = SR.var(\"y\"); y"
   ]
  },
  {
   "cell_type": "markdown",
   "metadata": {},
   "source": [
    "The $\\texttt{SR}$ here stands for $\\texttt{Symbolic Ring}$. Let me briefly explain what exactly is happening in the commands just above. The command `SR.var('y')` or `SR.var(\"y\")` builds and returns a symbolic variable which is then assigned to the Python variable `y` on the left hand side. Note that we could have use any other name for the Python variable instead of `y`. That is, we could also have done "
   ]
  },
  {
   "cell_type": "code",
   "execution_count": null,
   "metadata": {},
   "outputs": [],
   "source": [
    "z = SR.var(\"y\"); z"
   ]
  },
  {
   "cell_type": "markdown",
   "metadata": {},
   "source": [
    "Thus, assigning the symbolic variable $y$ to the Python variable `y` is just a convention, which is however recommended to avoid confusion. Let us see if the Python variables y and z are the same in memory. "
   ]
  },
  {
   "cell_type": "code",
   "execution_count": null,
   "metadata": {
    "scrolled": true
   },
   "outputs": [],
   "source": [
    "id(y) == id(z)"
   ]
  },
  {
   "cell_type": "markdown",
   "metadata": {},
   "source": [
    "Now that we have the symbolic variable $y$ saved in the Python variables `y` or `z`, we can use it to build more complex symbolic expressions. "
   ]
  },
  {
   "cell_type": "code",
   "execution_count": null,
   "metadata": {},
   "outputs": [],
   "source": [
    "y^(2/3)+ 4*y^2 + sin(y*pi)"
   ]
  },
  {
   "cell_type": "code",
   "execution_count": null,
   "metadata": {},
   "outputs": [],
   "source": [
    "z^(3/2)+ 6*z^(1/2) + exp(z*pi)"
   ]
  },
  {
   "cell_type": "markdown",
   "metadata": {},
   "source": [
    "Here is something important to note: The Python variables `y` or `z` does not interact with the symbolic variable $y$. Here is what I mean: Let's build a complex expression with the symbolic variable $y$ and assign it to a Python variable. Here, I choose to call my Python variable `my_expr`. "
   ]
  },
  {
   "cell_type": "code",
   "execution_count": null,
   "metadata": {},
   "outputs": [],
   "source": [
    "my_expr = y + 3; my_expr"
   ]
  },
  {
   "cell_type": "markdown",
   "metadata": {},
   "source": [
    "Now let's assign the Python variable `z` to 1."
   ]
  },
  {
   "cell_type": "code",
   "execution_count": null,
   "metadata": {},
   "outputs": [],
   "source": [
    "z = 1; z"
   ]
  },
  {
   "cell_type": "markdown",
   "metadata": {},
   "source": [
    "What do you think the value of the expression `my_expr` is?"
   ]
  },
  {
   "cell_type": "code",
   "execution_count": null,
   "metadata": {},
   "outputs": [],
   "source": [
    "my_expr"
   ]
  },
  {
   "cell_type": "markdown",
   "metadata": {},
   "source": [
    "You may be surprised at the result of the last cell. Perhaps you taught it should return `4` right? But if this is the case, how can we evaluate any symbolic expression for example the symbolic expression assigned to the Python variable `my_expr`? In other to do this, we use the `substitution` operation."
   ]
  },
  {
   "cell_type": "code",
   "execution_count": null,
   "metadata": {},
   "outputs": [],
   "source": [
    "my_expr(1)"
   ]
  },
  {
   "cell_type": "code",
   "execution_count": null,
   "metadata": {},
   "outputs": [],
   "source": [
    "my_expr(y=1)"
   ]
  },
  {
   "cell_type": "markdown",
   "metadata": {},
   "source": [
    "There is more I can say about the `substitution` operation but I will do this later in some the next chapter. \n",
    "\n",
    "Continuing, what if you would like to create a large number of symbolic variables. This can be tedious as you may think. However, you can use the shortcut `x = SR.var(x, n)` where `n` a positive number which is the number of symbolic variables you would like to create. Note that the indexing starts from $0$. Let us create the symblic variables $t_{0}, t_{1}, \\dots, t_{199}$."
   ]
  },
  {
   "cell_type": "code",
   "execution_count": null,
   "metadata": {},
   "outputs": [],
   "source": [
    "t = SR.var(\"t\", 200); # This creates a tuple of 200 symbolic variables."
   ]
  },
  {
   "cell_type": "code",
   "execution_count": null,
   "metadata": {},
   "outputs": [],
   "source": [
    "(t[0]^3 + t[4]) * t[199]"
   ]
  },
  {
   "cell_type": "markdown",
   "metadata": {},
   "source": [
    "Throughout this notebook, I will use the command `z = var('z')` or `z = var(\"z\")` as a convenient alternative for the command `z = SR.var('z')` or `z = SR.var(\"z\")` respectively. "
   ]
  },
  {
   "cell_type": "code",
   "execution_count": null,
   "metadata": {},
   "outputs": [],
   "source": [
    "var(\"a, b, c, w, x, y, z\")"
   ]
  },
  {
   "cell_type": "code",
   "execution_count": null,
   "metadata": {},
   "outputs": [],
   "source": [
    "a * x + b * y - c * z + w"
   ]
  },
  {
   "cell_type": "markdown",
   "metadata": {},
   "source": [
    "In other computer algebra systems like `Maple`, `Mathematica` or `Maxima`, one does not declare symbolic variables before using them. As you have seen already in this section, this is not so with Sage. However, when one uses the old SageNB notebook interface which I discuss briefly in <a href=\"#the-old-sagenb-notebook\">Section 12.4</a> of this notebook, with the command, `automatic_names(True)` one can make Sage behave like the computer algebra systems I mentioned earlier. That is, one can decide not to declare symbolic variables before using them and Sage will not complain. However, this do not work when one uses the Jupyter notebook. But it does mean that it can not be done. In fact, if you are able to this, you will be improving on Sage and maybe you will become famous. Therefore, I propose this exercise which is a project in itself."
   ]
  },
  {
   "cell_type": "markdown",
   "metadata": {},
   "source": [
    "####  <font color=red>Exercise 2:</font> <a class=\"anchor\" id=\"exercise-2\"></a>\n",
    "\n",
    "Build a Sage package so that if `automatic_names(True)` when one is running Sage in the Jupyter notebook, makes Sage works like the old SageNB notebook or like the computer algebra `Maple`, `Mathematica` or `Maxima`."
   ]
  },
  {
   "cell_type": "code",
   "execution_count": null,
   "metadata": {},
   "outputs": [],
   "source": []
  },
  {
   "cell_type": "markdown",
   "metadata": {},
   "source": [
    "### 4.5 Plotting in Brief <a class=\"anchor\" id=\"plotting-in-brief\"></a>\n",
    "\n",
    "\n",
    "Sage is not only useful in dealing with symbolic expressions but also with plotting. There are lots of plotting commands in Sage. I will mention only two of them. Namely `plot` and `plot3d`. The `plot` command makes it easy to draw the curve of a real function on a given interval and the `plot3d` command is its counterpart for three-dimensional graphics, or for the graph of a real function of two variables. Here are examples of those two commands:"
   ]
  },
  {
   "cell_type": "code",
   "execution_count": null,
   "metadata": {},
   "outputs": [],
   "source": [
    "plot(cos(sqrt(2) * x), x, -pi, pi)"
   ]
  },
  {
   "cell_type": "code",
   "execution_count": null,
   "metadata": {},
   "outputs": [],
   "source": [
    "plot3d(cos(pi*sqrt(x^2 + y^2))/sqrt(x^2+y^2),(x,-5,5), (y,-5,5))"
   ]
  },
  {
   "cell_type": "markdown",
   "metadata": {},
   "source": [
    "In [Section 10](#graphics) we expore more on plotting and a very cool feature in Sage for plotting called `interact`."
   ]
  },
  {
   "cell_type": "code",
   "execution_count": null,
   "metadata": {},
   "outputs": [],
   "source": []
  },
  {
   "cell_type": "code",
   "execution_count": null,
   "metadata": {},
   "outputs": [],
   "source": []
  }
 ],
 "metadata": {
  "kernelspec": {
   "display_name": "SageMath 8.8",
   "language": "sage",
   "name": "sagemath"
  },
  "language": "python",
  "language_info": {
   "codemirror_mode": {
    "name": "ipython",
    "version": 2
   },
   "file_extension": ".py",
   "mimetype": "text/x-python",
   "name": "python",
   "nbconvert_exporter": "python",
   "pygments_lexer": "ipython2",
   "version": "2.7.15"
  }
 },
 "nbformat": 4,
 "nbformat_minor": 2
}
