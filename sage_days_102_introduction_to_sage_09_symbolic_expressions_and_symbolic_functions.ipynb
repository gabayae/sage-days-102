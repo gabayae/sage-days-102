{
 "cells": [
  {
   "cell_type": "markdown",
   "metadata": {},
   "source": [
    "<h1 style=\"text-align: left;\"><a title=\"Sage Days 102 Workshop\" href=\"https://wiki.sagemath.org/days102\">Sage Days 102 Workshop</a>, <a title=\"University of Ibadan\" href=\"https://www.ui.edu.ng/\">University of Ibadan</a> Nigeria.</h1>\n",
    "\n",
    "\n",
    "<h2 style=\"text-align: left;\">Day 02 — Introduction to <a title=\"Sage\"href=\"http://www.sagemath.org/\"><em>Sage</em></a>: A Mathematics Software for All</h2>\n",
    "\n",
    "\n",
    "### Instructor: [Evans Doe Ocansey](https://risc.jku.at/m/evans-doe-ocansey/)\n",
    "\n",
    "The outline of the this notebook is as follows:"
   ]
  },
  {
   "cell_type": "markdown",
   "metadata": {},
   "source": [
    "## Table of Contents: <a class=\"anchor\" id=\"toc\"></a>\n",
    "\n",
    "*  [<font color=blue>Sage Symbolic Expressions and Symbolic Functions</font>](#sage-symb-exprs-and-symb-functions)"
   ]
  },
  {
   "cell_type": "markdown",
   "metadata": {},
   "source": [
    "## 9 [Sage](http://www.sagemath.org) Symbolic Expressions and Symbolic Functions <a class=\"anchor\" id=\"sage-symb-exprs-and-symb-functions\"></a>\n",
    "\n",
    "In [__Section 6__](./sage_days_102_introduction_to_sage_07_expressions_and_computational_domains.ipynb#exprs-and-comp-domains), we were introduced to the symbolic ring in Sage. The elements of the symnbolic ring called symbolic expressions can also converted into mathematical or callable functions."
   ]
  },
  {
   "cell_type": "code",
   "execution_count": null,
   "metadata": {},
   "outputs": [],
   "source": [
    "(r, t) = SR.var('r, t')\n",
    "FV = 100*e^(r*t)"
   ]
  },
  {
   "cell_type": "code",
   "execution_count": null,
   "metadata": {},
   "outputs": [],
   "source": [
    "parent(FV)"
   ]
  },
  {
   "cell_type": "code",
   "execution_count": null,
   "metadata": {},
   "outputs": [],
   "source": [
    "f = FV.function(r, t); show(f)"
   ]
  },
  {
   "cell_type": "markdown",
   "metadata": {},
   "source": [
    "We can also define functions as this."
   ]
  },
  {
   "cell_type": "code",
   "execution_count": null,
   "metadata": {},
   "outputs": [],
   "source": [
    "y = function('y')(x)"
   ]
  },
  {
   "cell_type": "code",
   "execution_count": null,
   "metadata": {},
   "outputs": [],
   "source": [
    "%display latex\n",
    "\n",
    "y + diff(y)"
   ]
  },
  {
   "cell_type": "code",
   "execution_count": null,
   "metadata": {},
   "outputs": [],
   "source": []
  }
 ],
 "metadata": {
  "kernelspec": {
   "display_name": "SageMath 8.8",
   "language": "sage",
   "name": "sagemath"
  },
  "language": "python",
  "language_info": {
   "codemirror_mode": {
    "name": "ipython",
    "version": 2
   },
   "file_extension": ".py",
   "mimetype": "text/x-python",
   "name": "python",
   "nbconvert_exporter": "python",
   "pygments_lexer": "ipython2",
   "version": "2.7.15"
  }
 },
 "nbformat": 4,
 "nbformat_minor": 2
}
