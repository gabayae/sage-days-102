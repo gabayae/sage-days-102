{
 "cells": [
  {
   "cell_type": "markdown",
   "metadata": {},
   "source": [
    "<h1 style=\"text-align: left;\"><a title=\"Sage Days 102 Workshop\" href=\"https://wiki.sagemath.org/days102\">Sage Days 102 Workshop</a>, <a title=\"University of Ibadan\" href=\"https://www.ui.edu.ng/\">University of Ibadan</a> Nigeria.</h1>\n",
    "\n",
    "\n",
    "<h2 style=\"text-align: left;\">Day 02 — Introduction to <a title=\"Sage\"href=\"http://www.sagemath.org/\"><em>Sage</em></a>: A Mathematics Software for All</h2>\n",
    "\n",
    "\n",
    "### Instructor: [Evans Doe Ocansey](https://risc.jku.at/m/evans-doe-ocansey/)\n",
    "\n",
    "The outline of the this notebook is as follows:"
   ]
  },
  {
   "cell_type": "markdown",
   "metadata": {},
   "source": [
    "## Table of Contents: <a class=\"anchor\" id=\"toc\"></a>\n",
    "*  [<font color=blue>Python Data Types — Revision</font>](#python-data-types-revision)\n",
    "    *  [<font color=blue>List</font>](#list)\n",
    "        *  [<font color=blue>List Methods</font>](#list-methods)\n",
    "            *  [<font color=red>Exercise 41</font>](#exercise-41)\n",
    "        *  [<font color=blue>Slicing & Modifying List Objects</font>](#slicing-and-modifying-list-objs)\n",
    "        *  [<font color=blue>Other Operations on List Objects</font>](#other-operations-on-list-objs)\n",
    "            *  [<font color=red>Exercise 42</font>](#exercise-42)\n",
    "            *  [<font color=red>Exercise 43</font>](#exercise-43)\n",
    "        *  [<font color=blue>List Comprehension</font>](#list-comprehension)\n",
    "            *  [<font color=red>Exercise 44</font>](#exercise-44)\n",
    "            *  [<font color=red>Exercise 45</font>](#exercise-45)\n",
    "    *  [<font color=blue>Tuples</font>](#tuples)\n",
    "        *  [<font color=blue>Tuple Methods</font>](#tuple-methods)\n",
    "        *  [<font color=blue>Tuple Slicing</font>](#tuple-slicing)\n",
    "            *  [<font color=red>Exercise 46</font>](#exercise-46) \n",
    "        *  [<font color=blue>Tuple Comprehension</font>](#tuple-comprehension)\n",
    "    *  [<font color=blue>Dictionaries</font>](#dictionaries)\n",
    "        *  [<font color=blue>Dictionary Methods</font>](#dictionary-methods)\n",
    "            *  [<font color=red>Exercise 47</font>](#exercise-47)\n",
    "        *  [<font color=blue>Dictionary Comprehension</font>](#dictionary-comprehension)\n",
    "            *  [<font color=red>Exercise 48</font>](#exercise-48)"
   ]
  },
  {
   "cell_type": "markdown",
   "metadata": {},
   "source": [
    "## 10 Python Data Types  — Revision <a class=\"anchor\" id=\"python-data-types-revision\"></a>\n",
    "\n",
    "In this section we discuss some of Python's data types as well as that of [SageMath](http://www.sagemath.org). You should be familiar with the python data types that we reviewed in the previous lectures. See the Software Carpentry materials on [Python Novice Inflammation](https://github.com/swcarpentry/python-novice-inflammation). We will briefly discuss some data types in Python. [SageMath](http://www.sagemath.org) has lots of data types and we will also take a look at the some of them. We will also look at the methods that are available to objects of the data types.  "
   ]
  },
  {
   "cell_type": "markdown",
   "metadata": {},
   "source": [
    "### 10.1 List <a class=\"anchor\" id=\"list\"></a>\n",
    "\n",
    "A `list` is an ordered collection of objects. The objects in a list can be of different data types or classes. The elements in list are indexed by integers starting with $0$. Lists enable us to construct and manipulate elements that can be modified. In short, they are called __mutable__ data types. Here's is how to contruct a list and to access its elements."
   ]
  },
  {
   "cell_type": "code",
   "execution_count": null,
   "metadata": {},
   "outputs": [],
   "source": [
    "my_list = [2, 'Ramanujan', [1,2,3], [[1,2], [3,4]], 2.5, 2, (1,5,'test') ]; my_list  # (Typing two consecutive commands, separated by a semicolon, will do them both.)"
   ]
  },
  {
   "cell_type": "code",
   "execution_count": null,
   "metadata": {},
   "outputs": [],
   "source": [
    "my_list[1] # Get the second element in the list object my_list_1. Sage/Python indexing starts from zero"
   ]
  },
  {
   "cell_type": "code",
   "execution_count": null,
   "metadata": {},
   "outputs": [],
   "source": [
    "my_list[-1]    # Get the last element in the list object my_list_1"
   ]
  },
  {
   "cell_type": "code",
   "execution_count": null,
   "metadata": {},
   "outputs": [],
   "source": [
    "my_list[7]    # There is no 6th element in the list object my_list_1 thus the error."
   ]
  },
  {
   "cell_type": "code",
   "execution_count": null,
   "metadata": {},
   "outputs": [],
   "source": [
    "my_python_int_list = range(5); my_python_int_list  # Creates a list whose objects are from the Python class int"
   ]
  },
  {
   "cell_type": "code",
   "execution_count": null,
   "metadata": {},
   "outputs": [],
   "source": [
    "my_sagemath_int_list = [0..4]; my_sagemath_int_list  # Creates a list whose objects are from the SageMath class Integer"
   ]
  },
  {
   "cell_type": "markdown",
   "metadata": {},
   "source": [
    "Note: Objects from the SageMath class `Integer` have more methods than that of the Python class int. Consider the following examples:"
   ]
  },
  {
   "cell_type": "code",
   "execution_count": null,
   "metadata": {},
   "outputs": [],
   "source": [
    "sage_integer = my_sagemath_int_list[1]; python_int = my_python_int_list[1]"
   ]
  },
  {
   "cell_type": "markdown",
   "metadata": {},
   "source": [
    "We can check the mathematical set sage\\_integer and python\\_int belong."
   ]
  },
  {
   "cell_type": "code",
   "execution_count": null,
   "metadata": {},
   "outputs": [],
   "source": [
    "parent(python_int)"
   ]
  },
  {
   "cell_type": "code",
   "execution_count": null,
   "metadata": {},
   "outputs": [],
   "source": [
    "parent(sage_integer)"
   ]
  },
  {
   "cell_type": "markdown",
   "metadata": {},
   "source": [
    "We can check all the methods available for the python int object with whose variable is python\\_int. Put your cursor next to the period and press the tab key on your keyboard."
   ]
  },
  {
   "cell_type": "code",
   "execution_count": null,
   "metadata": {},
   "outputs": [],
   "source": [
    "python_int."
   ]
  },
  {
   "cell_type": "markdown",
   "metadata": {},
   "source": [
    "Let us do the same for the Sage Integer object whose variable is sage\\_integer."
   ]
  },
  {
   "cell_type": "code",
   "execution_count": null,
   "metadata": {},
   "outputs": [],
   "source": [
    "sage_integer."
   ]
  },
  {
   "cell_type": "markdown",
   "metadata": {},
   "source": [
    "The empty list is constructed using \\[\\] or list()."
   ]
  },
  {
   "cell_type": "code",
   "execution_count": null,
   "metadata": {},
   "outputs": [],
   "source": [
    "null_list = list(); null_list"
   ]
  },
  {
   "cell_type": "code",
   "execution_count": null,
   "metadata": {},
   "outputs": [],
   "source": [
    "null_list_1 = []; null_list_1"
   ]
  },
  {
   "cell_type": "markdown",
   "metadata": {},
   "source": [
    "#### 10.1.1 List Methods <a class=\"anchor\" id=\"list-methods\"></a>\n",
    "\n",
    "Do you remember how to access the methods available to any object defined in Sage? Let us get the methods available for list objects. Remember all we need to do is type in the list object followed by the period symbol and then press the tab key on your keyboard. In this case since I have typed the list object my\\_list\\_1with the period already, you will have to put cursor next to period symbol and then press the tab key."
   ]
  },
  {
   "cell_type": "code",
   "execution_count": null,
   "metadata": {},
   "outputs": [],
   "source": [
    "my_list."
   ]
  },
  {
   "cell_type": "markdown",
   "metadata": {},
   "source": [
    "Let us modify the list object assigned to the variable my\\_list\\_1 by first appending the integer 101 and afterwards inserting the list \\['I', 'love', 'Programming', 'in', 'Sage'\\] at the begining. We will have to read on the help on the list methods append and insert"
   ]
  },
  {
   "cell_type": "code",
   "execution_count": null,
   "metadata": {},
   "outputs": [],
   "source": [
    "my_list.append?"
   ]
  },
  {
   "cell_type": "code",
   "execution_count": null,
   "metadata": {},
   "outputs": [],
   "source": [
    "my_list.append(101); my_list"
   ]
  },
  {
   "cell_type": "markdown",
   "metadata": {},
   "source": [
    "Let us read the help for the list method insert"
   ]
  },
  {
   "cell_type": "code",
   "execution_count": null,
   "metadata": {},
   "outputs": [],
   "source": [
    "my_list.insert?"
   ]
  },
  {
   "cell_type": "code",
   "execution_count": null,
   "metadata": {},
   "outputs": [],
   "source": [
    "my_list.insert(0, ['I', 'love', 'Programming', 'in', 'SageMath']); my_list"
   ]
  },
  {
   "cell_type": "markdown",
   "metadata": {},
   "source": [
    "#### <font color=red>Exercise 41:</font> <a class=\"anchor\" id=\"exercise-41\"></a>\n",
    "\n",
    "Try to turn the Python procedure you wrote for printing the collatz sequence in <a href=\"#exercise-40\"><b><font color=red>Exercise 40</font></b></a> into a function that returns a list where this list now contains the collatz sequence. Name your function as `collatz_sequence_function`. __Hint:__ You will have to initialise an empty list and then use the append method to update the empty list with the collatz sequence."
   ]
  },
  {
   "cell_type": "code",
   "execution_count": null,
   "metadata": {},
   "outputs": [],
   "source": []
  },
  {
   "cell_type": "markdown",
   "metadata": {},
   "source": [
    "#### 10.1.2 Slicing & Modifying List Objects <a class=\"anchor\" id=\"slicing-and-modifying-list-objs\"></a>\n",
    "\n",
    "Given a list object we can obtain a sub-list by slicing. Suppose that l is a variable assigned to a list object. Then the syntax of slicing is as follows `l[start:end:step]` where start is then begining index, end is the ending index and step is the step size. For example, if one wants to take the objects positioned at the odd indicies of the list object assigned to the variable `my_list`, then one proceeds do the following"
   ]
  },
  {
   "cell_type": "code",
   "execution_count": null,
   "metadata": {},
   "outputs": [],
   "source": [
    "my_list[1:-1:2]"
   ]
  },
  {
   "cell_type": "markdown",
   "metadata": {},
   "source": [
    "We can also do the following"
   ]
  },
  {
   "cell_type": "code",
   "execution_count": null,
   "metadata": {},
   "outputs": [],
   "source": [
    "copy_of_my_list = my_list[:]; copy_of_my_list     # This gives us a copy of the list object assigned to the variable my_list"
   ]
  },
  {
   "cell_type": "markdown",
   "metadata": {},
   "source": [
    "`l[start:]` returns a sublist of the list object `l` by slicing `l` begining at the position `start`. Note that SageMath/Python index starts from `0` and <a><b><font color=red>NOT</font></b></a> `1`."
   ]
  },
  {
   "cell_type": "code",
   "execution_count": null,
   "metadata": {},
   "outputs": [],
   "source": [
    "my_list[2:]     #"
   ]
  },
  {
   "cell_type": "markdown",
   "metadata": {},
   "source": [
    "`l[:end]` returns a sublist of the list object `l` by slicing `l` ending at the position `end-1`."
   ]
  },
  {
   "cell_type": "code",
   "execution_count": null,
   "metadata": {},
   "outputs": [],
   "source": [
    "my_list[:3]"
   ]
  },
  {
   "cell_type": "markdown",
   "metadata": {},
   "source": [
    "`l[::step]` returns a sublist of the list object `l` by taking all objects `l` at the following positions: $0, 1\\times \\text{step}, \\,2\\times\\text{step},\\, 3\\times\\text{step}\\,\\dots$. If step is negative then the output is the reverse of the case when step is positive."
   ]
  },
  {
   "cell_type": "code",
   "execution_count": null,
   "metadata": {},
   "outputs": [],
   "source": [
    "my_list[::2]"
   ]
  },
  {
   "cell_type": "code",
   "execution_count": null,
   "metadata": {},
   "outputs": [],
   "source": [
    "my_list[::-2]"
   ]
  },
  {
   "cell_type": "markdown",
   "metadata": {},
   "source": [
    "One can also have any of the following `l[start::step]`, `l[:end:step]` and `l[start:end]`\n",
    "\n",
    "Although `list` objects are very nice to work with, one must be very careful when working with them. Let us take a look at the following example by creating copies of the `list` object assigned to a varible and then modifying it.\n",
    "\n",
    "Let us create a copy of the `list` object assigned to the variable `my_list` using the assignment operation `=` and call it `copy_my_list_by_assignment`."
   ]
  },
  {
   "cell_type": "code",
   "execution_count": null,
   "metadata": {},
   "outputs": [],
   "source": [
    "copy_my_list_by_assignment = my_list; copy_my_list_by_assignment"
   ]
  },
  {
   "cell_type": "markdown",
   "metadata": {},
   "source": [
    "Next we create another copy of the `list` object assigned to the variable `my_list` using slicing `[:]` and call it `copy_my_list_by_slicing`."
   ]
  },
  {
   "cell_type": "code",
   "execution_count": null,
   "metadata": {},
   "outputs": [],
   "source": [
    "copy_my_list_by_slicing = my_list[:]; copy_my_list_by_slicing"
   ]
  },
  {
   "cell_type": "markdown",
   "metadata": {},
   "source": [
    "Finally, we create a another copy of the `list` object assigned to the variable `my_list` using the SageMath's function `copy` and call it `sage_copy_my_list`."
   ]
  },
  {
   "cell_type": "code",
   "execution_count": null,
   "metadata": {},
   "outputs": [],
   "source": [
    "sage_copy_my_list = copy(my_list); sage_copy_my_list"
   ]
  },
  {
   "cell_type": "code",
   "execution_count": null,
   "metadata": {},
   "outputs": [],
   "source": [
    "my_list"
   ]
  },
  {
   "cell_type": "markdown",
   "metadata": {},
   "source": [
    "Let us assign the first element of the `list` object whose variable is `my_list`, `my_list[0]` to the integer object 9."
   ]
  },
  {
   "cell_type": "code",
   "execution_count": null,
   "metadata": {},
   "outputs": [],
   "source": [
    "my_list[0] = 9; my_list"
   ]
  },
  {
   "cell_type": "markdown",
   "metadata": {},
   "source": [
    "You may think that the only `list` objects we changed was `my_list`. But this is actually not the case. Let's check the content of the variables: `copy_my_list_by_assignment`, `copy_my_list_by_slicing`, `sage_copy_my_list`."
   ]
  },
  {
   "cell_type": "code",
   "execution_count": null,
   "metadata": {},
   "outputs": [],
   "source": [
    "copy_my_list_by_assignment"
   ]
  },
  {
   "cell_type": "markdown",
   "metadata": {},
   "source": [
    "Did you notice anything? Did you observe that that changing the list object assigned to the varible `my_list` also changes the list object assigned to `copy_my_list_by_assignment`? This is because the variables `my_list` and `copy_my_list_by_assignment` points to the same `list` object in memory. Thus, changing one means changing the other. And this is caused by the assignment operator =. "
   ]
  },
  {
   "cell_type": "markdown",
   "metadata": {},
   "source": [
    "What about the other variables: `copy_my_list_by_slicing` and `sage_copy_my_list` "
   ]
  },
  {
   "cell_type": "code",
   "execution_count": null,
   "metadata": {},
   "outputs": [],
   "source": [
    "copy_my_list_by_slicing"
   ]
  },
  {
   "cell_type": "code",
   "execution_count": null,
   "metadata": {},
   "outputs": [],
   "source": [
    "sage_copy_my_list"
   ]
  },
  {
   "cell_type": "markdown",
   "metadata": {},
   "source": [
    "However, the list objects assigned to the variables `copy_my_list_by_slicing` and `sagemath_copy_my_list` does not change since they both point to different addresses in memrory."
   ]
  },
  {
   "cell_type": "markdown",
   "metadata": {},
   "source": [
    "We can check their address in the memory of the computer with the Python command `id`. Observe that only `my_list` and `copy_my_list_by_assignment` have the same address in memory. But that of `copy_my_list_by_slicing` and `sage_copy_my_list` have different addresses in memory."
   ]
  },
  {
   "cell_type": "code",
   "execution_count": null,
   "metadata": {},
   "outputs": [],
   "source": [
    "id(my_list), id(copy_my_list_by_assignment), id(copy_my_list_by_slicing), id(sage_copy_my_list)"
   ]
  },
  {
   "cell_type": "code",
   "execution_count": null,
   "metadata": {},
   "outputs": [],
   "source": [
    "id(my_list) == id(copy_my_list_by_assignment)"
   ]
  },
  {
   "cell_type": "code",
   "execution_count": null,
   "metadata": {},
   "outputs": [],
   "source": [
    "id(copy_my_list_by_slicing) == id(sage_copy_my_list)"
   ]
  },
  {
   "cell_type": "markdown",
   "metadata": {},
   "source": [
    "#### 10.1.3 Other Operations on List Objects <a class=\"anchor\" id=\"other-operations-on-list-objs\"></a>\n",
    "\n",
    "Aside the methods that can be applied to list objects, there are other functions that can also be applied to a list object. We consider only a few, namely, `len`, `sum`, `prod`, `zip` and `map`.\n",
    "\n",
    "We can use the `len` to check the size of a list."
   ]
  },
  {
   "cell_type": "code",
   "execution_count": null,
   "metadata": {},
   "outputs": [],
   "source": [
    "len(my_list)"
   ]
  },
  {
   "cell_type": "code",
   "execution_count": null,
   "metadata": {},
   "outputs": [],
   "source": [
    "len(null_list)"
   ]
  },
  {
   "cell_type": "markdown",
   "metadata": {},
   "source": [
    "Note that since the function len is <a><b><font color=red>NOT</font></b></a> a method in the list class. Therefore you <a><b><font color=red>CANNOT</font></b></a> do this."
   ]
  },
  {
   "cell_type": "code",
   "execution_count": null,
   "metadata": {},
   "outputs": [],
   "source": [
    "my_list.len()"
   ]
  },
  {
   "cell_type": "markdown",
   "metadata": {},
   "source": [
    "The functions `sum` (respectively `prod`) takes a list as input and returns the sum (respectively product) of it’s argument:"
   ]
  },
  {
   "cell_type": "code",
   "execution_count": null,
   "metadata": {},
   "outputs": [],
   "source": [
    "python_int_obj = sum(my_python_int_list); python_int_obj # returns a Python int object"
   ]
  },
  {
   "cell_type": "code",
   "execution_count": null,
   "metadata": {},
   "outputs": [],
   "source": [
    "sage_integer_obj = prod(my_sage_int_list[1:]); sage_integer_obj  # returns a Sage Integer object"
   ]
  },
  {
   "cell_type": "code",
   "execution_count": null,
   "metadata": {},
   "outputs": [],
   "source": [
    "sum(null_list)"
   ]
  },
  {
   "cell_type": "code",
   "execution_count": null,
   "metadata": {},
   "outputs": [],
   "source": [
    "prod(null_list)"
   ]
  },
  {
   "cell_type": "markdown",
   "metadata": {},
   "source": [
    "Note that for these functions namely, `sum` and `prod` the objects in the list must be one of the following: integers, floating point numbers. Otherwise, they return an error."
   ]
  },
  {
   "cell_type": "code",
   "execution_count": null,
   "metadata": {},
   "outputs": [],
   "source": [
    "sum(my_list)"
   ]
  },
  {
   "cell_type": "code",
   "execution_count": null,
   "metadata": {},
   "outputs": [],
   "source": [
    "prod(my_list)"
   ]
  },
  {
   "cell_type": "markdown",
   "metadata": {},
   "source": [
    "The `zip` command joins the elements of two or more list objects by termiwise grouping them together in order."
   ]
  },
  {
   "cell_type": "code",
   "execution_count": null,
   "metadata": {},
   "outputs": [],
   "source": [
    "zip_python_int_list_and_sage_int_list = zip(my_python_int_list, my_sage_int_list); zip_python_int_list_and_sage_int_list"
   ]
  },
  {
   "cell_type": "markdown",
   "metadata": {},
   "source": [
    "Note that the `zip` command does <a><b><font color=red>NOT</font></b></a> require that the elements of the list be the same. The pairing is done up to the list object with the least length."
   ]
  },
  {
   "cell_type": "markdown",
   "metadata": {},
   "source": [
    "#### <font color=red>Exercise 42:</font> <a class=\"anchor\" id=\"exercise-42\"></a>\n",
    "\n",
    "Use the `zip` command to group the list objects `my_python_int_list`, `my_sage_int_list` and `my_list`"
   ]
  },
  {
   "cell_type": "code",
   "execution_count": null,
   "metadata": {},
   "outputs": [],
   "source": []
  },
  {
   "cell_type": "markdown",
   "metadata": {},
   "source": [
    "The map command takes two arguments, a function $f$ and a list $[a_{0}, a_{1},\\dots,a_{n-1}]$ and returns the application of $f$ to each member of that list."
   ]
  },
  {
   "cell_type": "code",
   "execution_count": null,
   "metadata": {},
   "outputs": [],
   "source": [
    "map(len, [my_list, my_python_int_list, my_sage_int_list])"
   ]
  },
  {
   "cell_type": "markdown",
   "metadata": {},
   "source": [
    "#### <font color=red>Exercise 43:</font> <a class=\"anchor\" id=\"exercise-43\"></a>\n",
    "\n",
    "Apply the SageMath function `is_prime` to a list of integers from $1$ through to $10$ using the `map` function."
   ]
  },
  {
   "cell_type": "code",
   "execution_count": null,
   "metadata": {},
   "outputs": [],
   "source": []
  },
  {
   "cell_type": "markdown",
   "metadata": {},
   "source": [
    "#### 10.1.4 List Comprehension <a class=\"anchor\" id=\"list-comprehension\"></a>\n",
    "\n",
    "List can also contructed using a very useful technique in Python (and Sage by extension) by using **list comprehensions**. This feature is very similar to the *set builder* notation we often use in mathematics. For example, the set of *odd* integers can be written as:\n",
    "\n",
    "$$\\{ 2\\,k+1 \\,|\\, k\\in\\mathbb{Z}\\}.$$"
   ]
  },
  {
   "cell_type": "code",
   "execution_count": null,
   "metadata": {},
   "outputs": [],
   "source": [
    "[2*k-1 for k in [1..11]]"
   ]
  },
  {
   "cell_type": "markdown",
   "metadata": {},
   "source": [
    "#### <font color=red>Exercise 44:</font> <a class=\"anchor\" id=\"exercise-44\"></a>\n",
    "\n",
    "Use a list comprehension to construct a list with the same elements as the following sets:\n",
    "\n",
    "1.  The set of all even numbers greater than $-10$ but less than $30$.\n",
    "2.  The set of of all integers divisible by $7$ less than or equal to $100$ and greater than $-20$.\n",
    "3.  The set of all prime numbers less than or equal to $100$.\n",
    "\n",
    "Use list comprehension to generate a list of $\\tan(x)$ for all $x\\in\\{0,\\, \\frac{\\pi}{4},\\,\\frac{\\pi}{2}, \\,\\frac{3\\,\\pi}{4},\\,\\pi\\}$."
   ]
  },
  {
   "cell_type": "code",
   "execution_count": null,
   "metadata": {},
   "outputs": [],
   "source": []
  },
  {
   "cell_type": "code",
   "execution_count": null,
   "metadata": {},
   "outputs": [],
   "source": []
  },
  {
   "cell_type": "code",
   "execution_count": null,
   "metadata": {},
   "outputs": [],
   "source": []
  },
  {
   "cell_type": "code",
   "execution_count": null,
   "metadata": {},
   "outputs": [],
   "source": []
  },
  {
   "cell_type": "markdown",
   "metadata": {},
   "source": [
    "#### <font color=red>Exercise 45:</font> <a class=\"anchor\" id=\"exercise-45\"></a>\n",
    "\n",
    "Write a Python function, with the name `newton_iteration` that implements the [Newton's method](https://en.wikipedia.org/wiki/Newton's_method) of finding the root of a given function, $f$ using the formula below\n",
    "\n",
    "$$x_{n+1}=x_{n}-\\frac{f(x)}{f'(x)}.$$\n",
    "\n",
    "Your Python function should take as inputs: a function, initial guess and number of iteration or the error you would like to tolerate (to ensure termination) and it should output a list of guessed roots of the function including the inital guessed root."
   ]
  },
  {
   "cell_type": "code",
   "execution_count": null,
   "metadata": {},
   "outputs": [],
   "source": []
  },
  {
   "cell_type": "code",
   "execution_count": null,
   "metadata": {},
   "outputs": [],
   "source": []
  },
  {
   "cell_type": "markdown",
   "metadata": {},
   "source": [
    "### 10.2 Tuples <a class=\"anchor\" id=\"tuples\"></a>\n",
    "\n",
    "In Python/SageMath tuples are very similar to lists, however, unlike lists they are *immutable* data types. That is to say, they can not be changed. Tuples are denoted with parentheses `(...)`. The syntax for the empty `tuple` is either `()` or `tuple()`. A tuple with only one element is defined by adding a comma after this element. This is to distinguish it from mathematical parentheses. Tuples can contain different data types."
   ]
  },
  {
   "cell_type": "code",
   "execution_count": null,
   "metadata": {},
   "outputs": [],
   "source": [
    "empty_tuple = tuple(); empty_tuple"
   ]
  },
  {
   "cell_type": "code",
   "execution_count": null,
   "metadata": {},
   "outputs": [],
   "source": [
    "my_tuple = (\"2\", 1, \"a\", {1: [2,3,4]}, (1,)); my_tuple"
   ]
  },
  {
   "cell_type": "markdown",
   "metadata": {},
   "source": [
    "#### 10.2.1 Tuple Methods <a class=\"anchor\" id=\"tuple-methods\"></a>\n",
    "\n",
    "They have only two methods, `count` and `index`. Examples on how they can be used is as follows"
   ]
  },
  {
   "cell_type": "code",
   "execution_count": null,
   "metadata": {},
   "outputs": [],
   "source": [
    "my_tuple.index(\"a\") # returns the index of \"a\" in my_tuple"
   ]
  },
  {
   "cell_type": "code",
   "execution_count": null,
   "metadata": {},
   "outputs": [],
   "source": [
    "my_tuple.count(\"a\") # Counts the number of times the str object \"a\" appears in my_tuple"
   ]
  },
  {
   "cell_type": "markdown",
   "metadata": {},
   "source": [
    "#### 10.2.2 Tuple Slicing <a class=\"anchor\" id=\"tuple-slicing\"></a>\n",
    "\n",
    "Just as `list` objects can be sliced as discussed in <a href=\"#slicing-and-modifying-list-objs\"> <b>Slicing & Modifying List Objects</b></a>, a python `tuple` object can also be sliced. The syntax follows the same as that of list. That is `t[start:end:step]` Here are some examples."
   ]
  },
  {
   "cell_type": "code",
   "execution_count": null,
   "metadata": {},
   "outputs": [],
   "source": [
    "my_tuple[::]"
   ]
  },
  {
   "cell_type": "code",
   "execution_count": null,
   "metadata": {},
   "outputs": [],
   "source": [
    "my_tuple[2::] # start slicing at position 2 until the end "
   ]
  },
  {
   "cell_type": "code",
   "execution_count": null,
   "metadata": {},
   "outputs": [],
   "source": [
    "my_tuple[:3:] # start slicing from the begining until the position end-1"
   ]
  },
  {
   "cell_type": "code",
   "execution_count": null,
   "metadata": {},
   "outputs": [],
   "source": [
    "my_tuple[::2] # start slicing from the begining to the end with step size of 2"
   ]
  },
  {
   "cell_type": "code",
   "execution_count": null,
   "metadata": {},
   "outputs": [],
   "source": [
    "my_tuple[1:5:2] # start slicing from position 1 until position end-1 with step size of 2"
   ]
  },
  {
   "cell_type": "code",
   "execution_count": null,
   "metadata": {},
   "outputs": [],
   "source": [
    "my_tuple[::-1] # a smart way to reverse iteratable objects"
   ]
  },
  {
   "cell_type": "markdown",
   "metadata": {},
   "source": [
    "Note that since tuples are immutable objects, once you create them they can not be modified. \n",
    "\n",
    "#### <font color=red>Exercise 46:</font> <a class=\"anchor\" id=\"exercise-46\"></a>\n",
    "\n",
    "Try to change the element in the first position of the variable `my_tuple` containing a tuple object to 4 and observe the complaint by Python."
   ]
  },
  {
   "cell_type": "code",
   "execution_count": null,
   "metadata": {},
   "outputs": [],
   "source": []
  },
  {
   "cell_type": "code",
   "execution_count": null,
   "metadata": {},
   "outputs": [],
   "source": []
  },
  {
   "cell_type": "markdown",
   "metadata": {},
   "source": [
    "#### 10.2.3 Tuple Comprehension <a class=\"anchor\" id=\"tuple-comprehension\"></a>\n",
    "\n",
    "Just like <a href=\"#list-comprehension\"><b>List Comprehension</b></a> discussed above for Python's `list` objects, there is also list comprehension for tuples which in some sense works the same way as that for `list` objects. Instead of a tuple comprehension, one can also write a list comprehension and pass it as an argument for the function `tuple`. Here are some examples. "
   ]
  },
  {
   "cell_type": "code",
   "execution_count": null,
   "metadata": {},
   "outputs": [],
   "source": [
    "tuple(2*k-1 for k in [1..11])"
   ]
  },
  {
   "cell_type": "code",
   "execution_count": null,
   "metadata": {},
   "outputs": [],
   "source": [
    "tuple([2*k-1 for k in [1..11]]) # A list comprehension is passed as an argument for the function tuple"
   ]
  },
  {
   "cell_type": "code",
   "execution_count": null,
   "metadata": {},
   "outputs": [],
   "source": [
    "tuple(2*k-1 for k in (1..11)) # Here is also another one. "
   ]
  },
  {
   "cell_type": "markdown",
   "metadata": {},
   "source": [
    "Did you notice the difference. I used the iteratable object `(1..11)` which is called a Python `generator` object. I will not discuss this Python object here."
   ]
  },
  {
   "cell_type": "code",
   "execution_count": null,
   "metadata": {},
   "outputs": [],
   "source": []
  },
  {
   "cell_type": "code",
   "execution_count": null,
   "metadata": {},
   "outputs": [],
   "source": []
  },
  {
   "cell_type": "code",
   "execution_count": null,
   "metadata": {},
   "outputs": [],
   "source": []
  },
  {
   "cell_type": "markdown",
   "metadata": {},
   "source": [
    "### 10.3 Dictionaries <a class=\"anchor\" id=\"dictionaries\"></a>\n",
    "\n",
    "A Python dictionary is a unordered collection of key-value pairs. It associates to each value, a given key. In other words, the key is a way to name the data, and the value is the data itself. The keys of a dictionary might be of any immutable type: numbers, characters strings, tuples, etc. Dictionaries are likely the most useful data type in Python you will use in everyday programming. The syntax is like lists, using assignments from the empty dictionary `dict()` which can also be written as `{}`."
   ]
  },
  {
   "cell_type": "code",
   "execution_count": null,
   "metadata": {},
   "outputs": [],
   "source": [
    "my_dict = dict();"
   ]
  },
  {
   "cell_type": "code",
   "execution_count": null,
   "metadata": {},
   "outputs": [],
   "source": [
    "my_dict[\"instructors\"] = [\"Erik\", \"Evans\", \"Stanley\", \"Yae\"]"
   ]
  },
  {
   "cell_type": "code",
   "execution_count": null,
   "metadata": {},
   "outputs": [],
   "source": [
    "my_dict[\"interests\"] = [[\"Python\", \"matplotlib\", \"numpy\", \"Jupyter\", \"C/C++\", \"SageMath\", \"GAP\", \\\n",
    "                        \"Software Packaging\"], \\\n",
    "                        [\"Python\", \"Mathematica\", \"SageMath\", \"Combinatorics\", \"Computer Algebra\", \\\n",
    "                         \"Graph Theory\"], \\\n",
    "                        [\"Computational Group Theory\", \"Algebraic Combinatorics\", \"GAP\", \"MAGMA\"], \\\n",
    "                        [\"Python\", \"SageMath\", \"Computer Algebra\", \"Topology\", \"Graph Theory\"]]"
   ]
  },
  {
   "cell_type": "code",
   "execution_count": null,
   "metadata": {},
   "outputs": [],
   "source": [
    "my_dict[\"instructors\"]"
   ]
  },
  {
   "cell_type": "code",
   "execution_count": null,
   "metadata": {},
   "outputs": [],
   "source": [
    "my_dict[\"interests\"]"
   ]
  },
  {
   "cell_type": "markdown",
   "metadata": {},
   "source": [
    "Once a dictionary has been created, you can make modifications to the data. Let us modify the second `list` object of associated with the key `interests` by appending the Python `str` object `\"Number Theory\"` to it."
   ]
  },
  {
   "cell_type": "code",
   "execution_count": null,
   "metadata": {},
   "outputs": [],
   "source": [
    "my_dict[\"interests\"][1].append(\"Number Theory\")"
   ]
  },
  {
   "cell_type": "code",
   "execution_count": null,
   "metadata": {},
   "outputs": [],
   "source": [
    "my_dict[\"interests\"]"
   ]
  },
  {
   "cell_type": "markdown",
   "metadata": {},
   "source": [
    "Dictionaries are very flexible in the data types they can hold. For example:"
   ]
  },
  {
   "cell_type": "code",
   "execution_count": null,
   "metadata": {},
   "outputs": [],
   "source": [
    "my_database = {\"experiment\": \"current vs. voltage\",\n",
    "        \"run\": 47,\n",
    "        \"temperature\": 372.756, \n",
    "        \"current\": [-1.0, -0.5, 0.0, 0.5, 1.0], \n",
    "        \"voltage\": [-2.0, -1.0, 0.0, 1.0, 2.0], \n",
    "        (2, 3): 18, 6: 23, 'key':{'nestkey':{'subnestkey':'value'}}\n",
    "        }"
   ]
  },
  {
   "cell_type": "code",
   "execution_count": null,
   "metadata": {},
   "outputs": [],
   "source": []
  },
  {
   "cell_type": "markdown",
   "metadata": {},
   "source": [
    "#### 10.3.1 Dictionary Methods <a class=\"anchor\" id=\"dictionary-methods\"></a>\n",
    "\n",
    "In order to see all the methods available for a variable whose object type is a dictionary, say `my_database`, we only have to type in the variable and then hit the period <kbd>.</kbd> key, and the <kbd>Tab</kbd> key afterwards. "
   ]
  },
  {
   "cell_type": "code",
   "execution_count": null,
   "metadata": {},
   "outputs": [],
   "source": [
    "my_database"
   ]
  },
  {
   "cell_type": "markdown",
   "metadata": {},
   "source": [
    "To list all the keys in `my_database` we use the `.keys()` method."
   ]
  },
  {
   "cell_type": "code",
   "execution_count": null,
   "metadata": {},
   "outputs": [],
   "source": [
    "my_database.keys()"
   ]
  },
  {
   "cell_type": "markdown",
   "metadata": {},
   "source": [
    "To list all the values in `my_database` we use the `.values()` method."
   ]
  },
  {
   "cell_type": "code",
   "execution_count": null,
   "metadata": {},
   "outputs": [],
   "source": [
    "my_database.values()"
   ]
  },
  {
   "cell_type": "markdown",
   "metadata": {},
   "source": [
    "To check if `my_database` has a particular key we use the `.has_key(<name of key>)` where `<name of key>` is the key you want to check if it is in `my_database`. Below we check if the Python `str` object `\"Evans\"` is a key in `my_database`."
   ]
  },
  {
   "cell_type": "code",
   "execution_count": null,
   "metadata": {},
   "outputs": [],
   "source": [
    "my_database.has_key(\"Evans\")"
   ]
  },
  {
   "cell_type": "code",
   "execution_count": null,
   "metadata": {},
   "outputs": [],
   "source": []
  },
  {
   "cell_type": "markdown",
   "metadata": {},
   "source": [
    "#### <font color=red>Exercise 47:</font> <a class=\"anchor\" id=\"exercise-47\"></a>\n",
    "\n",
    "Using dictionary to encode the definition of a [vertex labelled graph](http://mathworld.wolfram.com/LabeledGraph.html). \n",
    "\n",
    "- Draw a [vertex labelled graph](http://mathworld.wolfram.com/LabeledGraph.html) (You may want to draw something simple).\n",
    "- Create a dictionary object, with the name `my_graph_dict` where the labels on the vertices of the graph are keys and the values are the list of vertices that are the [neighbours](https://en.wikipedia.org/wiki/Neighbourhood_(graph_theory)) of the key.\n",
    "- Create a `Graph` object and assign it to a variable, say, `my_graph`. __Hint__: You just need to pass `my_graph_dict` as an argument to the class `Graph` and assign it to `my_graph` and use `show(my_graph)` to display your graph. Does the graph SageMath gives you correspond to the one you drew?\n",
    "- Apply as many methods that you can to the variable `my_graph`."
   ]
  },
  {
   "cell_type": "code",
   "execution_count": null,
   "metadata": {},
   "outputs": [],
   "source": []
  },
  {
   "cell_type": "code",
   "execution_count": null,
   "metadata": {},
   "outputs": [],
   "source": []
  },
  {
   "cell_type": "code",
   "execution_count": null,
   "metadata": {},
   "outputs": [],
   "source": []
  },
  {
   "cell_type": "markdown",
   "metadata": {},
   "source": [
    "#### 10.2.1 Dictionary Comprehension <a class=\"anchor\" id=\"dictionary-comprehension\"></a>\n",
    "\n",
    "Just like <a href=\"#list-comprehension\"><b>list comprehension</b></a>, there is also dictionary comprehension. "
   ]
  },
  {
   "cell_type": "code",
   "execution_count": null,
   "metadata": {},
   "outputs": [],
   "source": [
    "dict_comp = { (x, y) : 3*x + 4*y for x in [0..12] for y in [0..9] }; dict_comp"
   ]
  },
  {
   "cell_type": "code",
   "execution_count": null,
   "metadata": {},
   "outputs": [],
   "source": []
  },
  {
   "cell_type": "markdown",
   "metadata": {},
   "source": [
    "#### <font color=red>Exercise 48:</font> <a class=\"anchor\" id=\"exercise-48\"></a> \n",
    "\n",
    "Random walk on the graph your defined in <a href=\"#exercise-47\"><b><font color=red>Exercise 47</font></b></a>. Suppose there is a robot standing on one of the vertices of the graph you defined in <a href=\"#exercise-47\"><b><font color=red>Exercise 47</font></b></a>. Write a python function or procedure with the name `random_walk_on_a_graph` that takes a positive integer as input — which is the number of travels made by the robot on your graph — and returns a table that records the number of times the robot visited each vertex in your graph. What is the position of the robot at the $50$-th step? __Hint__: Read the help on the SageMath functions `choice` and `table`. You may need them in your code. What did you observe from the tabulated data?"
   ]
  },
  {
   "cell_type": "code",
   "execution_count": null,
   "metadata": {},
   "outputs": [],
   "source": [
    "def random_walk_on_a_graph(n):\n",
    "    \"\"\"\n",
    "    \n",
    "    \"\"\"\n",
    "    pass"
   ]
  },
  {
   "cell_type": "code",
   "execution_count": null,
   "metadata": {},
   "outputs": [],
   "source": []
  },
  {
   "cell_type": "code",
   "execution_count": null,
   "metadata": {},
   "outputs": [],
   "source": [
    "random_walk_on_a_graph(10000)"
   ]
  },
  {
   "cell_type": "code",
   "execution_count": null,
   "metadata": {},
   "outputs": [],
   "source": []
  },
  {
   "cell_type": "code",
   "execution_count": null,
   "metadata": {},
   "outputs": [],
   "source": []
  },
  {
   "cell_type": "code",
   "execution_count": null,
   "metadata": {},
   "outputs": [],
   "source": []
  }
 ],
 "metadata": {
  "kernelspec": {
   "display_name": "SageMath 8.8",
   "language": "sage",
   "name": "sagemath"
  },
  "language": "python",
  "language_info": {
   "codemirror_mode": {
    "name": "ipython",
    "version": 2
   },
   "file_extension": ".py",
   "mimetype": "text/x-python",
   "name": "python",
   "nbconvert_exporter": "python",
   "pygments_lexer": "ipython2",
   "version": "2.7.15"
  }
 },
 "nbformat": 4,
 "nbformat_minor": 2
}
