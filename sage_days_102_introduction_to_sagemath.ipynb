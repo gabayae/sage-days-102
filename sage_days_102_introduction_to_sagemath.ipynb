{
 "cells": [
  {
   "cell_type": "markdown",
   "metadata": {},
   "source": [
    "<h1 style=\"text-align: left;\"><a title=\"Sage Days 102 Workshop\" href=\"https://wiki.sagemath.org/days102\">Sage Days 102 Workshop</a>, <a title=\"University of Ibadan\" href=\"https://www.ui.edu.ng/\">University of Ibadan</a> Nigeria.</h1>\n",
    "\n",
    "\n",
    "<h2 style=\"text-align: left;\">Day 02 — Introduction to <a title=\"SageMath\"href=\"http://www.sagemath.org/\"><em>SageMath</em></a>: A Mathematics Software for All</h2>\n",
    "\n",
    "\n",
    "### Instructor: [Evans Doe Ocansey](https://risc.jku.at/m/evans-doe-ocansey/)\n",
    "\n",
    "The outline of the this notebook is as follows:"
   ]
  },
  {
   "cell_type": "markdown",
   "metadata": {},
   "source": [
    "## Table of Contents: <a class=\"anchor\" id=\"toc\"></a>\n",
    "*  [<font color=blue>What is SageMath?</font>](#what-is-sagemath)\n",
    "    *  [<font color=blue>A Brief Overview</font>](#brief-overview)\n",
    "    *  [<font color=blue>Using Other Non-Commercial Softwares</font>](#using-non-commerical-softwares)\n",
    "*  [<font color=blue>Help Inside SageMath</font>](#help-in-sagemath)\n",
    "    *  [<font color=blue>Documentation</font>](#documetation)\n",
    "    *  [<font color=blue>Tab Completion</font>](#tab-completion)\n",
    "*  [<font color=blue>Complete Access to Source Code</font>](#access-to-source-code)\n",
    "    *  [<font color=red>Exercise 1</font>](#exercise-1)\n",
    "*  [<font color=blue>Just the Basics</font>](#just-the-basics)\n",
    "    *  [<font color=blue>Sage as a Calculator</font>](#sage-as-a-calculator)\n",
    "    *  [<font color=blue>Elementary Functions and Usual Constants</font>](#elementary-functions-and-usual-constants)\n",
    "    *  [<font color=blue>Python Variables</font>](#python-variables)\n",
    "    *  [<font color=blue>Symbolic Variables</font>](#symbolic-variables)\n",
    "    *  [<font color=blue>Plotting in Brief</font>](#plotting-in-brief)\n",
    "        *  [<font color=red>Exercise 2</font>](#exercise-2)\n",
    "    *  [<font color=blue>More Than Just the Answer</font>](#more-than-just-the-answer)\n",
    "*  [<font color=blue>Algebra and Analysis</font>](#algebra-and-analysis)\n",
    "*  [<font color=blue>Object Oriented Paradigm</font>](#object-oriented-paradigm)\n",
    "    *  [<font color=red>Exercise 3</font>](#exercise-3)\n",
    "    *  [<font color=red>Exercise 4</font>](#exercise-4)\n",
    "*  [<font color=blue>Expressions and Computational Domains</font>](#exprs-and-comp-domains)\n",
    "    *  [<font color=red>Exercise 5</font>](#exercise-5)\n",
    "*  [<font color=blue>Python Programming Constructs — Revision</font>](#python-pgrm-constructs-revision)\n",
    "    *  [<font color=blue>Loops</font>](#loops)\n",
    "        *  [<font color=blue>For Loops</font>](#for-loops)\n",
    "            *  [<font color=red>Exercise 6</font>](#exercise-6)\n",
    "            *  [<font color=red>Exercise 7</font>](#exercise-7)\n",
    "        *  [<font color=blue>While Loops</font>](#while-loops)\n",
    "            *  [<font color=red>Exercise 8</font>](#exercise-8)\n",
    "            *  [<font color=red>Exercise 9</font>](#exercise-9)\n",
    "        *  [<font color=blue>Conditionals</font>](#conditionals)\n",
    "        *  [<font color=blue>Functions and Procedures</font>](#functions-and-procedures)\n",
    "            *  [<font color=red>Exercise 10</font>](#exercise-10)\n",
    "            *  [<font color=red>Exercise 11</font>](#exercise-11)\n",
    "            *  [<font color=red>Exercise 12</font>](#exercise-12)\n",
    "        *  [<font color=blue>Lambda Functions</font>](#lambda-functions)\n",
    "            *  [<font color=red>Exercise 13</font>](#exercise-13)\n",
    "        *  [<font color=blue>Recursive Functions</font>](#recursive-functions)\n",
    "            *  [<font color=red>Exercise 14</font>](#exercise-14)\n",
    "            *  [<font color=red>Exercise 15</font>](#exercise-15)\n",
    "            *  [<font color=red>Exercise 16</font>](#exercise-16)\n",
    "            *  [<font color=red>Exercise 17</font>](#exercise-17)\n",
    "*  [<font color=blue>SageMath Symbolic Expressions</font>](#sagemath-symb-exprs)\n",
    "*  [<font color=blue>Python Data Types — Revision</font>](#python-data-types-revision)\n",
    "    *  [<font color=blue>List</font>](#list)\n",
    "        *  [<font color=blue>List Methods</font>](#list-methods)\n",
    "            *  [<font color=red>Exercise 18</font>](#exercise-18)\n",
    "        *  [<font color=blue>Slicing & Modifying List Objects</font>](#slicing-and-modifying-list-objs)\n",
    "        *  [<font color=blue>Other Operations on List Objects</font>](#other-operations-on-list-objs)\n",
    "            *  [<font color=red>Exercise 19</font>](#exercise-19)\n",
    "            *  [<font color=red>Exercise 20</font>](#exercise-20)\n",
    "        *  [<font color=blue>List Comprehension</font>](#list-comprehension)\n",
    "            *  [<font color=red>Exercise 21</font>](#exercise-21)\n",
    "            *  [<font color=red>Exercise 22</font>](#exercise-22)\n",
    "    *  [<font color=blue>Tuples</font>](#tuples)\n",
    "        *  [<font color=blue>Tuple Methods</font>](#tuple-methods)\n",
    "        *  [<font color=blue>Tuple Slicing</font>](#tuple-slicing)\n",
    "            *  [<font color=red>Exercise 23</font>](#exercise-23) \n",
    "        *  [<font color=blue>Tuple Comprehension</font>](#tuple-comprehension)\n",
    "    *  [<font color=blue>Dictionaries</font>](#dictionaries)\n",
    "        *  [<font color=blue>Dictionary Methods</font>](#dictionary-methods)\n",
    "            *  [<font color=red>Exercise 24</font>](#exercise-24)\n",
    "        *  [<font color=blue>Dictionary Comprehension</font>](#dictionary-comprehension)\n",
    "            *  [<font color=red>Exercise 25</font>](#exercise-25)\n",
    "*  [<font color=blue>Graphics</font>](#graphics)\n",
    "    *  [<font color=blue>2D Graphics</font>](#2d-graphics)\n",
    "        *  [<font color=blue>Graphical Representation of a function</font>](#graphicalrepresentation-of-a-function)\n",
    "            *  [<font color=red>Exercise 26</font>](#exercise-26)\n",
    "            *  [<font color=red>Exercise 27</font>](#exercise-27)\n",
    "            *  [<font color=red>Exercise 28</font>](#exercise-28)\n",
    "            *  [<font color=red>Exercise 29</font>](#exercise-29)\n",
    "        *  [<font color=blue>Parametric Curve</font>](#parametric-curve)\n",
    "            *  [<font color=red>Exercise 30</font>](#exercise-30)\n",
    "        *  [<font color=blue>Curves in Polar Coordinates</font>](#curves-in-polar-coordinates)\n",
    "            *  [<font color=red>Exercise 31</font>](#exercise-31)\n",
    "        *  [<font color=blue>Curve Defined by an Implicit Equation</font>](#curve-defined-by-an-implicit-equation)\n",
    "            *  [<font color=red>Exercise 32</font>](#exercise-32)\n",
    "        *  [<font color=blue>Data Visualisation</font>](#data-visualisation)\n",
    "        *  [<font color=blue>Displaying Solutions of Differential Equations</font>](#displaying-solutions-of-differential-equations)\n",
    "        *  [<font color=blue>List of 2D Plotting Commands in Sage and Some Examples</font>](#list-of-2d-plotting-commands-in-sage-and-some-examples)\n",
    "    *  [<font color=blue>3D Graphics</font>](#3d-graphics)\n",
    "    *  [<font color=blue>Interact</font>](#interact)\n",
    "        *  [<font color=blue>Control Types</font>](#control-types)\n",
    "        *  [<font color=blue>Interact Competition</font>](#interact-competition)\n",
    "*  [<font color=blue>$\\TeX$ in SageMath</font>](#tex-in-sagemath)\n",
    "*  [<font color=blue>Sage Outside Jupyter Notebook</font>](#sage-outside-jupyter-notebook)\n",
    "    *  [<font color=blue>CoCalc</font>](#cocalc)\n",
    "    *  [<font color=blue>SageMath Cell Server</font>](#sagemath-cell-server)\n",
    "    *  [<font color=blue>SageMath Shell</font>](#sagemath-shell)\n",
    "    *  [<font color=blue>The Old SageNB Notebook</font>](#the-old-sagenb-notebook)\n",
    "*  [<font color=blue>SageMath Resoruces</font>](#sagemath-resources)"
   ]
  },
  {
   "cell_type": "markdown",
   "metadata": {},
   "source": [
    "## 1. What is [SageMath](http://www.sagemath.org/)? <a class=\"anchor\" id=\"what-is-sagemath\"></a>\n",
    "\n",
    "\n",
    "1.  An open source system for advanced mathematics.\n",
    "2.  An open source mathematics distribution (like Linux) with *Python* as the glue.\n",
    "3.  A tool for learning and teaching mathematics.\n",
    "4.  A tool for mathematics research.\n",
    "\n",
    "![image info](./images/sagemath-logo.png)\n",
    "\n",
    "<h4 style=\"text-align: center;\"><u>Mission Statement:</u><i> Create a viable free open source alternative to Magma, Maple, Mathematica, and Matlab.</i></h4>"
   ]
  },
  {
   "cell_type": "markdown",
   "metadata": {},
   "source": [
    "### 1.1. A Brief Overview <a class=\"anchor\" id=\"brief-overview\"></a>\n",
    "\n",
    "-   Created in 2005 by William Stein.\n",
    "-   Free and open, GPL license.\n",
    "-   Includes about 100 open source packages.\n",
    "-   Now has around 500,000+ lines of new code, by several hundred mathematician-programmers.\n",
    "\n",
    "Some of the 100 packages includes:\n",
    "\n",
    "-   [Groups, Algorithms, Programming (GAP)](https://www.gap-system.org/) - group theory\n",
    "-   [PARI](https://pari.math.u-bordeaux.fr/) - rings, finite fields, field extensions, number theory\n",
    "-   [Singular](https://www.singular.uni-kl.de/) - commutative algebra\n",
    "-   [NumPy](http://www.numpy.org/)/[SciPy](https://www.scipy.org/) - numerical linear algebra, scientific computing\n",
    "-   [Integer Matrix Library (IML)](https://cs.uwaterloo.ca/~astorjoh/iml.html) - integer, rational matrices\n",
    "-   [CVXOPT](https://cvxopt.org/) - linear programming, optimization\n",
    "-   [NetworkX](https://networkx.github.io/) - graph theory\n",
    "-   [Pynac](http://pynac.org/) - symbolic manipulation\n",
    "-   [Maxima](http://maxima.sourceforge.net/) - calculus, differential equations\n",
    "-   [R](https://www.r-project.org/) - for statistical computing\n",
    "-   [Ore Algebra](http://kauers.de/software.html) - computations with Ore operators"
   ]
  },
  {
   "cell_type": "markdown",
   "metadata": {},
   "source": [
    "### 1.2 Using Other Non-Commercial Softwares <a class=\"anchor\" id=\"using-non-commerical-softwares\"></a>\n",
    "\n",
    "As mentioned earlier, [SageMath](http://www.sagemath.org/) includes about 100 open source packages and these packages can be run separately in either a [SageMath](http://www.sagemath.org/) worksheet or in a [Jupyter](https://jupyter.org/) notebook. There are several ways one can use this. I will only demonstrate a few."
   ]
  },
  {
   "cell_type": "code",
   "execution_count": null,
   "metadata": {},
   "outputs": [],
   "source": [
    "S_8 = gap('Group( (1,2), (1,2,3,4,5,6,7,8) )'); S_8"
   ]
  },
  {
   "cell_type": "code",
   "execution_count": null,
   "metadata": {},
   "outputs": [],
   "source": [
    "%%gap\n",
    "\n",
    "S := Group( (1,2), (1,2,3,4,5,6,7,8) )"
   ]
  },
  {
   "cell_type": "code",
   "execution_count": null,
   "metadata": {},
   "outputs": [],
   "source": [
    "maxima('lsum(x^i, i, [1, 2, 7])')"
   ]
  },
  {
   "cell_type": "code",
   "execution_count": null,
   "metadata": {},
   "outputs": [],
   "source": [
    "%%maxima\n",
    "\n",
    "lsum (x^i, i, [1, 2, 7]);"
   ]
  },
  {
   "cell_type": "code",
   "execution_count": null,
   "metadata": {},
   "outputs": [],
   "source": [
    "%%python\n",
    "\n",
    "print(map(lambda x : x**2, [1,3,5])) # note the operation ** and not the same as ^ in Python but in Sage they are."
   ]
  },
  {
   "cell_type": "code",
   "execution_count": null,
   "metadata": {},
   "outputs": [],
   "source": [
    "%%singular\n",
    "\n",
    "ring R = 0,(x,y,z), lp; R;"
   ]
  },
  {
   "cell_type": "code",
   "execution_count": null,
   "metadata": {},
   "outputs": [],
   "source": [
    "%%r\n",
    "library(\"MASS\")\n",
    "data(Cars93)\n",
    "mean(Cars93$MPG.city)\n",
    "xtabs( ~ Origin + MPG.city, data=Cars93)"
   ]
  },
  {
   "cell_type": "markdown",
   "metadata": {},
   "source": [
    "## 2 Help Inside [SageMath](http://www.sagemath.org/) <a class=\"anchor\" id=\"help-in-sagemath\"></a>\n",
    "\n",
    "There are various ways to get help for doing things in [SageMath](http://www.sagemath.org/). Here are several common ways to get help as you are working in a [SageMath](http://www.sagemath.org/) worksheet or [Jupyter](https://jupyter.org/) notebook."
   ]
  },
  {
   "cell_type": "markdown",
   "metadata": {},
   "source": [
    "### 2.1 Documentation <a class=\"anchor\" id=documentation></a>\n",
    "\n",
    "[SageMath](http://www.sagemath.org/) includes extensive documentation covering thousands of functions, with many examples, tutorials, and other helps.\n",
    "\n",
    "-   One way to access these is to click the “Help” link at the top right of any worksheet. This page has lots of useful commands for the notebook. At the top it has a list of documents; you can click your preferred option at the top of the help page.\n",
    "-   They are also available any time online at the [SageMath website](http://www.sagemath.org/help.html), which has many other links, like video introductions.\n",
    "-   The [Quick Reference Cards](http://wiki.sagemath.org/quickref) are another useful tool once you get more familiar with Sage.\n",
    "\n",
    "Our main focus in this tutorial, though, is to help you get immediate access from within the [Jupyter](https://jupyter.org/) notebook, where you don’t have to do *any* of those things mentioned above."
   ]
  },
  {
   "cell_type": "markdown",
   "metadata": {},
   "source": [
    "### 2.2 Tab Completion <a class=\"anchor\" id=tab-completion></a>\n",
    "\n",
    "The most useful help available in the notebook is “*__tab completion__*”. The idea is that even if you are not one hundred percent sure of the name of a command, the first few letters should still be enough to help find it. Here’s an example.\n",
    "\n",
    "-   Suppose you want to do a specific type of plot - maybe a slope field plot - but aren’t quite sure what will do it.\n",
    "-   Still, it seems reasonable that the command might start with pl .\n",
    "-   Then one can type pl in an input cell, and then press the <kbd>Tab</kbd> key to see all the commands that start with the letters pl .\n",
    "\n",
    "Try tabbing after the pl in the following cell to see all the commands that start with the letters pl. You should see that `plot_slope_field` is one of them."
   ]
  },
  {
   "cell_type": "code",
   "execution_count": null,
   "metadata": {},
   "outputs": [],
   "source": [
    "pl"
   ]
  },
  {
   "cell_type": "code",
   "execution_count": null,
   "metadata": {},
   "outputs": [],
   "source": []
  },
  {
   "cell_type": "markdown",
   "metadata": {},
   "source": [
    "## 3 Complete Access to Source Code <a class=\"anchor\" id=\"access-to-source-code\"></a>\n",
    "\n",
    "Unlike other commercial softwares, [SageMath](http://www.sagemath.org/) gives its users a complete access to the source code. For example let's see the source code for the [SageMath](http://www.sagemath.org/) function **__is\\_square__** and **__is\\_squarefree__**. Both are in the same file. All we need to do is to type the name of the function and after that a double question mark (??) and either press <kbd>Enter</kbd> or the <kbd>Tab</kbd> key."
   ]
  },
  {
   "cell_type": "markdown",
   "metadata": {},
   "source": [
    "#### <font color=red>Exercise 1:</font> <a class=\"anchor\" id=\"exercise-1\"></a>\n",
    "\n",
    "Find the source code for the [SageMath](http://www.sagemath.org/) functions: __derivative__ and __factor__."
   ]
  },
  {
   "cell_type": "code",
   "execution_count": null,
   "metadata": {},
   "outputs": [],
   "source": []
  },
  {
   "cell_type": "code",
   "execution_count": null,
   "metadata": {},
   "outputs": [],
   "source": []
  },
  {
   "cell_type": "markdown",
   "metadata": {},
   "source": [
    "## 4 Just the Basics <a class=\"anchor\" id=\"just-the-basics\"></a>\n",
    "\n",
    "Why do we need computers for math, anyway? Hopefully by now you and I don't need help with the following computations: "
   ]
  },
  {
   "cell_type": "code",
   "execution_count": null,
   "metadata": {},
   "outputs": [],
   "source": [
    "4 + 2"
   ]
  },
  {
   "cell_type": "code",
   "execution_count": null,
   "metadata": {},
   "outputs": [],
   "source": [
    "-2^2"
   ]
  },
  {
   "cell_type": "code",
   "execution_count": null,
   "metadata": {},
   "outputs": [],
   "source": [
    "(-2)^2"
   ]
  },
  {
   "cell_type": "markdown",
   "metadata": {},
   "source": [
    "### 4.1 Sage as a Calculator <a class=\"anchor\" id=\"sage-as-a-calculator\"></a>\n",
    "\n",
    "Like every scientific calculator, [SageMath](http://www.sagemath.org/) adheres to the standard order of operations, `PEMDAS` (parenthesis, exponents, multiplication, division, addition, subtraction)."
   ]
  },
  {
   "cell_type": "code",
   "execution_count": null,
   "metadata": {},
   "outputs": [],
   "source": [
    "4 + 2 * 3 - 4 / 2"
   ]
  },
  {
   "cell_type": "markdown",
   "metadata": {},
   "source": [
    "As you maybe aware already, the character `*` stands for `multiplication`, `/` is for `division` and the `power` operation is either `**` or `^`."
   ]
  },
  {
   "cell_type": "code",
   "execution_count": null,
   "metadata": {},
   "outputs": [],
   "source": [
    "print(3**2)\n",
    "\n",
    "print(3^2)"
   ]
  },
  {
   "cell_type": "code",
   "execution_count": null,
   "metadata": {},
   "outputs": [],
   "source": [
    "40/12"
   ]
  },
  {
   "cell_type": "markdown",
   "metadata": {},
   "source": [
    "Observe that the above division, after simplification, is the rational number $\\frac{10}{3}$ and <b><font color=red>NOT</font></b> an approximation like $3.3333$. \n",
    "\n",
    "Continuing, there is no limit to the size of integers or rational numbers, unless otherwise due to the available memory of the computer in use."
   ]
  },
  {
   "cell_type": "code",
   "execution_count": null,
   "metadata": {},
   "outputs": [],
   "source": [
    "3^2000"
   ]
  },
  {
   "cell_type": "markdown",
   "metadata": {},
   "source": [
    "If for some reason, we do not want to see all the digits, we can use the numerical approximation function `numerical_approx` or `n` for short."
   ]
  },
  {
   "cell_type": "code",
   "execution_count": null,
   "metadata": {},
   "outputs": [],
   "source": [
    "numerical_approx(40/12)"
   ]
  },
  {
   "cell_type": "code",
   "execution_count": null,
   "metadata": {},
   "outputs": [],
   "source": [
    "(3^2000).n()"
   ]
  },
  {
   "cell_type": "markdown",
   "metadata": {},
   "source": [
    "Sage can compute numerical approximation of numbers to any large precision. Let us increase the precision of the rational number $\\frac{11}{7}$ to show the periodicity of its digit expansion."
   ]
  },
  {
   "cell_type": "code",
   "execution_count": null,
   "metadata": {},
   "outputs": [],
   "source": [
    "numerical_approx(11/7, digits=100)"
   ]
  },
  {
   "cell_type": "markdown",
   "metadata": {},
   "source": [
    "Can we confirm if the number of digits is really `100`? Yes we can, see the code below."
   ]
  },
  {
   "cell_type": "code",
   "execution_count": null,
   "metadata": {},
   "outputs": [],
   "source": [
    "sum(map(len, str(numerical_approx(11/7, digits=100)).split(\".\")))"
   ]
  },
  {
   "cell_type": "markdown",
   "metadata": {},
   "source": [
    "Very impressive! Do not panic if you do not understand the above code. Keep clam and relax, hopefully by the end of the session, you should be able to understand it.\n",
    "\n",
    "Continuing, the operators `//` and `%` returns the quotient and the remainder of the division of two integers respectively."
   ]
  },
  {
   "cell_type": "code",
   "execution_count": null,
   "metadata": {},
   "outputs": [],
   "source": [
    "40 // 12"
   ]
  },
  {
   "cell_type": "code",
   "execution_count": null,
   "metadata": {},
   "outputs": [],
   "source": [
    "40 % 12"
   ]
  },
  {
   "cell_type": "markdown",
   "metadata": {},
   "source": [
    "The output of the two operators `//` and `%` can also be obtained directly with the `divmod` function. "
   ]
  },
  {
   "cell_type": "code",
   "execution_count": null,
   "metadata": {},
   "outputs": [],
   "source": [
    "divmod(40, 12)"
   ]
  },
  {
   "cell_type": "markdown",
   "metadata": {},
   "source": [
    "here are several in-built functions that takes integers as inputs. Two of such functions are the `factorial` and the `binomial`."
   ]
  },
  {
   "cell_type": "code",
   "execution_count": null,
   "metadata": {},
   "outputs": [],
   "source": [
    "factorial(1000)"
   ]
  },
  {
   "cell_type": "markdown",
   "metadata": {},
   "source": [
    "Wow! That was very fast! You may not be impressed by this, but this computation took less than a second. To check it, we can either use `timeit` or `time` functions. "
   ]
  },
  {
   "cell_type": "code",
   "execution_count": null,
   "metadata": {},
   "outputs": [],
   "source": [
    "timeit(\"factorial(1000)\")"
   ]
  },
  {
   "cell_type": "code",
   "execution_count": null,
   "metadata": {},
   "outputs": [],
   "source": [
    "time(factorial(1000))"
   ]
  },
  {
   "cell_type": "markdown",
   "metadata": {},
   "source": [
    "Very impressive! If you are still not impressed, then in <a href=\"#exercise-15\"><font color=red><b>Exercise 15</b></font></a>, I ask you to write a recursive Python function that returns the factorial of any positive integer and compare the time it takes your function to compute 100! with that of Sage. \n",
    "\n",
    "The `binomial` function takes two integers. Here is an example."
   ]
  },
  {
   "cell_type": "code",
   "execution_count": null,
   "metadata": {},
   "outputs": [],
   "source": [
    "binomial(6, 3)"
   ]
  },
  {
   "cell_type": "markdown",
   "metadata": {},
   "source": [
    "We can also decompose an integer into prime factors. Let us factor the integer 1729. "
   ]
  },
  {
   "cell_type": "code",
   "execution_count": null,
   "metadata": {},
   "outputs": [],
   "source": [
    "factor(1729)"
   ]
  },
  {
   "cell_type": "markdown",
   "metadata": {},
   "source": [
    "Do you know anything about this number `1729`? It is a [taxicab number](https://simple.wikipedia.org/wiki/Taxicab_number) and there is a story behind it which goes like this: \n",
    "\n",
    "    Hardy said that it was just a boring number: 1729. Ramanujan replied that 1729 was not a boring number at all: it was a very interesting one. He explained that it was the smallest number that could be expressed by the sum of two cubes in two different ways. \n",
    "\n",
    "I also observed that the consecetive prime factors of the taxicab number $1729$ differ by $6$. ;)."
   ]
  },
  {
   "cell_type": "markdown",
   "metadata": {},
   "source": [
    "### 4.2 Elementary Functions and Usual Constants <a class=\"anchor\" id=\"elementary-functions-and-usual-constants\"></a>"
   ]
  },
  {
   "cell_type": "markdown",
   "metadata": {},
   "source": [
    "Some of the usual mathematical constant in sage includes `pi`, `e`, `golden_ratio`, `euler_gamma`, `catalan`. In other to see their real values, we will have to use Sage functions `numerical_approx` or its short form `n`. "
   ]
  },
  {
   "cell_type": "code",
   "execution_count": null,
   "metadata": {},
   "outputs": [],
   "source": [
    "pi.n()"
   ]
  },
  {
   "cell_type": "code",
   "execution_count": null,
   "metadata": {},
   "outputs": [],
   "source": [
    "numerical_approx(e, digits=10)"
   ]
  },
  {
   "cell_type": "code",
   "execution_count": null,
   "metadata": {},
   "outputs": [],
   "source": [
    "golden_ratio.n(digits=15)"
   ]
  },
  {
   "cell_type": "code",
   "execution_count": null,
   "metadata": {},
   "outputs": [],
   "source": [
    "euler_gamma.n()"
   ]
  },
  {
   "cell_type": "code",
   "execution_count": null,
   "metadata": {},
   "outputs": [],
   "source": [
    "catalan.n(digits=5)"
   ]
  },
  {
   "cell_type": "markdown",
   "metadata": {},
   "source": [
    "There are also elementary functions like: \n",
    "   - the exponential function `exp`;\n",
    "   - trigonometric functions and their inverses: `sin`, `cos`, `tan`, and `arcsin`, `arccos`, `arctan` respectively; \n",
    "   - inverse trigonometric functions and their inverses `sec`, `csc`, `cot` and `sec`, `csc`, `cot` respectively;\n",
    "   - hyperbolic functions and their inverses: `sinh`, `cosh`, `tanh`, and `arcsinh`, `arccosh`, `arctanh` respectively;\n",
    "   - iverse hyperbolic functions and their inverses: `sech`, `csch`, `coth` and `arcsech`, `arccsch`, `arccoth`  respectively;\n",
    "   \n",
    "Let's look at a few of them in action. Note that the computations here are again exact. You can also use the Sage function `numerical_approx` or its alias `n` to get their numerical approximation."
   ]
  },
  {
   "cell_type": "code",
   "execution_count": null,
   "metadata": {},
   "outputs": [],
   "source": [
    "cos(pi)"
   ]
  },
  {
   "cell_type": "code",
   "execution_count": null,
   "metadata": {},
   "outputs": [],
   "source": [
    "sin(pi/3)"
   ]
  },
  {
   "cell_type": "code",
   "execution_count": null,
   "metadata": {},
   "outputs": [],
   "source": [
    "arccos(0)"
   ]
  },
  {
   "cell_type": "code",
   "execution_count": null,
   "metadata": {},
   "outputs": [],
   "source": [
    "exp(3 * I * pi)"
   ]
  },
  {
   "cell_type": "code",
   "execution_count": null,
   "metadata": {},
   "outputs": [],
   "source": [
    "exp(oo)"
   ]
  },
  {
   "cell_type": "code",
   "execution_count": null,
   "metadata": {},
   "outputs": [],
   "source": [
    "exp(-oo)"
   ]
  },
  {
   "cell_type": "code",
   "execution_count": null,
   "metadata": {},
   "outputs": [],
   "source": [
    "arccos(sin(pi/3))"
   ]
  },
  {
   "cell_type": "code",
   "execution_count": null,
   "metadata": {},
   "outputs": [],
   "source": [
    "sqrt(2)"
   ]
  },
  {
   "cell_type": "markdown",
   "metadata": {},
   "source": [
    "As you may have observed in the previous cell, one does not always get the expected results. Indeed, only few simplifications are done by Sage automatically. If needed, it is possible to explicitly call a simplification function `simplify`."
   ]
  },
  {
   "cell_type": "code",
   "execution_count": null,
   "metadata": {},
   "outputs": [],
   "source": [
    "simplify(arccos(sin(pi/3)))"
   ]
  },
  {
   "cell_type": "markdown",
   "metadata": {},
   "source": [
    "There is more we can say explore about simplication of symbolic expression. We can talk about this later if there is time. \n",
    "\n",
    "Once agian, it is also possible to compute numerical approximations of the results, with an accuracy as large as desired"
   ]
  },
  {
   "cell_type": "code",
   "execution_count": null,
   "metadata": {},
   "outputs": [],
   "source": [
    "numerical_approx(6*arccos(sin(pi/3)), digits=1000)"
   ]
  },
  {
   "cell_type": "code",
   "execution_count": null,
   "metadata": {},
   "outputs": [],
   "source": [
    "n(sqrt(2), digits=80)"
   ]
  },
  {
   "cell_type": "code",
   "execution_count": null,
   "metadata": {},
   "outputs": [],
   "source": []
  },
  {
   "cell_type": "markdown",
   "metadata": {},
   "source": [
    "### 4.3 Python Variables <a class=\"anchor\" id=\"python-variables\"></a>\n",
    "\n",
    "So far, none of the results of our compuations have been save. So if we want to reuse any result of the previous computations, we will have to either copy and paste it or type them again. This can be very stedious. However, we can avoid all this by using the __assignment operator__, `=` to assign the result to a variable."
   ]
  },
  {
   "cell_type": "code",
   "execution_count": null,
   "metadata": {},
   "outputs": [],
   "source": [
    "y = 2 * sin(pi/3) "
   ]
  },
  {
   "cell_type": "markdown",
   "metadata": {},
   "source": [
    "`y` is a Python variable. Note that in general, the result of a computation is not automatically printed when it is assigned to a variable. In other to print the content of a varible in the same cell it is assigned, we will have to do the following."
   ]
  },
  {
   "cell_type": "code",
   "execution_count": null,
   "metadata": {},
   "outputs": [],
   "source": [
    "y = 2 * sin(pi/3); y"
   ]
  },
  {
   "cell_type": "markdown",
   "metadata": {},
   "source": [
    "To reuse later, we only have to type `y`."
   ]
  },
  {
   "cell_type": "code",
   "execution_count": null,
   "metadata": {},
   "outputs": [],
   "source": [
    "(y + sqrt(2)) * 1/y"
   ]
  },
  {
   "cell_type": "markdown",
   "metadata": {},
   "source": [
    "Additionally, Sage saves the last three results in the special variables `_`, `__` and `___`:"
   ]
  },
  {
   "cell_type": "code",
   "execution_count": null,
   "metadata": {},
   "outputs": [],
   "source": [
    "2 * sin(pi/3)"
   ]
  },
  {
   "cell_type": "code",
   "execution_count": null,
   "metadata": {},
   "outputs": [],
   "source": [
    "(_ + sqrt(2)) * 1/_"
   ]
  },
  {
   "cell_type": "code",
   "execution_count": null,
   "metadata": {},
   "outputs": [],
   "source": [
    "_ * __"
   ]
  },
  {
   "cell_type": "code",
   "execution_count": null,
   "metadata": {},
   "outputs": [],
   "source": [
    "___ - _ * __"
   ]
  },
  {
   "cell_type": "markdown",
   "metadata": {},
   "source": [
    "You already know from the Programming with Python lectures that you should avoid using keywords as variables. It is a bad practise to redefine predefined constants and functions in Sage. Although doing this does not influence the internal behaviour of Sage, it could yield surprising results."
   ]
  },
  {
   "cell_type": "code",
   "execution_count": null,
   "metadata": {},
   "outputs": [],
   "source": [
    "len = 3; len"
   ]
  },
  {
   "cell_type": "code",
   "execution_count": null,
   "metadata": {},
   "outputs": [],
   "source": [
    "len([3,3])"
   ]
  },
  {
   "cell_type": "code",
   "execution_count": null,
   "metadata": {},
   "outputs": [],
   "source": [
    "pi = -I/3; pi"
   ]
  },
  {
   "cell_type": "code",
   "execution_count": null,
   "metadata": {},
   "outputs": [],
   "source": [
    "exp(3*I*pi)"
   ]
  },
  {
   "cell_type": "markdown",
   "metadata": {},
   "source": [
    "To restore the original value, one can type for example:"
   ]
  },
  {
   "cell_type": "code",
   "execution_count": null,
   "metadata": {},
   "outputs": [],
   "source": [
    "from sage.all import pi"
   ]
  },
  {
   "cell_type": "markdown",
   "metadata": {},
   "source": [
    "Let's check if this corrects our previous computation."
   ]
  },
  {
   "cell_type": "code",
   "execution_count": null,
   "metadata": {},
   "outputs": [],
   "source": [
    "exp(3*I*pi)"
   ]
  },
  {
   "cell_type": "markdown",
   "metadata": {},
   "source": [
    "Alternatively, you can also call the `restore()` function. Doing this will restore all predefined variables and functions to their default values. Let us try this on the previous example."
   ]
  },
  {
   "cell_type": "code",
   "execution_count": null,
   "metadata": {},
   "outputs": [],
   "source": [
    "pi = -I/3; pi"
   ]
  },
  {
   "cell_type": "code",
   "execution_count": null,
   "metadata": {},
   "outputs": [],
   "source": [
    "exp(3*I*pi)"
   ]
  },
  {
   "cell_type": "code",
   "execution_count": null,
   "metadata": {},
   "outputs": [],
   "source": [
    "restore()"
   ]
  },
  {
   "cell_type": "code",
   "execution_count": null,
   "metadata": {},
   "outputs": [],
   "source": [
    "exp(3*I*pi)"
   ]
  },
  {
   "cell_type": "markdown",
   "metadata": {},
   "source": [
    "But this does not correct the Python function `len`. Let us try to find the length of the list object `[1,3,5]`."
   ]
  },
  {
   "cell_type": "code",
   "execution_count": null,
   "metadata": {},
   "outputs": [],
   "source": [
    "len([1,3,5])"
   ]
  },
  {
   "cell_type": "markdown",
   "metadata": {},
   "source": [
    "To correct this you will have to call the function `reset()`. However it is importatnt to note that calling `reset()` does a complete reset. That is, it clears all user-defined variables. Let's call `reset()` to reset the Python function `len` to its default definition and test it by finding the length of the list object `[1,3,5]`"
   ]
  },
  {
   "cell_type": "code",
   "execution_count": null,
   "metadata": {},
   "outputs": [],
   "source": [
    "reset()"
   ]
  },
  {
   "cell_type": "code",
   "execution_count": null,
   "metadata": {},
   "outputs": [],
   "source": [
    "len([1,3,5])"
   ]
  },
  {
   "cell_type": "code",
   "execution_count": null,
   "metadata": {},
   "outputs": [],
   "source": []
  },
  {
   "cell_type": "markdown",
   "metadata": {},
   "source": [
    "### 4.4 Symbolic Variables <a class=\"anchor\" id=\"symbolic-variables\"></a>\n",
    "\n",
    "Sage is especially useful in dealing with expressions containing variables like $x^{2} - y^{2}\\,z^{2} + z^{3}$ or $\\sin^{3}(x) - 2\\,\\cos^{2}(x) + \\sin(x) - 1$. These are the kind of expressions that mathematicians and physicists are used to. The variables $x$, $y$, and $z$ that appear in those expressions are symbolic variables. In general, they differ from the Python variables discussed in the previous section. In Sage, The symbolic variables should be explicitly declared before being used except for the symbolic variable x which is already defined. To declare a symbolic variable, we do the following: "
   ]
  },
  {
   "cell_type": "code",
   "execution_count": null,
   "metadata": {},
   "outputs": [],
   "source": [
    "y = SR.var('y'); y"
   ]
  },
  {
   "cell_type": "markdown",
   "metadata": {},
   "source": [
    "We can also use  double quote instead of single quote. That is "
   ]
  },
  {
   "cell_type": "code",
   "execution_count": null,
   "metadata": {},
   "outputs": [],
   "source": [
    "y = SR.var(\"y\"); y"
   ]
  },
  {
   "cell_type": "markdown",
   "metadata": {},
   "source": [
    "The $\\texttt{SR}$ here stands for $\\texttt{Symbolic Ring}$. Let me briefly explain what exactly is happening in the commands just above. The command `SR.var('y)` or `SR.var(\"y\")` builds and returns a symbolic variable which is then assigned to the Python variable `y` on the left hand side. Note that we could have use any other name for the Python variable instead of `y`. That is, we could also have done "
   ]
  },
  {
   "cell_type": "code",
   "execution_count": null,
   "metadata": {},
   "outputs": [],
   "source": [
    "z = SR.var(\"y\"); z"
   ]
  },
  {
   "cell_type": "markdown",
   "metadata": {},
   "source": [
    "Thus, assigning the symbolic variable $y$ to the Python variable `y` is just a convention, which is however recommended to avoid confusion. Let us see if the Python variables y and z are the same in memory. "
   ]
  },
  {
   "cell_type": "code",
   "execution_count": null,
   "metadata": {
    "scrolled": true
   },
   "outputs": [],
   "source": [
    "id(y) == id(z)"
   ]
  },
  {
   "cell_type": "markdown",
   "metadata": {},
   "source": [
    "Now that we have the symbolic variable $y$ saved in the Python variables `y` or `z`, we can use it to build more complex symbolic expressions. "
   ]
  },
  {
   "cell_type": "code",
   "execution_count": null,
   "metadata": {},
   "outputs": [],
   "source": [
    "y^(2/3)+ 4*y^2 + sin(y*pi)"
   ]
  },
  {
   "cell_type": "code",
   "execution_count": null,
   "metadata": {},
   "outputs": [],
   "source": [
    "z^(3/2)+ 6*z^(1/2) + exp(z*pi)"
   ]
  },
  {
   "cell_type": "markdown",
   "metadata": {},
   "source": [
    "Here is something important to note: The Python variables `y` or `z` does not interact with the symbolic variable $y$. Here is what I mean: Let's build a complex expression with the symbolic variable $y$ and assign it to a Python variable. Here, I choose to call my Python variable `my_expr`. "
   ]
  },
  {
   "cell_type": "code",
   "execution_count": null,
   "metadata": {},
   "outputs": [],
   "source": [
    "my_expr = y + 3; my_expr"
   ]
  },
  {
   "cell_type": "markdown",
   "metadata": {},
   "source": [
    "Now let's assign the Python variable `z` to 1."
   ]
  },
  {
   "cell_type": "code",
   "execution_count": null,
   "metadata": {},
   "outputs": [],
   "source": [
    "z = 1; z"
   ]
  },
  {
   "cell_type": "markdown",
   "metadata": {},
   "source": [
    "What do you think the value of the expression `my_expr` is?"
   ]
  },
  {
   "cell_type": "code",
   "execution_count": null,
   "metadata": {},
   "outputs": [],
   "source": [
    "my_expr"
   ]
  },
  {
   "cell_type": "markdown",
   "metadata": {},
   "source": [
    "You may be surprised at the result of the last cell. Perhaps you taught it should return `4` right? But if this is the case, how can we evaluate any symbolic expression for example the symbolic expression assigned to the Python variable `my_expr`? In other to do this, we use the `substitution` operation."
   ]
  },
  {
   "cell_type": "code",
   "execution_count": null,
   "metadata": {},
   "outputs": [],
   "source": [
    "my_expr(1)"
   ]
  },
  {
   "cell_type": "code",
   "execution_count": null,
   "metadata": {},
   "outputs": [],
   "source": [
    "my_expr(y=1)"
   ]
  },
  {
   "cell_type": "markdown",
   "metadata": {},
   "source": [
    "There is more I can say about the `substitution` operation but I will do this later in some the next chapter. \n",
    "\n",
    "Continuing, what if you would like to create a large number of symbolic variables. This can be tedious as you may think. However, you can use the shortcut `x = SR.var(x, n)` where `n` a positive number which is the number of symbolic variables you would like to create. Note that the indexing starts from $0$. Let us create the symblic variables $t_{0}, t_{1}, \\dots, t_{199}$."
   ]
  },
  {
   "cell_type": "code",
   "execution_count": null,
   "metadata": {},
   "outputs": [],
   "source": [
    "t = SR.var(\"t\", 200); # This creates a tuple of 200 symbolic variables."
   ]
  },
  {
   "cell_type": "code",
   "execution_count": null,
   "metadata": {},
   "outputs": [],
   "source": [
    "(t[0]^3 + t[4]) * t[199]"
   ]
  },
  {
   "cell_type": "markdown",
   "metadata": {},
   "source": [
    "Throughout this notebook, I will use the command `z = var('z')` or `z = var(\"z\")` as a convenient alternative for the command `z = SR.var('z')` or `z = SR.var(\"z\")` respectively. "
   ]
  },
  {
   "cell_type": "code",
   "execution_count": null,
   "metadata": {},
   "outputs": [],
   "source": [
    "var(\"a, b, c, w, x, y, z\")"
   ]
  },
  {
   "cell_type": "code",
   "execution_count": null,
   "metadata": {},
   "outputs": [],
   "source": [
    "a * x + b * y - c * z + w"
   ]
  },
  {
   "cell_type": "markdown",
   "metadata": {},
   "source": [
    "In other computer algebra systems like `Maple`, `Mathematica` or `Maxima`, one does not declare symbolic variables before using them. As you have seen already in this section, this is not so with Sage. However, when one uses the old SageNB notebook interface which I discuss briefly in <a href=\"#the-old-sagenb-notebook\">Section 12.4</a> of this notebook, with the command, `automatic_names(True)` one can make Sage behave like the computer algebra systems I mentioned earlier. That is, one can decide not to declare symbolic variables before using them and Sage will not complain. However, this do not work when one uses the Jupyter notebook. But it does mean that it can not be done. In fact, if you are able to this, you will be improving on Sage and maybe you will become famous. Therefore, I propose this exercise which is a project in itself."
   ]
  },
  {
   "cell_type": "markdown",
   "metadata": {},
   "source": [
    "####  <font color=red>Exercise 2:</font> <a class=\"anchor\" id=\"exercise-2\"></a>\n",
    "\n",
    "Build a Sage package so that if `automatic_names(True)` when one is running Sage in the Jupyter notebook, makes Sage works like the old SageNB notebook or like the computer algebra `Maple`, `Mathematica` or `Maxima`."
   ]
  },
  {
   "cell_type": "code",
   "execution_count": null,
   "metadata": {},
   "outputs": [],
   "source": []
  },
  {
   "cell_type": "markdown",
   "metadata": {},
   "source": [
    "### 4.5 Plotting in Brief <a class=\"anchor\" id=\"plotting-in-brief\"></a>\n",
    "\n",
    "\n",
    "Sage is not only useful in dealing with symbolic expressions but also with plotting. There are lots of plotting commands in Sage. I will mention only two of them. Namely `plot` and `plot3d`. The `plot` command makes it easy to draw the curve of a real function on a given interval and the `plot3d` command is its counterpart for three-dimensional graphics, or for the graph of a real function of two variables. Here are examples of those two commands:"
   ]
  },
  {
   "cell_type": "code",
   "execution_count": null,
   "metadata": {},
   "outputs": [],
   "source": [
    "plot(cos(sqrt(2) * x), x, -pi, pi)"
   ]
  },
  {
   "cell_type": "code",
   "execution_count": null,
   "metadata": {},
   "outputs": [],
   "source": [
    "plot3d(cos(pi*sqrt(x^2 + y^2))/sqrt(x^2+y^2),(x,-5,5), (y,-5,5))"
   ]
  },
  {
   "cell_type": "markdown",
   "metadata": {},
   "source": [
    "In <a href=\"#graphics\"><b>Section 10</b></a> we expore more on plotting and a very cool feature in Sage for plotting called `interact`."
   ]
  },
  {
   "cell_type": "code",
   "execution_count": null,
   "metadata": {},
   "outputs": [],
   "source": []
  },
  {
   "cell_type": "markdown",
   "metadata": {},
   "source": [
    "## 5 Algebra and Analysis <a class=\"anchor\" id=\"algebra-and-analysis\"></a>"
   ]
  },
  {
   "cell_type": "markdown",
   "metadata": {},
   "source": [
    "In this chapter, we will use simple examples to describe the useful basic functions in analysis and algebra. The mathematics behind most of these functions should be familiar to you so I will assume that you know these already. The main here is how one can do these in Sage. The sections that I have marked with asterisk might be advanced for some of you. If this applies to you then you may want to skip these sections. This section is also to prepare you for some of the things Yae will talk about either Wednesday or Thursday."
   ]
  },
  {
   "cell_type": "markdown",
   "metadata": {},
   "source": [
    "### 5.1 Symbolic Expressions\n",
    "\n",
    "A $\\textsf{symbolic expression}$ is an expression formed with numbers, symbolic variables, the four basic operations, and usual elementary functions like `sqrt`, `exp`, `log`, `sin`, `cos`, `tan` etc. For example"
   ]
  },
  {
   "cell_type": "code",
   "execution_count": null,
   "metadata": {},
   "outputs": [],
   "source": [
    "y = var(\"y\");\n",
    "\n",
    "f = arctan(1+abs(y)); f"
   ]
  },
  {
   "cell_type": "code",
   "execution_count": null,
   "metadata": {},
   "outputs": [],
   "source": [
    "g = pi/2 - arctan(1/(1+abs(y))); g"
   ]
  },
  {
   "cell_type": "markdown",
   "metadata": {},
   "source": [
    "Using Sage one gets access to a wide range of analytic computations on symbolic expressions. It is important to understand that a symbolic expression is a `formula` and <font color=red><b>NOT</b></font> a value or a mathematical function. Although two symbolic expressions are equal when they appear to humans, this might not be so for Sage immediately. Here is an example. The two functions, \n",
    "\n",
    "$$f = \\arctan(|y|+1) \\qquad \\text{ and } \\qquad g = \\frac{\\pi}{2} - \\arctan\\left(\\frac{1}{{\\left| y \\right|} + 1}\\right)$$ \n",
    "\n",
    "are actually the same however, Sage does not see this immediately. "
   ]
  },
  {
   "cell_type": "code",
   "execution_count": null,
   "metadata": {},
   "outputs": [],
   "source": [
    "bool(f == g)"
   ]
  },
  {
   "cell_type": "markdown",
   "metadata": {},
   "source": [
    "A symbolic expression can also be seen as a tree like structure. Let us demonstrate this on the board using these two symbolic expressions \n",
    "\n",
    "$$x^{2} + 3\\,x + 2 \\qquad \\text{ and } \\qquad (x+1)\\,(x+2).$$\n",
    "\n",
    "Note that this is just for demonstration for you to understand and I do not claim that Sage does not recognise immediately that the two symbolic expressions above are not the same, because it actually does."
   ]
  },
  {
   "cell_type": "code",
   "execution_count": 52,
   "metadata": {},
   "outputs": [
    {
     "data": {
      "text/plain": [
       "True"
      ]
     },
     "execution_count": 52,
     "metadata": {},
     "output_type": "execute_result"
    }
   ],
   "source": [
    "bool(x^2+3*x+2 == (x+1)*(x+2))"
   ]
  },
  {
   "cell_type": "markdown",
   "metadata": {},
   "source": [
    "Evaluation is the most common operation of a symbolic expression. It is done by giving a value to some of the parameters of the symbolic expression. In Sage, one can achieve this with either the `substitute` or the `subs` method."
   ]
  },
  {
   "cell_type": "code",
   "execution_count": 98,
   "metadata": {},
   "outputs": [
    {
     "data": {
      "text/plain": [
       "(x + 1)*cos(a + x)"
      ]
     },
     "execution_count": 98,
     "metadata": {},
     "output_type": "execute_result"
    }
   ],
   "source": [
    "a, x = var(\"a, x\"); y = cos(x+a) * (x+1); y"
   ]
  },
  {
   "cell_type": "code",
   "execution_count": 99,
   "metadata": {},
   "outputs": [
    {
     "data": {
      "text/plain": [
       "x + 1"
      ]
     },
     "execution_count": 99,
     "metadata": {},
     "output_type": "execute_result"
    }
   ],
   "source": [
    "y.subs(a=-x)"
   ]
  },
  {
   "cell_type": "code",
   "execution_count": 100,
   "metadata": {},
   "outputs": [
    {
     "data": {
      "text/plain": [
       "x + 1"
      ]
     },
     "execution_count": 100,
     "metadata": {},
     "output_type": "execute_result"
    }
   ],
   "source": [
    "y.substitute(a=-x)"
   ]
  },
  {
   "cell_type": "code",
   "execution_count": 84,
   "metadata": {},
   "outputs": [
    {
     "data": {
      "text/plain": [
       "-1/4*sqrt(3)*(pi + 2)"
      ]
     },
     "execution_count": 84,
     "metadata": {},
     "output_type": "execute_result"
    }
   ],
   "source": [
    "y.subs(x=pi/2, a=pi/3)"
   ]
  },
  {
   "cell_type": "code",
   "execution_count": 85,
   "metadata": {},
   "outputs": [
    {
     "data": {
      "text/plain": [
       "-1.41333351100299"
      ]
     },
     "execution_count": 85,
     "metadata": {},
     "output_type": "execute_result"
    }
   ],
   "source": [
    "y.subs(x=0.5, a=2.3)"
   ]
  },
  {
   "cell_type": "markdown",
   "metadata": {},
   "source": [
    "Compared to the usual mathematical notation $x \\mapsto f(x)$, the variable which is substituted must be explicitly given. The substitution of several parameters is done in parallel, while successive substitutions are performed in sequence, as shown by the two examples below:"
   ]
  },
  {
   "cell_type": "code",
   "execution_count": 54,
   "metadata": {},
   "outputs": [],
   "source": [
    "f = cos(x)^6 + sin(x)^6 + 3 * sin(x)^2 * cos(x)^2"
   ]
  },
  {
   "cell_type": "code",
   "execution_count": 103,
   "metadata": {},
   "outputs": [
    {
     "data": {
      "text/html": [
       "<html><script type=\"math/tex; mode=display\">\\newcommand{\\Bold}[1]{\\mathbf{#1}}x y + x z + y z</script></html>"
      ],
      "text/plain": [
       "x*y + x*z + y*z"
      ]
     },
     "metadata": {},
     "output_type": "display_data"
    }
   ],
   "source": [
    "x, y, z = var(\"x, y, z\") ; q = x*y + y*z + z*x; show(q)"
   ]
  },
  {
   "cell_type": "code",
   "execution_count": 89,
   "metadata": {},
   "outputs": [
    {
     "data": {
      "text/plain": [
       "True"
      ]
     },
     "execution_count": 89,
     "metadata": {},
     "output_type": "execute_result"
    }
   ],
   "source": [
    "bool(q(x=y, y=z, z=x) == q)"
   ]
  },
  {
   "cell_type": "code",
   "execution_count": 90,
   "metadata": {},
   "outputs": [
    {
     "data": {
      "text/plain": [
       "True"
      ]
     },
     "execution_count": 90,
     "metadata": {},
     "output_type": "execute_result"
    }
   ],
   "source": [
    "bool(q(z=y)(y=x) == 3*x^2)"
   ]
  },
  {
   "cell_type": "markdown",
   "metadata": {},
   "source": [
    "We can also replace an expression with a more complex variable than a single variable"
   ]
  },
  {
   "cell_type": "code",
   "execution_count": 104,
   "metadata": {},
   "outputs": [
    {
     "data": {
      "text/html": [
       "<html><script type=\"math/tex; mode=display\">\\newcommand{\\Bold}[1]{\\mathbf{#1}}x^{3} + y^{2} + z</script></html>"
      ],
      "text/plain": [
       "x^3 + y^2 + z"
      ]
     },
     "metadata": {},
     "output_type": "display_data"
    }
   ],
   "source": [
    "y, z = var('y, z'); f = x^3 + y^2 + z; show(f)"
   ]
  },
  {
   "cell_type": "code",
   "execution_count": 105,
   "metadata": {},
   "outputs": [
    {
     "data": {
      "text/plain": [
       "2*y^2 + 1"
      ]
     },
     "execution_count": 105,
     "metadata": {},
     "output_type": "execute_result"
    }
   ],
   "source": [
    "f.substitute(x^3 == y^2, z==1)"
   ]
  },
  {
   "cell_type": "code",
   "execution_count": 106,
   "metadata": {},
   "outputs": [
    {
     "data": {
      "text/plain": [
       "2*y^2 + 1"
      ]
     },
     "execution_count": 106,
     "metadata": {},
     "output_type": "execute_result"
    }
   ],
   "source": [
    "f.subs(x^3 == y^2, z==1)"
   ]
  },
  {
   "cell_type": "code",
   "execution_count": null,
   "metadata": {},
   "outputs": [],
   "source": []
  },
  {
   "cell_type": "markdown",
   "metadata": {},
   "source": [
    "### 5.1.2 Transforming Expressions\n",
    "\n",
    "Polynomials and rational functions of one or more variables are the simplest non-constant symbolic expressions. Some of the methods that allows one to rewrite expressions in several forms or to put them in their normal forms in Sage include: \n",
    "\n",
    "   - `expand`\n",
    "   - `collect`\n",
    "   - `factor`\n",
    "   - `factor_list`\n",
    "   - `simplify_rational`\n",
    "   - `combine`\n",
    "   - `partial_fraction`"
   ]
  },
  {
   "cell_type": "markdown",
   "metadata": {},
   "source": [
    "####  <font color=red>Exercise 3:</font> <a class=\"anchor\" id=\"exercise-3\"></a>\n",
    "\n",
    "Given the following symbolic expressions\n",
    "\n",
    "   - $f = z\\,x^2 + x^2-(x^2 + y^2)\\,(a\\,x − 2\\,b\\,y) + z\\,y^2 + y^2$;\n",
    "   \n",
    "   - $g = \\frac{x^{3}+x^{2}\\,y+3\\,x^{2}+3\\,x\\,y+2\\,x+2\\,y}{x^{3} + 2\\,x^{2} + x\\,y + 2\\,y}$;\n",
    "   \n",
    "   - $h = \\frac{(x-1)\\,x}{x^{2}-7} + \\frac{y^{2}}{x^{2}-7} + \\frac{b}{a} + \\frac{c}{a} + \\frac{1}{x+1}$;\n",
    "   \n",
    "   - $p = \\frac{1}{(x^{3}+1)\\,y^{2}}$.\n",
    "   \n",
    "Among the list of methods mentioned above, apply them to these expressions where necessary to either rewrite them in a different form or in their normal forms. __Hint__: Read the help documentation of all these methods and try your has on a few before you begin to answer the question. "
   ]
  },
  {
   "cell_type": "code",
   "execution_count": null,
   "metadata": {},
   "outputs": [],
   "source": []
  },
  {
   "cell_type": "code",
   "execution_count": null,
   "metadata": {},
   "outputs": [],
   "source": []
  },
  {
   "cell_type": "markdown",
   "metadata": {},
   "source": [
    "### Analysis\n",
    "\n",
    "In this section, I will give a quick introduction of useful functions in real analysis. There are more advanced topics that one can delve into. Hopefully this should give you some of the basics."
   ]
  },
  {
   "cell_type": "markdown",
   "metadata": {},
   "source": [
    "#### Sums"
   ]
  },
  {
   "cell_type": "markdown",
   "metadata": {},
   "source": [
    "#### Limits"
   ]
  },
  {
   "cell_type": "markdown",
   "metadata": {},
   "source": [
    "#### Sequences"
   ]
  },
  {
   "cell_type": "markdown",
   "metadata": {},
   "source": [
    "#### Power Series Expansions *"
   ]
  },
  {
   "cell_type": "markdown",
   "metadata": {},
   "source": [
    "#### Series *"
   ]
  },
  {
   "cell_type": "markdown",
   "metadata": {},
   "source": [
    "#### Derivatives "
   ]
  },
  {
   "cell_type": "markdown",
   "metadata": {},
   "source": [
    "#### Partial Derivatives *"
   ]
  },
  {
   "cell_type": "markdown",
   "metadata": {},
   "source": [
    "#### Integrals"
   ]
  },
  {
   "cell_type": "markdown",
   "metadata": {},
   "source": [
    "### Basic Linear Algebra"
   ]
  },
  {
   "cell_type": "code",
   "execution_count": null,
   "metadata": {},
   "outputs": [],
   "source": []
  },
  {
   "cell_type": "code",
   "execution_count": null,
   "metadata": {},
   "outputs": [],
   "source": []
  },
  {
   "cell_type": "code",
   "execution_count": null,
   "metadata": {},
   "outputs": [],
   "source": []
  },
  {
   "cell_type": "code",
   "execution_count": null,
   "metadata": {},
   "outputs": [],
   "source": []
  },
  {
   "cell_type": "markdown",
   "metadata": {},
   "source": [
    "## 6 Object Oriented Paradigm <a class=\"anchor\" id=object-oriented-paradigm></a>\n",
    "\n",
    "The object-oriented programming paradigm consists in modelling each physical or abstract entity one wishes to manipulate by a programming language construction called an *object* . In most cases, as in Python, each object is an instance of a *class* . For example, the rational number $\\frac{17}{35}$ is represented by an object which is an instance of the $\\texttt{Rational}$ class:"
   ]
  },
  {
   "cell_type": "code",
   "execution_count": null,
   "metadata": {},
   "outputs": [],
   "source": []
  },
  {
   "cell_type": "code",
   "execution_count": null,
   "metadata": {},
   "outputs": [],
   "source": [
    "rat_num = 17/35"
   ]
  },
  {
   "cell_type": "code",
   "execution_count": null,
   "metadata": {},
   "outputs": [],
   "source": [
    "type(rat_num)"
   ]
  },
  {
   "cell_type": "markdown",
   "metadata": {},
   "source": [
    "Note that this class is really associated to the object $\\frac{17}{35}$, and NOT to the *variable* rat\\_num in which it is stored. The object $\\frac{17}{35}$ is the value of the variable rat\\_num. In other words, rat\\_num is a container that contains the object $\\frac{17}{35}$."
   ]
  },
  {
   "cell_type": "code",
   "execution_count": null,
   "metadata": {},
   "outputs": [],
   "source": [
    "type(17/35)"
   ]
  },
  {
   "cell_type": "markdown",
   "metadata": {},
   "source": [
    "More precisely, an object is a part of the computer memory which stores the required information to represent the corresponding entity. Thus a class in turn defines two things:\n",
    "\n",
    "1.  the *data structure* of an object, i.e., how the information is organised in memory. For example, the Rational class specifies that a rational number like $\\frac{17}{37}$ is represented by two integers: its numerator and its denominator\n",
    "2.  its *behaviour* , in particular the available *operations* on this object: how to obtain the numerator of a rational number, how to compute its absolute value, how to multiply or add two rational numbers. Each of these operations is implemented by a method (here respectively numer, abs, \\_\\_mult\\_\\_, \\_\\_add\\_\\_ )\n",
    "\n",
    "In [Sage](http://www.sagemath.org/), when we instantiate an object and assign it a variable, we can have access to all methods or operations which are available for object. All we need to do is to type the name given to the object in memory, i.e., the variable assigned to the object, then enter the period sign and then press the tab key. As an example, let's see the methods available for the object $\\frac{17}{35}$ assigned to the variable rat\\_num."
   ]
  },
  {
   "cell_type": "code",
   "execution_count": null,
   "metadata": {},
   "outputs": [],
   "source": [
    "rat_num.factor()"
   ]
  },
  {
   "cell_type": "code",
   "execution_count": null,
   "metadata": {},
   "outputs": [],
   "source": [
    "show(rat_num.factor()) #show makes the output nicer."
   ]
  },
  {
   "cell_type": "markdown",
   "metadata": {},
   "source": [
    "####  <font color=red>Exercise 3:</font> <a class=\"anchor\" id=\"exercise-3\"></a>\n",
    "\n",
    "Create a $4 \\times 4$ matrix space over the polynomial ring $\\mathbb{F}_{5}[x]$ and pick one of the check the methods that are available to an element in this space."
   ]
  },
  {
   "cell_type": "code",
   "execution_count": null,
   "metadata": {},
   "outputs": [],
   "source": []
  },
  {
   "cell_type": "code",
   "execution_count": null,
   "metadata": {},
   "outputs": [],
   "source": []
  },
  {
   "cell_type": "markdown",
   "metadata": {},
   "source": [
    "####  <font color=red>Exercise 4:</font> <a class=\"anchor\" id=\"exercise-4\"></a>\n",
    "\n",
    "Construct a $4\\times 4$ matrix space over the polynomial ring $\\mathbb{Q}(\\sqrt{-5})[x]$. **Hint:** Check the help for NumberField or QuadraticField."
   ]
  },
  {
   "cell_type": "code",
   "execution_count": null,
   "metadata": {},
   "outputs": [],
   "source": []
  },
  {
   "cell_type": "markdown",
   "metadata": {},
   "source": [
    "Here is an alternative solution to <a href=\"#exercise-4\"><b><font color=\"red\">Exercise 4</font></b></a>."
   ]
  },
  {
   "cell_type": "code",
   "execution_count": null,
   "metadata": {},
   "outputs": [],
   "source": []
  },
  {
   "cell_type": "code",
   "execution_count": null,
   "metadata": {},
   "outputs": [],
   "source": []
  },
  {
   "cell_type": "markdown",
   "metadata": {},
   "source": [
    "## 7 Expressions and Computational Domains <a class=\"anchor\" id=\"exprs-and-comp-domains\"> </a>\n",
    "\n",
    "Some computer algebra systems require the user to always specify the domain in which he or she wants to work. [Sage](http://www.sagemath.org/) in some sense does this for you. It has a ring called *Symbolic Ring* whose elements are symbolic expressions. This ring is a computational domain. It is denoted by $\\texttt{SR}$. Any expression that we define lives in this ring unless otherwise, we specify the domain it should live in. In [Sage](http://www.sagemath.org/), the symbolic expression or variable, $x$ is already defined for us for free. There are other computational domains as well like integers, rationals, floating points polynomial rings, etc as you may have observed in previous problem. Let us consider the factorisation of the following expression:"
   ]
  },
  {
   "cell_type": "code",
   "execution_count": null,
   "metadata": {},
   "outputs": [],
   "source": [
    "x = SR.var('x')                           # Creates a symbolic expression x and assigns it to the variable x.\n",
    "sym_expr = 54*x^4+36*x^3-102*x^2-72*x-12  # Sage considers this as a symbolic expression which we humans sees it as a polynomial.\n",
    "show(factor(sym_expr))                    # Factor sym_expr over the SR domain."
   ]
  },
  {
   "cell_type": "markdown",
   "metadata": {},
   "source": [
    "We can check the mathematical set or domian that value of the variable `sym_expr` belongs to with the Sage command parent."
   ]
  },
  {
   "cell_type": "code",
   "execution_count": null,
   "metadata": {},
   "outputs": [],
   "source": [
    "parent(sym_expr)"
   ]
  },
  {
   "cell_type": "markdown",
   "metadata": {},
   "source": [
    "[Sage](http://www.sagemath.org/) does not know if we wish to factor the value of the variable `sym_expr` as a product of polynomials with integer coefficients, or with rational coefficients. In order for [Sage](http://www.sagemath.org/) to do this, we will have to specify which mathematical set or domain the value of the variable `sym_expr` lives. Say for instance, if the value of the variable `sym_expr` lives in the ring of polynomials over the integers, namely $\\mathbb{Z}[x]$, then we will first have create this domain by doing one of the following."
   ]
  },
  {
   "cell_type": "code",
   "execution_count": null,
   "metadata": {},
   "outputs": [],
   "source": [
    "ZZx = PolynomialRing(ZZ,'x'); show(ZZx)"
   ]
  },
  {
   "cell_type": "markdown",
   "metadata": {},
   "source": [
    "or as you may have observed in second solution to problem in <a href=\"#exercise-3\"><b><font color=red>Exercise 3</font></b></a>"
   ]
  },
  {
   "cell_type": "code",
   "execution_count": null,
   "metadata": {},
   "outputs": [],
   "source": [
    "ZZx = ZZ['x']; show(ZZx)"
   ]
  },
  {
   "cell_type": "code",
   "execution_count": null,
   "metadata": {},
   "outputs": [],
   "source": [
    "ZZx.random_element?"
   ]
  },
  {
   "cell_type": "markdown",
   "metadata": {},
   "source": [
    "Now we pass the value of the variable sym\\_expr as an argument to the value of the variable ZZx which is a mathematical domain, namely the set of polynomials with coefficients in $\\mathbb{Z}$."
   ]
  },
  {
   "cell_type": "code",
   "execution_count": null,
   "metadata": {},
   "outputs": [],
   "source": [
    "int_poly = ZZx(sym_expr); show(poly)"
   ]
  },
  {
   "cell_type": "markdown",
   "metadata": {},
   "source": [
    "As a consequence, its factorisation is uniquely defined:"
   ]
  },
  {
   "cell_type": "code",
   "execution_count": null,
   "metadata": {},
   "outputs": [],
   "source": [
    "show(int_poly.factor())"
   ]
  },
  {
   "cell_type": "markdown",
   "metadata": {},
   "source": [
    "We can also pass the value of the variable int\\_poly to the Sage command factor."
   ]
  },
  {
   "cell_type": "code",
   "execution_count": null,
   "metadata": {},
   "outputs": [],
   "source": [
    "show(factor(int_poly))"
   ]
  },
  {
   "cell_type": "markdown",
   "metadata": {},
   "source": [
    "Internally, this is what Sage does. It finds the *class* that the object assigned to the variable int\\_poly is an instance and then calls the method factor with the object assigned to the variable int\\_poly as argument."
   ]
  },
  {
   "cell_type": "code",
   "execution_count": null,
   "metadata": {},
   "outputs": [],
   "source": [
    "show(type(int_poly).factor(int_poly))"
   ]
  },
  {
   "cell_type": "markdown",
   "metadata": {},
   "source": [
    "We can check the mathematical set or domain of sym\\_expr and int\\_poly. This should give us the Symbolic Ring and polynomial ring with integer coefficients $\\mathbb{Z}[x]$ respectively."
   ]
  },
  {
   "cell_type": "code",
   "execution_count": null,
   "metadata": {},
   "outputs": [],
   "source": [
    "show(parent(sym_expr))"
   ]
  },
  {
   "cell_type": "code",
   "execution_count": null,
   "metadata": {},
   "outputs": [],
   "source": [
    "show(parent(int_poly))"
   ]
  },
  {
   "cell_type": "markdown",
   "metadata": {},
   "source": [
    "We can also use the inoperator to check if an object is contained in some mathematical set or domain. Let us check if the objects assigned to the variables sym\\_expr and int\\_poly are in the Symbolic Ring and $\\mathbb{Z}[x]$ respectively."
   ]
  },
  {
   "cell_type": "code",
   "execution_count": null,
   "metadata": {},
   "outputs": [],
   "source": [
    "sym_expr in SR"
   ]
  },
  {
   "cell_type": "code",
   "execution_count": null,
   "metadata": {},
   "outputs": [],
   "source": [
    "int_poly in ZZx"
   ]
  },
  {
   "cell_type": "markdown",
   "metadata": {},
   "source": [
    "####  <font color=red>Exercise 5:</font> <a class=\"anchor\" id=\"exercise-5\"></a>\n",
    "\n",
    "Let us proceed similarly in the rational function field in $x$, polynomial ring over the finite field $\\mathbb{F}_{5}$, and a polynomial ring over the quadratic field $\\mathbb{Q}(\\sqrt{2})$.\n",
    "\n",
    "For the rational function case we have the following:"
   ]
  },
  {
   "cell_type": "code",
   "execution_count": null,
   "metadata": {},
   "outputs": [],
   "source": []
  },
  {
   "cell_type": "markdown",
   "metadata": {},
   "source": [
    "For polynomial ring over the finite field $\\mathbb{F}_{5}$ we have the following:"
   ]
  },
  {
   "cell_type": "code",
   "execution_count": null,
   "metadata": {},
   "outputs": [],
   "source": []
  },
  {
   "cell_type": "markdown",
   "metadata": {},
   "source": [
    "For polynomials ring over the quadratic field $\\mathbb{Q}(\\sqrt{2})$ we have the following:"
   ]
  },
  {
   "cell_type": "code",
   "execution_count": null,
   "metadata": {},
   "outputs": [],
   "source": []
  },
  {
   "cell_type": "markdown",
   "metadata": {},
   "source": [
    "## 8 Python Programming Constructs — Revision <a class=\"anchor\" id=\"python-pgrm-constructs-revision\"></a>\n",
    "\n",
    "You should be familiar with python programming constructs that we review here since most of them we already discussed in previous lectures. See the Software Carpentry materials on [Python Novice Inflammation](https://github.com/swcarpentry/python-novice-inflammation)."
   ]
  },
  {
   "cell_type": "markdown",
   "metadata": {},
   "source": [
    "### 8.1 Loops <a class=\"anchor\" id=\"loops\"></a>\n",
    "\n",
    "Suppose we want to do an operation for a repeated number of times. Then this can be done with the keyword for or while. Let's see each of them separately. Note that indentation is crucial when using these Sage or Python keywords."
   ]
  },
  {
   "cell_type": "markdown",
   "metadata": {},
   "source": [
    "#### 8.1.1 For Loops <a class=\"anchor\" id=\"for-loops\"></a>\n",
    "\n",
    "We use for loops when the number of iterations is already known. The construction in Sage or Python is as follows:\n",
    "\n",
    "    for <loop variable> in <iteratable object>:\n",
    "        <indented block of code>"
   ]
  },
  {
   "cell_type": "markdown",
   "metadata": {},
   "source": [
    "####  <font color=red>Exercise 6:</font> <a class=\"anchor\" id=\"exercise-6\"></a>\n",
    "\n",
    "Compute determinant of the power of the matrix $A = \\left(\\begin{array}{rr}1 & \\frac{2}{3} \\\\ \\frac{2}{5} & \\frac{7}{9}\\end{array}\\right)^{i}$ defined over $\\mathbb{Q}$ for $0\\le i\\le 3$ using Python's `for` loop construct."
   ]
  },
  {
   "cell_type": "code",
   "execution_count": null,
   "metadata": {},
   "outputs": [],
   "source": []
  },
  {
   "cell_type": "code",
   "execution_count": null,
   "metadata": {},
   "outputs": [],
   "source": []
  },
  {
   "cell_type": "markdown",
   "metadata": {},
   "source": [
    "####  <font color=red>Exercise 7:</font> <a class=\"anchor\" id=\"exercise-7\"></a>\n",
    "\n",
    "Consider the sequence $(u_{n})$ defined by\n",
    "\n",
    "$$u_{0}=1, \\quad \\forall\\, n \\in \\mathbb{N}, \\, u_{n+1}=\\frac{1}{2+u_{n}^{2}}.$$\n",
    "\n",
    "What is the value of $u_{20}$? Try to use Python's `for` loop construct."
   ]
  },
  {
   "cell_type": "code",
   "execution_count": null,
   "metadata": {},
   "outputs": [],
   "source": []
  },
  {
   "cell_type": "markdown",
   "metadata": {},
   "source": [
    "#### 8.1.2 While Loops <a class=\"anchor\" id=\"while-loops\"></a>\n",
    "\n",
    "The while loop, as its name says, executes instructions while a given condition is fulfilled. They have the following constructs:\n",
    "\n",
    "    while <condition>:\n",
    "        <indented block of code>"
   ]
  },
  {
   "cell_type": "markdown",
   "metadata": {},
   "source": [
    "####  <font color=red>Exercise 8:</font> <a class=\"anchor\" id=\"exercise-8\"></a>\n",
    "\n",
    "Use Python's `while` loop construct to answer <a href=\"#exercise-6\"><b><font color=red>Exercise 6</font></b></a>."
   ]
  },
  {
   "cell_type": "code",
   "execution_count": null,
   "metadata": {},
   "outputs": [],
   "source": []
  },
  {
   "cell_type": "markdown",
   "metadata": {},
   "source": [
    "####  <font color=red>Exercise 9:</font> <a class=\"anchor\" id=\"exercise-9\"></a>\n",
    "\n",
    "Let us compute the sum of the squares of non-negative integers whose exponential is less or equal to $10^6$. That is\n",
    "\n",
    "$$\\sum_{k\\in\\mathbb{N} \\text{ and } e^{k}\\leq10^{6}} k^{2}.$$ __Hint__: You may want to use Python's `while` loop construct."
   ]
  },
  {
   "cell_type": "code",
   "execution_count": null,
   "metadata": {},
   "outputs": [],
   "source": []
  },
  {
   "cell_type": "markdown",
   "metadata": {},
   "source": [
    "### 8.3 Conditionals <a class=\"anchor\" id=\"conditionals\"></a>\n",
    "\n",
    "The decision structure is to run something in the event that a condition is true. Decision structures evaluate multiple expressions which produce *TRUE* or *FALSE* as result. You need to determine which action to take and which statements to execute if outcome is *TRUE* or *FALSE* otherwise.\n",
    "\n",
    "That said, these comparisons can be placed inside of an `if` statement. Such statements have the following form:\n",
    "\n",
    "    if <condition>:\n",
    "        <indented block of code>\n",
    "\n",
    "\n",
    "The indented code will only be execute if the condition evaulates to *True*, which is a special boolean value."
   ]
  },
  {
   "cell_type": "code",
   "execution_count": null,
   "metadata": {},
   "outputs": [],
   "source": [
    "num = 4\n",
    "if num % 2 == 0 and num != 0:\n",
    "    print num/2"
   ]
  },
  {
   "cell_type": "markdown",
   "metadata": {},
   "source": [
    "The `if` statement can be combined to great effect with a corresponding `else` clause.\n",
    "\n",
    "    if <condition>:\n",
    "        <if block of code>\n",
    "    else:\n",
    "        <else block of code>\n",
    "\n",
    "When the condition is *True* the `if`-block is executed. When the condition is *False* the `else`-block is executed instead. Here is an example of an `if`-`else` block of Python code."
   ]
  },
  {
   "cell_type": "code",
   "execution_count": null,
   "metadata": {},
   "outputs": [],
   "source": [
    "num = 5\n",
    "if num % 2 == 0 and num != 0:\n",
    "    print num/2\n",
    "else:\n",
    "    print 3*num + 1"
   ]
  },
  {
   "cell_type": "markdown",
   "metadata": {},
   "source": [
    "Using the keyword elifwe can even add more conditions between the if block of code and the else block of code. There can be more than one elif. This is how the syntax looks like:\n",
    "\n",
    "    if <condition-1>:\n",
    "        <if block of code>\n",
    "    elif <condition-2>:\n",
    "        <first elif block of code>\n",
    "    elif <condition-3>:\n",
    "        <second elif block of code>\n",
    "    else:\n",
    "        <else-block of code>\n",
    "        \n",
    "Here is an example of an __if__-__elif__-__else__ block of Python code."
   ]
  },
  {
   "cell_type": "code",
   "execution_count": null,
   "metadata": {},
   "outputs": [],
   "source": [
    "num = 0\n",
    "if num % 2 == 0 and num != 0:\n",
    "    print num/2\n",
    "elif num % 2 == 1 and num != 0:\n",
    "    print 3*num + 1\n",
    "else:\n",
    "    print('I am zero.')"
   ]
  },
  {
   "cell_type": "markdown",
   "metadata": {},
   "source": [
    "### 8.4 Functions and Procedures <a class=\"anchor\" id=\"functions-and-procedures\"></a>\n",
    "\n",
    "One can use SageMath to define procedures or functions using the Python keyword `def` whose syntax will be detailed below for both procedures and functions. We call a function (resp. procedure) a sub-program with zero or at least one argument, or an optional parameter which returns  a result (resp. does not return). The construct for a SageMath/Python procedure is as follows:\n",
    "\n",
    "    def <name of procedure>:\n",
    "        <block of code>"
   ]
  },
  {
   "cell_type": "markdown",
   "metadata": {},
   "source": [
    "####  <font color=red>Exercise 10:</font> <a class=\"anchor\" id=\"exercise-10\"></a>\n",
    "\n",
    "Write a Sage/Python procedure with the name `i_am_a_procedure` that prints $5$."
   ]
  },
  {
   "cell_type": "code",
   "execution_count": null,
   "metadata": {},
   "outputs": [],
   "source": []
  },
  {
   "cell_type": "code",
   "execution_count": null,
   "metadata": {},
   "outputs": [],
   "source": [
    "i_am_a_procedure?"
   ]
  },
  {
   "cell_type": "code",
   "execution_count": null,
   "metadata": {},
   "outputs": [],
   "source": [
    "proc_val = i_am_a_procedure(); proc_val"
   ]
  },
  {
   "cell_type": "markdown",
   "metadata": {},
   "source": [
    "On the other hand, a SageMath/Python function is as follows.\n",
    "\n",
    "    def <function name>(<argument>):\n",
    "        <block of code>\n",
    "        return <local variable>"
   ]
  },
  {
   "cell_type": "markdown",
   "metadata": {},
   "source": [
    "####  <font color=red>Exercise 11:</font> <a class=\"anchor\" id=\"exercise-11\"></a>\n",
    "\n",
    "Let's create a Sage/Python function with the name `i_am_a_function` that returns $3$."
   ]
  },
  {
   "cell_type": "code",
   "execution_count": null,
   "metadata": {},
   "outputs": [],
   "source": []
  },
  {
   "cell_type": "code",
   "execution_count": null,
   "metadata": {},
   "outputs": [],
   "source": [
    "func_val = i_am_a_function(); func_val"
   ]
  },
  {
   "cell_type": "markdown",
   "metadata": {},
   "source": [
    "####  <font color=red>Exercise 12:</font> <a class=\"anchor\" id=\"exercise-12\"></a>\n",
    "\n",
    "Write a function with the name `sum_of_squares` that takes two arguments $a$ and $b$ and returns their sum of squares."
   ]
  },
  {
   "cell_type": "code",
   "execution_count": null,
   "metadata": {},
   "outputs": [],
   "source": []
  },
  {
   "cell_type": "code",
   "execution_count": null,
   "metadata": {},
   "outputs": [],
   "source": []
  },
  {
   "cell_type": "markdown",
   "metadata": {},
   "source": [
    "### 8.5 Lambda Functions <a class=\"anchor\" id=\"lambda-functions\"></a>\n",
    "\n",
    "Sometimes you don't want to go to all the trouble of making a function (for instance, because it makes things more complex), but you nonetheless need a function. SageMath or Python's `lambda` functions are short one-line functions similar to `def` functions which are very helpful in such situations.\n",
    "\n",
    "-   Technical note: `lambda` functions do not create a new local scope, while def functions do.\n",
    "\n",
    "The syntax is very short. The input variables are before the colon, the output is after it."
   ]
  },
  {
   "cell_type": "code",
   "execution_count": null,
   "metadata": {},
   "outputs": [],
   "source": [
    "f = lambda x, y : x + y"
   ]
  },
  {
   "cell_type": "code",
   "execution_count": null,
   "metadata": {},
   "outputs": [],
   "source": [
    "sum_of_squares_lambda()"
   ]
  },
  {
   "cell_type": "markdown",
   "metadata": {},
   "source": [
    "Here is a nice example of using this. With just one line of code, we construct and show a [Paley graph](http://mathworld.wolfram.com/PaleyGraph.html). You don't need to know what this is to agree it is powerful."
   ]
  },
  {
   "cell_type": "code",
   "execution_count": null,
   "metadata": {},
   "outputs": [],
   "source": [
    "cyclic_graph = Graph([GF(13), lambda i, j: i!=j and (i-j).is_square()], pos = dict([i, [cos(2*pi*i/13).n(), sin(2*pi*i/13).n()]] for i in range(13)))"
   ]
  },
  {
   "cell_type": "markdown",
   "metadata": {},
   "source": [
    "####  <font color=red>Exercise 13:</font> <a class=\"anchor\" id=\"exercise-13\"></a>\n",
    "\n",
    "Write 2 lambda functions namely `sum_of_2_squares_lambda` and `sum_of_2_squares_lambda_with_default_args` that perfom the following tasks:\n",
    "\n",
    "1.  takes two arguments a and b and returns the sum of their squares, just like <a href=\"#exercise-12\"><b><font color=red>Exercise 12</font></b></a>.\n",
    "2.  takes two defualt arguments a=3 and b=4 and returns the sum of their squares."
   ]
  },
  {
   "cell_type": "code",
   "execution_count": null,
   "metadata": {},
   "outputs": [],
   "source": []
  },
  {
   "cell_type": "markdown",
   "metadata": {},
   "source": [
    "### 8.6 Recursive Functions <a class=\"anchor\" id=\"recursive-functions\"></a>\n",
    "\n",
    "One of the greatest features of functions is that they may call themselves from within their own bodies! This is known as recursion."
   ]
  },
  {
   "cell_type": "markdown",
   "metadata": {},
   "source": [
    "#### <font color=red>Exercise 14:</font> <a class=\"anchor\" id=\"exercise-14\"></a>\n",
    "\n",
    "Write a recursive function with the name `add_first_positive_n` to compute $1+2+3+\\cdots+n$ for $n\\ge1$."
   ]
  },
  {
   "cell_type": "code",
   "execution_count": null,
   "metadata": {},
   "outputs": [],
   "source": [
    "def add_first_positive_n(n):\n",
    "    \"\"\"\n",
    "    \n",
    "    \"\"\"\n",
    "    pass"
   ]
  },
  {
   "cell_type": "markdown",
   "metadata": {},
   "source": [
    "#### <font color=red>Exercise 15:</font> <a class=\"anchor\" id=\"exercise-15\"></a>\n",
    "\n",
    "Write a recursive function -- name it `my_factorial` -- that computes the factorial $n!$ of any positive integer $n$. That is, \n",
    "\n",
    "$$n! = 1 \\times 2 \\times 3 \\times \\cdots \\times n.$$ "
   ]
  },
  {
   "cell_type": "code",
   "execution_count": null,
   "metadata": {},
   "outputs": [],
   "source": [
    "def my_factorial(n):\n",
    "    \"\"\"\n",
    "    \n",
    "    \"\"\"\n",
    "    pass"
   ]
  },
  {
   "cell_type": "markdown",
   "metadata": {},
   "source": [
    "Test your fuction with the following inputs: $n=10, 50, 100$. Use the Python function `time` or `timeit` to check the real time or best computing time respectively. You may want to read the help documentation for `time` and `timeit` so you will know how they are used."
   ]
  },
  {
   "cell_type": "code",
   "execution_count": null,
   "metadata": {},
   "outputs": [],
   "source": [
    "# for n = 10\n",
    "\n"
   ]
  },
  {
   "cell_type": "code",
   "execution_count": null,
   "metadata": {},
   "outputs": [],
   "source": [
    "# for n = 50\n",
    "\n"
   ]
  },
  {
   "cell_type": "code",
   "execution_count": null,
   "metadata": {},
   "outputs": [],
   "source": [
    "# for n = 100\n",
    "\n"
   ]
  },
  {
   "cell_type": "markdown",
   "metadata": {},
   "source": [
    "#### <font color=red>Exercise 16:</font> <a class=\"anchor\" id=\"exercise-16\"></a>\n",
    "\n",
    "Implement the [Collatz Problem](https://en.wikipedia.org/wiki/Collatz_conjecture)\n",
    "\n",
    "$$c(n) := \\begin{cases} \\frac{n}{2} & \\text{if } n \\text{ is even,} \\\\ 3\\,n+1 & \\text{if } n \\text{ is odd and } n > 1, \\\\ 1 & \\text{if } n = 1 \\end{cases}$$\n",
    "\n",
    "as a Sage/Python recursive function. Name your function as `collatz_recursion`."
   ]
  },
  {
   "cell_type": "code",
   "execution_count": null,
   "metadata": {},
   "outputs": [],
   "source": []
  },
  {
   "cell_type": "markdown",
   "metadata": {},
   "source": [
    "#### <font color=red>Exercise 17:</font> <a class=\"anchor\" id=\"exercise-17\"></a>\n",
    "\n",
    "Write a Sage/Python procedure with the name `collatz_procedure` using Python's `while` loop construct that implements the Collataz problem but this time around, it prints the sequences that you get. So for example  `collatz_procedure(5)` should print `5, 16, 8, 4, 2, 1`."
   ]
  },
  {
   "cell_type": "code",
   "execution_count": null,
   "metadata": {},
   "outputs": [],
   "source": []
  },
  {
   "cell_type": "markdown",
   "metadata": {},
   "source": [
    "## 8 [SageMath](http://www.sagemath.org) Symbolic Expressions <a class=\"anchor\" id=\"sagemath-symb-exprs\"></a>\n",
    "\n",
    "In <a href=\"#exprs-and-comp-domains\"><b>Section 6</b></a>, we were introduced to the symbolic ring in Sage. The elements of the symnbolic ring called symbolic expressions can also converted into mathematical or callable functions."
   ]
  },
  {
   "cell_type": "code",
   "execution_count": null,
   "metadata": {},
   "outputs": [],
   "source": [
    "(r, t) = SR.var('r, t')\n",
    "FV = 100*e^(r*t)"
   ]
  },
  {
   "cell_type": "code",
   "execution_count": null,
   "metadata": {},
   "outputs": [],
   "source": [
    "parent(FV)"
   ]
  },
  {
   "cell_type": "code",
   "execution_count": null,
   "metadata": {},
   "outputs": [],
   "source": [
    "f = FV.function(r, t); show(f)"
   ]
  },
  {
   "cell_type": "markdown",
   "metadata": {},
   "source": [
    "We can also define functions as this."
   ]
  },
  {
   "cell_type": "code",
   "execution_count": null,
   "metadata": {},
   "outputs": [],
   "source": [
    "y = function('y')(x)"
   ]
  },
  {
   "cell_type": "code",
   "execution_count": null,
   "metadata": {},
   "outputs": [],
   "source": [
    "show(y + diff(y))"
   ]
  },
  {
   "cell_type": "markdown",
   "metadata": {},
   "source": [
    "## 9 Python Data Types  — Revision <a class=\"anchor\" id=\"python-data-types-revision\"></a>\n",
    "\n",
    "In this section we discuss some of Python's data types as well as that of [SageMath](http://www.sagemath.org). You should be familiar with the python data types that we reviewed in the previous lectures. See the Software Carpentry materials on [Python Novice Inflammation](https://github.com/swcarpentry/python-novice-inflammation). We will briefly discuss some data types in Python. [SageMath](http://www.sagemath.org) has lots of data types and we will also take a look at the some of them. We will also look at the methods that are available to objects of the data types.  "
   ]
  },
  {
   "cell_type": "markdown",
   "metadata": {},
   "source": [
    "### 9.1 List <a class=\"anchor\" id=\"list\"></a>\n",
    "\n",
    "A `list` is an ordered collection of objects. The objects in a list can be of different data types or classes. The elements in list are indexed by integers starting with $0$. Lists enable us to construct and manipulate elements that can be modified. In short, they are called __mutable__ data types. Here's is how to contruct a list and to access its elements."
   ]
  },
  {
   "cell_type": "code",
   "execution_count": null,
   "metadata": {},
   "outputs": [],
   "source": [
    "my_list = [2, 'Ramanujan', [1,2,3], [[1,2], [3,4]], 2.5, 2, (1,5,'test') ]; my_list  # (Typing two consecutive commands, separated by a semicolon, will do them both.)"
   ]
  },
  {
   "cell_type": "code",
   "execution_count": null,
   "metadata": {},
   "outputs": [],
   "source": [
    "my_list[1] # Get the second element in the list object my_list_1. Sage/Python indexing starts from zero"
   ]
  },
  {
   "cell_type": "code",
   "execution_count": null,
   "metadata": {},
   "outputs": [],
   "source": [
    "my_list[-1]    # Get the last element in the list object my_list_1"
   ]
  },
  {
   "cell_type": "code",
   "execution_count": null,
   "metadata": {},
   "outputs": [],
   "source": [
    "my_list[7]    # There is no 6th element in the list object my_list_1 thus the error."
   ]
  },
  {
   "cell_type": "code",
   "execution_count": null,
   "metadata": {},
   "outputs": [],
   "source": [
    "my_python_int_list = range(5); my_python_int_list  # Creates a list whose objects are from the Python class int"
   ]
  },
  {
   "cell_type": "code",
   "execution_count": null,
   "metadata": {},
   "outputs": [],
   "source": [
    "my_sagemath_int_list = [0..4]; my_sagemath_int_list  # Creates a list whose objects are from the SageMath class Integer"
   ]
  },
  {
   "cell_type": "markdown",
   "metadata": {},
   "source": [
    "Note: Objects from the SageMath class `Integer` have more methods than that of the Python class int. Consider the following examples:"
   ]
  },
  {
   "cell_type": "code",
   "execution_count": null,
   "metadata": {},
   "outputs": [],
   "source": [
    "sage_integer = my_sagemath_int_list[1]; python_int = my_python_int_list[1]"
   ]
  },
  {
   "cell_type": "markdown",
   "metadata": {},
   "source": [
    "We can check the mathematical set sage\\_integer and python\\_int belong."
   ]
  },
  {
   "cell_type": "code",
   "execution_count": null,
   "metadata": {},
   "outputs": [],
   "source": [
    "parent(python_int)"
   ]
  },
  {
   "cell_type": "code",
   "execution_count": null,
   "metadata": {},
   "outputs": [],
   "source": [
    "parent(sage_integer)"
   ]
  },
  {
   "cell_type": "markdown",
   "metadata": {},
   "source": [
    "We can check all the methods available for the python int object with whose variable is python\\_int. Put your cursor next to the period and press the tab key on your keyboard."
   ]
  },
  {
   "cell_type": "code",
   "execution_count": null,
   "metadata": {},
   "outputs": [],
   "source": [
    "python_int."
   ]
  },
  {
   "cell_type": "markdown",
   "metadata": {},
   "source": [
    "Let us do the same for the Sage Integer object whose variable is sage\\_integer."
   ]
  },
  {
   "cell_type": "code",
   "execution_count": null,
   "metadata": {},
   "outputs": [],
   "source": [
    "sage_integer."
   ]
  },
  {
   "cell_type": "markdown",
   "metadata": {},
   "source": [
    "The empty list is constructed using \\[\\] or list()."
   ]
  },
  {
   "cell_type": "code",
   "execution_count": null,
   "metadata": {},
   "outputs": [],
   "source": [
    "null_list = list(); null_list"
   ]
  },
  {
   "cell_type": "code",
   "execution_count": null,
   "metadata": {},
   "outputs": [],
   "source": [
    "null_list_1 = []; null_list_1"
   ]
  },
  {
   "cell_type": "markdown",
   "metadata": {},
   "source": [
    "#### 9.1.1 List Methods <a class=\"anchor\" id=\"list-methods\"></a>\n",
    "\n",
    "Do you remember how to access the methods available to any object defined in Sage? Let us get the methods available for list objects. Remember all we need to do is type in the list object followed by the period symbol and then press the tab key on your keyboard. In this case since I have typed the list object my\\_list\\_1with the period already, you will have to put cursor next to period symbol and then press the tab key."
   ]
  },
  {
   "cell_type": "code",
   "execution_count": null,
   "metadata": {},
   "outputs": [],
   "source": [
    "my_list."
   ]
  },
  {
   "cell_type": "markdown",
   "metadata": {},
   "source": [
    "Let us modify the list object assigned to the variable my\\_list\\_1 by first appending the integer 101 and afterwards inserting the list \\['I', 'love', 'Programming', 'in', 'Sage'\\] at the begining. We will have to read on the help on the list methods append and insert"
   ]
  },
  {
   "cell_type": "code",
   "execution_count": null,
   "metadata": {},
   "outputs": [],
   "source": [
    "my_list.append?"
   ]
  },
  {
   "cell_type": "code",
   "execution_count": null,
   "metadata": {},
   "outputs": [],
   "source": [
    "my_list.append(101); my_list"
   ]
  },
  {
   "cell_type": "markdown",
   "metadata": {},
   "source": [
    "Let us read the help for the list method insert"
   ]
  },
  {
   "cell_type": "code",
   "execution_count": null,
   "metadata": {},
   "outputs": [],
   "source": [
    "my_list.insert?"
   ]
  },
  {
   "cell_type": "code",
   "execution_count": null,
   "metadata": {},
   "outputs": [],
   "source": [
    "my_list.insert(0, ['I', 'love', 'Programming', 'in', 'SageMath']); my_list"
   ]
  },
  {
   "cell_type": "markdown",
   "metadata": {},
   "source": [
    "#### <font color=red>Exercise 18:</font> <a class=\"anchor\" id=\"exercise-18\"></a>\n",
    "\n",
    "Try to turn the Python procedure you wrote for printing the collatz sequence in <a href=\"#exercise-17\"><b><font color=red>Exercise 17</font></b></a> into a function that returns a list where this list now contains the collatz sequence. Name your function as `collatz_sequence_function`. __Hint:__ You will have to initialise an empty list and then use the append method to update the empty list with the collatz sequence."
   ]
  },
  {
   "cell_type": "code",
   "execution_count": null,
   "metadata": {},
   "outputs": [],
   "source": []
  },
  {
   "cell_type": "markdown",
   "metadata": {},
   "source": [
    "#### 9.1.2 Slicing & Modifying List Objects <a class=\"anchor\" id=\"slicing-and-modifying-list-objs\"></a>\n",
    "\n",
    "Given a list object we can obtain a sub-list by slicing. Suppose that l is a variable assigned to a list object. Then the syntax of slicing is as follows `l[start:end:step]` where start is then begining index, end is the ending index and step is the step size. For example, if one wants to take the objects positioned at the odd indicies of the list object assigned to the variable `my_list`, then one proceeds do the following"
   ]
  },
  {
   "cell_type": "code",
   "execution_count": null,
   "metadata": {},
   "outputs": [],
   "source": [
    "my_list[1:-1:2]"
   ]
  },
  {
   "cell_type": "markdown",
   "metadata": {},
   "source": [
    "We can also do the following"
   ]
  },
  {
   "cell_type": "code",
   "execution_count": null,
   "metadata": {},
   "outputs": [],
   "source": [
    "copy_of_my_list = my_list[:]; copy_of_my_list     # This gives us a copy of the list object assigned to the variable my_list"
   ]
  },
  {
   "cell_type": "markdown",
   "metadata": {},
   "source": [
    "`l[start:]` returns a sublist of the list object `l` by slicing `l` begining at the position `start`. Note that SageMath/Python index starts from `0` and <a><b><font color=red>NOT</font></b></a> `1`."
   ]
  },
  {
   "cell_type": "code",
   "execution_count": null,
   "metadata": {},
   "outputs": [],
   "source": [
    "my_list[2:]     #"
   ]
  },
  {
   "cell_type": "markdown",
   "metadata": {},
   "source": [
    "`l[:end]` returns a sublist of the list object `l` by slicing `l` ending at the position `end-1`."
   ]
  },
  {
   "cell_type": "code",
   "execution_count": null,
   "metadata": {},
   "outputs": [],
   "source": [
    "my_list[:3]"
   ]
  },
  {
   "cell_type": "markdown",
   "metadata": {},
   "source": [
    "`l[::step]` returns a sublist of the list object `l` by taking all objects `l` at the following positions: $0, 1\\times \\text{step}, \\,2\\times\\text{step},\\, 3\\times\\text{step}\\,\\dots$. If step is negative then the output is the reverse of the case when step is positive."
   ]
  },
  {
   "cell_type": "code",
   "execution_count": null,
   "metadata": {},
   "outputs": [],
   "source": [
    "my_list[::2]"
   ]
  },
  {
   "cell_type": "code",
   "execution_count": null,
   "metadata": {},
   "outputs": [],
   "source": [
    "my_list[::-2]"
   ]
  },
  {
   "cell_type": "markdown",
   "metadata": {},
   "source": [
    "One can also have any of the following `l[start::step]`, `l[:end:step]` and `l[start:end]`\n",
    "\n",
    "Although `list` objects are very nice to work with, one must be very careful when working with them. Let us take a look at the following example by creating copies of the `list` object assigned to a varible and then modifying it.\n",
    "\n",
    "Let us create a copy of the `list` object assigned to the variable `my_list` using the assignment operation `=` and call it `copy_my_list_by_assignment`."
   ]
  },
  {
   "cell_type": "code",
   "execution_count": null,
   "metadata": {},
   "outputs": [],
   "source": [
    "copy_my_list_by_assignment = my_list; copy_my_list_by_assignment"
   ]
  },
  {
   "cell_type": "markdown",
   "metadata": {},
   "source": [
    "Next we create another copy of the `list` object assigned to the variable `my_list` using slicing `[:]` and call it `copy_my_list_by_slicing`."
   ]
  },
  {
   "cell_type": "code",
   "execution_count": null,
   "metadata": {},
   "outputs": [],
   "source": [
    "copy_my_list_by_slicing = my_list[:]; copy_my_list_by_slicing"
   ]
  },
  {
   "cell_type": "markdown",
   "metadata": {},
   "source": [
    "Finally, we create a another copy of the `list` object assigned to the variable `my_list` using the SageMath's function `copy` and call it `sagemath_copy_my_list`."
   ]
  },
  {
   "cell_type": "code",
   "execution_count": null,
   "metadata": {},
   "outputs": [],
   "source": [
    "sagemath_copy_my_list = copy(my_list); sagemath_copy_my_list"
   ]
  },
  {
   "cell_type": "code",
   "execution_count": null,
   "metadata": {},
   "outputs": [],
   "source": [
    "my_list"
   ]
  },
  {
   "cell_type": "markdown",
   "metadata": {},
   "source": [
    "Let us assign the first element of the `list` object whose variable is `my_list`, `my_list[0]` to the integer object 9."
   ]
  },
  {
   "cell_type": "code",
   "execution_count": null,
   "metadata": {},
   "outputs": [],
   "source": [
    "my_list[0] = 9; my_list"
   ]
  },
  {
   "cell_type": "markdown",
   "metadata": {},
   "source": [
    "You may think that the only `list` objects we changed was `my_list`. But this is actually not the case. Let's check the content of the variables: `copy_my_list_by_assignment`, `copy_my_list_by_slicing`, `sagemath_copy_my_list`."
   ]
  },
  {
   "cell_type": "code",
   "execution_count": null,
   "metadata": {},
   "outputs": [],
   "source": [
    "copy_my_list_by_assignment"
   ]
  },
  {
   "cell_type": "markdown",
   "metadata": {},
   "source": [
    "Did you notice anything? Did you observe that that changing the list object assigned to the varible `my_list` also changes the list object assigned to `copy_my_list_by_assignment`? This is because the variables `my_list` and `copy_my_list_by_assignment` points to the same `list` object in memory. Thus, changing one means changing the other. And this is caused by the assignment operator =. "
   ]
  },
  {
   "cell_type": "markdown",
   "metadata": {},
   "source": [
    "What about the other variables: `copy_my_list_by_slicing` and `sagemath_copy_my_list` "
   ]
  },
  {
   "cell_type": "code",
   "execution_count": null,
   "metadata": {},
   "outputs": [],
   "source": [
    "copy_my_list_by_slicing"
   ]
  },
  {
   "cell_type": "code",
   "execution_count": null,
   "metadata": {},
   "outputs": [],
   "source": [
    "sagemath_copy_my_list"
   ]
  },
  {
   "cell_type": "markdown",
   "metadata": {},
   "source": [
    "However, the list objects assigned to the variables `copy_my_list_by_slicing` and `sagemath_copy_my_list` does not change since they both point to different addresses in memrory."
   ]
  },
  {
   "cell_type": "markdown",
   "metadata": {},
   "source": [
    "We can check their address in the memory of the computer with the Python command `id`. Observe that only `my_list` and `copy_my_list_by_assignment` have the same address in memory. But that of `copy_my_list_by_slicing` and `sagemath_copy_my_list` have different addresses in memory."
   ]
  },
  {
   "cell_type": "code",
   "execution_count": null,
   "metadata": {},
   "outputs": [],
   "source": [
    "id(my_list), id(copy_my_list_by_assignment), id(copy_my_list_by_slicing), id(sagemath_copy_my_list)"
   ]
  },
  {
   "cell_type": "code",
   "execution_count": null,
   "metadata": {},
   "outputs": [],
   "source": [
    "id(my_list) == id(copy_my_list_by_assignment)"
   ]
  },
  {
   "cell_type": "code",
   "execution_count": null,
   "metadata": {},
   "outputs": [],
   "source": [
    "id(copy_my_list_by_slicing) == id(sagemath_copy_my_list)"
   ]
  },
  {
   "cell_type": "markdown",
   "metadata": {},
   "source": [
    "#### 9.1.3 Other Operations on List Objects <a class=\"anchor\" id=\"other-operations-on-list-objs\"></a>\n",
    "\n",
    "Aside the methods that can be applied to list objects, there are other functions that can also be applied to a list object. We consider only a few, namely, `len`, `sum`, `prod`, `zip` and `map`.\n",
    "\n",
    "We can use the `len` to check the size of a list."
   ]
  },
  {
   "cell_type": "code",
   "execution_count": null,
   "metadata": {},
   "outputs": [],
   "source": [
    "len(my_list)"
   ]
  },
  {
   "cell_type": "code",
   "execution_count": null,
   "metadata": {},
   "outputs": [],
   "source": [
    "len(null_list)"
   ]
  },
  {
   "cell_type": "markdown",
   "metadata": {},
   "source": [
    "Note that since the function len is <a><b><font color=red>NOT</font></b></a> a method in the list class. Therefore you <a><b><font color=red>CANNOT</font></b></a> do this."
   ]
  },
  {
   "cell_type": "code",
   "execution_count": null,
   "metadata": {},
   "outputs": [],
   "source": [
    "my_list.len()"
   ]
  },
  {
   "cell_type": "markdown",
   "metadata": {},
   "source": [
    "The functions `sum` (respectively `prod`) takes a list as input and returns the sum (respectively product) of it’s argument:"
   ]
  },
  {
   "cell_type": "code",
   "execution_count": null,
   "metadata": {},
   "outputs": [],
   "source": [
    "python_int_obj = sum(my_python_int_list); python_int_obj # returns a Python int object"
   ]
  },
  {
   "cell_type": "code",
   "execution_count": null,
   "metadata": {},
   "outputs": [],
   "source": [
    "sagemath_integer_obj = prod(my_sagemath_int_list[1:]); sagemath_integer_obj  # returns a Sage Integer object"
   ]
  },
  {
   "cell_type": "code",
   "execution_count": null,
   "metadata": {},
   "outputs": [],
   "source": [
    "sum(null_list)"
   ]
  },
  {
   "cell_type": "code",
   "execution_count": null,
   "metadata": {},
   "outputs": [],
   "source": [
    "prod(null_list)"
   ]
  },
  {
   "cell_type": "markdown",
   "metadata": {},
   "source": [
    "Note that for these functions namely, `sum` and `prod` the objects in the list must be one of the following: integers, floating point numbers. Otherwise, they return an error."
   ]
  },
  {
   "cell_type": "code",
   "execution_count": null,
   "metadata": {},
   "outputs": [],
   "source": [
    "sum(my_list)"
   ]
  },
  {
   "cell_type": "code",
   "execution_count": null,
   "metadata": {},
   "outputs": [],
   "source": [
    "prod(my_list)"
   ]
  },
  {
   "cell_type": "markdown",
   "metadata": {},
   "source": [
    "The `zip` command joins the elements of two or more list objects by termiwise grouping them together in order."
   ]
  },
  {
   "cell_type": "code",
   "execution_count": null,
   "metadata": {},
   "outputs": [],
   "source": [
    "zip_python_int_list_and_sagemath_int_list = zip(my_python_int_list, my_sagemath_int_list); zip_python_int_list_and_sagemath_int_list"
   ]
  },
  {
   "cell_type": "markdown",
   "metadata": {},
   "source": [
    "Note that the `zip` command does <a><b><font color=red>NOT</font></b></a> require that the elements of the list be the same. The pairing is done up to the list object with the least length."
   ]
  },
  {
   "cell_type": "markdown",
   "metadata": {},
   "source": [
    "#### <font color=red>Exercise 19:</font> <a class=\"anchor\" id=\"exercise-19\"></a>\n",
    "\n",
    "Use the `zip` command to group the list objects `my_python_int_list`, `my_sage_int_list` and `my_list`"
   ]
  },
  {
   "cell_type": "code",
   "execution_count": null,
   "metadata": {},
   "outputs": [],
   "source": []
  },
  {
   "cell_type": "markdown",
   "metadata": {},
   "source": [
    "The map command takes two arguments, a function $f$ and a list $[a_{0}, a_{1},\\dots,a_{n-1}]$ and returns the application of $f$ to each member of that list."
   ]
  },
  {
   "cell_type": "code",
   "execution_count": null,
   "metadata": {},
   "outputs": [],
   "source": [
    "map(len, [my_list, my_python_int_list, my_sagemath_int_list])"
   ]
  },
  {
   "cell_type": "markdown",
   "metadata": {},
   "source": [
    "#### <font color=red>Exercise 20:</font> <a class=\"anchor\" id=\"exercise-20\"></a>\n",
    "\n",
    "Apply the SageMath function `is_prime` to a list of integers from $1$ through to $10$ using the `map` function."
   ]
  },
  {
   "cell_type": "code",
   "execution_count": null,
   "metadata": {},
   "outputs": [],
   "source": []
  },
  {
   "cell_type": "markdown",
   "metadata": {},
   "source": [
    "#### 9.1.4 List Comprehension <a class=\"anchor\" id=\"list-comprehension\"></a>\n",
    "\n",
    "List can also contructed using a very useful technique in Python (and Sage by extension) by using **list comprehensions**. This feature is very similar to the *set builder* notation we often use in mathematics. For example, the set of *odd* integers can be written as:\n",
    "\n",
    "$$\\{ 2\\,k+1 \\,|\\, k\\in\\mathbb{Z}\\}.$$"
   ]
  },
  {
   "cell_type": "code",
   "execution_count": null,
   "metadata": {},
   "outputs": [],
   "source": [
    "[2*k-1 for k in [1..11]]"
   ]
  },
  {
   "cell_type": "markdown",
   "metadata": {},
   "source": [
    "#### <font color=red>Exercise 21:</font> <a class=\"anchor\" id=\"exercise-21\"></a>\n",
    "\n",
    "Use a list comprehension to construct a list with the same elements as the following sets:\n",
    "\n",
    "1.  The set of all even numbers greater than $-10$ but less than $30$.\n",
    "2.  The set of of all integers divisible by $7$ less than or equal to $100$ and greater than $-20$.\n",
    "3.  The set of all prime numbers less than or equal to $100$.\n",
    "\n",
    "Use list comprehension to generate a list of $\\tan(x)$ for all $x\\in\\{0,\\, \\frac{\\pi}{4},\\,\\frac{\\pi}{2}, \\,\\frac{3\\,\\pi}{4},\\,\\pi\\}$."
   ]
  },
  {
   "cell_type": "code",
   "execution_count": null,
   "metadata": {},
   "outputs": [],
   "source": []
  },
  {
   "cell_type": "code",
   "execution_count": null,
   "metadata": {},
   "outputs": [],
   "source": []
  },
  {
   "cell_type": "code",
   "execution_count": null,
   "metadata": {},
   "outputs": [],
   "source": []
  },
  {
   "cell_type": "code",
   "execution_count": null,
   "metadata": {},
   "outputs": [],
   "source": []
  },
  {
   "cell_type": "markdown",
   "metadata": {},
   "source": [
    "#### <font color=red>Exercise 22:</font> <a class=\"anchor\" id=\"exercise-22\"></a>\n",
    "\n",
    "Write a Python function, with the name `newton_iteration` that implements the [Newton's method](https://en.wikipedia.org/wiki/Newton's_method) of finding the root of a given function, $f$ using the formula below\n",
    "\n",
    "$$x_{n+1}=x_{n}-\\frac{f(x)}{f'(x)}.$$\n",
    "\n",
    "Your Python function should take as inputs: a function, initial guess and number of iteration or the error you would like to tolerate (to ensure termination) and it should output a list of guessed roots of the function including the inital guessed root."
   ]
  },
  {
   "cell_type": "code",
   "execution_count": null,
   "metadata": {},
   "outputs": [],
   "source": []
  },
  {
   "cell_type": "code",
   "execution_count": null,
   "metadata": {},
   "outputs": [],
   "source": []
  },
  {
   "cell_type": "markdown",
   "metadata": {},
   "source": [
    "### 9.2 Tuples <a class=\"anchor\" id=\"tuples\"></a>\n",
    "\n",
    "In Python/SageMath tuples are very similar to lists, however, unlike lists they are *immutable* data types. That is to say, they can not be changed. Tuples are denoted with parentheses `(...)`. The syntax for the empty `tuple` is either `()` or `tuple()`. A tuple with only one element is defined by adding a comma after this element. This is to distinguish it from mathematical parentheses. Tuples can contain different data types."
   ]
  },
  {
   "cell_type": "code",
   "execution_count": null,
   "metadata": {},
   "outputs": [],
   "source": [
    "empty_tuple = tuple(); empty_tuple"
   ]
  },
  {
   "cell_type": "code",
   "execution_count": null,
   "metadata": {},
   "outputs": [],
   "source": [
    "my_tuple = (\"2\", 1, \"a\", {1: [2,3,4]}, (1,)); my_tuple"
   ]
  },
  {
   "cell_type": "markdown",
   "metadata": {},
   "source": [
    "#### 9.2.1 Tuple Methods <a class=\"anchor\" id=\"tuple-methods\"></a>\n",
    "\n",
    "They have only two methods, `count` and `index`. Examples on how they can be used is as follows"
   ]
  },
  {
   "cell_type": "code",
   "execution_count": null,
   "metadata": {},
   "outputs": [],
   "source": [
    "my_tuple.index(\"a\") # returns the index of \"a\" in my_tuple"
   ]
  },
  {
   "cell_type": "code",
   "execution_count": null,
   "metadata": {},
   "outputs": [],
   "source": [
    "my_tuple.count(\"a\") # Counts the number of times the str object \"a\" appears in my_tuple"
   ]
  },
  {
   "cell_type": "markdown",
   "metadata": {},
   "source": [
    "#### 9.2.2 Tuple Slicing <a class=\"anchor\" id=\"tuple-slicing\"></a>\n",
    "\n",
    "Just as `list` objects can be sliced as discussed in <a href=\"#slicing-and-modifying-list-objs\"> <b>Slicing & Modifying List Objects</b></a>, a python `tuple` object can also be sliced. The syntax follows the same as that of list. That is `t[start:end:step]` Here are some examples."
   ]
  },
  {
   "cell_type": "code",
   "execution_count": null,
   "metadata": {},
   "outputs": [],
   "source": [
    "my_tuple[::]"
   ]
  },
  {
   "cell_type": "code",
   "execution_count": null,
   "metadata": {},
   "outputs": [],
   "source": [
    "my_tuple[2::] # start slicing at position 2 until the end "
   ]
  },
  {
   "cell_type": "code",
   "execution_count": null,
   "metadata": {},
   "outputs": [],
   "source": [
    "my_tuple[:3:] # start slicing from the begining until the position end-1"
   ]
  },
  {
   "cell_type": "code",
   "execution_count": null,
   "metadata": {},
   "outputs": [],
   "source": [
    "my_tuple[::2] # start slicing from the begining to the end with step size of 2"
   ]
  },
  {
   "cell_type": "code",
   "execution_count": null,
   "metadata": {},
   "outputs": [],
   "source": [
    "my_tuple[1:5:2] # start slicing from position 1 until position end-1 with step size of 2"
   ]
  },
  {
   "cell_type": "code",
   "execution_count": null,
   "metadata": {},
   "outputs": [],
   "source": [
    "my_tuple[::-1] # a smart way to reverse iteratable objects"
   ]
  },
  {
   "cell_type": "markdown",
   "metadata": {},
   "source": [
    "Note that since tuples are immutable objects, once you create them they can not be modified. \n",
    "\n",
    "#### <font color=red>Exercise 23:</font> <a class=\"anchor\" id=\"exercise-23\"></a>\n",
    "\n",
    "Try to change the element in the first position of the variable `my_tuple` containing a tuple object to 4 and observe the complaint by Python."
   ]
  },
  {
   "cell_type": "code",
   "execution_count": null,
   "metadata": {},
   "outputs": [],
   "source": []
  },
  {
   "cell_type": "code",
   "execution_count": null,
   "metadata": {},
   "outputs": [],
   "source": []
  },
  {
   "cell_type": "markdown",
   "metadata": {},
   "source": [
    "#### 9.2.3 Tuple Comprehension <a class=\"anchor\" id=\"tuple-comprehension\"></a>\n",
    "\n",
    "Just like <a href=\"#list-comprehension\"><b>List Comprehension</b></a> discussed above for Python's `list` objects, there is also list comprehension for tuples which in some sense works the same way as that for `list` objects. Instead of a tuple comprehension, one can also write a list comprehension and pass it as an argument for the function `tuple`. Here are some examples. "
   ]
  },
  {
   "cell_type": "code",
   "execution_count": null,
   "metadata": {},
   "outputs": [],
   "source": [
    "tuple(2*k-1 for k in [1..11])"
   ]
  },
  {
   "cell_type": "code",
   "execution_count": null,
   "metadata": {},
   "outputs": [],
   "source": [
    "tuple([2*k-1 for k in [1..11]]) # A list comprehension is passed as an argument for the function tuple"
   ]
  },
  {
   "cell_type": "code",
   "execution_count": null,
   "metadata": {},
   "outputs": [],
   "source": [
    "tuple(2*k-1 for k in (1..11)) # Here is also another one. "
   ]
  },
  {
   "cell_type": "markdown",
   "metadata": {},
   "source": [
    "Did you notice the difference. I used the iteratable object `(1..11)` which is called a Python `generator` object. I will not discuss this Python object here."
   ]
  },
  {
   "cell_type": "code",
   "execution_count": null,
   "metadata": {},
   "outputs": [],
   "source": []
  },
  {
   "cell_type": "code",
   "execution_count": null,
   "metadata": {},
   "outputs": [],
   "source": []
  },
  {
   "cell_type": "code",
   "execution_count": null,
   "metadata": {},
   "outputs": [],
   "source": []
  },
  {
   "cell_type": "markdown",
   "metadata": {},
   "source": [
    "### 9.3 Dictionaries <a class=\"anchor\" id=\"dictionaries\"></a>\n",
    "\n",
    "A Python dictionary is a unordered collection of key-value pairs. It associates to each value, a given key. In other words, the key is a way to name the data, and the value is the data itself. The keys of a dictionary might be of any immutable type: numbers, characters strings, tuples, etc. Dictionaries are likely the most useful data type in Python you will use in everyday programming. The syntax is like lists, using assignments from the empty dictionary `dict()` which can also be written as `{}`."
   ]
  },
  {
   "cell_type": "code",
   "execution_count": null,
   "metadata": {},
   "outputs": [],
   "source": [
    "my_dict = dict();"
   ]
  },
  {
   "cell_type": "code",
   "execution_count": null,
   "metadata": {},
   "outputs": [],
   "source": [
    "my_dict[\"instructors\"] = [\"Erik\", \"Evans\", \"Stanley\", \"Yae\"]"
   ]
  },
  {
   "cell_type": "code",
   "execution_count": null,
   "metadata": {},
   "outputs": [],
   "source": [
    "my_dict[\"interests\"] = [[\"Python\", \"matplotlib\", \"numpy\", \"Jupyter\", \"C/C++\", \"SageMath\", \"GAP\", \\\n",
    "                        \"Software Packaging\"], \\\n",
    "                        [\"Python\", \"Mathematica\", \"SageMath\", \"Combinatorics\", \"Computer Algebra\", \\\n",
    "                         \"Graph Theory\"], \\\n",
    "                        [\"Computational Group Theory\", \"Algebraic Combinatorics\", \"GAP\", \"MAGMA\"], \\\n",
    "                        [\"Python\", \"SageMath\", \"Computer Algebra\", \"Topology\", \"Graph Theory\"]]"
   ]
  },
  {
   "cell_type": "code",
   "execution_count": null,
   "metadata": {},
   "outputs": [],
   "source": [
    "my_dict[\"instructors\"]"
   ]
  },
  {
   "cell_type": "code",
   "execution_count": null,
   "metadata": {},
   "outputs": [],
   "source": [
    "my_dict[\"interests\"]"
   ]
  },
  {
   "cell_type": "markdown",
   "metadata": {},
   "source": [
    "Once a dictionary has been created, you can make modifications to the data. Let us modify the second `list` object of associated with the key `interests` by appending the Python `str` object `\"Number Theory\"` to it."
   ]
  },
  {
   "cell_type": "code",
   "execution_count": null,
   "metadata": {},
   "outputs": [],
   "source": [
    "my_dict[\"interests\"][1].append(\"Number Theory\")"
   ]
  },
  {
   "cell_type": "code",
   "execution_count": null,
   "metadata": {},
   "outputs": [],
   "source": [
    "my_dict[\"interests\"]"
   ]
  },
  {
   "cell_type": "markdown",
   "metadata": {},
   "source": [
    "Dictionaries are very flexible in the data types they can hold. For example:"
   ]
  },
  {
   "cell_type": "code",
   "execution_count": null,
   "metadata": {},
   "outputs": [],
   "source": [
    "my_database = {\"experiment\": \"current vs. voltage\",\n",
    "        \"run\": 47,\n",
    "        \"temperature\": 372.756, \n",
    "        \"current\": [-1.0, -0.5, 0.0, 0.5, 1.0], \n",
    "        \"voltage\": [-2.0, -1.0, 0.0, 1.0, 2.0], \n",
    "        (2, 3): 18, 6: 23, 'key':{'nestkey':{'subnestkey':'value'}}\n",
    "        }"
   ]
  },
  {
   "cell_type": "code",
   "execution_count": null,
   "metadata": {},
   "outputs": [],
   "source": []
  },
  {
   "cell_type": "markdown",
   "metadata": {},
   "source": [
    "#### 9.3.1 Dictionary Methods <a class=\"anchor\" id=\"dictionary-methods\"></a>\n",
    "\n",
    "In order to see all the methods available for a variable whose object type is a dictionary, say `my_database`, we only have to type in the variable and then hit the period <kbd>.</kbd> key, and the <kbd>Tab</kbd> key afterwards. "
   ]
  },
  {
   "cell_type": "code",
   "execution_count": null,
   "metadata": {},
   "outputs": [],
   "source": [
    "my_database"
   ]
  },
  {
   "cell_type": "markdown",
   "metadata": {},
   "source": [
    "To list all the keys in `my_database` we use the `.keys()` method."
   ]
  },
  {
   "cell_type": "code",
   "execution_count": null,
   "metadata": {},
   "outputs": [],
   "source": [
    "my_database.keys()"
   ]
  },
  {
   "cell_type": "markdown",
   "metadata": {},
   "source": [
    "To list all the values in `my_database` we use the `.values()` method."
   ]
  },
  {
   "cell_type": "code",
   "execution_count": null,
   "metadata": {},
   "outputs": [],
   "source": [
    "my_database.values()"
   ]
  },
  {
   "cell_type": "markdown",
   "metadata": {},
   "source": [
    "To check if `my_database` has a particular key we use the `.has_key(<name of key>)` where `<name of key>` is the key you want to check if it is in `my_database`. Below we check if the Python `str` object `\"Evans\"` is a key in `my_database`."
   ]
  },
  {
   "cell_type": "code",
   "execution_count": null,
   "metadata": {},
   "outputs": [],
   "source": [
    "my_database.has_key(\"Evans\")"
   ]
  },
  {
   "cell_type": "code",
   "execution_count": null,
   "metadata": {},
   "outputs": [],
   "source": []
  },
  {
   "cell_type": "markdown",
   "metadata": {},
   "source": [
    "#### <font color=red>Exercise 24:</font> <a class=\"anchor\" id=\"exercise-24\"></a>\n",
    "\n",
    "Using dictionary to encode the definition of a [vertex labelled graph](http://mathworld.wolfram.com/LabeledGraph.html). \n",
    "\n",
    "- Draw a [vertex labelled graph](http://mathworld.wolfram.com/LabeledGraph.html) (You may want to draw something simple).\n",
    "- Create a dictionary object, with the name `my_graph_dict` where the labels on the vertices of the graph are keys and the values are the list of vertices that are the [neighbours](https://en.wikipedia.org/wiki/Neighbourhood_(graph_theory)) of the key.\n",
    "- Create a `Graph` object and assign it to a variable, say, `my_graph`. __Hint__: You just need to pass `my_graph_dict` as an argument to the class `Graph` and assign it to `my_graph` and use `show(my_graph)` to display your graph. Does the graph SageMath gives you correspond to the one you drew?\n",
    "- Apply as many methods that you can to the variable `my_graph`."
   ]
  },
  {
   "cell_type": "code",
   "execution_count": null,
   "metadata": {},
   "outputs": [],
   "source": []
  },
  {
   "cell_type": "code",
   "execution_count": null,
   "metadata": {},
   "outputs": [],
   "source": []
  },
  {
   "cell_type": "code",
   "execution_count": null,
   "metadata": {},
   "outputs": [],
   "source": []
  },
  {
   "cell_type": "markdown",
   "metadata": {},
   "source": [
    "#### 9.2.1 Dictionary Comprehension <a class=\"anchor\" id=\"dictionary-comprehension\"></a>\n",
    "\n",
    "Just like <a href=\"#list-comprehension\"><b>list comprehension</b></a>, there is also dictionary comprehension. "
   ]
  },
  {
   "cell_type": "code",
   "execution_count": null,
   "metadata": {},
   "outputs": [],
   "source": [
    "dict_comp = { (x, y) : 3*x + 4*y for x in [0..12] for y in [0..9] }; dict_comp"
   ]
  },
  {
   "cell_type": "code",
   "execution_count": null,
   "metadata": {},
   "outputs": [],
   "source": []
  },
  {
   "cell_type": "markdown",
   "metadata": {},
   "source": [
    "#### <font color=red>Exercise 25:</font> <a class=\"anchor\" id=\"exercise-25\"></a> \n",
    "\n",
    "Random walk on the graph your defined in <a href=\"#exercise-24\"><b><font color=red>Exercise 24</font></b></a>. Suppose there is a robot standing on one of the vertices of the graph you defined in <a href=\"#exercise-24\"><b><font color=red>Exercise 24</font></b></a>. Write a python function or procedure with the name `random_walk_on_a_graph` that takes a positive integer as input — which is the number of travels made by the robot on your graph — and returns a table that records the number of times the robot visited each vertex in your graph. __Hint__: Read the help on the SageMath functions `choice` and `table`. You may need them in your code. What did you observe from the tabulated data?"
   ]
  },
  {
   "cell_type": "code",
   "execution_count": null,
   "metadata": {},
   "outputs": [],
   "source": [
    "def random_walk_on_a_graph(n):\n",
    "    \"\"\"\n",
    "    \n",
    "    \"\"\"\n",
    "    pass"
   ]
  },
  {
   "cell_type": "code",
   "execution_count": null,
   "metadata": {},
   "outputs": [],
   "source": []
  },
  {
   "cell_type": "code",
   "execution_count": null,
   "metadata": {},
   "outputs": [],
   "source": [
    "random_walk_on_a_graph(10000)"
   ]
  },
  {
   "cell_type": "code",
   "execution_count": null,
   "metadata": {},
   "outputs": [],
   "source": []
  },
  {
   "cell_type": "code",
   "execution_count": null,
   "metadata": {},
   "outputs": [],
   "source": []
  },
  {
   "cell_type": "code",
   "execution_count": null,
   "metadata": {},
   "outputs": [],
   "source": []
  },
  {
   "cell_type": "markdown",
   "metadata": {},
   "source": [
    "## 10 Graphics <a class=\"anchor\" id=\"graphics\"></a>\n",
    "\n",
    "When we draw a function of one or two variables, or a series of data, it makes it easier to grasp a mathematical or physical phenomenon behind the data, and sometimes may help us to make interesting conjectures. In this chapter, we illustrate the graphical capabilities of Sage using several examples."
   ]
  },
  {
   "cell_type": "markdown",
   "metadata": {},
   "source": [
    "### 10.1 2D Graphics <a class=\"anchor\" id=\"2d-graphics\"></a>\n",
    "\n",
    "This has to do with the visualisation of a function or a set of data points on a plane. A plane curve can be defined in several ways which includes one of the following: \n",
    "   - graph of a function;\n",
    "   - a parametric system; \n",
    "   - using polar coordinates;\n",
    "   - implicit equation.\n",
    "We will first discuss how these four cases can be done in Sage and then give some examples of data visualation."
   ]
  },
  {
   "cell_type": "markdown",
   "metadata": {},
   "source": [
    "#### 10.1.1 Graphical Representation of a Function <a class=\"anchor\" id=\"graphical-representation-of-a-function\"></a>\n",
    "\n",
    "Using the `plot` command, we are able to draw the graph of a symbolic or Python function `f(x)` on an interval `[a, b]` with one of the following commands: \n",
    "   - `plot(f(x), a, b)` or `plot(f(x), x, a, b)`, \n",
    "   - `plot(f(x), (a, b))` or `plot(f(x), (x, a, b))`, \n",
    "   - `plot(f(x), [a, b])` or `plot(f(x), [x, a, b])`."
   ]
  },
  {
   "cell_type": "code",
   "execution_count": null,
   "metadata": {
    "scrolled": true
   },
   "outputs": [],
   "source": [
    "plot(1/3*x * sin(3/x), x, -pi, pi)"
   ]
  },
  {
   "cell_type": "markdown",
   "metadata": {},
   "source": [
    "How will get the help documentation for the `plot` function in Sage?"
   ]
  },
  {
   "cell_type": "code",
   "execution_count": null,
   "metadata": {},
   "outputs": [],
   "source": [
    "plot?"
   ]
  },
  {
   "cell_type": "markdown",
   "metadata": {},
   "source": [
    "Did you observe that the `plot` function has a lot of optional parameters? Let is name a few. \n",
    "\n",
    "   - `plot_points` (default value `200`): minimal number of computed points;\n",
    "   - `xmin` and `xmax`: interval bounds over which the function is displayed;\n",
    "   - `color`: colour of the graph, either a RGB triple - (r,g,b) with each of r,g,b between 0 and 1, a character string such as `blue`, or an HTML colour like `#aaff0b`;\n",
    "   - `detect_poles` (default value `False`): enables to draw a vertical asymptote at poles of the function;\n",
    "   - `alpha`: line transparency;\n",
    "   - `thickness`: thickness of the line;\n",
    "   - `linestyle` (default is `\"-\"` which is alias for `\"solid\"`): style of the line, either `\"dotted\"` with `\":\"`, `\"dashdot\"` with `\"-.\"`."
   ]
  },
  {
   "cell_type": "markdown",
   "metadata": {},
   "source": [
    "#### <font color=red>Exercise 26:</font> <a class=\"anchor\" id=\"exercise-26\"></a> \n",
    "\n",
    "Use the `plot` function to plot a graph of your favourite symbolic function or Python function. Try as much as possible to use any of the optional parameters of the `plot` function. If you do not have a favourite function use the symbolic expression $\\frac{x}{3}\\,\\sin(\\frac{3}{x})$."
   ]
  },
  {
   "cell_type": "code",
   "execution_count": null,
   "metadata": {},
   "outputs": [],
   "source": []
  },
  {
   "cell_type": "code",
   "execution_count": null,
   "metadata": {},
   "outputs": [],
   "source": []
  },
  {
   "cell_type": "markdown",
   "metadata": {},
   "source": [
    "When we assign a variable, say, `g` to a graphical object, we can use the `show` function to display or visualise the graphical objects assigned to the variable `g`. In addition, we can also specify the value of parameters like `xmin`, `xmax`, `ymin`, `ymax`, `figsize`, `title`, `aspect_ratio` (e.g. `g.show(aspect_ratio = 1)` ensures that the displayed object has equal scales for the $x$ and the $y$ axes), etc. You can check the help documentation on `show` to see other optional parameters and how to use them. Here are some examples of what I have just said."
   ]
  },
  {
   "cell_type": "code",
   "execution_count": null,
   "metadata": {},
   "outputs": [],
   "source": [
    "# assigning a graphical object to the variable shaded_graph\n",
    "\n",
    "shaded_graph = plot(3*x^2/sqrt(25*x^2-3), (x, 1, 2), fill = True)"
   ]
  },
  {
   "cell_type": "code",
   "execution_count": null,
   "metadata": {},
   "outputs": [],
   "source": [
    "# assigning a graphical object to the variable unshaded_graph\n",
    "\n",
    "unshaded_graph = plot(3*x^2/sqrt(25*x^2-3), (x, .5, 3))"
   ]
  },
  {
   "cell_type": "code",
   "execution_count": null,
   "metadata": {},
   "outputs": [],
   "source": [
    "shaded_graph.show()"
   ]
  },
  {
   "cell_type": "code",
   "execution_count": null,
   "metadata": {},
   "outputs": [],
   "source": [
    "unshaded_graph.show()"
   ]
  },
  {
   "cell_type": "code",
   "execution_count": null,
   "metadata": {},
   "outputs": [],
   "source": [
    "shaded_graph.show(ymin=0, ymax=1.5, xmin=1, xmax=2, \\\n",
    "                  title=\"The area under the curve is given by the integral $\\int_{1}^{2}\\\\frac{3\\,x^{2}}{\\sqrt{25\\,x^{2}-3}}\\; \\mathrm{d}x$\")"
   ]
  },
  {
   "cell_type": "code",
   "execution_count": null,
   "metadata": {},
   "outputs": [],
   "source": [
    "unshaded_graph.show(aspect_ratio=1, figsize = 4, title=\"A graph of the function $\\\\frac{3x^2}{\\sqrt{25x^2-3}}$\")"
   ]
  },
  {
   "cell_type": "code",
   "execution_count": null,
   "metadata": {},
   "outputs": [],
   "source": []
  },
  {
   "cell_type": "markdown",
   "metadata": {},
   "source": [
    "If you want to export the graphical object in other to use it either in your $\\LaTeX$ or power point presentation, etc., then you can call the `save` method on the variable assigned to graphical object in order to save them. The file format that one can save the graphical object includes: `.pdf`, `.png`, `.ps`, `.eps`, `.svg` and `.sobj` (for a Sage object you can load later). With the `save` method, one can also specify the value of parameters like `xmin`, `xmax`, `ymin`, `ymax`, `figsize`, `title`, `aspect_ratio` (e.g. `g.show(aspect_ratio = 1)` ensures that the displayed object has equal scales for the $x$ and the $y$ axes), `fig_tight=False` (If you want a figure to be exactly a certain size), etc. You can read the help documentation for `save` for more information on these parameters. Here is an example."
   ]
  },
  {
   "cell_type": "code",
   "execution_count": null,
   "metadata": {},
   "outputs": [],
   "source": [
    "# This is just to create a file name. You can create at any place so long as you know the path.\n",
    "\n",
    "eps_filename = os.path.join(SAGE_ROOT, \"shaded_graph.eps\") # Note that the os module is already loaded into Sage\n",
    "\n",
    "shaded_graph.save(eps_filename, ymin=0, ymax=1.5, xmin=1, xmax=2, figsize = 5, fig_tight=\"False\")"
   ]
  },
  {
   "cell_type": "markdown",
   "metadata": {},
   "source": [
    "With the plus `+` operator, we can join two or more graphical objects together. "
   ]
  },
  {
   "cell_type": "code",
   "execution_count": null,
   "metadata": {},
   "outputs": [],
   "source": [
    "combined_graph = unshaded_graph + shaded_graph"
   ]
  },
  {
   "cell_type": "code",
   "execution_count": null,
   "metadata": {},
   "outputs": [],
   "source": [
    "show(combined_graph, figsize = 4, title=\"This shows $\\int_1^2 \\\\frac{3x^2}{\\sqrt{25x^2-3}}\\; \\mathrm{d}x$\")"
   ]
  },
  {
   "cell_type": "markdown",
   "metadata": {},
   "source": [
    "Instead of the above you can also do this."
   ]
  },
  {
   "cell_type": "code",
   "execution_count": null,
   "metadata": {},
   "outputs": [],
   "source": [
    "show(combined_graph, figsize=4)\n",
    "html(\"This shows $\\int_1^2 \\\\frac{3\\,x^2}{\\sqrt{25\\,x^2-3}}\\; \\mathrm{d}x$\")"
   ]
  },
  {
   "cell_type": "markdown",
   "metadata": {},
   "source": [
    "#### <font color=red>Exercise 27:</font> <a class=\"anchor\" id=\"exercise-27\"></a> \n",
    "\n",
    "Export the graphical object assigned to the variable `combined_graph` to the Desktop of your computer."
   ]
  },
  {
   "cell_type": "code",
   "execution_count": null,
   "metadata": {},
   "outputs": [],
   "source": []
  },
  {
   "cell_type": "markdown",
   "metadata": {},
   "source": [
    "Here is also a another demonstration as above but this time using the function $f(x) = \\sin(x)\\,x + 4$."
   ]
  },
  {
   "cell_type": "code",
   "execution_count": null,
   "metadata": {},
   "outputs": [],
   "source": [
    "f(x) = sin(x)* x + 4 # first, define the function to be used\n",
    "\n",
    "P = line([(2,0), (2, f(2))], color='black', thickness=2) # graphs the two horizontal lines\n",
    "\n",
    "P += line([(8,0),(8, f(8))], color='black', thickness=2) # This is the same as doing P = P + line([(8,0),(8, f(8))], color='black')\n",
    "\n",
    "# make the shade between the graph of f(x) and the x-axis \n",
    "\n",
    "# this will be a polygon with many points\n",
    "\n",
    "P += polygon([(2,0), (2,f(2))] + [(x, f(x)) for x in [2, 2.1,..,8]] + [(8,0), (2,0)],\\\n",
    "             rgbcolor=(0.5, 0.8, 0.7), aspect_ratio='automatic') \n",
    "\n",
    "#draw the text above the graph\n",
    "\n",
    "P += text(\"$\\\\int_{2}^8 (\\sin(x)\\,x+4)\\,\\mathrm{d}x$\", (4.6, 8), fontsize=20, color='black')\n",
    "\n",
    "P += plot(f, x, 1.5, 8.5, thickness=3) #draw the curve\n",
    "#show the plot\n",
    "show(P)"
   ]
  },
  {
   "cell_type": "code",
   "execution_count": null,
   "metadata": {},
   "outputs": [],
   "source": [
    "f(x) = sin(x)\n",
    "h(x) = cos(x)\n",
    "dom = (-2*pi, 2*pi) # the range over which we want to plot.\n",
    "\n",
    "xs = [pi*i/4 for i in range(-8, 9, 1)] # the ticks to be shown on the x-axis.\n",
    "ys = [-1, -1/2, 0, 1/2, 1] # the ticks to be shown on the y-axis.\n",
    "\n",
    "fplot = plot(f, dom) # plot of the f(x) over dom.\n",
    "hplot = plot(h, dom) # plot of the h(x) over dom.\n",
    "\n",
    "show(fplot+hplot, aspect_ratio=1, figsize=9) # show plots without the ticks option.\n",
    "show(fplot+hplot, aspect_ratio=1, figsize=9, ticks=[xs, ys]) # show plot with ticks option."
   ]
  },
  {
   "cell_type": "markdown",
   "metadata": {},
   "source": [
    "Somtimes one may want symbolic ticks:"
   ]
  },
  {
   "cell_type": "code",
   "execution_count": null,
   "metadata": {},
   "outputs": [],
   "source": [
    "show(fplot+hplot, aspect_ratio=1, figsize=9, ticks=[xs,ys], tick_formatter='latex')"
   ]
  },
  {
   "cell_type": "markdown",
   "metadata": {},
   "source": [
    "We could also play with `linestyle` option."
   ]
  },
  {
   "cell_type": "code",
   "execution_count": null,
   "metadata": {},
   "outputs": [],
   "source": [
    "fplot = plot(f, dom, linestyle='-', rgbcolor=(0,0,1), thickness=2)\n",
    "hplot = plot(h, dom, linestyle='-.', rgbcolor=(1,0,0), thickness=2)\n",
    "\n",
    "show(fplot+hplot, aspect_ratio=1, figsize=9, ticks=[xs,ys], tick_formatter='latex')"
   ]
  },
  {
   "cell_type": "markdown",
   "metadata": {},
   "source": [
    "We could also add the `fill` option."
   ]
  },
  {
   "cell_type": "code",
   "execution_count": null,
   "metadata": {},
   "outputs": [],
   "source": [
    "fplot = plot(f, dom, linestyle='--', rgbcolor=(0,0,1), thickness=2, fill='axis', fillcolor=(0,0,1), fillalpha=0.1)\n",
    "hplot = plot(h, dom, linestyle='-.', rgbcolor=(1,0,0), thickness=2, fill='axis', fillcolor=(1,0,0), fillalpha=0.1)\n",
    "\n",
    "show(fplot + hplot, aspect_ratio = 1, figsize=9, ticks=[xs,ys], tick_formatter='latex')"
   ]
  },
  {
   "cell_type": "markdown",
   "metadata": {},
   "source": [
    "#### <font color=red>Exercise 28:</font> <a class=\"anchor\" id=\"exercise-28\"></a> \n",
    "Appropriately label the graph above and add a legend to it. __Hint__: Use `legend_label` option for the `plot` comand and `legend_loc` option for the `show` command."
   ]
  },
  {
   "cell_type": "code",
   "execution_count": null,
   "metadata": {},
   "outputs": [],
   "source": []
  },
  {
   "cell_type": "code",
   "execution_count": null,
   "metadata": {},
   "outputs": [],
   "source": []
  },
  {
   "cell_type": "markdown",
   "metadata": {},
   "source": [
    "#### <font color=red>Exercise 29:</font> <a class=\"anchor\" id=\"exercise-29\"></a> \n",
    "\n",
    "Draw the graph of the `sine` function its first 10 Taylor polynomials on the same sage graph. __Hint__: Read on the help documentation on the function `taylor`. "
   ]
  },
  {
   "cell_type": "code",
   "execution_count": null,
   "metadata": {},
   "outputs": [],
   "source": []
  },
  {
   "cell_type": "code",
   "execution_count": null,
   "metadata": {},
   "outputs": [],
   "source": []
  },
  {
   "cell_type": "markdown",
   "metadata": {},
   "source": [
    "There is also an `animate` function in Sage that helps you to create animations. Let us use it to see how the Taylor polynomials approximate better and better the `sine` function when their degree increases. If you want to save the animation, it suffices to save it in the `gif` format. "
   ]
  },
  {
   "cell_type": "code",
   "execution_count": null,
   "metadata": {},
   "outputs": [],
   "source": []
  },
  {
   "cell_type": "code",
   "execution_count": null,
   "metadata": {},
   "outputs": [],
   "source": [
    "my_animate_obj = animate([[sin(x), taylor(sin(x), x, 0, 2*k+1)] for k in range(0, 14)], \\\n",
    "            xmin=-14, xmax=14, ymin=-3, ymax=3, figsize=[8, 4])\n",
    "\n",
    "my_animate_obj.show()"
   ]
  },
  {
   "cell_type": "code",
   "execution_count": null,
   "metadata": {},
   "outputs": [],
   "source": [
    "gif_filename = os.path.join(SAGE_ROOT, \"taylor_approx_sin.gif\") \n",
    "\n",
    "my_animate_obj.save(gif_filename)"
   ]
  },
  {
   "cell_type": "code",
   "execution_count": null,
   "metadata": {},
   "outputs": [],
   "source": []
  },
  {
   "cell_type": "markdown",
   "metadata": {},
   "source": [
    "#### 10.1.2 Parametric Curve <a class=\"anchor\" id=\"parametric-curve\"></a>\n",
    "\n",
    "Parametric curves $(x = f (t), y = g(t))$ may be visualised using the command \n",
    "\n",
    "   - `parametric_plot((f(t), g(t)), (t, a, b))` or \n",
    "   - `parametric_plot([f(t), g(t)], [t, a, b])` \n",
    "\n",
    "where `[a, b]` is the interval over which the parameter $t$ ranges. \n",
    "\n",
    "How will get the help documentation for the `parametric_plot` function in Sage?"
   ]
  },
  {
   "cell_type": "code",
   "execution_count": null,
   "metadata": {},
   "outputs": [],
   "source": [
    "parametric_plot?"
   ]
  },
  {
   "cell_type": "code",
   "execution_count": null,
   "metadata": {},
   "outputs": [],
   "source": []
  },
  {
   "cell_type": "markdown",
   "metadata": {},
   "source": [
    "Some of the list of the optional parameters available for the `parametric_plot` in Sage include those mentioned in the previous subsection <a href=\"#graphical-representation-of-a-function\"><b>10.1.1</b></a> and there are even more. Note that `parametric_plot()` is equivalent to the `plot()` command with the option `parametric=True`."
   ]
  },
  {
   "cell_type": "markdown",
   "metadata": {},
   "source": [
    "Let us show the parametric curve defined by the equations:\n",
    "\n",
    "\\begin{cases}\n",
    "x = \\frac{1}{2} \\, \\cos\\left(7 \\, t\\right) + \\cos\\left(t\\right) + \\frac{1}{3} \\, \\sin\\left(17 \\, t\\right) \\\\\n",
    "y = \\frac{1}{3} \\, \\cos\\left(17 \\, t\\right) + \\frac{1}{2} \\, \\sin\\left(7 \\, t\\right) + \\sin\\left(t\\right)\n",
    "\\end{cases}\n"
   ]
  },
  {
   "cell_type": "code",
   "execution_count": null,
   "metadata": {},
   "outputs": [],
   "source": [
    "t = var(\"t\")\n",
    "\n",
    "x = cos(t) + cos(7*t)/2 + sin(17*t)/3\n",
    "\n",
    "y = sin(t) + sin(7*t)/2 + cos(17*t)/3\n",
    "\n",
    "my_para_plot = parametric_plot((x, y), (t, 0, 2*pi))\n",
    "\n",
    "my_para_plot.show()\n",
    "\n",
    "html(\"Parametric curve of the equation $x(t) = \\\\frac{1}{2}\\,\\cos(7 \\,t)+\\cos(t) + \\\\frac{1}{3}\\,\\sin(17\\,t)$ and $y(t) = \\\\frac{1}{3}\\,\\cos(17\\,t)+\\\\frac{1}{2}\\,\\sin(7\\,t) + \\sin(t)$.\")"
   ]
  },
  {
   "cell_type": "markdown",
   "metadata": {},
   "source": [
    "Here is how you graph the same function using the Sage `plot` function with the option `parametric=True`."
   ]
  },
  {
   "cell_type": "code",
   "execution_count": null,
   "metadata": {},
   "outputs": [],
   "source": [
    "show(plot((x, y), (t, 0, 2*pi), parametric=True, aspect_ratio=1))\n",
    "\n",
    "html(\"Parametric curve of the equation $x(t) = \\\\frac{1}{2}\\,\\cos(7 \\,t)+\\cos(t) + \\\\frac{1}{3}\\,\\sin(17\\,t)$ and $y(t) = \\\\frac{1}{3}\\,\\cos(17\\,t)+\\\\frac{1}{2}\\,\\sin(7\\,t) + \\sin(t)$.\")"
   ]
  },
  {
   "cell_type": "code",
   "execution_count": null,
   "metadata": {},
   "outputs": [],
   "source": []
  },
  {
   "cell_type": "markdown",
   "metadata": {},
   "source": [
    "#### <font color=red>Exercise 30:</font> <a class=\"anchor\" id=\"exercise-30\"></a> \n",
    "\n",
    "Use the `plot` or `parametric_plot` commands in Sage with at least four optional arguments to draw the graph of the parametric curve defined by the following equations:  \n",
    "\\begin{cases}\n",
    "    x(t) = 10\\,\\sin(t)^{3}, \\\\ \n",
    "    y(t) = 9\\,\\cos(t) - 4\\,\\cos(2\\,t)-\\cos(3\\,t)-cos(4\\,t)\n",
    "\\end{cases}\n",
    "\n",
    "and\n",
    "\n",
    "\\begin{cases}\n",
    "    x(t) = g(x), \\\\ \n",
    "    y(t) = g'(x)\n",
    "\\end{cases}\n",
    "where $g(x) = \\frac{\\sin(x)}{x}$."
   ]
  },
  {
   "cell_type": "code",
   "execution_count": null,
   "metadata": {},
   "outputs": [],
   "source": []
  },
  {
   "cell_type": "code",
   "execution_count": null,
   "metadata": {},
   "outputs": [],
   "source": []
  },
  {
   "cell_type": "code",
   "execution_count": null,
   "metadata": {},
   "outputs": [],
   "source": []
  },
  {
   "cell_type": "markdown",
   "metadata": {},
   "source": [
    "#### 10.1.3 Curves in Polar Coordinates <a class=\"anchor\" id=\"curves-in-polar-coordinates\"></a>\n",
    "\n",
    "Curves in polar coordinates $\\rho = f(\\vartheta)$, where the parameter $\\vartheta$ spans the interval `[a, b]`, may be drawn by the command `polar_plot(rho(vartheta), (vartheta, a, b))`. \n",
    "\n",
    "How will you get the help documentation of the `polar_plot` command in Sage."
   ]
  },
  {
   "cell_type": "code",
   "execution_count": null,
   "metadata": {},
   "outputs": [],
   "source": [
    "polar_plot?"
   ]
  },
  {
   "cell_type": "markdown",
   "metadata": {},
   "source": [
    "Let us plot graphically the curves defined by the polar equation $\\rho(\\vartheta) = \\sin(3\\,\\vartheta)^{2}$ with $0 \\le \\vartheta \\le 2\\,\\pi$."
   ]
  },
  {
   "cell_type": "code",
   "execution_count": null,
   "metadata": {},
   "outputs": [],
   "source": [
    "theta = var(\"theta\")\n",
    "\n",
    "rho(theta) = sin(3 * theta)^2\n",
    "\n",
    "polar_plot(rho(theta), (theta, 0, 2*pi), fill=True, fillcolor=\"cyan\", \\\n",
    "           legend_label=r'$\\rho(\\theta) = %s$'%latex(rho(theta)), tick_formatter='latex')"
   ]
  },
  {
   "cell_type": "code",
   "execution_count": null,
   "metadata": {},
   "outputs": [],
   "source": []
  },
  {
   "cell_type": "markdown",
   "metadata": {},
   "source": [
    "#### <font color=red>Exercise 31:</font> <a class=\"anchor\" id=\"exercise-31\"></a>\n",
    "\n",
    "Use the `polar_plot` command to plot the rose-curves with polar equation $$\\rho(\\vartheta) = 1 + e \\,\\cos(n\\,\\vartheta), \\quad \\text{ with } \\quad n = \\frac{20}{19}\\, \\text{ and } e\\in\\{2, \\tfrac{1}{3}\\}.$$ and \n",
    "$$ \\varphi(\\vartheta) = \\cos(2\\,\\vartheta) \\quad \\text{ with } \\quad 0\\le\\vartheta\\le 2\\,\\pi.$$\n",
    "Use as many optional parameters as possible."
   ]
  },
  {
   "cell_type": "code",
   "execution_count": null,
   "metadata": {},
   "outputs": [],
   "source": []
  },
  {
   "cell_type": "code",
   "execution_count": null,
   "metadata": {},
   "outputs": [],
   "source": []
  },
  {
   "cell_type": "code",
   "execution_count": null,
   "metadata": {},
   "outputs": [],
   "source": []
  },
  {
   "cell_type": "markdown",
   "metadata": {},
   "source": [
    "#### 10.1.4 Curve Defined by an Implicit Equation <a class=\"anchor\" id=\"curve-defined-by-an-implicit-equation\"></a>\n",
    "\n",
    "To draw a curve given by an implicit equation, you need to call the function `implicit_plot(f(x, y), (x, a, b), (y, c, d))`; however, the `complex_plot` command may also be used, which enables us to draw in colour the level-set of a two-variable function. \n",
    "\n",
    "Read the help documentation for the commands `implicit_plot` and `complex_plot`."
   ]
  },
  {
   "cell_type": "code",
   "execution_count": null,
   "metadata": {},
   "outputs": [],
   "source": [
    "implicit_plot?"
   ]
  },
  {
   "cell_type": "code",
   "execution_count": null,
   "metadata": {},
   "outputs": [],
   "source": [
    "complex_plot?"
   ]
  },
  {
   "cell_type": "markdown",
   "metadata": {},
   "source": [
    "Let us draw the curve given by the implicit equation \n",
    "\n",
    "$$\\mathcal{C} = \\{z\\in\\mathbb{C}\\, |\\, |\\cos(z^{4})| = 1 \\}$$\n",
    "\n",
    "using the commands `implicit_plot` and `complex_plot`."
   ]
  },
  {
   "cell_type": "code",
   "execution_count": null,
   "metadata": {},
   "outputs": [],
   "source": [
    "z = var('z')\n",
    "\n",
    "my_complex_plot_1 = complex_plot(abs(cos(z^4))-1, (-3, 3), (-3, 3), plot_points=400)\n",
    "\n",
    "\n",
    "f = lambda x, y : (abs(cos((x + I * y) ** 4)) - 1) # Defining a lambda function.\n",
    "\n",
    "my_implicit_plot_1 = implicit_plot(f, (-3, 3), (-3, 3), plot_points=400)\n",
    "\n",
    "my_complex_plot_1.show(aspect_ratio=1); my_implicit_plot_1.show(aspect_ratio=1)"
   ]
  },
  {
   "cell_type": "markdown",
   "metadata": {},
   "source": [
    "#### <font color=red>Exercise 32:</font> <a class=\"anchor\" id=\"exercise-32\"></a>\n",
    "\n",
    "Use the `implicit_plot` and the `complex_plot` commands in Sage to plot a function of your choice. You can use this function \n",
    "\n",
    "$$\\mathcal{D} = \\left\\{z\\in\\mathbb{C}\\, |\\, |\\sin(z^{5})| = \\tfrac{3}{2}\\right\\}$$\n",
    "\n",
    "if it you can not think of any now. Use as many optional parameters as possible."
   ]
  },
  {
   "cell_type": "code",
   "execution_count": null,
   "metadata": {},
   "outputs": [],
   "source": []
  },
  {
   "cell_type": "code",
   "execution_count": null,
   "metadata": {},
   "outputs": [],
   "source": []
  },
  {
   "cell_type": "code",
   "execution_count": null,
   "metadata": {},
   "outputs": [],
   "source": []
  },
  {
   "cell_type": "code",
   "execution_count": null,
   "metadata": {},
   "outputs": [],
   "source": []
  },
  {
   "cell_type": "code",
   "execution_count": null,
   "metadata": {},
   "outputs": [],
   "source": []
  },
  {
   "cell_type": "markdown",
   "metadata": {},
   "source": [
    "#### 10.1.5 Data Visualisation <a class=\"anchor\" id=\"data-visualisation\"></a>"
   ]
  },
  {
   "cell_type": "code",
   "execution_count": null,
   "metadata": {},
   "outputs": [],
   "source": [
    "bar_chart([randrange(15) for i in range(20)])"
   ]
  },
  {
   "cell_type": "code",
   "execution_count": null,
   "metadata": {},
   "outputs": [],
   "source": [
    "bar_chart([x^2 for x in [1..20]], width=0.2)"
   ]
  },
  {
   "cell_type": "code",
   "execution_count": null,
   "metadata": {},
   "outputs": [],
   "source": []
  },
  {
   "cell_type": "code",
   "execution_count": null,
   "metadata": {},
   "outputs": [],
   "source": []
  },
  {
   "cell_type": "code",
   "execution_count": null,
   "metadata": {},
   "outputs": [],
   "source": []
  },
  {
   "cell_type": "code",
   "execution_count": null,
   "metadata": {},
   "outputs": [],
   "source": []
  },
  {
   "cell_type": "code",
   "execution_count": null,
   "metadata": {},
   "outputs": [],
   "source": []
  },
  {
   "cell_type": "code",
   "execution_count": null,
   "metadata": {},
   "outputs": [],
   "source": []
  },
  {
   "cell_type": "code",
   "execution_count": null,
   "metadata": {},
   "outputs": [],
   "source": []
  },
  {
   "cell_type": "code",
   "execution_count": null,
   "metadata": {},
   "outputs": [],
   "source": []
  },
  {
   "cell_type": "code",
   "execution_count": null,
   "metadata": {},
   "outputs": [],
   "source": []
  },
  {
   "cell_type": "markdown",
   "metadata": {},
   "source": [
    "#### 10.1.6 Displaying Solutions of Differential Equations <a class=\"anchor\" id=\"displaying-solutions-of-differential-equations\"></a>"
   ]
  },
  {
   "cell_type": "markdown",
   "metadata": {},
   "source": [
    "#### 10.1.7 List of 2D Plotting Commands in Sage and Some Examples<a class=\"anchor\" id=\"list-of-2d-plotting-commands-in-sage-and-some-examples\"></a> \n",
    "\n"
   ]
  },
  {
   "cell_type": "code",
   "execution_count": null,
   "metadata": {},
   "outputs": [],
   "source": [
    "k(x,y) = sin(x) + cos(y)\n",
    "l(x,y) = sin(x) * cos(y)\n",
    "m(x,y) = sin(x^2 + y^2)"
   ]
  },
  {
   "cell_type": "code",
   "execution_count": null,
   "metadata": {},
   "outputs": [],
   "source": [
    "region_plot(k(x, y)>0, (x,-2*pi, 2*pi), (y, -2*pi, 2*pi))"
   ]
  },
  {
   "cell_type": "code",
   "execution_count": null,
   "metadata": {},
   "outputs": [],
   "source": [
    "region_plot(k(x, y)>0.5, (x,-2*pi, 2*pi), (y, -2*pi, 2*pi))"
   ]
  },
  {
   "cell_type": "code",
   "execution_count": null,
   "metadata": {},
   "outputs": [],
   "source": [
    "region_plot(l(x, y)>0, (x,-2*pi, 2*pi), (y, -2*pi, 2*pi))"
   ]
  },
  {
   "cell_type": "code",
   "execution_count": null,
   "metadata": {},
   "outputs": [],
   "source": [
    "region_plot(l(x, y)>0.5, (x,-2*pi, 2*pi), (y, -2*pi, 2*pi))"
   ]
  },
  {
   "cell_type": "code",
   "execution_count": null,
   "metadata": {},
   "outputs": [],
   "source": [
    "region_plot(m(x, y)>0, (x,-2*pi, 2*pi), (y, -2*pi, 2*pi))"
   ]
  },
  {
   "cell_type": "code",
   "execution_count": null,
   "metadata": {},
   "outputs": [],
   "source": [
    "region_plot(m(x, y)>0.5, (x,-2*pi, 2*pi), (y, -2*pi, 2*pi))"
   ]
  },
  {
   "cell_type": "code",
   "execution_count": null,
   "metadata": {},
   "outputs": [],
   "source": [
    "contour_plot(k, dom, dom)"
   ]
  },
  {
   "cell_type": "code",
   "execution_count": null,
   "metadata": {},
   "outputs": [],
   "source": [
    "contour_plot(l, dom, dom)"
   ]
  },
  {
   "cell_type": "code",
   "execution_count": null,
   "metadata": {},
   "outputs": [],
   "source": [
    "contour_plot(m, dom, dom)"
   ]
  },
  {
   "cell_type": "code",
   "execution_count": null,
   "metadata": {},
   "outputs": [],
   "source": [
    "density_plot(k, dom, dom)"
   ]
  },
  {
   "cell_type": "code",
   "execution_count": null,
   "metadata": {},
   "outputs": [],
   "source": [
    "density_plot(l, dom, dom)"
   ]
  },
  {
   "cell_type": "code",
   "execution_count": null,
   "metadata": {},
   "outputs": [],
   "source": [
    "density_plot(m, dom, dom)"
   ]
  },
  {
   "cell_type": "code",
   "execution_count": null,
   "metadata": {},
   "outputs": [],
   "source": [
    "xs = [random() for t in range(100)]\n",
    "ys = [5*t + random() for t in xs]\n",
    "def get_class(x):\n",
    "    if random()<x:\n",
    "        return 1\n",
    "    else:\n",
    "        return 0\n",
    "zs = map(get_class, xs)"
   ]
  },
  {
   "cell_type": "code",
   "execution_count": null,
   "metadata": {},
   "outputs": [],
   "source": [
    "plot(points(zip(xs,ys)), figsize=5)"
   ]
  },
  {
   "cell_type": "code",
   "execution_count": null,
   "metadata": {},
   "outputs": [],
   "source": [
    "plot(points(zip(xs,zs)), figsize=5)"
   ]
  },
  {
   "cell_type": "code",
   "execution_count": null,
   "metadata": {},
   "outputs": [],
   "source": [
    "ps = [[],[]]\n",
    "for i,z in enumerate(zip(xs,ys)):\n",
    "    ps[zs[i]].append(z)"
   ]
  },
  {
   "cell_type": "code",
   "execution_count": null,
   "metadata": {},
   "outputs": [],
   "source": [
    "plotps0 = plot(points(ps[0], color='green', size=20, faceted=True, alpha=0.5))\n",
    "plotps1 = plot(points(ps[1], color='red', size=20, faceted=True, alpha=0.5))\n",
    "plotps0+plotps1"
   ]
  },
  {
   "cell_type": "code",
   "execution_count": null,
   "metadata": {},
   "outputs": [],
   "source": [
    "show(sum(circle((i, 0), i) for i in [10,9.9,..,0]))"
   ]
  },
  {
   "cell_type": "markdown",
   "metadata": {},
   "source": [
    "### 10.2 3D Graphics <a class=\"anchor\" id=\"3d-graphics\"></a>\n",
    "\n"
   ]
  },
  {
   "cell_type": "code",
   "execution_count": null,
   "metadata": {},
   "outputs": [],
   "source": []
  },
  {
   "cell_type": "code",
   "execution_count": null,
   "metadata": {},
   "outputs": [],
   "source": []
  },
  {
   "cell_type": "markdown",
   "metadata": {},
   "source": []
  },
  {
   "cell_type": "code",
   "execution_count": null,
   "metadata": {},
   "outputs": [],
   "source": []
  },
  {
   "cell_type": "code",
   "execution_count": null,
   "metadata": {},
   "outputs": [],
   "source": []
  },
  {
   "cell_type": "markdown",
   "metadata": {},
   "source": [
    "Or maybe it was something that you really need to see from more than one viewpoint."
   ]
  },
  {
   "cell_type": "code",
   "execution_count": null,
   "metadata": {},
   "outputs": [],
   "source": [
    "u, v = var('u,v')\n",
    "f1 = (4+(3+cos(v))*sin(u), 4+(3+cos(v))*cos(u), 4+sin(v))\n",
    "f2 = (8+(3+cos(v))*cos(u), 3+sin(v), 4+(3+cos(v))*sin(u))\n",
    "p1 = parametric_plot3d(f1, (u,0,2*pi), (v,0,2*pi), texture=\"red\")\n",
    "p2 = parametric_plot3d(f2, (u,0,2*pi), (v,0,2*pi), texture=\"blue\")\n",
    "show(p1 + p2)"
   ]
  },
  {
   "cell_type": "code",
   "execution_count": null,
   "metadata": {},
   "outputs": [],
   "source": [
    "(x, y) = var(\"x\", \"y\")\n",
    "plot3d(sin(pi*sqrt(x^2 + y^2))/sqrt(x^2+y^2),(x,-5,5), (y,-5,5))"
   ]
  },
  {
   "cell_type": "code",
   "execution_count": null,
   "metadata": {},
   "outputs": [],
   "source": [
    "import random\n",
    "\n",
    "r = [(random.randint(10,99), random.randint(10,99)) for i in range(100)]\n",
    "\n",
    "list_plot(r, color='blue', size = 70)"
   ]
  },
  {
   "cell_type": "markdown",
   "metadata": {},
   "source": [
    "### 10.3 Interact <a class=\"anchor\" id=\"interact\"></a>\n",
    "\n",
    "Part of this section of this tutorial is adated from one developed for the MAA PREP Workshop \"Sage: Using Open-Source Mathematics Software with Undergraduates\" (funding provided by NSF DUE 0817071). Invaluable resources are the Sage wiki <http://wiki.sagemath.org/interact> (type \"sage interact\" into Google) and the [interact documentation](http://sagemath.org/doc/reference/notebook/sagenb/notebook/interact.html#sagenb.notebook.interact.interact).\n",
    "\n",
    "How would one create an interactive cell? First, let's focus on a new thing to do! Perhaps we just want a graph plotter that has some options. \n",
    "\n",
    "Before we start, I want to set all my graph objects to a particular size so it will fit on the screen. You do not have to do this so please comment out the code in the cell below or do not run it. "
   ]
  },
  {
   "cell_type": "code",
   "execution_count": null,
   "metadata": {},
   "outputs": [],
   "source": [
    "sage.plot.graphics.Graphics.SHOW_OPTIONS['figsize'] = 4"
   ]
  },
  {
   "cell_type": "markdown",
   "metadata": {},
   "source": [
    "Now let's start by getting the commands for what you want the output to look like. Here we just want a simple plot."
   ]
  },
  {
   "cell_type": "code",
   "execution_count": null,
   "metadata": {},
   "outputs": [],
   "source": [
    "plot(x^2,(x,-3,3))"
   ]
  },
  {
   "cell_type": "markdown",
   "metadata": {},
   "source": [
    "Then you abstract out the parts you want to change. We'll be letting the user change the function, so let's make that a variable $f$."
   ]
  },
  {
   "cell_type": "code",
   "execution_count": null,
   "metadata": {},
   "outputs": [],
   "source": [
    "f=x^3\n",
    "\n",
    "plot(f,(x,-3,3))"
   ]
  },
  {
   "cell_type": "markdown",
   "metadata": {},
   "source": [
    "This was important because it allowed you to step back and think about what you would really be doing.\n",
    "\n",
    "Now for the technical part. We make this a `def` function. The `show` or `print` is needed since the output is not automatically printed from within a function. Note also that we give the variable a default value\n",
    "of $x^2$. This is what $f$ is if the user does not specify a value for $f$."
   ]
  },
  {
   "cell_type": "code",
   "execution_count": null,
   "metadata": {},
   "outputs": [],
   "source": [
    "def my_plot(f=x^2):\n",
    "    show(plot(f,(x,-3,3)))"
   ]
  },
  {
   "cell_type": "markdown",
   "metadata": {},
   "source": [
    "Let's test the `def` function `my_plot` by just calling it."
   ]
  },
  {
   "cell_type": "code",
   "execution_count": null,
   "metadata": {},
   "outputs": [],
   "source": [
    "my_plot()"
   ]
  },
  {
   "cell_type": "markdown",
   "metadata": {},
   "source": [
    "If we call it with a different value for $f$, we should get a different plot."
   ]
  },
  {
   "cell_type": "code",
   "execution_count": null,
   "metadata": {},
   "outputs": [],
   "source": [
    "my_plot(x^3)"
   ]
  },
  {
   "cell_type": "markdown",
   "metadata": {},
   "source": [
    "So far, we've only defined a new function, so this was technically review. To make a control to enter the function, we just preface the function with `@interact`."
   ]
  },
  {
   "cell_type": "code",
   "execution_count": null,
   "metadata": {},
   "outputs": [],
   "source": [
    "@interact\n",
    "def myplot(f=x^2):\n",
    "    show(plot(f,(x,-3,3)))"
   ]
  },
  {
   "cell_type": "markdown",
   "metadata": {},
   "source": [
    "Technically what the `@interact` does is wrap the function, so the above is equivalent to:\n",
    "\n",
    "    def my_plot(..): ...\n",
    "\n",
    "    my_plot=interact(my_plot)\n",
    "\n",
    "Note that we can still call our function, even when we've used `@interact`. This is often useful in debugging it."
   ]
  },
  {
   "cell_type": "code",
   "execution_count": null,
   "metadata": {},
   "outputs": [],
   "source": [
    "my_plot(x^3 + x^2 - 5)"
   ]
  },
  {
   "cell_type": "markdown",
   "metadata": {},
   "source": [
    "We can go ahead and replace other parts of the expression with variables. Note the `_` is the function name now. That is just a convention for throw-away names that we don't care about."
   ]
  },
  {
   "cell_type": "code",
   "execution_count": null,
   "metadata": {},
   "outputs": [],
   "source": [
    "@interact\n",
    "def _(f = x^2, a = -3, b = 3):\n",
    "    \n",
    "    show(plot(f, (x, a, b)))"
   ]
  },
  {
   "cell_type": "markdown",
   "metadata": {},
   "source": [
    "If we pass `('label', default_value)` in for a control, then the control gets the label when printed. Here, we've put in some text for all three of them. Remember that the text must be in quotes! Otherwise Sage will\n",
    "think that you are referring (for example) to some variable called lower, which it will think you forgot to define."
   ]
  },
  {
   "cell_type": "code",
   "execution_count": null,
   "metadata": {},
   "outputs": [],
   "source": [
    "@interact\n",
    "def _(f=('$f$',x^2),a=('lower',-3),b=('upper',3)):\n",
    "    show(plot(f,(x,a,b)))"
   ]
  },
  {
   "cell_type": "markdown",
   "metadata": {},
   "source": [
    "We can specify the type of control explicitly, along with options. Here we use the function `input_box` and set the `width` to 20 and `label` to $f$."
   ]
  },
  {
   "cell_type": "code",
   "execution_count": null,
   "metadata": {},
   "outputs": [],
   "source": [
    "@interact\n",
    "def _(f=input_box(x^2, width=20, label=\"$f$\")):\n",
    "    show(plot(f,(x,-3,3)))"
   ]
  },
  {
   "cell_type": "markdown",
   "metadata": {},
   "source": [
    "Here's another type of control: a color picker."
   ]
  },
  {
   "cell_type": "code",
   "execution_count": null,
   "metadata": {},
   "outputs": [],
   "source": [
    "@interact\n",
    "def _(f=input_box(x^2,width=20), color=color_selector(widget='colorpicker')):\n",
    "    show(plot(f,(x,-3,3), color=color))"
   ]
  },
  {
   "cell_type": "markdown",
   "metadata": {},
   "source": [
    "We have to use the annoying syntax `color_selector(widget='colorpicker')` because the default is currently\n",
    "broken in at least some browsers.\n",
    "\n",
    "Here we demonstrate a bunch of options. Notice the new controls:\n",
    "\n",
    "-   range slider, which passes in *two* values, zoom\\[0\\] and zoom\\[1\\]\n",
    "-   True/False gets converted to checkboxes"
   ]
  },
  {
   "cell_type": "code",
   "execution_count": null,
   "metadata": {},
   "outputs": [],
   "source": [
    "@interact\n",
    "def _(f=input_box(x^2,width=20), \n",
    "color=color_selector(widget='colorpicker', label=\"\"),\n",
    "axes=True,\n",
    "fill=True,\n",
    "zoom=range_slider(-3,3,default=(-3,3))):\n",
    "    show(plot(f,(x,zoom[0], zoom[1]), color=color, axes=axes,fill=fill))"
   ]
  },
  {
   "cell_type": "markdown",
   "metadata": {},
   "source": [
    "That was a bit ugly because all of the controls were stacked on top of each other. We can lay out the controls in a grid in the `top`, `bottom`, `left`, or `right` using the `layout` parameter."
   ]
  },
  {
   "cell_type": "code",
   "execution_count": null,
   "metadata": {},
   "outputs": [],
   "source": [
    "@interact(layout=dict(top=[['f', 'color']],\n",
    "left=[['axes'],['fill']],\n",
    "bottom=[['zoom']]))\n",
    "def _(f=input_box(x^2,width=21),\n",
    "color=color_selector(widget='colorpicker', label=\"\"),\n",
    "axes=True,\n",
    "fill=True,\n",
    "zoom=range_slider(-3,3, default=(-3,3))):\n",
    "    show(plot(f,(x,zoom[0], zoom[1]), color=color, axes=axes,fill=fill))"
   ]
  },
  {
   "cell_type": "markdown",
   "metadata": {},
   "source": [
    "#### 10.2.1 Control Types <a class=\"anchor\" id=\"control-types\"></a>\n",
    "\n",
    "There are many potential types of widgets one might want to use for interactive control. Sage has all of the following:\n",
    "\n",
    "-   boxes\n",
    "-   sliders\n",
    "-   range sliders\n",
    "-   checkboxes\n",
    "-   selectors (dropdown lists or buttons)\n",
    "-   grid of boxes\n",
    "-   color selectors\n",
    "-   plain text\n",
    "\n",
    "We will illustrate some of these after pointing one thing out: the interact documentation!"
   ]
  },
  {
   "cell_type": "code",
   "execution_count": null,
   "metadata": {},
   "outputs": [],
   "source": [
    "interact?"
   ]
  },
  {
   "cell_type": "markdown",
   "metadata": {},
   "source": [
    "There are many shortcuts and default arguments for doing interacts which are very useful. I will not even attempt to cover them now, but read the documentation and try the examples to get a feel for what is possible,\n",
    "and how much - or little - code is needed to achieve it."
   ]
  },
  {
   "cell_type": "code",
   "execution_count": null,
   "metadata": {},
   "outputs": [],
   "source": [
    "@interact\n",
    "def _(frame=checkbox(True, label='Use frame')):\n",
    "    show(plot(sin(x), (x,-5,5)), frame=frame)"
   ]
  },
  {
   "cell_type": "code",
   "execution_count": null,
   "metadata": {},
   "outputs": [],
   "source": [
    "var('x,y')\n",
    "colormaps=sage.plot.colors.colormaps.keys()\n",
    "@interact\n",
    "def _(cmap=selector(colormaps)):\n",
    "    contour_plot(x^2-y^2,(x,-2,2),(y,-2,2),cmap=cmap).show()"
   ]
  },
  {
   "cell_type": "code",
   "execution_count": null,
   "metadata": {},
   "outputs": [],
   "source": [
    "var('x,y')\n",
    "colormaps=sage.plot.colors.colormaps.keys()\n",
    "@interact\n",
    "def _(cmap=selector(['RdBu', 'jet', 'gray','gray_r'],buttons=True),\n",
    "type=['density','contour']):\n",
    "    if type=='contour':\n",
    "        contour_plot(x^2-y^2,(x,-2,2),(y,-2,2),cmap=cmap, aspect_ratio=1).show()\n",
    "    else:\n",
    "        density_plot(x^2-y^2,(x,-2,2),(y,-2,2),cmap=cmap, frame=True,axes=False,aspect_ratio=1).show()"
   ]
  },
  {
   "cell_type": "markdown",
   "metadata": {},
   "source": [
    "By default, ranges are sliders that divide the range into 500 steps (I\n",
    "think that's the right number...)"
   ]
  },
  {
   "cell_type": "code",
   "execution_count": null,
   "metadata": {},
   "outputs": [],
   "source": [
    "@interact\n",
    "def _(n=(1,20)):\n",
    "    print factorial(n)"
   ]
  },
  {
   "cell_type": "markdown",
   "metadata": {},
   "source": [
    "You can set the step size to get, for example, just integer values."
   ]
  },
  {
   "cell_type": "code",
   "execution_count": null,
   "metadata": {},
   "outputs": [],
   "source": [
    "@interact\n",
    "def _(n=slider(1,20,step_size=3)):\n",
    "    print factorial(n)"
   ]
  },
  {
   "cell_type": "markdown",
   "metadata": {},
   "source": [
    "Or you can explicitly specify the slider values."
   ]
  },
  {
   "cell_type": "code",
   "execution_count": null,
   "metadata": {},
   "outputs": [],
   "source": [
    "@interact\n",
    "def _(n=slider([1..20])):\n",
    "    print factorial(n)"
   ]
  },
  {
   "cell_type": "markdown",
   "metadata": {},
   "source": [
    "And the slider values don't even have to be numbers!"
   ]
  },
  {
   "cell_type": "code",
   "execution_count": null,
   "metadata": {},
   "outputs": [],
   "source": [
    "@interact\n",
    "def _(func=('function', slider([sin, cos, tan, sec, csc, cot]))):\n",
    "    pretty_print(html('$%s(%s)=%s$'%(latex(func), latex(pi/3), latex(func(pi/3)))))"
   ]
  },
  {
   "cell_type": "markdown",
   "metadata": {},
   "source": [
    "Matrices are automatically converted to a grid of input boxes."
   ]
  },
  {
   "cell_type": "code",
   "execution_count": null,
   "metadata": {},
   "outputs": [],
   "source": [
    "# for some reason this gives an error\n",
    "@interact\n",
    "def _(m=('matrix', identity_matrix(2))):\n",
    "    print m.eigenvalues()"
   ]
  },
  {
   "cell_type": "markdown",
   "metadata": {},
   "source": [
    "Here's how to get vectors from a grid of boxes."
   ]
  },
  {
   "cell_type": "code",
   "execution_count": null,
   "metadata": {},
   "outputs": [],
   "source": [
    "# for some reason this gives an error\n",
    "@interact\n",
    "def _(v=('vector', input_grid(1, 4, default=[[1,2,3,6]], to_value=lambda x: vector(flatten(x))))):\n",
    "    print v.norm()"
   ]
  },
  {
   "cell_type": "markdown",
   "metadata": {},
   "source": [
    "As a final tip, sometimes we don't want any updates until we specifically say so. This is especially useful when there are a lot of things to change and it would be annoying to have the interact constantly update. An example of such a case when this is needed is when changing the entries of a matrix. We can use the `auto_update=False` option for that."
   ]
  },
  {
   "cell_type": "code",
   "execution_count": null,
   "metadata": {},
   "outputs": [],
   "source": [
    "@interact\n",
    "def _(m=('matrix', identity_matrix(2)), auto_update=False):\n",
    "    print m.eigenvalues()"
   ]
  },
  {
   "cell_type": "code",
   "execution_count": null,
   "metadata": {},
   "outputs": [],
   "source": [
    "@interact\n",
    "def _(frame=checkbox(True, label='Use frame'), auto_update=False):\n",
    "    show(plot(sin(x), (x,-5,5)), frame=frame)"
   ]
  },
  {
   "cell_type": "markdown",
   "metadata": {},
   "source": [
    "If you like numerical methods, these come built-in as well.  Note the interactivity Sage can provide."
   ]
  },
  {
   "cell_type": "code",
   "execution_count": null,
   "metadata": {},
   "outputs": [],
   "source": [
    "import pylab\n",
    "A_image = pylab.mean(pylab.imread('images/university_of_ibadan.png'), 2)\n",
    "B_image = pylab.mean(pylab.imread('images/nigeria_flag.png'), 2)\n",
    "@interact\n",
    "def svd_image(i=(5,(1..50))):\n",
    "    u,s,v = pylab.linalg.svd(A_image)\n",
    "    A = sum(s[j]*pylab.outer(u[0:,j],v[j,0:]) for j in range(i))\n",
    "    u1,s1,v1 = pylab.linalg.svd(B_image)\n",
    "    B = sum(s1[j]*pylab.outer(u1[0:,j],v1[j,0:]) for j in range(i))\n",
    "    g = graphics_array([[matrix_plot(A),matrix_plot(B)],[matrix_plot(A_image),matrix_plot(B_image)]])\n",
    "    show(g,axes=False, figsize=6)\n",
    "    pretty_print(html('<h2>Compressed using %s eigenvalues</h2>'%i))"
   ]
  },
  {
   "cell_type": "code",
   "execution_count": null,
   "metadata": {},
   "outputs": [],
   "source": [
    "y = var('y') \n",
    "@interact \n",
    "def _(g=input_box(default = 1-y),a=2,b=2,auto_update=False): \n",
    "     yfun = function('yfun')(x) \n",
    "     f = desolve(diff(yfun,x) - g(y=yfun), yfun, ics=[a,b]) \n",
    "     Q=plot(f,0,3) \n",
    "     q = Q[0].get_minmax_data()\n",
    "     P=plot_slope_field(g,(x,q['xmin'],q['xmax']),(y,q['ymin'],q['ymax']),figsize=4) \n",
    "     pretty_print(html('$f(x)=%s$'%(latex(f),)))\n",
    "     show(P+Q)"
   ]
  },
  {
   "cell_type": "markdown",
   "metadata": {},
   "source": [
    "In the previous example, notice that it's possible to join several different types of computations together. In this example, we calculate a symbolic solution to a differential equation, but plot the slope field and solution numerically.  Sage tries to be unified as much as possible."
   ]
  },
  {
   "cell_type": "code",
   "execution_count": null,
   "metadata": {},
   "outputs": [],
   "source": [
    "@interact\n",
    "def power_table_plot(p=(7,prime_range(50))):\n",
    "    P=matrix_plot(matrix(p-1,[mod(a,p)^b for a in range(1,p) for b in srange(p)]),cmap='jet')\n",
    "    show(P)"
   ]
  },
  {
   "cell_type": "markdown",
   "metadata": {},
   "source": [
    "Here is another example obtained from the [SageMath wiki page for interact](https://wiki.sagemath.org/interact)."
   ]
  },
  {
   "cell_type": "code",
   "execution_count": null,
   "metadata": {},
   "outputs": [],
   "source": [
    "x   = SR.var('x')\n",
    "x0  = 0\n",
    "f   = sin(x) * e^(-x)\n",
    "p   = plot(f, -1, 5, thickness=2)\n",
    "dot = point((x0, f(x=x0)), pointsize=80, rgbcolor=(1, 0, 0))\n",
    "\n",
    "@interact\n",
    "def _(order=slider([1 .. 15]), auto_update=False):\n",
    "  ft = f.taylor(x, x0, order)\n",
    "  pt = plot(ft, -1, 5, color='green', thickness=2)\n",
    "  pretty_print(html('$f(x)\\;=\\;%s$' % latex(f)))\n",
    "  pretty_print(html('$\\hat{f}(x;%s)\\;=\\;%s+\\mathcal{O}(x^{%s})$' % (x0, latex(ft), order+1)))\n",
    "  show(dot + p + pt, ymin=-.5, ymax=1)"
   ]
  },
  {
   "cell_type": "code",
   "execution_count": null,
   "metadata": {},
   "outputs": [],
   "source": []
  },
  {
   "cell_type": "markdown",
   "metadata": {},
   "source": [
    "#### 10.2.2 Interact Competition <a class=\"anchor\" id=\"interact-competition\"></a>\n",
    "\n",
    "I hope you like this interact feature of SageMath. We would divid ourselves into groups and try to come up with an original idea that can be used with `@interact`. Over the course of the week, the group members should meet and try to use the SageMath `@interact` feature to demonstrate your idea. Then on the last day of the workshop, i.e., <b><font color=red>Friday, 19th of July</font></b> the groups will present their work and afterwards there will be questions. The time allocation for the presentation will depend on how many groups will be presenting. Although this exercise is not mandatory, I strongly encourage you to participate in it.\n",
    "\n",
    "- The submitted work should contain original ideas. Group work is encouraged! The jury will consider following aspects of each work:\n",
    "\n",
    "    - the originality of  the idea\n",
    "    - the quality of graphics\n",
    "    - the scientific message and content \n",
    "    - the explanation of  ideas and the possible application of the Sage `@interact`\n",
    "\n",
    "- The interact resource listed at <a href=\"sagemath-resources\">SageMath Resources</a> section of this notebook might be a good source of inspiration as well as knowledge, as are Wolfram Demonstrations or any scientific illustrations on the web.  While SageMath `@interact` applications found on the web may be used as inspiration, the submissions should be primarily original work of the participants.\n",
    "\n",
    "- Submission Protocol:\n",
    "\n",
    "    - Create an interact in ONE cell in a worksheet.\n",
    "    - Explain it as described above in ONE text cell in the worksheet.\n",
    "    - Put your name or all members of a group clearly in the explanation.\n",
    "    - Call it `Group_Number_Interact_Submission` (for example, Group_1_Interact_Submission) and download the Jupyter notebook.\n",
    "    - Reply to the official announcement email from Evans, with the jupyter  notebook attached. Note that all worksheet should contain the names of the group members.\n",
    "    - Keep calm and relax!"
   ]
  },
  {
   "cell_type": "markdown",
   "metadata": {},
   "source": []
  },
  {
   "cell_type": "code",
   "execution_count": null,
   "metadata": {},
   "outputs": [],
   "source": []
  },
  {
   "cell_type": "markdown",
   "metadata": {},
   "source": [
    "## 11 $\\TeX$ in [SageMath](http://www.sagemath.org) <a class=\"anchor\" id=\"tex-in-sagemath\"></a>\n",
    "\n",
    "Sage is able to generate the $\\TeX$ code for objects of any class. To generate the $\\TeX$ code you have to pass the object as an argument to the Sage function latex. For example:"
   ]
  },
  {
   "cell_type": "code",
   "execution_count": null,
   "metadata": {},
   "outputs": [],
   "source": [
    "latex(my_list)"
   ]
  },
  {
   "cell_type": "markdown",
   "metadata": {},
   "source": [
    "We can even get the $\\TeX$ code for complicated objects."
   ]
  },
  {
   "cell_type": "code",
   "execution_count": null,
   "metadata": {},
   "outputs": [],
   "source": [
    "latex(my_graph)"
   ]
  },
  {
   "cell_type": "markdown",
   "metadata": {},
   "source": [
    "One can also run Sage code in $\\LaTeX$. For more information on this see the [SageTeX documentation](http://doc.sagemath.org/html/en/tutorial/sagetex.html)."
   ]
  },
  {
   "cell_type": "markdown",
   "metadata": {},
   "source": [
    "## 12 Sage Outside Jupyter Notebook <a class=\"anchor\" id=\"sage-outside-jupyter-notebook\"></a>\n",
    "\n",
    "Apart from this Jupyter notebook, there are other ways to use SageMath. As far as I know, there are basically four different ways to run SageMath."
   ]
  },
  {
   "cell_type": "code",
   "execution_count": null,
   "metadata": {},
   "outputs": [],
   "source": []
  },
  {
   "cell_type": "markdown",
   "metadata": {},
   "source": [
    "### 12.1 [CoCalc](https://cocalc.com/) <a class=\"anchor\" id=\"cocalc\"></a>\n",
    "\n",
    "[CoCalc](https://cocalc.com/) ([<https://cocalc.com/>](https://cocalc.com/)) formerly called SageMath Cloud is an abbreviation for **Co**llaborative **Cal**culation in the **C**loud. It is a sophicated web application for online computations which requires no installation. Apart from SageMath, it runs other softwares like IPython, LaTeX, C++, Julia, Python, Ruby, Haskell, etc. It's particularly good for collaboration on an entire project across large distances. In order to have access to [CoCalc](https://cocalc.com/), you will have to [sign-up here](https://cocalc.com/settings?session=default) by creating an account. Here is a youtube video which provides more detials on [CoCalc](https://cocalc.com/)."
   ]
  },
  {
   "cell_type": "code",
   "execution_count": null,
   "metadata": {},
   "outputs": [],
   "source": []
  },
  {
   "cell_type": "markdown",
   "metadata": {},
   "source": [
    "### 12.2 [SageMath Cell Server](http://sagecell.sagemath.org/) <a class=\"anchor\" id=\"sagemath-cell-server\"></a>\n",
    "\n",
    "The SageMath cell server ([<http://sagecell.sagemath.org/>](http://sagecell.sagemath.org/)) is somewhat analogous to Wolfram Alpha and other computational websites. You just type in a command and it does it for you. It doesn't have a \"memory\" so it is not useful for long computations, but very convenient if you are on the internet and just want to try something quickly. This is convenient for many reasons; for some sage developers, it is useful for making class notes that are themselves websites. Here is an [example](http://www.math-cs.gordon.edu/~kcrisman/mat338/MAT338Day2-2013.html)."
   ]
  },
  {
   "cell_type": "code",
   "execution_count": null,
   "metadata": {},
   "outputs": [],
   "source": []
  },
  {
   "cell_type": "markdown",
   "metadata": {},
   "source": [
    "### 12.3 SageMath Shell <a class=\"anchor\" id=\"sagemath-shell\"></a>\n",
    "\n",
    "We can also run SageMath in the shell or terminal. Starting SageMath this way normally depends on how SageMath was installed on your operating system.\n",
    "\n",
    "- For windows users who installed SageMath using the windows installer obtained from this website ([[https://github.com/sagemath/sage\\\\-windows/releases](https://github.com/sagemath/sage\\-windows/releases)](https://github.com/sagemath/sage-windows/releases)) you have to do the following:\n",
    "\n",
    "    1.  On your desktop click on the icon SageMath-VersionNumber Shell. This should open a terminal. Note VersionNumber is the version of sage you are currently running on your system.\n",
    "    2.  At the terminal prompt, type `sage`. This should start sage in the terminal.\n",
    "\n",
    "- For mac users who installed SageMath using the `dmg` file obtained from the SageMath website and have extracted the SageMath application file (i.e., `SageMath-VersionNumber.app`) into the `/Applications` dicrectory, do the following:\n",
    "\n",
    "    1.  Open your terminal\n",
    "    2.  At the terminal prompt type `/Applications/SageMath-8.8.app/Contents/Resources/sage/sage` to start sage in the terminal. (Note that in this example, I assume that the VersionNumber is 8.8. You should replace this with the version you have downloaded). \n",
    "    3. However, if you already have SageMath `bin` the directory `/Applications/SageMath-8.8.app/Contents/Resources/sage/local/bin` directory included in your `bash` path, then you only have to type `sage` after opening your terminal and you are good to go.\n",
    "\n",
    "- For linux users who installed SageMath by downloading the binary tarball from ([<http://www.sagemath.org/download-source.html>](http://www.sagemath.org/download-source.html)) and building it from source, or using the precompiled version downloaded from ([<http://www.sagemath.org/download.html>](http://www.sagemath.org/download.html)) do the following:\n",
    "\n",
    "    1. Open your terminal and change directory into the sage home directory. This is the directory where SageMath was built during installation.\n",
    "    2. At the terminal prompt, type `./sage` to start SageMath in the terminal.\n",
    "    3. If you already have the SageMath `bin` directory included in your path, then you only have to type `sage` after opening your terminal and you are good to go.\n",
    "\n",
    "    4. If you are running AIMS-Desktop, then do the following:\n",
    "        -  Open the terminal\n",
    "        -  At the terminal prompt, type `sage` without the quotes."
   ]
  },
  {
   "cell_type": "code",
   "execution_count": null,
   "metadata": {},
   "outputs": [],
   "source": []
  },
  {
   "cell_type": "markdown",
   "metadata": {},
   "source": [
    "### 12.4 The Old SageNB Notebook <a class=\"anchor\" id=\"the-old-sagenb-notebook\"></a>\n",
    "\n",
    "When SageMath started, the defualt worksheet was the `sagenb`. These SageMath worksheet files have `sws` as their file extension. The SageMath developers have now change the default notebook to the Jupyter notebook. Thus, on any operating system running sage-7.4 or higher SageMath opens with the Jupyter notebook.\n",
    "\n",
    "- For windows users who installed Sage using the windows installer obtained from this website ([[https://github.com/sagemath/sage\\\\-windows/releases](https://github.com/sagemath/sage\\-windows/releases)](https://github.com/sagemath/sage-windows/releases)), you can start sage with the old SageMath worksheet `sagenb` notebook by doing the following:\n",
    "\n",
    "    -  Click on the SageMath-VersionNumber Shell and type ***ONE*** of the following commands:\n",
    "        \n",
    "        ```\n",
    "        sage -n=sagenb\n",
    "        sage --notebook=sagenb\n",
    "        sage --notebook=sagenb\n",
    "        ```\n",
    "\n",
    "- For mac users who installed SageMath using the dmg file obtained from the SageMath website and have extracted the SageMath application file (i.e., SageMath-VersionNumber.app) into `/Applications` dicrectory, you can start SageMath with the old SageMath worksheet by doing the following:\n",
    "\n",
    "    -  Open your terminal and type ***ONE*** of the following commands in the command prompt:\n",
    "        ```\n",
    "        /Applications/SageMath-8.8.app/Contents/Resources/sage/sage -n=sagenb\n",
    "        /Applications/SageMath-8.8.app/Contents/Resources/sage/sage --notebook=sagenb\n",
    "        /Applications/SageMath-8.8.app/Contents/Resources/sage/sage --notebook=sagenb\n",
    "        ```\n",
    "    - If you already have the SageMath `bin` directory `/Applications/SageMath-8.8.app/Contents/Resources/sage/local/bin` included in your `bash` path, then do ***ONE*** of the following:\n",
    "\n",
    "        ```\n",
    "        sage -n=sagenb\n",
    "        sage --notebook=sagenb\n",
    "        sage --notebook=sagenb\n",
    "        ```\n",
    "\n",
    "- For linux users who installed SageMath by downloading the binary tarball from ([<http://www.sagemath.org/download-source.html>](http://www.sagemath.org/download-source.html)) and building it from source, or using the precompiled version downloaded from ([<http://www.sagemath.org/download.html>](http://www.sagemath.org/download.html)) do the following:\n",
    "\n",
    "    - Open your terminal and change directory into the sage home directory. This is the directory where sage was built during installation. At the terminal prompt, type ***ONE*** of the following:\n",
    "        ```\n",
    "        ./sage -n=sagenb\n",
    "        ./sage --notebook=sagenb\n",
    "        ./sage --notebook=sagenb\n",
    "        ```\n",
    "\n",
    "    - If you already have the SageMath `bin` directory included in your path, then open your terminal and type in ***ONE*** of the following commands. (Note: AIMS-Desktop users fall into this category).\n",
    "\n",
    "        ```\n",
    "        sage -n=sagenb\n",
    "        sage --notebook=sagenb\n",
    "        sage --notebook=sagenb\n",
    "        ```"
   ]
  },
  {
   "cell_type": "code",
   "execution_count": null,
   "metadata": {},
   "outputs": [],
   "source": []
  },
  {
   "cell_type": "markdown",
   "metadata": {},
   "source": [
    "## 13 SageMath Resoruces <a class=\"anchor\" id=\"sagemath-resources\"></a>\n",
    "\n",
    "Here, I provide some very useful SageMath tools. They are to help you in using the SageMath software.\n",
    "\n",
    "- First Tutorial in SageMath. [View](http://mosullivan.sdsu.edu/Teaching/sdsu-sage-tutorial/index.html) .\n",
    "\n",
    "    - San Diego State University has a very nice tutorial for how to use Sage in basic collegiate mathematics, including calculus and abstract algebra.\n",
    "\n",
    "- Tutorials in SageMath for Teachers. [View](http://doc.sagemath.org/html/en/prep/index.html).\n",
    "\n",
    "    - These tutorials are references to many different areas of mathematics using SageMath. They are designed for university instructors; your background should be enough to understand most of them quite well.\n",
    "    \n",
    "- SageMath for Undergraduates. [View](http://www.gregorybard.com/Sage.html).\n",
    "\n",
    "    - [Greogory Bard](http://www.gregory-bard.com/home.html) of UW Stout has written this useful book introducing SageMath for those who have not used it, or similar software, before.\n",
    "    \n",
    "- Abstract Algebra: Theory and Applications. [View](http://abstract.ups.edu/index.html).\n",
    "\n",
    "   - Tom Judson at UPS has written this textbook book and has adapted it with SageMath which is designed to teach principles and the theories of abstract algebra to undergraduate students in a rigorous fashion.\n",
    "\n",
    "- A First Course In Linear Algebra. [View](http://linear.pugetsound.edu/index.html) .\n",
    "\n",
    "    - This is an introductory textbook to Linear Algebra by the SageMath developer [Rob Beezer](http://buzzard.ups.edu/).\n",
    "    \n",
    "- Introductory Differential Equation Using SageMath. [View](https://www.usna.edu/Users/math/wdj/_files/documents/teach/sm212/DiffyQ/des-book-2009-11-24.pdf) .\n",
    "\n",
    "    - This book is written by SageMath developers and has interesting examples of solving ordinary differential equation and partial differential equations with SageMath. Each section has least one SageMath exercise.\n",
    "    \n",
    "-  Mathematical Computation with SageMath by [Paul Zimmermann](https://members.loria.fr/PZimmermann/) et. al. There are 3 versions of this:\n",
    "\n",
    "    - French version - [Vue](http://dl.lateralis.org/public/sagebook/sagebook-web-20130530.pdf).\n",
    "    - German version - [Sehen.](https://members.loria.fr/PZimmermann/sagebook/CalculDeutsch.pdf).\n",
    "    - English version - [View](http://sagebook.gforge.inria.fr/english.html).\n",
    "\n",
    "- SageMath Interact Resource. [View](https://wiki.sagemath.org/interact). \n",
    "    - This website contains lots of application of `@interacts` in several fields of mathematics and physics."
   ]
  },
  {
   "cell_type": "code",
   "execution_count": null,
   "metadata": {},
   "outputs": [],
   "source": []
  }
 ],
 "metadata": {
  "kernelspec": {
   "display_name": "SageMath 8.8",
   "language": "sage",
   "name": "sagemath"
  },
  "language": "python",
  "language_info": {
   "codemirror_mode": {
    "name": "ipython",
    "version": 2
   },
   "file_extension": ".py",
   "mimetype": "text/x-python",
   "name": "python",
   "nbconvert_exporter": "python",
   "pygments_lexer": "ipython2",
   "version": "2.7.15"
  }
 },
 "nbformat": 4,
 "nbformat_minor": 2
}
