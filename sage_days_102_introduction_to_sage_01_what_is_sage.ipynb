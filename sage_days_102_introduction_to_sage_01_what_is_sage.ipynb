{
 "cells": [
  {
   "cell_type": "markdown",
   "metadata": {},
   "source": [
    "<h1 style=\"text-align: left;\"><a title=\"Sage Days 102 Workshop\" href=\"https://wiki.sagemath.org/days102\">Sage Days 102 Workshop</a>, <a title=\"University of Ibadan\" href=\"https://www.ui.edu.ng/\">University of Ibadan</a> Nigeria.</h1>\n",
    "\n",
    "\n",
    "<h2 style=\"text-align: left;\">Day 02 — Introduction to <a title=\"SageMath\"href=\"http://www.sagemath.org/\"><em>SageMath</em></a>: A Mathematics Software for All</h2>\n",
    "\n",
    "\n",
    "### Instructor: [Evans Doe Ocansey](https://risc.jku.at/m/evans-doe-ocansey/)\n",
    "\n",
    "The outline of the this notebook is as follows:"
   ]
  },
  {
   "cell_type": "markdown",
   "metadata": {},
   "source": [
    "## Table of Contents: <a class=\"anchor\" id=\"toc\"></a>\n",
    "*  [<font color=blue>What is SageMath?</font>](#what-is-sage)\n",
    "    *  [<font color=blue>A Brief Overview</font>](#brief-overview)\n",
    "    *  [<font color=blue>Using Other Non-Commercial Softwares</font>](#using-non-commerical-softwares)"
   ]
  },
  {
   "cell_type": "markdown",
   "metadata": {},
   "source": [
    "## 1. What is [Sage](http://www.sagemath.org/)? <a class=\"anchor\" id=\"what-is-sage\"></a>\n",
    "\n",
    "\n",
    "1.  An open source system for advanced mathematics.\n",
    "2.  An open source mathematics distribution (like Linux) with *Python* as the glue.\n",
    "3.  A tool for learning and teaching mathematics.\n",
    "4.  A tool for mathematics research.\n",
    "\n",
    "![image info](./images/sagemath-logo.png)\n",
    "\n",
    "<h4 style=\"text-align: center;\"><u>Mission Statement:</u><i> Create a viable free open source alternative to Magma, Maple, Mathematica, and Matlab.</i></h4>"
   ]
  },
  {
   "cell_type": "markdown",
   "metadata": {},
   "source": [
    "### 1.1. A Brief Overview <a class=\"anchor\" id=\"brief-overview\"></a>\n",
    "\n",
    "-   Created in 2005 by William Stein.\n",
    "-   Free and open, GPL license.\n",
    "-   Includes about 100 open source packages.\n",
    "-   Now has around 500,000+ lines of new code, by several hundred mathematician-programmers.\n",
    "\n",
    "Some of the 100 packages includes:\n",
    "\n",
    "-   [Groups, Algorithms, Programming (GAP)](https://www.gap-system.org/) - group theory\n",
    "-   [PARI](https://pari.math.u-bordeaux.fr/) - rings, finite fields, field extensions, number theory\n",
    "-   [Singular](https://www.singular.uni-kl.de/) - commutative algebra\n",
    "-   [NumPy](http://www.numpy.org/)/[SciPy](https://www.scipy.org/) - numerical linear algebra, scientific computing\n",
    "-   [Integer Matrix Library (IML)](https://cs.uwaterloo.ca/~astorjoh/iml.html) - integer, rational matrices\n",
    "-   [CVXOPT](https://cvxopt.org/) - linear programming, optimization\n",
    "-   [NetworkX](https://networkx.github.io/) - graph theory\n",
    "-   [Pynac](http://pynac.org/) - symbolic manipulation\n",
    "-   [Maxima](http://maxima.sourceforge.net/) - calculus, differential equations\n",
    "-   [R](https://www.r-project.org/) - for statistical computing\n",
    "-   [Ore Algebra](http://kauers.de/software.html) - computations with Ore operators"
   ]
  },
  {
   "cell_type": "markdown",
   "metadata": {},
   "source": [
    "### 1.2 Using Other Non-Commercial Softwares <a class=\"anchor\" id=\"using-non-commerical-softwares\"></a>\n",
    "\n",
    "As mentioned earlier, [SageMath](http://www.sagemath.org/) includes about 100 open source packages and these packages can be run separately in either a [SageMath](http://www.sagemath.org/) worksheet or in a [Jupyter](https://jupyter.org/) notebook. There are several ways one can use this. I will only demonstrate a few."
   ]
  },
  {
   "cell_type": "code",
   "execution_count": null,
   "metadata": {},
   "outputs": [],
   "source": [
    "S_8 = gap('Group( (1,2), (1,2,3,4,5,6,7,8) )'); S_8"
   ]
  },
  {
   "cell_type": "code",
   "execution_count": null,
   "metadata": {},
   "outputs": [],
   "source": [
    "%%gap\n",
    "\n",
    "S := Group( (1,2), (1,2,3,4,5,6,7,8) )"
   ]
  },
  {
   "cell_type": "code",
   "execution_count": null,
   "metadata": {},
   "outputs": [],
   "source": [
    "maxima('lsum(x^i, i, [1, 2, 7])')"
   ]
  },
  {
   "cell_type": "code",
   "execution_count": null,
   "metadata": {},
   "outputs": [],
   "source": [
    "%%maxima\n",
    "\n",
    "lsum (x^i, i, [1, 2, 7]);"
   ]
  },
  {
   "cell_type": "code",
   "execution_count": null,
   "metadata": {},
   "outputs": [],
   "source": [
    "%%python\n",
    "\n",
    "print(map(lambda x : x**2, [1,3,5])) # note the operation ** and not the same as ^ in Python but in Sage they are."
   ]
  },
  {
   "cell_type": "code",
   "execution_count": null,
   "metadata": {},
   "outputs": [],
   "source": [
    "%%singular\n",
    "\n",
    "ring R = 0,(x,y,z), lp; R;"
   ]
  },
  {
   "cell_type": "code",
   "execution_count": null,
   "metadata": {},
   "outputs": [],
   "source": [
    "%%r\n",
    "library(\"MASS\")\n",
    "data(Cars93)\n",
    "mean(Cars93$MPG.city)\n",
    "xtabs( ~ Origin + MPG.city, data=Cars93)"
   ]
  },
  {
   "cell_type": "code",
   "execution_count": null,
   "metadata": {},
   "outputs": [],
   "source": [
    "%%r\n",
    "\n",
    "d = c(1,2,3,4)"
   ]
  },
  {
   "cell_type": "code",
   "execution_count": null,
   "metadata": {},
   "outputs": [],
   "source": []
  }
 ],
 "metadata": {
  "kernelspec": {
   "display_name": "SageMath 8.8",
   "language": "sage",
   "name": "sagemath"
  },
  "language": "python",
  "language_info": {
   "codemirror_mode": {
    "name": "ipython",
    "version": 2
   },
   "file_extension": ".py",
   "mimetype": "text/x-python",
   "name": "python",
   "nbconvert_exporter": "python",
   "pygments_lexer": "ipython2",
   "version": "2.7.15"
  }
 },
 "nbformat": 4,
 "nbformat_minor": 2
}
