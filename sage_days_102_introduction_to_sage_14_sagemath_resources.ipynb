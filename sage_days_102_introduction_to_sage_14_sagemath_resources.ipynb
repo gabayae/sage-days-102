{
 "cells": [
  {
   "cell_type": "markdown",
   "metadata": {},
   "source": [
    "<h1 style=\"text-align: left;\"><a title=\"Sage Days 102 Workshop\" href=\"https://wiki.sagemath.org/days102\">Sage Days 102 Workshop</a>, <a title=\"University of Ibadan\" href=\"https://www.ui.edu.ng/\">University of Ibadan</a> Nigeria.</h1>\n",
    "\n",
    "\n",
    "<h2 style=\"text-align: left;\">Day 02 — Introduction to <a title=\"Sage\"href=\"http://www.sagemath.org/\"><em>Sage</em></a>: A Mathematics Software for All</h2>\n",
    "\n",
    "\n",
    "### Instructor: [Evans Doe Ocansey](https://risc.jku.at/m/evans-doe-ocansey/)\n",
    "\n",
    "The outline of the this notebook is as follows:"
   ]
  },
  {
   "cell_type": "markdown",
   "metadata": {},
   "source": [
    "## Table of Contents: <a class=\"anchor\" id=\"toc\"></a>\n",
    "*  [<font color=blue>SageMath Resoruces</font>](#sagemath-resources)"
   ]
  },
  {
   "cell_type": "markdown",
   "metadata": {},
   "source": [
    "## 14 SageMath Resoruces <a class=\"anchor\" id=\"sagemath-resources\"></a>\n",
    "\n",
    "Here, I provide some very useful Sage tools. They are to help you in using the SageMath software.\n",
    "\n",
    "- First Tutorial in SageMath. [View](http://mosullivan.sdsu.edu/Teaching/sdsu-sage-tutorial/index.html) .\n",
    "\n",
    "    - San Diego State University has a very nice tutorial for how to use Sage in basic collegiate mathematics, including calculus and abstract algebra.\n",
    "\n",
    "- Tutorials in SageMath for Teachers. [View](http://doc.sagemath.org/html/en/prep/index.html).\n",
    "\n",
    "    - These tutorials are references to many different areas of mathematics using SageMath. They are designed for university instructors; your background should be enough to understand most of them quite well.\n",
    "    \n",
    "- SageMath for Undergraduates. [View](http://www.gregorybard.com/Sage.html).\n",
    "\n",
    "    - [Greogory Bard](http://www.gregory-bard.com/home.html) of UW Stout has written this useful book introducing SageMath for those who have not used it, or similar software, before.\n",
    "    \n",
    "- Abstract Algebra: Theory and Applications. [View](http://abstract.ups.edu/index.html).\n",
    "\n",
    "   - Tom Judson at UPS has written this textbook book and has adapted it with SageMath which is designed to teach principles and the theories of abstract algebra to undergraduate students in a rigorous fashion.\n",
    "\n",
    "- A First Course In Linear Algebra. [View](http://linear.pugetsound.edu/index.html) .\n",
    "\n",
    "    - This is an introductory textbook to Linear Algebra by the SageMath developer [Rob Beezer](http://buzzard.ups.edu/).\n",
    "    \n",
    "- Introductory Differential Equation Using SageMath. [View](https://www.usna.edu/Users/math/wdj/_files/documents/teach/sm212/DiffyQ/des-book-2009-11-24.pdf) .\n",
    "\n",
    "    - This book is written by SageMath developers and has interesting examples of solving ordinary differential equation and partial differential equations with SageMath. Each section has least one SageMath exercise.\n",
    "    \n",
    "-  Mathematical Computation with SageMath by [Paul Zimmermann](https://members.loria.fr/PZimmermann/) et. al. There are 3 versions of this:\n",
    "\n",
    "    - French version - [Vue](http://dl.lateralis.org/public/sagebook/sagebook-web-20130530.pdf).\n",
    "    - German version - [Sehen.](https://members.loria.fr/PZimmermann/sagebook/CalculDeutsch.pdf).\n",
    "    - English version - [View](http://sagebook.gforge.inria.fr/english.html).\n",
    "\n",
    "- SageMath Interact Resource. [View](https://wiki.sagemath.org/interact). \n",
    "    - This website contains lots of application of `@interacts` in several fields of mathematics and physics."
   ]
  },
  {
   "cell_type": "code",
   "execution_count": null,
   "metadata": {},
   "outputs": [],
   "source": []
  }
 ],
 "metadata": {
  "kernelspec": {
   "display_name": "SageMath 8.8",
   "language": "sage",
   "name": "sagemath"
  },
  "language": "python",
  "language_info": {
   "codemirror_mode": {
    "name": "ipython",
    "version": 2
   },
   "file_extension": ".py",
   "mimetype": "text/x-python",
   "name": "python",
   "nbconvert_exporter": "python",
   "pygments_lexer": "ipython2",
   "version": "2.7.15"
  }
 },
 "nbformat": 4,
 "nbformat_minor": 2
}
