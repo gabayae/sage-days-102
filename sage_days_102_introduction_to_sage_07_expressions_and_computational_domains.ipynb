{
 "cells": [
  {
   "cell_type": "markdown",
   "metadata": {},
   "source": [
    "<h1 style=\"text-align: left;\"><a title=\"Sage Days 102 Workshop\" href=\"https://wiki.sagemath.org/days102\">Sage Days 102 Workshop</a>, <a title=\"University of Ibadan\" href=\"https://www.ui.edu.ng/\">University of Ibadan</a> Nigeria.</h1>\n",
    "\n",
    "\n",
    "<h2 style=\"text-align: left;\">Day 02 — Introduction to <a title=\"Sage\"href=\"http://www.sagemath.org/\"><em>Sage</em></a>: A Mathematics Software for All</h2>\n",
    "\n",
    "\n",
    "### Instructor: [Evans Doe Ocansey](https://risc.jku.at/m/evans-doe-ocansey/)\n",
    "\n",
    "The outline of the this notebook is as follows:"
   ]
  },
  {
   "cell_type": "markdown",
   "metadata": {},
   "source": [
    "## Table of Contents: <a class=\"anchor\" id=\"toc\"></a>\n",
    "\n",
    "*  [<font color=blue>Expressions and Computational Domains</font>](#exprs-and-comp-domains)\n",
    "    *  [<font color=red>Exercise 27</font>](#exercise-27)"
   ]
  },
  {
   "cell_type": "markdown",
   "metadata": {},
   "source": [
    "## 7 Expressions and Computational Domains <a class=\"anchor\" id=\"exprs-and-comp-domains\"> </a>\n",
    "\n",
    "Some computer algebra systems require the user to always specify the domain in which he or she wants to work. [Sage](http://www.sagemath.org/) in some sense does this for you. It has a ring called *Symbolic Ring* whose elements are symbolic expressions. This ring is a computational domain. It is denoted by $\\texttt{SR}$. Any expression that we define lives in this ring unless otherwise, we specify the domain it should live in. In [Sage](http://www.sagemath.org/), the symbolic expression or variable, $x$ is already defined for us for free. There are other computational domains as well like integers, rationals, floating points polynomial rings, etc as you may have observed in previous problem. Let us consider the factorisation of the following expression:"
   ]
  },
  {
   "cell_type": "code",
   "execution_count": null,
   "metadata": {},
   "outputs": [],
   "source": [
    "x = SR.var('x')                           # Creates a symbolic expression x and assigns it to the variable x.\n",
    "sym_expr = 54*x^4+36*x^3-102*x^2-72*x-12  # Sage considers this as a symbolic expression which we humans sees it as a polynomial.\n",
    "show(factor(sym_expr))                    # Factor sym_expr over the SR domain."
   ]
  },
  {
   "cell_type": "markdown",
   "metadata": {},
   "source": [
    "We can check the mathematical set or domian that value of the variable `sym_expr` belongs to with the Sage command parent."
   ]
  },
  {
   "cell_type": "code",
   "execution_count": null,
   "metadata": {},
   "outputs": [],
   "source": [
    "parent(sym_expr)"
   ]
  },
  {
   "cell_type": "markdown",
   "metadata": {},
   "source": [
    "[Sage](http://www.sagemath.org/) does not know if we wish to factor the value of the variable `sym_expr` as a product of polynomials with integer coefficients, or with rational coefficients. In order for [Sage](http://www.sagemath.org/) to do this, we will have to specify which mathematical set or domain the value of the variable `sym_expr` lives. Say for instance, if the value of the variable `sym_expr` lives in the ring of polynomials over the integers, namely $\\mathbb{Z}[x]$, then we will first have create this domain by doing one of the following."
   ]
  },
  {
   "cell_type": "code",
   "execution_count": null,
   "metadata": {},
   "outputs": [],
   "source": [
    "ZZx = PolynomialRing(ZZ,'x'); show(ZZx)"
   ]
  },
  {
   "cell_type": "markdown",
   "metadata": {},
   "source": [
    "or the shortcut"
   ]
  },
  {
   "cell_type": "code",
   "execution_count": null,
   "metadata": {},
   "outputs": [],
   "source": [
    "ZZx = ZZ['x']; show(ZZx)"
   ]
  },
  {
   "cell_type": "code",
   "execution_count": null,
   "metadata": {},
   "outputs": [],
   "source": []
  },
  {
   "cell_type": "markdown",
   "metadata": {},
   "source": [
    "Now we pass the value of the variable sym\\_expr as an argument to the value of the variable ZZx which is a mathematical domain, namely the set of polynomials with coefficients in $\\mathbb{Z}$."
   ]
  },
  {
   "cell_type": "code",
   "execution_count": null,
   "metadata": {},
   "outputs": [],
   "source": [
    "int_poly = ZZx(sym_expr); show(poly)"
   ]
  },
  {
   "cell_type": "markdown",
   "metadata": {},
   "source": [
    "As a consequence, its factorisation is uniquely defined:"
   ]
  },
  {
   "cell_type": "code",
   "execution_count": null,
   "metadata": {},
   "outputs": [],
   "source": [
    "show(int_poly.factor())"
   ]
  },
  {
   "cell_type": "markdown",
   "metadata": {},
   "source": [
    "We can also pass the value of the variable int\\_poly to the Sage command factor."
   ]
  },
  {
   "cell_type": "code",
   "execution_count": null,
   "metadata": {},
   "outputs": [],
   "source": [
    "show(factor(int_poly))"
   ]
  },
  {
   "cell_type": "markdown",
   "metadata": {},
   "source": [
    "Internally, this is what Sage does. It finds the *class* that the object assigned to the variable int\\_poly is an instance and then calls the method factor with the object assigned to the variable int\\_poly as argument."
   ]
  },
  {
   "cell_type": "code",
   "execution_count": null,
   "metadata": {},
   "outputs": [],
   "source": [
    "show(type(int_poly).factor(int_poly))"
   ]
  },
  {
   "cell_type": "markdown",
   "metadata": {},
   "source": [
    "We can check the mathematical set or domain of sym\\_expr and int\\_poly. This should give us the Symbolic Ring and polynomial ring with integer coefficients $\\mathbb{Z}[x]$ respectively."
   ]
  },
  {
   "cell_type": "code",
   "execution_count": null,
   "metadata": {},
   "outputs": [],
   "source": [
    "show(parent(sym_expr))"
   ]
  },
  {
   "cell_type": "code",
   "execution_count": null,
   "metadata": {},
   "outputs": [],
   "source": [
    "show(parent(int_poly))"
   ]
  },
  {
   "cell_type": "markdown",
   "metadata": {},
   "source": [
    "We can also use the inoperator to check if an object is contained in some mathematical set or domain. Let us check if the objects assigned to the variables sym\\_expr and int\\_poly are in the Symbolic Ring and $\\mathbb{Z}[x]$ respectively."
   ]
  },
  {
   "cell_type": "code",
   "execution_count": null,
   "metadata": {},
   "outputs": [],
   "source": [
    "sym_expr in SR"
   ]
  },
  {
   "cell_type": "code",
   "execution_count": null,
   "metadata": {},
   "outputs": [],
   "source": [
    "int_poly in ZZx"
   ]
  },
  {
   "cell_type": "markdown",
   "metadata": {},
   "source": [
    "####  <font color=red>Exercise 27:</font> <a class=\"anchor\" id=\"exercise-27\"></a>\n",
    "\n",
    "Let us proceed similarly in the rational function field in $x$, polynomial ring over the finite field $\\mathbb{F}_{5}$, and a polynomial ring over the quadratic field $\\mathbb{Q}(\\sqrt{2})$.\n",
    "\n",
    "For the rational function case we have the following:"
   ]
  },
  {
   "cell_type": "code",
   "execution_count": null,
   "metadata": {},
   "outputs": [],
   "source": []
  },
  {
   "cell_type": "markdown",
   "metadata": {},
   "source": [
    "For polynomial ring over the finite field $\\mathbb{F}_{5}$ we have the following:"
   ]
  },
  {
   "cell_type": "code",
   "execution_count": null,
   "metadata": {},
   "outputs": [],
   "source": []
  },
  {
   "cell_type": "markdown",
   "metadata": {},
   "source": [
    "For polynomials ring over the quadratic field $\\mathbb{Q}(\\sqrt{2})$ we have the following:"
   ]
  },
  {
   "cell_type": "code",
   "execution_count": null,
   "metadata": {},
   "outputs": [],
   "source": []
  },
  {
   "cell_type": "code",
   "execution_count": null,
   "metadata": {},
   "outputs": [],
   "source": []
  }
 ],
 "metadata": {
  "kernelspec": {
   "display_name": "SageMath 8.8",
   "language": "sage",
   "name": "sagemath"
  },
  "language": "python",
  "language_info": {
   "codemirror_mode": {
    "name": "ipython",
    "version": 2
   },
   "file_extension": ".py",
   "mimetype": "text/x-python",
   "name": "python",
   "nbconvert_exporter": "python",
   "pygments_lexer": "ipython2",
   "version": "2.7.15"
  }
 },
 "nbformat": 4,
 "nbformat_minor": 2
}
