{
 "cells": [
  {
   "cell_type": "markdown",
   "metadata": {},
   "source": [
    "<h1 style=\"text-align: left;\"><a title=\"Sage Days 102 Workshop\" href=\"https://wiki.sagemath.org/days102\">Sage Days 102 Workshop</a>, <a title=\"University of Ibadan\" href=\"https://www.ui.edu.ng/\">University of Ibadan</a> Nigeria.</h1>\n",
    "\n",
    "\n",
    "<h2 style=\"text-align: left;\">Day 02 — Introduction to <a title=\"Sage\"href=\"http://www.sagemath.org/\"><em>Sage</em></a>: A Mathematics Software for All</h2>\n",
    "\n",
    "\n",
    "### Instructor: [Evans Doe Ocansey](https://risc.jku.at/m/evans-doe-ocansey/)\n",
    "\n",
    "The outline of the this notebook is as follows:"
   ]
  },
  {
   "cell_type": "markdown",
   "metadata": {},
   "source": [
    "## Table of Contents <a class=\"anchor\" id=\"toc\"></a>\n",
    "*  [<font color=blue>Graphics</font>](#graphics)\n",
    "    *  [<font color=blue>2D Graphics</font>](#2d-graphics)\n",
    "        *  [<font color=blue>Graphical Representation of a function</font>](#graphicalrepresentation-of-a-function)\n",
    "            *  [<font color=red>Exercise 49</font>](#exercise-49)\n",
    "            *  [<font color=red>Exercise 50</font>](#exercise-50)\n",
    "            *  [<font color=red>Exercise 51</font>](#exercise-51)\n",
    "            *  [<font color=red>Exercise 52</font>](#exercise-52)\n",
    "        *  [<font color=blue>Parametric Curve</font>](#parametric-curve)\n",
    "            *  [<font color=red>Exercise 53</font>](#exercise-53)\n",
    "        *  [<font color=blue>Curves in Polar Coordinates</font>](#curves-in-polar-coordinates)\n",
    "            *  [<font color=red>Exercise 54</font>](#exercise-54)\n",
    "        *  [<font color=blue>Curve Defined by an Implicit Equation</font>](#curve-defined-by-an-implicit-equation)\n",
    "            *  [<font color=red>Exercise 55</font>](#exercise-55)\n",
    "        *  [<font color=blue>Data Visualisation</font>](#data-visualisation)\n",
    "        *  [<font color=blue>List of 2D Plotting Commands in Sage and Some Examples</font>](#list-of-2d-plotting-commands-in-sage-and-some-examples)\n",
    "    *  [<font color=blue>3D Graphics</font>](#3d-graphics)\n",
    "    *  [<font color=blue>Interact</font>](#interact)\n",
    "        *  [<font color=blue>Control Types</font>](#control-types)\n",
    "        *  [<font color=blue>Interact Competition</font>](#interact-competition)"
   ]
  },
  {
   "cell_type": "markdown",
   "metadata": {},
   "source": [
    "## 11 Graphics <a class=\"anchor\" id=\"graphics\"></a>\n",
    "\n",
    "When we draw a function of one or two variables, or a series of data, it makes it easier to grasp a mathematical or physical phenomenon behind the data, and sometimes may help us to make interesting conjectures. In this chapter, we illustrate the graphical capabilities of Sage using several examples."
   ]
  },
  {
   "cell_type": "markdown",
   "metadata": {},
   "source": [
    "### 11.1 2D Graphics <a class=\"anchor\" id=\"2d-graphics\"></a>\n",
    "\n",
    "This has to do with the visualisation of a function or a set of data points on a plane. A plane curve can be defined in several ways which includes one of the following: \n",
    "   - graph of a function;\n",
    "   - a parametric system; \n",
    "   - using polar coordinates;\n",
    "   - implicit equation.\n",
    "We will first discuss how these four cases can be done in Sage and then give some examples of data visualation."
   ]
  },
  {
   "cell_type": "markdown",
   "metadata": {},
   "source": [
    "#### 11.1.1 Graphical Representation of a Function <a class=\"anchor\" id=\"graphical-representation-of-a-function\"></a>\n",
    "\n",
    "Using the `plot` command, we are able to draw the graph of a symbolic or Python function `f(x)` on an interval `[a, b]` with one of the following commands: \n",
    "   - `plot(f(x), a, b)` or `plot(f(x), x, a, b)`, \n",
    "   - `plot(f(x), (a, b))` or `plot(f(x), (x, a, b))`, \n",
    "   - `plot(f(x), [a, b])` or `plot(f(x), [x, a, b])`."
   ]
  },
  {
   "cell_type": "code",
   "execution_count": null,
   "metadata": {
    "scrolled": true
   },
   "outputs": [],
   "source": [
    "plot(1/3*x * sin(3/x), x, -pi, pi)"
   ]
  },
  {
   "cell_type": "markdown",
   "metadata": {},
   "source": [
    "How will get the help documentation for the `plot` function in Sage?"
   ]
  },
  {
   "cell_type": "code",
   "execution_count": null,
   "metadata": {},
   "outputs": [],
   "source": [
    "plot?"
   ]
  },
  {
   "cell_type": "markdown",
   "metadata": {},
   "source": [
    "Did you observe that the `plot` function has a lot of optional parameters? Let is name a few. \n",
    "\n",
    "   - `plot_points` (default value `200`): minimal number of computed points;\n",
    "   - `xmin` and `xmax`: interval bounds over which the function is displayed;\n",
    "   - `color`: colour of the graph, either a RGB triple - (r,g,b) with each of r,g,b between 0 and 1, a character string such as `blue`, or an HTML colour like `#aaff0b`;\n",
    "   - `detect_poles` (default value `False`): enables to draw a vertical asymptote at poles of the function;\n",
    "   - `alpha`: line transparency;\n",
    "   - `thickness`: thickness of the line;\n",
    "   - `linestyle` (default is `\"-\"` which is alias for `\"solid\"`): style of the line, either `\"dotted\"` with `\":\"`, `\"dashdot\"` with `\"-.\"`."
   ]
  },
  {
   "cell_type": "markdown",
   "metadata": {},
   "source": [
    "#### <font color=red>Exercise 49:</font> <a class=\"anchor\" id=\"exercise-49\"></a> \n",
    "\n",
    "Use the `plot` function to plot a graph of your favourite symbolic function or Python function. Try as much as possible to use any of the optional parameters of the `plot` function. If you do not have a favourite function use the symbolic expression $\\frac{x}{3}\\,\\sin(\\frac{3}{x})$."
   ]
  },
  {
   "cell_type": "code",
   "execution_count": null,
   "metadata": {},
   "outputs": [],
   "source": [
    "plot (x/3 *sin(3/x))"
   ]
  },
  {
   "cell_type": "code",
   "execution_count": null,
   "metadata": {},
   "outputs": [],
   "source": []
  },
  {
   "cell_type": "markdown",
   "metadata": {},
   "source": [
    "When we assign a variable, say, `g` to a graphical object, we can use the `show` function to display or visualise the graphical objects assigned to the variable `g`. In addition, we can also specify the value of parameters like `xmin`, `xmax`, `ymin`, `ymax`, `figsize`, `title`, `aspect_ratio` (e.g. `g.show(aspect_ratio = 1)` ensures that the displayed object has equal scales for the $x$ and the $y$ axes), etc. You can check the help documentation on `show` to see other optional parameters and how to use them. Here are some examples of what I have just said."
   ]
  },
  {
   "cell_type": "code",
   "execution_count": null,
   "metadata": {},
   "outputs": [],
   "source": [
    "# assigning a graphical object to the variable shaded_graph\n",
    "\n",
    "shaded_graph = plot(3*x^2/sqrt(25*x^2-3), (x, 1, 2), fill = True)"
   ]
  },
  {
   "cell_type": "code",
   "execution_count": null,
   "metadata": {},
   "outputs": [],
   "source": [
    "# assigning a graphical object to the variable unshaded_graph\n",
    "\n",
    "unshaded_graph = plot(3*x^2/sqrt(25*x^2-3), (x, .5, 3))"
   ]
  },
  {
   "cell_type": "code",
   "execution_count": null,
   "metadata": {},
   "outputs": [],
   "source": [
    "shaded_graph.show()"
   ]
  },
  {
   "cell_type": "code",
   "execution_count": null,
   "metadata": {},
   "outputs": [],
   "source": [
    "unshaded_graph.show()"
   ]
  },
  {
   "cell_type": "code",
   "execution_count": null,
   "metadata": {},
   "outputs": [],
   "source": [
    "shaded_graph.show(ymin=0, ymax=1.5, xmin=1, xmax=2, \\\n",
    "                  title=\"The area under the curve is given by the integral $\\int_{1}^{2}\\\\frac{3\\,x^{2}}{\\sqrt{25\\,x^{2}-3}}\\; \\mathrm{d}x$\")"
   ]
  },
  {
   "cell_type": "code",
   "execution_count": null,
   "metadata": {},
   "outputs": [],
   "source": [
    "unshaded_graph.show(aspect_ratio=1, figsize = 4, title=\"A graph of the function $\\\\frac{3x^2}{\\sqrt{25x^2-3}}$\")"
   ]
  },
  {
   "cell_type": "code",
   "execution_count": null,
   "metadata": {},
   "outputs": [],
   "source": []
  },
  {
   "cell_type": "markdown",
   "metadata": {},
   "source": [
    "If you want to export the graphical object in other to use it either in your $\\LaTeX$ or power point presentation, etc., then you can call the `save` method on the variable assigned to graphical object in order to save them. The file format that one can save the graphical object includes: `.pdf`, `.png`, `.ps`, `.eps`, `.svg` and `.sobj` (for a Sage object you can load later). With the `save` method, one can also specify the value of parameters like `xmin`, `xmax`, `ymin`, `ymax`, `figsize`, `title`, `aspect_ratio` (e.g. `g.show(aspect_ratio = 1)` ensures that the displayed object has equal scales for the $x$ and the $y$ axes), `fig_tight=False` (If you want a figure to be exactly a certain size), etc. You can read the help documentation for `save` for more information on these parameters. Here is an example."
   ]
  },
  {
   "cell_type": "code",
   "execution_count": null,
   "metadata": {},
   "outputs": [],
   "source": [
    "# This is just to create a file name. You can create at any place as long as you know the path. \n",
    "\n",
    "eps_filename = os.path.join(SAGE_ROOT, \"shaded_graph.eps\") # Note that the Python os module is already loaded into Sage\n",
    "\n",
    "shaded_graph.save(eps_filename, ymin=0, ymax=1.5, xmin=1, xmax=2, figsize = 5, fig_tight=\"False\")"
   ]
  },
  {
   "cell_type": "markdown",
   "metadata": {},
   "source": [
    "With the plus `+` operator, we can join two or more graphical objects together. "
   ]
  },
  {
   "cell_type": "code",
   "execution_count": null,
   "metadata": {},
   "outputs": [],
   "source": [
    "combined_graph = unshaded_graph + shaded_graph"
   ]
  },
  {
   "cell_type": "code",
   "execution_count": null,
   "metadata": {},
   "outputs": [],
   "source": [
    "show(combined_graph, figsize = 4, title=\"This shows $\\int_1^2 \\\\frac{3x^2}{\\sqrt{25x^2-3}}\\; \\mathrm{d}x$\")"
   ]
  },
  {
   "cell_type": "markdown",
   "metadata": {},
   "source": [
    "Instead of the above you can also do this."
   ]
  },
  {
   "cell_type": "code",
   "execution_count": null,
   "metadata": {},
   "outputs": [],
   "source": [
    "show(combined_graph, figsize=4)\n",
    "html(\"This shows $\\int_1^2 \\\\frac{3\\,x^2}{\\sqrt{25\\,x^2-3}}\\; \\mathrm{d}x$\")"
   ]
  },
  {
   "cell_type": "markdown",
   "metadata": {},
   "source": [
    "#### <font color=red>Exercise 50:</font> <a class=\"anchor\" id=\"exercise-50\"></a> \n",
    "\n",
    "Export the graphical object assigned to the variable `combined_graph` to the Desktop of your computer."
   ]
  },
  {
   "cell_type": "code",
   "execution_count": null,
   "metadata": {},
   "outputs": [],
   "source": []
  },
  {
   "cell_type": "markdown",
   "metadata": {},
   "source": [
    "Here is also a another demonstration as above but this time using the function $f(x) = \\sin(x)\\,x + 4$."
   ]
  },
  {
   "cell_type": "code",
   "execution_count": null,
   "metadata": {},
   "outputs": [],
   "source": [
    "f(x) = sin(x)* x + 4 # first, define the function to be used\n",
    "\n",
    "P = line([(2,0), (2, f(2))], color='black', thickness=2) # graphs the two horizontal lines\n",
    "\n",
    "P += line([(8,0),(8, f(8))], color='black', thickness=2) # This is the same as doing P = P + line([(8,0),(8, f(8))], color='black')\n",
    "\n",
    "# make the shade between the graph of f(x) and the x-axis \n",
    "\n",
    "# this will be a polygon with many points\n",
    "\n",
    "P += polygon([(2,0), (2,f(2))] + [(x, f(x)) for x in [2, 2.1,..,8]] + [(8,0), (2,0)],\\\n",
    "             rgbcolor=(0.5, 0.8, 0.7), aspect_ratio='automatic') \n",
    "\n",
    "#draw the text above the graph\n",
    "\n",
    "P += text(\"$\\\\int_{2}^8 (\\sin(x)\\,x+4)\\,\\mathrm{d}x$\", (4.6, 8), fontsize=20, color='black')\n",
    "\n",
    "P += plot(f, x, 1.5, 8.5, thickness=3) #draw the curve\n",
    "\n",
    "#show the plot\n",
    "show(P)"
   ]
  },
  {
   "cell_type": "code",
   "execution_count": null,
   "metadata": {},
   "outputs": [],
   "source": [
    "f(x) = sin(x)\n",
    "h(x) = cos(x)\n",
    "dom = (-2*pi, 2*pi) # the range over which we want to plot.\n",
    "\n",
    "xs = [pi*i/4 for i in range(-8, 9, 1)] # the ticks to be shown on the x-axis.\n",
    "ys = [-1, -1/2, 0, 1/2, 1] # the ticks to be shown on the y-axis.\n",
    "\n",
    "fplot = plot(f, dom) # plot of the f(x) over dom.\n",
    "hplot = plot(h, dom) # plot of the h(x) over dom.\n",
    "\n",
    "show(fplot+hplot, aspect_ratio=1, figsize=9) # show plots without the ticks option.\n",
    "show(fplot+hplot, aspect_ratio=1, figsize=9, ticks=[xs, ys]) # show plot with ticks option."
   ]
  },
  {
   "cell_type": "markdown",
   "metadata": {},
   "source": [
    "Somtimes one may want symbolic ticks:"
   ]
  },
  {
   "cell_type": "code",
   "execution_count": null,
   "metadata": {},
   "outputs": [],
   "source": [
    "show(fplot+hplot, aspect_ratio=1, figsize=9, ticks=[xs,ys], tick_formatter='latex')"
   ]
  },
  {
   "cell_type": "markdown",
   "metadata": {},
   "source": [
    "We could also play with `linestyle` option."
   ]
  },
  {
   "cell_type": "code",
   "execution_count": null,
   "metadata": {},
   "outputs": [],
   "source": [
    "fplot = plot(f, dom, linestyle='-', rgbcolor=(0,0,1), thickness=2)\n",
    "hplot = plot(h, dom, linestyle='-.', rgbcolor=(1,0,0), thickness=2)\n",
    "\n",
    "show(fplot+hplot, aspect_ratio=1, figsize=9, ticks=[xs,ys], tick_formatter='latex')"
   ]
  },
  {
   "cell_type": "markdown",
   "metadata": {},
   "source": [
    "We could also add the `fill` option."
   ]
  },
  {
   "cell_type": "code",
   "execution_count": null,
   "metadata": {},
   "outputs": [],
   "source": [
    "fplot = plot(f, dom, linestyle='--', rgbcolor=(0,0,1), thickness=2, fill='axis', fillcolor=(0,0,1), fillalpha=0.1)\n",
    "hplot = plot(h, dom, linestyle='-.', rgbcolor=(1,0,0), thickness=2, fill='axis', fillcolor=(1,0,0), fillalpha=0.1)\n",
    "\n",
    "show(fplot + hplot, aspect_ratio = 1, figsize=9, ticks=[xs,ys], tick_formatter='latex')"
   ]
  },
  {
   "cell_type": "markdown",
   "metadata": {},
   "source": [
    "#### <font color=red>Exercise 51:</font> <a class=\"anchor\" id=\"exercise-51\"></a> \n",
    "Appropriately label the graph above and add a legend to it. __Hint__: Use `legend_label` option for the `plot` comand and `legend_loc` option for the `show` command."
   ]
  },
  {
   "cell_type": "code",
   "execution_count": null,
   "metadata": {},
   "outputs": [],
   "source": []
  },
  {
   "cell_type": "code",
   "execution_count": null,
   "metadata": {},
   "outputs": [],
   "source": []
  },
  {
   "cell_type": "markdown",
   "metadata": {},
   "source": [
    "#### <font color=red>Exercise 52:</font> <a class=\"anchor\" id=\"exercise-52\"></a> \n",
    "\n",
    "Draw the graph of the `sine` function its first 10 Taylor polynomials on the same sage graph. __Hint__: Read on the help documentation on the function `taylor`. "
   ]
  },
  {
   "cell_type": "code",
   "execution_count": null,
   "metadata": {},
   "outputs": [],
   "source": []
  },
  {
   "cell_type": "code",
   "execution_count": null,
   "metadata": {},
   "outputs": [],
   "source": []
  },
  {
   "cell_type": "markdown",
   "metadata": {},
   "source": [
    "There is also an `animate` function in Sage that helps you to create animations. Let us use it to see how the Taylor polynomials approximate better and better the `sine` function when their degree increases. If you want to save the animation, it suffices to save it in the `gif` format. "
   ]
  },
  {
   "cell_type": "code",
   "execution_count": null,
   "metadata": {},
   "outputs": [],
   "source": []
  },
  {
   "cell_type": "code",
   "execution_count": null,
   "metadata": {},
   "outputs": [],
   "source": [
    "my_animate_obj = animate([[sin(x), taylor(sin(x), x, 0, 2*k+1)] for k in range(0, 14)], \\\n",
    "            xmin=-14, xmax=14, ymin=-3, ymax=3, figsize=[8, 4])\n",
    "\n",
    "my_animate_obj.show()"
   ]
  },
  {
   "cell_type": "code",
   "execution_count": null,
   "metadata": {},
   "outputs": [],
   "source": [
    "gif_filename = os.path.join(SAGE_ROOT, \"taylor_approx_sin.gif\") \n",
    "\n",
    "my_animate_obj.save(gif_filename)"
   ]
  },
  {
   "cell_type": "code",
   "execution_count": null,
   "metadata": {},
   "outputs": [],
   "source": []
  },
  {
   "cell_type": "markdown",
   "metadata": {},
   "source": [
    "#### 11.1.2 Parametric Curve <a class=\"anchor\" id=\"parametric-curve\"></a>\n",
    "\n",
    "Parametric curves $(x = f (t), y = g(t))$ may be visualised using the command \n",
    "\n",
    "   - `parametric_plot((f(t), g(t)), (t, a, b))` or \n",
    "   - `parametric_plot([f(t), g(t)], [t, a, b])` \n",
    "\n",
    "where `[a, b]` is the interval over which the parameter $t$ ranges. \n",
    "\n",
    "How will get the help documentation for the `parametric_plot` function in Sage?"
   ]
  },
  {
   "cell_type": "code",
   "execution_count": null,
   "metadata": {},
   "outputs": [],
   "source": [
    "parametric_plot?"
   ]
  },
  {
   "cell_type": "code",
   "execution_count": null,
   "metadata": {},
   "outputs": [],
   "source": []
  },
  {
   "cell_type": "markdown",
   "metadata": {},
   "source": [
    "Some of the list of the optional parameters available for the `parametric_plot` in Sage include those mentioned in the previous subsection <a href=\"#graphical-representation-of-a-function\"><b>10.1.1</b></a> and there are even more. Note that `parametric_plot()` is equivalent to the `plot()` command with the option `parametric=True`."
   ]
  },
  {
   "cell_type": "markdown",
   "metadata": {},
   "source": [
    "Let us show the parametric curve defined by the equations:\n",
    "\n",
    "\\begin{cases}\n",
    "x = \\frac{1}{2} \\, \\cos\\left(7 \\, t\\right) + \\cos\\left(t\\right) + \\frac{1}{3} \\, \\sin\\left(17 \\, t\\right) \\\\\n",
    "y = \\frac{1}{3} \\, \\cos\\left(17 \\, t\\right) + \\frac{1}{2} \\, \\sin\\left(7 \\, t\\right) + \\sin\\left(t\\right)\n",
    "\\end{cases}\n"
   ]
  },
  {
   "cell_type": "code",
   "execution_count": null,
   "metadata": {},
   "outputs": [],
   "source": [
    "t = var(\"t\")\n",
    "\n",
    "x = cos(t) + cos(7*t)/2 + sin(17*t)/3\n",
    "\n",
    "y = sin(t) + sin(7*t)/2 + cos(17*t)/3\n",
    "\n",
    "my_para_plot = parametric_plot((x, y), (t, 0, 2*pi))\n",
    "\n",
    "my_para_plot.show()\n",
    "\n",
    "html(\"Parametric curve of the equation $x(t) = \\\\frac{1}{2}\\,\\cos(7 \\,t)+\\cos(t) + \\\\frac{1}{3}\\,\\sin(17\\,t)$ and $y(t) = \\\\frac{1}{3}\\,\\cos(17\\,t)+\\\\frac{1}{2}\\,\\sin(7\\,t) + \\sin(t)$.\")"
   ]
  },
  {
   "cell_type": "markdown",
   "metadata": {},
   "source": [
    "Here is how you graph the same function using the Sage `plot` function with the option `parametric=True`."
   ]
  },
  {
   "cell_type": "code",
   "execution_count": null,
   "metadata": {},
   "outputs": [],
   "source": [
    "show(plot((x, y), (t, 0, 2*pi), parametric=True, aspect_ratio=1))\n",
    "\n",
    "html(\"Parametric curve of the equation $x(t) = \\\\frac{1}{2}\\,\\cos(7 \\,t)+\\cos(t) + \\\\frac{1}{3}\\,\\sin(17\\,t)$ and $y(t) = \\\\frac{1}{3}\\,\\cos(17\\,t)+\\\\frac{1}{2}\\,\\sin(7\\,t) + \\sin(t)$.\")"
   ]
  },
  {
   "cell_type": "code",
   "execution_count": null,
   "metadata": {},
   "outputs": [],
   "source": []
  },
  {
   "cell_type": "markdown",
   "metadata": {},
   "source": [
    "#### <font color=red>Exercise 53:</font> <a class=\"anchor\" id=\"exercise-53\"></a> \n",
    "\n",
    "Use the `plot` or `parametric_plot` commands in Sage with at least four optional arguments to draw the graph of the parametric curve defined by the following equations:  \n",
    "\\begin{cases}\n",
    "    x(t) = 10\\,\\sin(t)^{3}, \\\\ \n",
    "    y(t) = 9\\,\\cos(t) - 4\\,\\cos(2\\,t)-\\cos(3\\,t)-cos(4\\,t)\n",
    "\\end{cases}\n",
    "\n",
    "and\n",
    "\n",
    "\\begin{cases}\n",
    "    x(t) = g(x), \\\\ \n",
    "    y(t) = g'(x)\n",
    "\\end{cases}\n",
    "where $g(x) = \\frac{\\sin(x)}{x}$."
   ]
  },
  {
   "cell_type": "code",
   "execution_count": null,
   "metadata": {},
   "outputs": [],
   "source": []
  },
  {
   "cell_type": "code",
   "execution_count": null,
   "metadata": {},
   "outputs": [],
   "source": []
  },
  {
   "cell_type": "code",
   "execution_count": null,
   "metadata": {},
   "outputs": [],
   "source": []
  },
  {
   "cell_type": "markdown",
   "metadata": {},
   "source": [
    "#### 11.1.3 Curves in Polar Coordinates <a class=\"anchor\" id=\"curves-in-polar-coordinates\"></a>\n",
    "\n",
    "Curves in polar coordinates $\\rho = f(\\vartheta)$, where the parameter $\\vartheta$ spans the interval `[a, b]`, may be drawn by the command `polar_plot(rho(vartheta), (vartheta, a, b))`. \n",
    "\n",
    "How will you get the help documentation of the `polar_plot` command in Sage."
   ]
  },
  {
   "cell_type": "code",
   "execution_count": null,
   "metadata": {},
   "outputs": [],
   "source": [
    "polar_plot?"
   ]
  },
  {
   "cell_type": "markdown",
   "metadata": {},
   "source": [
    "Let us plot graphically the curves defined by the polar equation $\\rho(\\vartheta) = \\sin(3\\,\\vartheta)^{2}$ with $0 \\le \\vartheta \\le 2\\,\\pi$."
   ]
  },
  {
   "cell_type": "code",
   "execution_count": null,
   "metadata": {},
   "outputs": [],
   "source": [
    "theta = var(\"theta\")\n",
    "\n",
    "rho(theta) = sin(3 * theta)^2\n",
    "\n",
    "polar_plot(rho(theta), (theta, 0, 2*pi), fill=True, fillcolor=\"cyan\", \\\n",
    "           legend_label=r'$\\rho(\\theta) = %s$'%latex(rho(theta)), tick_formatter='latex')"
   ]
  },
  {
   "cell_type": "code",
   "execution_count": null,
   "metadata": {},
   "outputs": [],
   "source": []
  },
  {
   "cell_type": "markdown",
   "metadata": {},
   "source": [
    "#### <font color=red>Exercise 54:</font> <a class=\"anchor\" id=\"exercise-54\"></a>\n",
    "\n",
    "Use the `polar_plot` command to plot the rose-curves with polar equation $$\\rho(\\vartheta) = 1 + e \\,\\cos(n\\,\\vartheta), \\quad \\text{ with } \\quad n = \\frac{20}{19}\\, \\text{ and } e\\in\\{2, \\tfrac{1}{3}\\}.$$ and \n",
    "$$ \\varphi(\\vartheta) = \\cos(2\\,\\vartheta) \\quad \\text{ with } \\quad 0\\le\\vartheta\\le 2\\,\\pi.$$\n",
    "Use as many optional parameters as possible."
   ]
  },
  {
   "cell_type": "code",
   "execution_count": null,
   "metadata": {},
   "outputs": [],
   "source": []
  },
  {
   "cell_type": "code",
   "execution_count": null,
   "metadata": {},
   "outputs": [],
   "source": []
  },
  {
   "cell_type": "code",
   "execution_count": null,
   "metadata": {},
   "outputs": [],
   "source": []
  },
  {
   "cell_type": "markdown",
   "metadata": {},
   "source": [
    "#### 11.1.4 Curve Defined by an Implicit Equation <a class=\"anchor\" id=\"curve-defined-by-an-implicit-equation\"></a>\n",
    "\n",
    "To draw a curve given by an implicit equation, you need to call the function `implicit_plot(f(x, y), (x, a, b), (y, c, d))`; however, the `complex_plot` command may also be used, which enables us to draw in colour the level-set of a two-variable function. \n",
    "\n",
    "Read the help documentation for the commands `implicit_plot` and `complex_plot`."
   ]
  },
  {
   "cell_type": "code",
   "execution_count": null,
   "metadata": {},
   "outputs": [],
   "source": [
    "implicit_plot?"
   ]
  },
  {
   "cell_type": "code",
   "execution_count": null,
   "metadata": {},
   "outputs": [],
   "source": [
    "complex_plot?"
   ]
  },
  {
   "cell_type": "markdown",
   "metadata": {},
   "source": [
    "Let us draw the curve given by the implicit equation \n",
    "\n",
    "$$\\mathcal{C} = \\{z\\in\\mathbb{C}\\, |\\, |\\cos(z^{4})| = 1 \\}$$\n",
    "\n",
    "using the commands `implicit_plot` and `complex_plot`."
   ]
  },
  {
   "cell_type": "code",
   "execution_count": null,
   "metadata": {},
   "outputs": [],
   "source": [
    "z = var('z')\n",
    "\n",
    "my_complex_plot_1 = complex_plot(abs(cos(z^4))-1, (-3, 3), (-3, 3), plot_points=400)\n",
    "\n",
    "\n",
    "f = lambda x, y : (abs(cos((x + I * y) ** 4)) - 1) # Defining a lambda function.\n",
    "\n",
    "my_implicit_plot_1 = implicit_plot(f, (-3, 3), (-3, 3), plot_points=400)\n",
    "\n",
    "my_complex_plot_1.show(aspect_ratio=1); my_implicit_plot_1.show(aspect_ratio=1)"
   ]
  },
  {
   "cell_type": "markdown",
   "metadata": {},
   "source": [
    "#### <font color=red>Exercise 55:</font> <a class=\"anchor\" id=\"exercise-55\"></a>\n",
    "\n",
    "Use the `implicit_plot` and the `complex_plot` commands in Sage to plot a function of your choice. You can use this function \n",
    "\n",
    "$$\\mathcal{D} = \\left\\{z\\in\\mathbb{C}\\, |\\, |\\sin(z^{5})| = \\tfrac{3}{2}\\right\\}$$\n",
    "\n",
    "if it you can not think of any now. Use as many optional parameters as possible."
   ]
  },
  {
   "cell_type": "code",
   "execution_count": null,
   "metadata": {},
   "outputs": [],
   "source": []
  },
  {
   "cell_type": "code",
   "execution_count": null,
   "metadata": {},
   "outputs": [],
   "source": []
  },
  {
   "cell_type": "code",
   "execution_count": null,
   "metadata": {},
   "outputs": [],
   "source": []
  },
  {
   "cell_type": "code",
   "execution_count": null,
   "metadata": {},
   "outputs": [],
   "source": []
  },
  {
   "cell_type": "code",
   "execution_count": null,
   "metadata": {},
   "outputs": [],
   "source": []
  },
  {
   "cell_type": "markdown",
   "metadata": {},
   "source": [
    "#### 11.1.5 Data Visualisation <a class=\"anchor\" id=\"data-visualisation\"></a>\n",
    "\n",
    "To construct a bar graph, two distinct functions are available. On the one hand, `bar_chart` takes as input an integer list and draws vertical bars whose height is given by the list elements (in the given order). The `width` option enables us to choose the bar width."
   ]
  },
  {
   "cell_type": "code",
   "execution_count": null,
   "metadata": {},
   "outputs": [],
   "source": [
    "bar_chart([randrange(15) for i in range(20)])"
   ]
  },
  {
   "cell_type": "code",
   "execution_count": null,
   "metadata": {},
   "outputs": [],
   "source": [
    "bar_chart([x^2 for x in [1..20]], width=0.2)"
   ]
  },
  {
   "cell_type": "markdown",
   "metadata": {},
   "source": [
    "On the other hand, to draw the histogram of a random variable from a list of floating-point numbers, we use the `plot_histogram` function. The list values are first sorted and grouped into intervals (the number of intervals is given by the option `bins` whose default value is 50), the height of each bar being proportional to the number of corresponding values."
   ]
  },
  {
   "cell_type": "code",
   "execution_count": null,
   "metadata": {},
   "outputs": [],
   "source": [
    "liste = [10 + floor(10*sin(i)) for i in range(100)]"
   ]
  },
  {
   "cell_type": "code",
   "execution_count": null,
   "metadata": {},
   "outputs": [],
   "source": [
    "bar_chart(liste)"
   ]
  },
  {
   "cell_type": "code",
   "execution_count": null,
   "metadata": {},
   "outputs": [],
   "source": [
    "finance.TimeSeries(liste).plot_histogram(bins=50)"
   ]
  },
  {
   "cell_type": "code",
   "execution_count": null,
   "metadata": {},
   "outputs": [],
   "source": []
  },
  {
   "cell_type": "markdown",
   "metadata": {},
   "source": [
    "It often arises that the list of data values we want to study is stored in a spreadsheet format. The Python `csv` package enables us to import such data stored in the `csv` format. For example, let us assume that we want to plot the histogram of the numbers in the third column of the file `test.csv` obtained from [here](https://www.sample-videos.com/csv/Sample-Spreadsheet-5000-rows.csv). To extract the data from this column, we will use the following instructions"
   ]
  },
  {
   "cell_type": "code",
   "execution_count": null,
   "metadata": {},
   "outputs": [],
   "source": [
    "import csv"
   ]
  },
  {
   "cell_type": "code",
   "execution_count": null,
   "metadata": {},
   "outputs": [],
   "source": [
    "reader_dat = open(\"data/SouthAfrica_Daily_Precipitation.dat\") # note that you can also use Python's open command to read files\n",
    "\n",
    "reader_csv = csv.reader(open(\"data/test.csv\"))"
   ]
  },
  {
   "cell_type": "code",
   "execution_count": null,
   "metadata": {},
   "outputs": [],
   "source": [
    "rain_data = [float(((line.strip()).split())[-1]) for line in reader_dat]\n",
    "\n",
    "online_data = [float(line[4]) for line in reader_csv] "
   ]
  },
  {
   "cell_type": "code",
   "execution_count": null,
   "metadata": {},
   "outputs": [],
   "source": [
    "finance.TimeSeries(rain_data).plot_histogram(bins=20)"
   ]
  },
  {
   "cell_type": "code",
   "execution_count": null,
   "metadata": {},
   "outputs": [],
   "source": []
  },
  {
   "cell_type": "code",
   "execution_count": null,
   "metadata": {},
   "outputs": [],
   "source": []
  },
  {
   "cell_type": "markdown",
   "metadata": {},
   "source": [
    "#### 11.1.6 List of 2D Plotting Commands in Sage and Some Examples<a class=\"anchor\" id=\"list-of-2d-plotting-commands-in-sage-and-some-examples\"></a> \n",
    "\n",
    "We give a list of some of the commands for 2d plots in Sage. \n",
    "\n",
    "- `plot` - Graph of a function;\n",
    "- `parametric_plot` - Parametric curve;\n",
    "- `polar_plot` - Curve defined by a polar equation;\n",
    "- `implicit_plot` - Curve defined by an implicit equation;\n",
    "- `complex_plot` - Level set of a complex function; \n",
    "- `Graphics()` - Empty graphical object\n",
    "- `odeint`, `desolve_rk4` - Integral curves of a differential equation;\n",
    "- `plot_histogram` - Histogram of a statistical sequence; \n",
    "- `line` - Polygonal chain;\n",
    "- `points` - Cloud of points; \n",
    "- `circle` - Circle;\n",
    "- `polygon` - polygon;\n",
    "- `text` - Text;\n",
    "\n",
    "We give examples of some of the commands mentioned above. "
   ]
  },
  {
   "cell_type": "code",
   "execution_count": null,
   "metadata": {},
   "outputs": [],
   "source": [
    "k(x,y) = sin(x) + cos(y)\n",
    "l(x,y) = sin(x) * cos(y)\n",
    "m(x,y) = sin(x^2 + y^2)"
   ]
  },
  {
   "cell_type": "code",
   "execution_count": null,
   "metadata": {},
   "outputs": [],
   "source": [
    "region_plot(k(x, y)>0, (x,-2*pi, 2*pi), (y, -2*pi, 2*pi))"
   ]
  },
  {
   "cell_type": "code",
   "execution_count": null,
   "metadata": {},
   "outputs": [],
   "source": [
    "region_plot(k(x, y)>0.5, (x,-2*pi, 2*pi), (y, -2*pi, 2*pi))"
   ]
  },
  {
   "cell_type": "code",
   "execution_count": null,
   "metadata": {},
   "outputs": [],
   "source": [
    "region_plot(l(x, y)>0, (x,-2*pi, 2*pi), (y, -2*pi, 2*pi))"
   ]
  },
  {
   "cell_type": "code",
   "execution_count": null,
   "metadata": {},
   "outputs": [],
   "source": [
    "region_plot(l(x, y)>0.5, (x,-2*pi, 2*pi), (y, -2*pi, 2*pi))"
   ]
  },
  {
   "cell_type": "code",
   "execution_count": null,
   "metadata": {},
   "outputs": [],
   "source": [
    "region_plot(m(x, y)>0, (x,-2*pi, 2*pi), (y, -2*pi, 2*pi))"
   ]
  },
  {
   "cell_type": "code",
   "execution_count": null,
   "metadata": {},
   "outputs": [],
   "source": [
    "region_plot(m(x, y)>0.5, (x,-2*pi, 2*pi), (y, -2*pi, 2*pi))"
   ]
  },
  {
   "cell_type": "code",
   "execution_count": null,
   "metadata": {},
   "outputs": [],
   "source": [
    "contour_plot(k, dom, dom)"
   ]
  },
  {
   "cell_type": "code",
   "execution_count": null,
   "metadata": {},
   "outputs": [],
   "source": [
    "contour_plot(l, dom, dom)"
   ]
  },
  {
   "cell_type": "code",
   "execution_count": null,
   "metadata": {},
   "outputs": [],
   "source": [
    "contour_plot(m, dom, dom)"
   ]
  },
  {
   "cell_type": "code",
   "execution_count": null,
   "metadata": {},
   "outputs": [],
   "source": [
    "density_plot(k, dom, dom)"
   ]
  },
  {
   "cell_type": "code",
   "execution_count": null,
   "metadata": {},
   "outputs": [],
   "source": [
    "density_plot(l, dom, dom)"
   ]
  },
  {
   "cell_type": "code",
   "execution_count": null,
   "metadata": {},
   "outputs": [],
   "source": [
    "density_plot(m, dom, dom)"
   ]
  },
  {
   "cell_type": "code",
   "execution_count": null,
   "metadata": {},
   "outputs": [],
   "source": [
    "xs = [random() for t in range(100)]\n",
    "ys = [5*t + random() for t in xs]\n",
    "def get_class(x):\n",
    "    if random()<x:\n",
    "        return 1\n",
    "    else:\n",
    "        return 0\n",
    "zs = map(get_class, xs)"
   ]
  },
  {
   "cell_type": "code",
   "execution_count": null,
   "metadata": {},
   "outputs": [],
   "source": [
    "plot(points(zip(xs,ys)), figsize=5)"
   ]
  },
  {
   "cell_type": "code",
   "execution_count": null,
   "metadata": {},
   "outputs": [],
   "source": [
    "plot(points(zip(xs,zs)), figsize=5)"
   ]
  },
  {
   "cell_type": "code",
   "execution_count": null,
   "metadata": {},
   "outputs": [],
   "source": [
    "ps = [[], []]\n",
    "for i,z in enumerate(zip(xs,ys)):\n",
    "    ps[zs[i]].append(z)"
   ]
  },
  {
   "cell_type": "code",
   "execution_count": null,
   "metadata": {},
   "outputs": [],
   "source": [
    "plotps0 = plot(points(ps[0], color='green', size=20, faceted=True, alpha=0.5))\n",
    "plotps1 = plot(points(ps[1], color='red', size=20, faceted=True, alpha=0.5))\n",
    "plotps0+plotps1"
   ]
  },
  {
   "cell_type": "code",
   "execution_count": null,
   "metadata": {},
   "outputs": [],
   "source": [
    "show(sum(circle((i, 0), i) for i in [10,9.9,..,0]))"
   ]
  },
  {
   "cell_type": "code",
   "execution_count": null,
   "metadata": {},
   "outputs": [],
   "source": [
    "import random\n",
    "\n",
    "r = [(random.randint(10,99), random.randint(10,99)) for i in range(100)]\n",
    "\n",
    "list_plot(r, color='blue', size = 70)"
   ]
  },
  {
   "cell_type": "code",
   "execution_count": null,
   "metadata": {},
   "outputs": [],
   "source": []
  },
  {
   "cell_type": "markdown",
   "metadata": {},
   "source": [
    "### 11.2 3D Graphics <a class=\"anchor\" id=\"3d-graphics\"></a>\n",
    "\n",
    "Sage provides the `plot3d(f(x,y),(x,a,b),(y,c,d))` command to display surfaces in 3-dimensions. The surface obtained may then be visualised via the `Jmol` application; the `Tachyon 3D Ray Tracer` or `three.js` can be used alternatively with the option viewer='tachyon' or viewer='threejs' of the show command.\n",
    "Here are some examples."
   ]
  },
  {
   "cell_type": "code",
   "execution_count": null,
   "metadata": {},
   "outputs": [],
   "source": [
    "u, v = var('u, v')\n",
    "h = lambda u,v: u^2 + 2*v^2\n",
    "plot3d(h, (u,-1,1), (v,-1,1), aspect_ratio=[1,1,1])"
   ]
  },
  {
   "cell_type": "code",
   "execution_count": null,
   "metadata": {},
   "outputs": [],
   "source": [
    "u, v = var('u,v')\n",
    "f1 = (4+(3+cos(v))*sin(u), 4+(3+cos(v))*cos(u), 4+sin(v))\n",
    "f2 = (8+(3+cos(v))*cos(u), 3+sin(v), 4+(3+cos(v))*sin(u))\n",
    "p1 = parametric_plot3d(f1, (u,0,2*pi), (v,0,2*pi), texture=\"red\")\n",
    "p2 = parametric_plot3d(f2, (u,0,2*pi), (v,0,2*pi), texture=\"blue\")\n",
    "show(p1 + p2)"
   ]
  },
  {
   "cell_type": "code",
   "execution_count": null,
   "metadata": {},
   "outputs": [],
   "source": [
    "(x, y) = var(\"x\", \"y\")\n",
    "plot3d(sin(pi*sqrt(x^2 + y^2))/sqrt(x^2+y^2),(x,-5,5), (y,-5,5))"
   ]
  },
  {
   "cell_type": "markdown",
   "metadata": {},
   "source": [
    "### 11.3 Interact <a class=\"anchor\" id=\"interact\"></a>\n",
    "\n",
    "Part of this section of this tutorial is adated from one developed for the MAA PREP Workshop \"Sage: Using Open-Source Mathematics Software with Undergraduates\" (funding provided by NSF DUE 0817071). Invaluable resources are the Sage wiki <http://wiki.sagemath.org/interact> (type \"sage interact\" into Google) and the [interact documentation](http://sagemath.org/doc/reference/notebook/sagenb/notebook/interact.html#sagenb.notebook.interact.interact).\n",
    "\n",
    "How would one create an interactive cell? First, let's focus on a new thing to do! Perhaps we just want a graph plotter that has some options. \n",
    "\n",
    "Before we start, I want to set all my graph objects to a particular size so it will fit on the screen. You do not have to do this so please comment out the code in the cell below or do not run it. "
   ]
  },
  {
   "cell_type": "code",
   "execution_count": null,
   "metadata": {},
   "outputs": [],
   "source": [
    "sage.plot.graphics.Graphics.SHOW_OPTIONS['figsize'] = 4"
   ]
  },
  {
   "cell_type": "markdown",
   "metadata": {},
   "source": [
    "Now let's start by getting the commands for what you want the output to look like. Here we just want a simple plot."
   ]
  },
  {
   "cell_type": "code",
   "execution_count": null,
   "metadata": {},
   "outputs": [],
   "source": [
    "plot(x^2,(x,-3,3))"
   ]
  },
  {
   "cell_type": "markdown",
   "metadata": {},
   "source": [
    "Then you abstract out the parts you want to change. We'll be letting the user change the function, so let's make that a variable $f$."
   ]
  },
  {
   "cell_type": "code",
   "execution_count": null,
   "metadata": {},
   "outputs": [],
   "source": [
    "f=x^3\n",
    "\n",
    "plot(f,(x,-3,3))"
   ]
  },
  {
   "cell_type": "markdown",
   "metadata": {},
   "source": [
    "This was important because it allowed you to step back and think about what you would really be doing.\n",
    "\n",
    "Now for the technical part. We make this a `def` function. The `show` or `print` is needed since the output is not automatically printed from within a function. Note also that we give the variable a default value\n",
    "of $x^2$. This is what $f$ is if the user does not specify a value for $f$."
   ]
  },
  {
   "cell_type": "code",
   "execution_count": null,
   "metadata": {},
   "outputs": [],
   "source": [
    "def my_plot(f=x^2):\n",
    "    show(plot(f,(x,-3,3)))"
   ]
  },
  {
   "cell_type": "markdown",
   "metadata": {},
   "source": [
    "Let's test the `def` function `my_plot` by just calling it."
   ]
  },
  {
   "cell_type": "code",
   "execution_count": null,
   "metadata": {},
   "outputs": [],
   "source": [
    "my_plot()"
   ]
  },
  {
   "cell_type": "markdown",
   "metadata": {},
   "source": [
    "If we call it with a different value for $f$, we should get a different plot."
   ]
  },
  {
   "cell_type": "code",
   "execution_count": null,
   "metadata": {},
   "outputs": [],
   "source": [
    "my_plot(x^3)"
   ]
  },
  {
   "cell_type": "markdown",
   "metadata": {},
   "source": [
    "So far, we've only defined a new function, so this was technically review. To make a control to enter the function, we just preface the function with `@interact`."
   ]
  },
  {
   "cell_type": "code",
   "execution_count": null,
   "metadata": {},
   "outputs": [],
   "source": [
    "@interact\n",
    "def myplot(f=x^2):\n",
    "    show(plot(f,(x,-3,3)))"
   ]
  },
  {
   "cell_type": "markdown",
   "metadata": {},
   "source": [
    "Technically what the `@interact` does is wrap the function, so the above is equivalent to:\n",
    "\n",
    "    def my_plot(..): ...\n",
    "\n",
    "    my_plot=interact(my_plot)\n",
    "\n",
    "Note that we can still call our function, even when we've used `@interact`. This is often useful in debugging it."
   ]
  },
  {
   "cell_type": "code",
   "execution_count": null,
   "metadata": {},
   "outputs": [],
   "source": [
    "my_plot(x^3 + x^2 - 5)"
   ]
  },
  {
   "cell_type": "markdown",
   "metadata": {},
   "source": [
    "We can go ahead and replace other parts of the expression with variables. Note the `_` is the function name now. That is just a convention for throw-away names that we don't care about."
   ]
  },
  {
   "cell_type": "code",
   "execution_count": null,
   "metadata": {},
   "outputs": [],
   "source": [
    "@interact\n",
    "def _(f = x^2, a = -3, b = 3):\n",
    "    \n",
    "    show(plot(f, (x, a, b)))"
   ]
  },
  {
   "cell_type": "markdown",
   "metadata": {},
   "source": [
    "If we pass `('label', default_value)` in for a control, then the control gets the label when printed. Here, we've put in some text for all three of them. Remember that the text must be in quotes! Otherwise Sage will\n",
    "think that you are referring (for example) to some variable called lower, which it will think you forgot to define."
   ]
  },
  {
   "cell_type": "code",
   "execution_count": null,
   "metadata": {},
   "outputs": [],
   "source": [
    "@interact\n",
    "def _(f=('$f$',x^2),a=('lower',-3),b=('upper',3)):\n",
    "    show(plot(f,(x,a,b)))"
   ]
  },
  {
   "cell_type": "markdown",
   "metadata": {},
   "source": [
    "We can specify the type of control explicitly, along with options. Here we use the function `input_box` and set the `width` to 20 and `label` to $f$."
   ]
  },
  {
   "cell_type": "code",
   "execution_count": null,
   "metadata": {},
   "outputs": [],
   "source": [
    "@interact\n",
    "def _(f=input_box(x^2, width=20, label=\"$f$\")):\n",
    "    show(plot(f,(x,-3,3)))"
   ]
  },
  {
   "cell_type": "markdown",
   "metadata": {},
   "source": [
    "Here's another type of control: a color picker."
   ]
  },
  {
   "cell_type": "code",
   "execution_count": null,
   "metadata": {},
   "outputs": [],
   "source": [
    "@interact\n",
    "def _(f=input_box(x^2,width=20), color=color_selector(widget='colorpicker')):\n",
    "    show(plot(f,(x,-3,3), color=color))"
   ]
  },
  {
   "cell_type": "markdown",
   "metadata": {},
   "source": [
    "We have to use the annoying syntax `color_selector(widget='colorpicker')` because the default is currently\n",
    "broken in at least some browsers.\n",
    "\n",
    "Here we demonstrate a bunch of options. Notice the new controls:\n",
    "\n",
    "-   range slider, which passes in *two* values, zoom\\[0\\] and zoom\\[1\\]\n",
    "-   True/False gets converted to checkboxes"
   ]
  },
  {
   "cell_type": "code",
   "execution_count": null,
   "metadata": {},
   "outputs": [],
   "source": [
    "@interact\n",
    "def _(f=input_box(x^2,width=20), \n",
    "color=color_selector(widget='colorpicker', label=\"\"),\n",
    "axes=True,\n",
    "fill=True,\n",
    "zoom=range_slider(-3,3,default=(-3,3))):\n",
    "    show(plot(f,(x,zoom[0], zoom[1]), color=color, axes=axes,fill=fill))"
   ]
  },
  {
   "cell_type": "markdown",
   "metadata": {},
   "source": [
    "That was a bit ugly because all of the controls were stacked on top of each other. We can lay out the controls in a grid in the `top`, `bottom`, `left`, or `right` using the `layout` parameter."
   ]
  },
  {
   "cell_type": "code",
   "execution_count": null,
   "metadata": {},
   "outputs": [],
   "source": [
    "@interact(layout=dict(top=[['f', 'color']],\n",
    "left=[['axes'],['fill']],\n",
    "bottom=[['zoom']]))\n",
    "def _(f=input_box(x^2,width=21),\n",
    "color=color_selector(widget='colorpicker', label=\"\"),\n",
    "axes=True,\n",
    "fill=True,\n",
    "zoom=range_slider(-3,3, default=(-3,3))):\n",
    "    show(plot(f,(x,zoom[0], zoom[1]), color=color, axes=axes,fill=fill))"
   ]
  },
  {
   "cell_type": "markdown",
   "metadata": {},
   "source": [
    "#### 10.2.1 Control Types <a class=\"anchor\" id=\"control-types\"></a>\n",
    "\n",
    "There are many potential types of widgets one might want to use for interactive control. Sage has all of the following:\n",
    "\n",
    "-   boxes\n",
    "-   sliders\n",
    "-   range sliders\n",
    "-   checkboxes\n",
    "-   selectors (dropdown lists or buttons)\n",
    "-   grid of boxes\n",
    "-   color selectors\n",
    "-   plain text\n",
    "\n",
    "We will illustrate some of these after pointing one thing out: the interact documentation!"
   ]
  },
  {
   "cell_type": "code",
   "execution_count": null,
   "metadata": {},
   "outputs": [],
   "source": [
    "interact?"
   ]
  },
  {
   "cell_type": "markdown",
   "metadata": {},
   "source": [
    "There are many shortcuts and default arguments for doing interacts which are very useful. I will not even attempt to cover them now, but read the documentation and try the examples to get a feel for what is possible,\n",
    "and how much - or little - code is needed to achieve it."
   ]
  },
  {
   "cell_type": "code",
   "execution_count": null,
   "metadata": {},
   "outputs": [],
   "source": [
    "@interact\n",
    "def _(frame=checkbox(True, label='Use frame')):\n",
    "    show(plot(sin(x), (x,-5,5)), frame=frame)"
   ]
  },
  {
   "cell_type": "code",
   "execution_count": null,
   "metadata": {},
   "outputs": [],
   "source": [
    "var('x,y')\n",
    "colormaps=sage.plot.colors.colormaps.keys()\n",
    "@interact\n",
    "def _(cmap=selector(colormaps)):\n",
    "    contour_plot(x^2-y^2,(x,-2,2),(y,-2,2),cmap=cmap).show()"
   ]
  },
  {
   "cell_type": "code",
   "execution_count": null,
   "metadata": {},
   "outputs": [],
   "source": [
    "var('x,y')\n",
    "colormaps=sage.plot.colors.colormaps.keys()\n",
    "@interact\n",
    "def _(cmap=selector(['RdBu', 'jet', 'gray','gray_r'],buttons=True),\n",
    "type=['density','contour']):\n",
    "    if type=='contour':\n",
    "        contour_plot(x^2-y^2,(x,-2,2),(y,-2,2),cmap=cmap, aspect_ratio=1).show()\n",
    "    else:\n",
    "        density_plot(x^2-y^2,(x,-2,2),(y,-2,2),cmap=cmap, frame=True,axes=False,aspect_ratio=1).show()"
   ]
  },
  {
   "cell_type": "markdown",
   "metadata": {},
   "source": [
    "By default, ranges are sliders that divide the range into 500 steps (I\n",
    "think that's the right number...)"
   ]
  },
  {
   "cell_type": "code",
   "execution_count": null,
   "metadata": {},
   "outputs": [],
   "source": [
    "@interact\n",
    "def _(n=(1,20)):\n",
    "    print factorial(n)"
   ]
  },
  {
   "cell_type": "markdown",
   "metadata": {},
   "source": [
    "You can set the step size to get, for example, just integer values."
   ]
  },
  {
   "cell_type": "code",
   "execution_count": null,
   "metadata": {},
   "outputs": [],
   "source": [
    "@interact\n",
    "def _(n=slider(1,20,step_size=3)):\n",
    "    print factorial(n)"
   ]
  },
  {
   "cell_type": "markdown",
   "metadata": {},
   "source": [
    "Or you can explicitly specify the slider values."
   ]
  },
  {
   "cell_type": "code",
   "execution_count": null,
   "metadata": {},
   "outputs": [],
   "source": [
    "@interact\n",
    "def _(n=slider([1..20])):\n",
    "    print factorial(n)"
   ]
  },
  {
   "cell_type": "markdown",
   "metadata": {},
   "source": [
    "And the slider values don't even have to be numbers!"
   ]
  },
  {
   "cell_type": "code",
   "execution_count": null,
   "metadata": {},
   "outputs": [],
   "source": [
    "@interact\n",
    "def _(func=('function', slider([sin, cos, tan, sec, csc, cot]))):\n",
    "    pretty_print(html('$%s(%s)=%s$'%(latex(func), latex(pi/3), latex(func(pi/3)))))"
   ]
  },
  {
   "cell_type": "markdown",
   "metadata": {},
   "source": [
    "Matrices are automatically converted to a grid of input boxes."
   ]
  },
  {
   "cell_type": "code",
   "execution_count": null,
   "metadata": {},
   "outputs": [],
   "source": [
    "# for some reason this gives an error\n",
    "@interact\n",
    "def _(m=('matrix', identity_matrix(2))):\n",
    "    print m.eigenvalues()"
   ]
  },
  {
   "cell_type": "markdown",
   "metadata": {},
   "source": [
    "Here's how to get vectors from a grid of boxes."
   ]
  },
  {
   "cell_type": "code",
   "execution_count": null,
   "metadata": {},
   "outputs": [],
   "source": [
    "# for some reason this gives an error\n",
    "@interact\n",
    "def _(v=('vector', input_grid(1, 4, default=[[1,2,3,6]], to_value=lambda x: vector(flatten(x))))):\n",
    "    print v.norm()"
   ]
  },
  {
   "cell_type": "markdown",
   "metadata": {},
   "source": [
    "As a final tip, sometimes we don't want any updates until we specifically say so. This is especially useful when there are a lot of things to change and it would be annoying to have the interact constantly update. An example of such a case when this is needed is when changing the entries of a matrix. We can use the `auto_update=False` option for that."
   ]
  },
  {
   "cell_type": "code",
   "execution_count": null,
   "metadata": {},
   "outputs": [],
   "source": [
    "@interact\n",
    "def _(m=('matrix', identity_matrix(2)), auto_update=False):\n",
    "    print m.eigenvalues()"
   ]
  },
  {
   "cell_type": "code",
   "execution_count": null,
   "metadata": {},
   "outputs": [],
   "source": [
    "@interact\n",
    "def _(frame=checkbox(True, label='Use frame'), auto_update=False):\n",
    "    show(plot(sin(x), (x,-5,5)), frame=frame)"
   ]
  },
  {
   "cell_type": "markdown",
   "metadata": {},
   "source": [
    "If you like numerical methods, these come built-in as well.  Note the interactivity Sage can provide."
   ]
  },
  {
   "cell_type": "code",
   "execution_count": null,
   "metadata": {},
   "outputs": [],
   "source": [
    "import pylab\n",
    "A_image = pylab.mean(pylab.imread('images/university_of_ibadan.png'), 2)\n",
    "B_image = pylab.mean(pylab.imread('images/nigeria_flag.png'), 2)\n",
    "@interact\n",
    "def svd_image(i=(5,(1..50))):\n",
    "    u,s,v = pylab.linalg.svd(A_image)\n",
    "    A = sum(s[j]*pylab.outer(u[0:,j],v[j,0:]) for j in range(i))\n",
    "    u1,s1,v1 = pylab.linalg.svd(B_image)\n",
    "    B = sum(s1[j]*pylab.outer(u1[0:,j],v1[j,0:]) for j in range(i))\n",
    "    g = graphics_array([[matrix_plot(A),matrix_plot(B)],[matrix_plot(A_image),matrix_plot(B_image)]])\n",
    "    show(g,axes=False, figsize=6)\n",
    "    pretty_print(html('<h2>Compressed using %s eigenvalues</h2>'%i))"
   ]
  },
  {
   "cell_type": "code",
   "execution_count": null,
   "metadata": {},
   "outputs": [],
   "source": [
    "y = var('y') \n",
    "@interact \n",
    "def _(g=input_box(default = 1-y),a=2,b=2,auto_update=False): \n",
    "     yfun = function('yfun')(x) \n",
    "     f = desolve(diff(yfun,x) - g(y=yfun), yfun, ics=[a,b]) \n",
    "     Q=plot(f,0,3) \n",
    "     q = Q[0].get_minmax_data()\n",
    "     P=plot_slope_field(g,(x,q['xmin'],q['xmax']),(y,q['ymin'],q['ymax']),figsize=4) \n",
    "     pretty_print(html('$f(x)=%s$'%(latex(f),)))\n",
    "     show(P+Q)"
   ]
  },
  {
   "cell_type": "markdown",
   "metadata": {},
   "source": [
    "In the previous example, notice that it's possible to join several different types of computations together. In this example, we calculate a symbolic solution to a differential equation, but plot the slope field and solution numerically.  Sage tries to be unified as much as possible."
   ]
  },
  {
   "cell_type": "code",
   "execution_count": null,
   "metadata": {},
   "outputs": [],
   "source": [
    "@interact\n",
    "def power_table_plot(p=(7,prime_range(50))):\n",
    "    P=matrix_plot(matrix(p-1,[mod(a,p)^b for a in range(1,p) for b in srange(p)]),cmap='jet')\n",
    "    show(P)"
   ]
  },
  {
   "cell_type": "markdown",
   "metadata": {},
   "source": [
    "Here is another example obtained from the [SageMath wiki page for interact](https://wiki.sagemath.org/interact)."
   ]
  },
  {
   "cell_type": "code",
   "execution_count": null,
   "metadata": {},
   "outputs": [],
   "source": [
    "x   = SR.var('x')\n",
    "x0  = 0\n",
    "f   = sin(x) * e^(-x)\n",
    "p   = plot(f, -1, 5, thickness=2)\n",
    "dot = point((x0, f(x=x0)), pointsize=80, rgbcolor=(1, 0, 0))\n",
    "\n",
    "@interact\n",
    "def _(order=slider([1 .. 15]), auto_update=False):\n",
    "  ft = f.taylor(x, x0, order)\n",
    "  pt = plot(ft, -1, 5, color='green', thickness=2)\n",
    "  pretty_print(html('$f(x)\\;=\\;%s$' % latex(f)))\n",
    "  pretty_print(html('$\\hat{f}(x;%s)\\;=\\;%s+\\mathcal{O}(x^{%s})$' % (x0, latex(ft), order+1)))\n",
    "  show(dot + p + pt, ymin=-.5, ymax=1)"
   ]
  },
  {
   "cell_type": "code",
   "execution_count": null,
   "metadata": {},
   "outputs": [],
   "source": []
  },
  {
   "cell_type": "markdown",
   "metadata": {},
   "source": [
    "#### 11.2.2 Interact Competition <a class=\"anchor\" id=\"interact-competition\"></a>\n",
    "\n",
    "I hope you like this interact feature of Sage. We would divide ourselves into groups and try to come up with an original idea that can be used with `@interact`. Over the course of the week, the group members should meet and try to use the SageMath `@interact` feature to demonstrate your idea. Then on the last day of the workshop, i.e., <b><font color=red>Friday, 19th of July</font></b> the groups will present their work and afterwards there will be questions. The time allocation for the presentation will depend on how many groups will be presenting. Although this exercise is not mandatory, I strongly encourage you to participate in it.\n",
    "\n",
    "- The submitted work should contain original ideas. Group work is encouraged! The jury will consider following aspects of each work:\n",
    "\n",
    "    - the originality of  the idea\n",
    "    - the quality of graphics\n",
    "    - the scientific message and content \n",
    "    - the explanation of  ideas and the possible application of the Sage `@interact`\n",
    "\n",
    "- The interact resource listed in the [SageMath Resources](./sage_days_102_introduction_to_sage_13_sagemath_resources.ipynb#sagemath-resources) notebook might be a good source of inspiration as well as knowledge, as are Wolfram Demonstrations or any scientific illustrations on the web.  While SageMath `@interact` applications found on the web may be used as inspiration, the submissions should be primarily original work of the participants.\n",
    "\n",
    "- Submission Protocol:\n",
    "\n",
    "    - Create an interact in ONE cell in a worksheet.\n",
    "    - Explain it as described above in ONE text cell in the worksheet.\n",
    "    - Put your name or all members of a group clearly in the explanation.\n",
    "    - Call it `Group_Number_Interact_Submission` (for example, Group_1_Interact_Submission) and download the Jupyter notebook.\n",
    "    - Reply to the official announcement email from Evans, with the jupyter  notebook attached. Note that all worksheet should contain the names of the group members.\n",
    "    - Keep calm and relax!"
   ]
  },
  {
   "cell_type": "code",
   "execution_count": null,
   "metadata": {},
   "outputs": [],
   "source": []
  },
  {
   "cell_type": "code",
   "execution_count": null,
   "metadata": {},
   "outputs": [],
   "source": []
  }
 ],
 "metadata": {
  "kernelspec": {
   "display_name": "SageMath 8.8",
   "language": "sage",
   "name": "sagemath"
  },
  "language": "python",
  "language_info": {
   "codemirror_mode": {
    "name": "ipython",
    "version": 2
   },
   "file_extension": ".py",
   "mimetype": "text/x-python",
   "name": "python",
   "nbconvert_exporter": "python",
   "pygments_lexer": "ipython2",
   "version": "2.7.15"
  }
 },
 "nbformat": 4,
 "nbformat_minor": 2
}
