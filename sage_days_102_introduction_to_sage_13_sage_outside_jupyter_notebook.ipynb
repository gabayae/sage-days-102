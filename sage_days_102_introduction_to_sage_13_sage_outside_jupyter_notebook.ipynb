{
 "cells": [
  {
   "cell_type": "markdown",
   "metadata": {},
   "source": [
    "<h1 style=\"text-align: left;\"><a title=\"Sage Days 102 Workshop\" href=\"https://wiki.sagemath.org/days102\">Sage Days 102 Workshop</a>, <a title=\"University of Ibadan\" href=\"https://www.ui.edu.ng/\">University of Ibadan</a> Nigeria.</h1>\n",
    "\n",
    "\n",
    "<h2 style=\"text-align: left;\">Day 02 — Introduction to <a title=\"Sage\"href=\"http://www.sagemath.org/\"><em>Sage</em></a>: A Mathematics Software for All</h2>\n",
    "\n",
    "\n",
    "### Instructor: [Evans Doe Ocansey](https://risc.jku.at/m/evans-doe-ocansey/)\n",
    "\n",
    "The outline of the this notebook is as follows:"
   ]
  },
  {
   "cell_type": "markdown",
   "metadata": {},
   "source": [
    "## Table of Contents: <a class=\"anchor\" id=\"toc\"></a>\n",
    "*  [<font color=blue>Sage Outside Jupyter Notebook</font>](#sage-outside-jupyter-notebook)\n",
    "    *  [<font color=blue>CoCalc</font>](#cocalc)\n",
    "    *  [<font color=blue>SageMath Cell Server</font>](#sagemath-cell-server)\n",
    "    *  [<font color=blue>SageMath Shell</font>](#sagemath-shell)\n",
    "    *  [<font color=blue>The Old SageNB Notebook</font>](#the-old-sagenb-notebook)"
   ]
  },
  {
   "cell_type": "markdown",
   "metadata": {},
   "source": [
    "## 13 Sage Outside Jupyter Notebook <a class=\"anchor\" id=\"sage-outside-jupyter-notebook\"></a>\n",
    "\n",
    "Apart from this Jupyter notebook, there are other ways to use SageMath. As far as I know, there are basically four different ways to run SageMath."
   ]
  },
  {
   "cell_type": "code",
   "execution_count": null,
   "metadata": {},
   "outputs": [],
   "source": []
  },
  {
   "cell_type": "markdown",
   "metadata": {},
   "source": [
    "### 13.1 [CoCalc](https://cocalc.com/) <a class=\"anchor\" id=\"cocalc\"></a>\n",
    "\n",
    "[CoCalc](https://cocalc.com/) ([<https://cocalc.com/>](https://cocalc.com/)) formerly called SageMath Cloud is an abbreviation for **Co**llaborative **Cal**culation in the **C**loud. It is a sophicated web application for online computations which requires no installation. Apart from SageMath, it runs other softwares like IPython, LaTeX, C++, Julia, Python, Ruby, Haskell, etc. It's particularly good for collaboration on an entire project across large distances. In order to have access to [CoCalc](https://cocalc.com/), you will have to [sign-up here](https://cocalc.com/settings?session=default) by creating an account. Here is a youtube video which provides more detials on [CoCalc](https://cocalc.com/)."
   ]
  },
  {
   "cell_type": "code",
   "execution_count": null,
   "metadata": {},
   "outputs": [],
   "source": []
  },
  {
   "cell_type": "markdown",
   "metadata": {},
   "source": [
    "### 13.2 [SageMath Cell Server](http://sagecell.sagemath.org/) <a class=\"anchor\" id=\"sagemath-cell-server\"></a>\n",
    "\n",
    "The SageMath cell server ([<http://sagecell.sagemath.org/>](http://sagecell.sagemath.org/)) is somewhat analogous to Wolfram Alpha and other computational websites. You just type in a command and it does it for you. It doesn't have a \"memory\" so it is not useful for long computations, but very convenient if you are on the internet and just want to try something quickly. This is convenient for many reasons; for some sage developers, it is useful for making class notes that are themselves websites. Here is an [example](http://www.math-cs.gordon.edu/~kcrisman/mat338/MAT338Day2-2013.html)."
   ]
  },
  {
   "cell_type": "code",
   "execution_count": null,
   "metadata": {},
   "outputs": [],
   "source": []
  },
  {
   "cell_type": "markdown",
   "metadata": {},
   "source": [
    "### 13.3 SageMath Shell <a class=\"anchor\" id=\"sagemath-shell\"></a>\n",
    "\n",
    "We can also run SageMath in the shell or terminal. Starting SageMath this way normally depends on how SageMath was installed on your operating system.\n",
    "\n",
    "- For windows users who installed SageMath using the windows installer obtained from this website ([[https://github.com/sagemath/sage\\\\-windows/releases](https://github.com/sagemath/sage\\-windows/releases)](https://github.com/sagemath/sage-windows/releases)) you have to do the following:\n",
    "\n",
    "    1.  On your desktop click on the icon SageMath-VersionNumber Shell. This should open a terminal. Note VersionNumber is the version of sage you are currently running on your system.\n",
    "    2.  At the terminal prompt, type `sage`. This should start sage in the terminal.\n",
    "\n",
    "- For mac users who installed SageMath using the `dmg` file obtained from the SageMath website and have extracted the SageMath application file (i.e., `SageMath-VersionNumber.app`) into the `/Applications` dicrectory, do the following:\n",
    "\n",
    "    1.  Open your terminal\n",
    "    2.  At the terminal prompt type `/Applications/SageMath-8.8.app/Contents/Resources/sage/sage` to start sage in the terminal. (Note that in this example, I assume that the VersionNumber is 8.8. You should replace this with the version you have downloaded). \n",
    "    3. However, if you already have SageMath `bin` the directory `/Applications/SageMath-8.8.app/Contents/Resources/sage/local/bin` directory included in your `bash` path, then you only have to type `sage` after opening your terminal and you are good to go.\n",
    "\n",
    "- For linux users who installed SageMath by downloading the binary tarball from ([<http://www.sagemath.org/download-source.html>](http://www.sagemath.org/download-source.html)) and building it from source, or using the precompiled version downloaded from ([<http://www.sagemath.org/download.html>](http://www.sagemath.org/download.html)) do the following:\n",
    "\n",
    "    1. Open your terminal and change directory into the sage home directory. This is the directory where SageMath was built during installation.\n",
    "    2. At the terminal prompt, type `./sage` to start SageMath in the terminal.\n",
    "    3. If you already have the SageMath `bin` directory included in your path, then you only have to type `sage` after opening your terminal and you are good to go.\n",
    "\n",
    "    4. If you are running AIMS-Desktop, then do the following:\n",
    "        -  Open the terminal\n",
    "        -  At the terminal prompt, type `sage` without the quotes."
   ]
  },
  {
   "cell_type": "code",
   "execution_count": null,
   "metadata": {},
   "outputs": [],
   "source": []
  },
  {
   "cell_type": "markdown",
   "metadata": {},
   "source": [
    "### 13.4 The Old SageNB Notebook <a class=\"anchor\" id=\"the-old-sagenb-notebook\"></a>\n",
    "\n",
    "When SageMath started, the defualt worksheet was the `sagenb`. These SageMath worksheet files have `sws` as their file extension. The SageMath developers have now change the default notebook to the Jupyter notebook. Thus, on any operating system running sage-7.4 or higher SageMath opens with the Jupyter notebook.\n",
    "\n",
    "- For windows users who installed Sage using the windows installer obtained from this website ([[https://github.com/sagemath/sage\\\\-windows/releases](https://github.com/sagemath/sage\\-windows/releases)](https://github.com/sagemath/sage-windows/releases)), you can start sage with the old SageMath worksheet `sagenb` notebook by doing the following:\n",
    "\n",
    "    -  Click on the SageMath-VersionNumber Shell and type ***ONE*** of the following commands:\n",
    "        \n",
    "        ```\n",
    "        sage -n=sagenb\n",
    "        sage --notebook=sagenb\n",
    "        sage --notebook=sagenb\n",
    "        ```\n",
    "\n",
    "- For mac users who installed SageMath using the dmg file obtained from the SageMath website and have extracted the SageMath application file (i.e., SageMath-VersionNumber.app) into `/Applications` dicrectory, you can start SageMath with the old SageMath worksheet by doing the following:\n",
    "\n",
    "    -  Open your terminal and type ***ONE*** of the following commands in the command prompt:\n",
    "        ```\n",
    "        /Applications/SageMath-8.8.app/Contents/Resources/sage/sage -n=sagenb\n",
    "        /Applications/SageMath-8.8.app/Contents/Resources/sage/sage --notebook=sagenb\n",
    "        /Applications/SageMath-8.8.app/Contents/Resources/sage/sage --notebook=sagenb\n",
    "        ```\n",
    "    - If you already have the SageMath `bin` directory `/Applications/SageMath-8.8.app/Contents/Resources/sage/local/bin` included in your `bash` path, then do ***ONE*** of the following:\n",
    "\n",
    "        ```\n",
    "        sage -n=sagenb\n",
    "        sage --notebook=sagenb\n",
    "        sage --notebook=sagenb\n",
    "        ```\n",
    "\n",
    "- For linux users who installed SageMath by downloading the binary tarball from ([<http://www.sagemath.org/download-source.html>](http://www.sagemath.org/download-source.html)) and building it from source, or using the precompiled version downloaded from ([<http://www.sagemath.org/download.html>](http://www.sagemath.org/download.html)) do the following:\n",
    "\n",
    "    - Open your terminal and change directory into the sage home directory. This is the directory where sage was built during installation. At the terminal prompt, type ***ONE*** of the following:\n",
    "        ```\n",
    "        ./sage -n=sagenb\n",
    "        ./sage --notebook=sagenb\n",
    "        ./sage --notebook=sagenb\n",
    "        ```\n",
    "\n",
    "    - If you already have the SageMath `bin` directory included in your path, then open your terminal and type in ***ONE*** of the following commands. (Note: AIMS-Desktop users fall into this category).\n",
    "\n",
    "        ```\n",
    "        sage -n=sagenb\n",
    "        sage --notebook=sagenb\n",
    "        sage --notebook=sagenb\n",
    "        ```"
   ]
  },
  {
   "cell_type": "code",
   "execution_count": null,
   "metadata": {},
   "outputs": [],
   "source": []
  }
 ],
 "metadata": {
  "kernelspec": {
   "display_name": "SageMath 8.8",
   "language": "sage",
   "name": "sagemath"
  },
  "language": "python",
  "language_info": {
   "codemirror_mode": {
    "name": "ipython",
    "version": 2
   },
   "file_extension": ".py",
   "mimetype": "text/x-python",
   "name": "python",
   "nbconvert_exporter": "python",
   "pygments_lexer": "ipython2",
   "version": "2.7.15"
  }
 },
 "nbformat": 4,
 "nbformat_minor": 2
}
