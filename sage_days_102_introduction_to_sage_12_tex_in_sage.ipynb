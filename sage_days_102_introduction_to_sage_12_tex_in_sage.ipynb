{
 "cells": [
  {
   "cell_type": "markdown",
   "metadata": {},
   "source": [
    "<h1 style=\"text-align: left;\"><a title=\"Sage Days 102 Workshop\" href=\"https://wiki.sagemath.org/days102\">Sage Days 102 Workshop</a>, <a title=\"University of Ibadan\" href=\"https://www.ui.edu.ng/\">University of Ibadan</a> Nigeria.</h1>\n",
    "\n",
    "\n",
    "<h2 style=\"text-align: left;\">Day 02 — Introduction to <a title=\"Sage\"href=\"http://www.sagemath.org/\"><em>Sage</em></a>: A Mathematics Software for All</h2>\n",
    "\n",
    "\n",
    "### Instructor: [Evans Doe Ocansey](https://risc.jku.at/m/evans-doe-ocansey/)\n",
    "\n",
    "The outline of the this notebook is as follows:"
   ]
  },
  {
   "cell_type": "markdown",
   "metadata": {},
   "source": [
    "## Table of Contents: <a class=\"anchor\" id=\"toc\"></a>\n",
    "\n",
    "*  [<font color=blue>$\\TeX$ in Sage</font>](#tex-in-sage)"
   ]
  },
  {
   "cell_type": "markdown",
   "metadata": {},
   "source": [
    "## 12 $\\TeX$ in [Sage](http://www.sagemath.org) <a class=\"anchor\" id=\"tex-in-sagemath\"></a>\n",
    "\n",
    "Sage is able to generate the $\\TeX$ code for objects of any class. To generate the $\\TeX$ code you have to pass the object as an argument to the Sage function latex. For example:"
   ]
  },
  {
   "cell_type": "code",
   "execution_count": null,
   "metadata": {},
   "outputs": [],
   "source": [
    "my_list = Set([1,4..21])"
   ]
  },
  {
   "cell_type": "code",
   "execution_count": null,
   "metadata": {},
   "outputs": [],
   "source": [
    "latex(my_list)"
   ]
  },
  {
   "cell_type": "markdown",
   "metadata": {},
   "source": [
    "We can even get the $\\TeX$ code for complicated objects."
   ]
  },
  {
   "cell_type": "code",
   "execution_count": null,
   "metadata": {},
   "outputs": [],
   "source": [
    "my_graph = graphs.CompleteGraph(3)"
   ]
  },
  {
   "cell_type": "code",
   "execution_count": null,
   "metadata": {},
   "outputs": [],
   "source": [
    "latex(my_graph)"
   ]
  },
  {
   "cell_type": "markdown",
   "metadata": {},
   "source": [
    "One can also run Sage code in $\\LaTeX$. For more information on this see the [SageTeX documentation](http://doc.sagemath.org/html/en/tutorial/sagetex.html)."
   ]
  },
  {
   "cell_type": "code",
   "execution_count": null,
   "metadata": {},
   "outputs": [],
   "source": []
  }
 ],
 "metadata": {
  "kernelspec": {
   "display_name": "SageMath 8.8",
   "language": "sage",
   "name": "sagemath"
  },
  "language": "python",
  "language_info": {
   "codemirror_mode": {
    "name": "ipython",
    "version": 2
   },
   "file_extension": ".py",
   "mimetype": "text/x-python",
   "name": "python",
   "nbconvert_exporter": "python",
   "pygments_lexer": "ipython2",
   "version": "2.7.15"
  }
 },
 "nbformat": 4,
 "nbformat_minor": 2
}
