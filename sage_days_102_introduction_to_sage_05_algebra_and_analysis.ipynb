{
 "cells": [
  {
   "cell_type": "markdown",
   "metadata": {},
   "source": [
    "<h1 style=\"text-align: left;\"><a title=\"Sage Days 102 Workshop\" href=\"https://wiki.sagemath.org/days102\">Sage Days 102 Workshop</a>, <a title=\"University of Ibadan\" href=\"https://www.ui.edu.ng/\">University of Ibadan</a> Nigeria.</h1>\n",
    "\n",
    "\n",
    "<h2 style=\"text-align: left;\">Day 02 — Introduction to <a title=\"Sage\"href=\"http://www.sagemath.org/\"><em>Sage</em></a>: A Mathematics Software for All</h2>\n",
    "\n",
    "\n",
    "### Instructor: [Evans Doe Ocansey](https://risc.jku.at/m/evans-doe-ocansey/)\n",
    "\n",
    "The outline of the this notebook is as follows:"
   ]
  },
  {
   "cell_type": "markdown",
   "metadata": {},
   "source": [
    "## Table of Contents: <a class=\"anchor\" id=\"toc\"></a>\n",
    "*  [<font color=blue>Algebra and Analysis</font>](#algebra-and-analysis)\n",
    "    *  [<font color=blue>Symbolic Expressions</font>](#symbolic-expressions)\n",
    "    *  [<font color=blue>Transforming Expressions</font>](#transforming-expressions)\n",
    "        *  [<font color=red>Exercise 3</font>](#exercise-3)\n",
    "    *  [<font color=blue>Usual Mathematical Functions</font>](#usual-mathematical-functions)\n",
    "    *  [<font color=blue>Assumptions</font>](#assumptions)\n",
    "    *  [<font color=blue>Equations</font>](#equations)\n",
    "    *  [<font color=blue>Explicit Solving</font>](#explicit-solving)\n",
    "        *  [<font color=red>Exercise 4</font>](#exercise-4)\n",
    "        *  [<font color=red>Exercise 5</font>](#exercise-5)\n",
    "        *  [<font color=red>Exercise 6</font>](#exercise-6)\n",
    "        *  [<font color=red>Exercise 7</font>](#exercise-7)\n",
    "        *  [<font color=red>Exercise 8</font>](#exercise-8)\n",
    "    *  [<font color=blue>Equations with no Explicit Solution</font>](#equations-with-no-explicit-solution)\n",
    "    *  [<font color=blue>Analysis</font>](#analysis)\n",
    "        *  [<font color=blue>Sums</font>](#sums)\n",
    "        *  [<font color=blue>Limits</font>](#limits)\n",
    "            *  [<font color=red>Exercise 9</font>](#exercise-9)\n",
    "        *  [<font color=blue>Sequences</font>](#sequences)\n",
    "            *  [<font color=red>Exercise 10</font>](#exercise-10)\n",
    "        *  [<font color=blue>Power Series Expansions</font>](#power-series-expansions)\n",
    "            *  [<font color=red>Exercise 11</font>](#exercise-11)\n",
    "            *  [<font color=red>Exercise 12</font>](#exercise-12)\n",
    "            *  [<font color=red>Exercise 13</font>](#exercise-13)\n",
    "        *  [<font color=blue>Series</font>](#series)\n",
    "            *  [<font color=red>Exercise 14</font>](#exercise-14)\n",
    "            *  [<font color=red>Exercise 15</font>](#exercise-15)\n",
    "        *  [<font color=blue>Derivatives</font>](#derivatives)\n",
    "        *  [<font color=blue>Partial Derivatives</font>](#partial-derivatives)\n",
    "            *  [<font color=red>Exercise 16</font>](#exercise-16)\n",
    "            *  [<font color=red>Exercise 17</font>](#exercise-17)\n",
    "        *  [<font color=blue>Integrals</font>](#integrals)\n",
    "            *  [<font color=red>Exercise 18</font>](#exercise-18)\n",
    "    *  [<font color=blue>Basic Linear Algebra</font>](#basic-linear-algebra)\n",
    "        *  [<font color=blue>Vector Computations</font>](#vector-computations)\n",
    "            *  [<font color=red>Exercise 19</font>](#exercise-19)\n",
    "            *  [<font color=red>Exercise 20</font>](#exercise-20)\n",
    "        *  [<font color=blue>Matrix Computations</font>](#matrix-computations)\n",
    "            *  [<font color=red>Exercise 21</font>](#exercise-21)\n",
    "            *  [<font color=blue>Reduction of a Square Matrix</font>](#reduction-of-a-square-matrix)\n",
    "                *  [<font color=red>Exercise 22</font>](#exercise-22)\n",
    "                *  [<font color=red>Exercise 23</font>](#exercise-23)\n",
    "                *  [<font color=red>Exercise 24</font>](#exercise-24)"
   ]
  },
  {
   "cell_type": "markdown",
   "metadata": {},
   "source": [
    "## 5 Algebra and Analysis <a class=\"anchor\" id=\"algebra-and-analysis\"></a>"
   ]
  },
  {
   "cell_type": "markdown",
   "metadata": {},
   "source": [
    "In this chapter, we will use simple examples to describe the useful basic functions in analysis and algebra. The mathematics behind most of these functions should be familiar to you so I will assume that you know these already. The main thing here is how one can do these in Sage. This section is also to prepare you for some of the things Yae will talk about either Wednesday or Thursday."
   ]
  },
  {
   "cell_type": "markdown",
   "metadata": {},
   "source": [
    "### 5.1 Symbolic Expressions <a class=\"anchor\" id=\"symbolic-expressions\"></a>\n",
    "\n",
    "A $\\textsf{symbolic expression}$ is an expression formed with numbers, symbolic variables, the four basic operations, and usual elementary functions like `sqrt`, `exp`, `log`, `sin`, `cos`, `tan` etc. For example"
   ]
  },
  {
   "cell_type": "code",
   "execution_count": null,
   "metadata": {},
   "outputs": [],
   "source": [
    "y = var(\"y\");\n",
    "\n",
    "f = arctan(1+abs(y)); f"
   ]
  },
  {
   "cell_type": "code",
   "execution_count": null,
   "metadata": {},
   "outputs": [],
   "source": [
    "g = pi/2 - arctan(1/(1+abs(y))); g"
   ]
  },
  {
   "cell_type": "markdown",
   "metadata": {},
   "source": [
    "Using Sage one gets access to a wide range of analytic computations on symbolic expressions. It is important to understand that a symbolic expression is a `formula` and <font color=red><b>NOT</b></font> a value or a mathematical function. Although two symbolic expressions are equal when they appear to humans, this might not be so for Sage immediately. Here is an example. The two functions, \n",
    "\n",
    "$$f = \\arctan(|y|+1) \\qquad \\text{ and } \\qquad g = \\frac{\\pi}{2} - \\arctan\\left(\\frac{1}{{\\left| y \\right|} + 1}\\right)$$ \n",
    "\n",
    "are actually the same however, Sage does not see this immediately. "
   ]
  },
  {
   "cell_type": "code",
   "execution_count": null,
   "metadata": {},
   "outputs": [],
   "source": [
    "bool(f == g)"
   ]
  },
  {
   "cell_type": "markdown",
   "metadata": {},
   "source": [
    "A symbolic expression can also be seen as a tree like structure. Let us demonstrate this on the board using these two symbolic expressions \n",
    "\n",
    "$$x^{2} + 3\\,x + 2 \\qquad \\text{ and } \\qquad (x+1)\\,(x+2).$$\n",
    "\n",
    "Note that this is just for demonstration for you to understand and I do not claim that Sage does not recognise immediately that the two symbolic expressions above are not the same, because it actually does."
   ]
  },
  {
   "cell_type": "code",
   "execution_count": null,
   "metadata": {},
   "outputs": [],
   "source": [
    "bool(x^2+3*x+2 == (x+1)*(x+2))"
   ]
  },
  {
   "cell_type": "markdown",
   "metadata": {},
   "source": [
    "Evaluation is the most common operation of a symbolic expression. It is done by giving a value to some of the parameters of the symbolic expression. In Sage, one can achieve this with either the `substitute` or the `subs` method."
   ]
  },
  {
   "cell_type": "code",
   "execution_count": null,
   "metadata": {},
   "outputs": [],
   "source": [
    "a, x = var(\"a, x\"); y = cos(x+a) * (x+1); y"
   ]
  },
  {
   "cell_type": "code",
   "execution_count": null,
   "metadata": {},
   "outputs": [],
   "source": [
    "y.subs(a=-x)"
   ]
  },
  {
   "cell_type": "code",
   "execution_count": null,
   "metadata": {},
   "outputs": [],
   "source": [
    "y.substitute(a=-x)"
   ]
  },
  {
   "cell_type": "code",
   "execution_count": null,
   "metadata": {},
   "outputs": [],
   "source": [
    "y.subs(x=pi/2, a=pi/3)"
   ]
  },
  {
   "cell_type": "code",
   "execution_count": null,
   "metadata": {},
   "outputs": [],
   "source": [
    "y.subs(x=0.5, a=2.3)"
   ]
  },
  {
   "cell_type": "markdown",
   "metadata": {},
   "source": [
    "Compared to the usual mathematical notation $x \\mapsto f(x)$, the variable which is substituted must be explicitly given. The substitution of several parameters is done in parallel, while successive substitutions are performed in sequence, as shown by the two examples below:"
   ]
  },
  {
   "cell_type": "code",
   "execution_count": null,
   "metadata": {},
   "outputs": [],
   "source": [
    "f = cos(x)^6 + sin(x)^6 + 3 * sin(x)^2 * cos(x)^2"
   ]
  },
  {
   "cell_type": "code",
   "execution_count": null,
   "metadata": {},
   "outputs": [],
   "source": [
    "x, y, z = var(\"x, y, z\") ; q = x*y + y*z + z*x; q"
   ]
  },
  {
   "cell_type": "code",
   "execution_count": null,
   "metadata": {},
   "outputs": [],
   "source": [
    "bool(q(x=y, y=z, z=x) == q)"
   ]
  },
  {
   "cell_type": "code",
   "execution_count": null,
   "metadata": {},
   "outputs": [],
   "source": [
    "bool(q(z=y)(y=x) == 3*x^2)"
   ]
  },
  {
   "cell_type": "markdown",
   "metadata": {},
   "source": [
    "We can also replace an expression with a more complex variable than a single variable"
   ]
  },
  {
   "cell_type": "code",
   "execution_count": null,
   "metadata": {},
   "outputs": [],
   "source": [
    "y, z = var('y, z'); f = x^3 + y^2 + z; show(f)"
   ]
  },
  {
   "cell_type": "code",
   "execution_count": null,
   "metadata": {},
   "outputs": [],
   "source": [
    "f.substitute(x^3 == y^2, z==1)"
   ]
  },
  {
   "cell_type": "code",
   "execution_count": null,
   "metadata": {},
   "outputs": [],
   "source": [
    "f.subs(x^3 == y^2, z==1)"
   ]
  },
  {
   "cell_type": "code",
   "execution_count": null,
   "metadata": {},
   "outputs": [],
   "source": []
  },
  {
   "cell_type": "markdown",
   "metadata": {},
   "source": [
    "### 5.1.2 Transforming Expressions <a class=\"anchor\" id=\"transforming-expressions\"></a>\n",
    "\n",
    "Polynomials and rational functions of one or more variables are the simplest non-constant symbolic expressions. Some of the methods that allows one to rewrite expressions in several forms or to put them in their normal forms in Sage include: \n",
    "\n",
    "   - `expand`\n",
    "   - `collect`\n",
    "   - `factor`\n",
    "   - `factor_list`\n",
    "   - `simplify_rational`\n",
    "   - `combine`\n",
    "   - `partial_fraction`"
   ]
  },
  {
   "cell_type": "markdown",
   "metadata": {},
   "source": [
    "####  <font color=red>Exercise 3:</font> <a class=\"anchor\" id=\"exercise-3\"></a>\n",
    "\n",
    "Given the following symbolic expressions\n",
    "\n",
    "   - $f = z\\,x^2 + x^2-(x^2 + y^2)\\,(a\\,x − 2\\,b\\,y) + z\\,y^2 + y^2$;\n",
    "   \n",
    "   - $g = \\frac{x^{3}+x^{2}\\,y+3\\,x^{2}+3\\,x\\,y+2\\,x+2\\,y}{x^{3} + 2\\,x^{2} + x\\,y + 2\\,y}$;\n",
    "   \n",
    "   - $h = \\frac{(x-1)\\,x}{x^{2}-7} + \\frac{y^{2}}{x^{2}-7} + \\frac{b}{a} + \\frac{c}{a} + \\frac{1}{x+1}$;\n",
    "   \n",
    "   - $p = \\frac{1}{(x^{3}+1)\\,y^{2}}$.\n",
    "   \n",
    "   - $p = (x + y + \\sin(x))^{2}$.\n",
    "   \n",
    "Among the list of methods mentioned above, apply them to these expressions where necessary to either rewrite them in a different form or in their normal forms. __Hint__: Read the help documentation of all these methods and try your has on a few before you begin to answer the question. "
   ]
  },
  {
   "cell_type": "code",
   "execution_count": null,
   "metadata": {},
   "outputs": [],
   "source": []
  },
  {
   "cell_type": "code",
   "execution_count": null,
   "metadata": {},
   "outputs": [],
   "source": []
  },
  {
   "cell_type": "code",
   "execution_count": null,
   "metadata": {},
   "outputs": [],
   "source": []
  },
  {
   "cell_type": "code",
   "execution_count": null,
   "metadata": {},
   "outputs": [],
   "source": []
  },
  {
   "cell_type": "code",
   "execution_count": null,
   "metadata": {},
   "outputs": [],
   "source": []
  },
  {
   "cell_type": "markdown",
   "metadata": {},
   "source": [
    "### 5.1.3 Usual Mathematical Functions <a class=\"anchor\" id=\"usual-mathematical-functions\"></a>\n",
    "\n",
    "In <a href=\"#elementary-functions-and-usual-constants\"><b>Section 4.2</b></a>, we mentioned some mathematical functions are known to Sage, in particular the trigonometric functions, the logarithm and the exponential. Others which are also accessible in Sage include: `floor`, `ceil`, `trunc`, `round`, `sqrt` and `nth_root`. Knowing how to transform such functions is crucial. To simplify an expression or a symbolic function, the `simplify` method is available:"
   ]
  },
  {
   "cell_type": "code",
   "execution_count": null,
   "metadata": {},
   "outputs": [],
   "source": [
    "(x^x/x).simplify()"
   ]
  },
  {
   "cell_type": "markdown",
   "metadata": {},
   "source": [
    "However, for more subtle simplifications, the desired kind of simplification for such an expression should be explicit."
   ]
  },
  {
   "cell_type": "code",
   "execution_count": null,
   "metadata": {},
   "outputs": [],
   "source": [
    "f = (e^x-1) / (1+e^(x/2)); f"
   ]
  },
  {
   "cell_type": "code",
   "execution_count": null,
   "metadata": {},
   "outputs": [],
   "source": [
    "f.canonicalize_radical()"
   ]
  },
  {
   "cell_type": "markdown",
   "metadata": {},
   "source": [
    "For example, to simplify trigonometric expressions, the `simplify_trig` method should be used."
   ]
  },
  {
   "cell_type": "code",
   "execution_count": null,
   "metadata": {},
   "outputs": [],
   "source": [
    "f = cos(x)^6 + sin(x)^6 + 3 * sin(x)^2 * cos(x)^2; f"
   ]
  },
  {
   "cell_type": "code",
   "execution_count": null,
   "metadata": {},
   "outputs": [],
   "source": [
    "f.simplify_trig()"
   ]
  },
  {
   "cell_type": "markdown",
   "metadata": {},
   "source": [
    "To linearise (resp. anti-linearise) a trigonometric expression, we use `reduce_trig` (resp. `expand_trig`)"
   ]
  },
  {
   "cell_type": "code",
   "execution_count": null,
   "metadata": {},
   "outputs": [],
   "source": [
    "f = cos(x)^6; f"
   ]
  },
  {
   "cell_type": "code",
   "execution_count": null,
   "metadata": {},
   "outputs": [],
   "source": [
    "f.reduce_trig()"
   ]
  },
  {
   "cell_type": "code",
   "execution_count": null,
   "metadata": {},
   "outputs": [],
   "source": [
    "f = sin(5 * x); f"
   ]
  },
  {
   "cell_type": "code",
   "execution_count": null,
   "metadata": {},
   "outputs": [],
   "source": [
    "f.expand_trig()"
   ]
  },
  {
   "cell_type": "markdown",
   "metadata": {},
   "source": [
    "Expressions containing factorials can also be simplified:"
   ]
  },
  {
   "cell_type": "code",
   "execution_count": null,
   "metadata": {},
   "outputs": [],
   "source": [
    "n = var('n')"
   ]
  },
  {
   "cell_type": "code",
   "execution_count": null,
   "metadata": {},
   "outputs": [],
   "source": [
    "f = factorial(n+1)/factorial(n); f"
   ]
  },
  {
   "cell_type": "code",
   "execution_count": null,
   "metadata": {},
   "outputs": [],
   "source": [
    "f.simplify_factorial()"
   ]
  },
  {
   "cell_type": "markdown",
   "metadata": {},
   "source": [
    "The `simplify_rational` method tries to simplify a fraction; whereas to simplify square roots, logarithms or exponentials, the `canonicalize_radical` method is recommended:"
   ]
  },
  {
   "cell_type": "code",
   "execution_count": null,
   "metadata": {},
   "outputs": [],
   "source": [
    "f = sqrt(abs(x)^2); f"
   ]
  },
  {
   "cell_type": "code",
   "execution_count": null,
   "metadata": {},
   "outputs": [],
   "source": [
    "f.canonicalize_radical()"
   ]
  },
  {
   "cell_type": "code",
   "execution_count": null,
   "metadata": {},
   "outputs": [],
   "source": [
    "f = log(x*y); f"
   ]
  },
  {
   "cell_type": "code",
   "execution_count": null,
   "metadata": {},
   "outputs": [],
   "source": [
    "f.canonicalize_radical()"
   ]
  },
  {
   "cell_type": "code",
   "execution_count": null,
   "metadata": {},
   "outputs": [],
   "source": [
    "f = log(x/y); f"
   ]
  },
  {
   "cell_type": "code",
   "execution_count": null,
   "metadata": {},
   "outputs": [],
   "source": [
    "f.canonicalize_radical()"
   ]
  },
  {
   "cell_type": "markdown",
   "metadata": {},
   "source": [
    "The `simplify_full` command applies the methods `simplify_factorial`, `simplify_rectform`, `simplify_trig`, `simplify_rational` and `expand_sum` (in that order). \n",
    "\n",
    "All that is needed to determine the variation of a function (derivatives, asymptotes, extrema, localisation of zeroes and graph drawing) can be easily obtained using a computer algebra system. The main Sage operations applying to functions are presented in <a href=\"#analysis\"><b>Section 5.2</b></a>."
   ]
  },
  {
   "cell_type": "code",
   "execution_count": null,
   "metadata": {},
   "outputs": [],
   "source": []
  },
  {
   "cell_type": "code",
   "execution_count": null,
   "metadata": {},
   "outputs": [],
   "source": []
  },
  {
   "cell_type": "markdown",
   "metadata": {},
   "source": [
    "### 5.1.4 Assumptions <a class=\"anchor\" id=\"assumptions\"></a>\n",
    "\n",
    "During a computation, the symbolic variables appearing in expressions are in general considered as taking potentially any value in the complex plane. This might be a problem when a parameter represents a quantity in a restricted domain (for example, a positive real number)."
   ]
  },
  {
   "cell_type": "code",
   "execution_count": null,
   "metadata": {},
   "outputs": [],
   "source": [
    "assume(x > 0); bool(sqrt(x^2) == x)"
   ]
  },
  {
   "cell_type": "code",
   "execution_count": null,
   "metadata": {},
   "outputs": [],
   "source": [
    "forget(x > 0); bool(sqrt(x^2) == x)"
   ]
  },
  {
   "cell_type": "code",
   "execution_count": null,
   "metadata": {},
   "outputs": [],
   "source": [
    "n = var('n'); assume(n, 'integer'); sin(n*pi)"
   ]
  },
  {
   "cell_type": "code",
   "execution_count": null,
   "metadata": {},
   "outputs": [],
   "source": []
  },
  {
   "cell_type": "markdown",
   "metadata": {},
   "source": [
    "### 5.1.5 Equations <a class=\"anchor\" id=\"equations\"></a>\n",
    "\n",
    "We now deal with equations and how to solve them; the main functions here include"
   ]
  },
  {
   "cell_type": "code",
   "execution_count": null,
   "metadata": {},
   "outputs": [],
   "source": []
  },
  {
   "cell_type": "markdown",
   "metadata": {},
   "source": [
    "#### 5.1.6 Explicit Solving <a class=\"anchor\" id=\"explicit-solving\"></a>"
   ]
  },
  {
   "cell_type": "code",
   "execution_count": null,
   "metadata": {},
   "outputs": [],
   "source": [
    "%display latex"
   ]
  },
  {
   "cell_type": "markdown",
   "metadata": {},
   "source": [
    "Let us consider the following equation, with unknown $z$ and parameter $\\varphi$:\n",
    "\n",
    "$$z^{2} - \\frac{2}{\\cos\\varphi} + \\frac{5}{\\cos^{2}\\varphi} - 4 = 0, \\quad \\text{with} \\quad \\varphi\\in\\left]-\\frac{\\pi}{2},\\frac{\\pi}{2}\\right[.$$\n",
    "\n",
    "We can write this in Sage as:"
   ]
  },
  {
   "cell_type": "code",
   "execution_count": null,
   "metadata": {},
   "outputs": [],
   "source": [
    "z, phi = var('z, phi')"
   ]
  },
  {
   "cell_type": "code",
   "execution_count": null,
   "metadata": {},
   "outputs": [],
   "source": [
    "eqn = z**2 - 2/cos(phi)*z + 5/cos(phi)**2 - 4 == 0; eqn"
   ]
  },
  {
   "cell_type": "markdown",
   "metadata": {},
   "source": [
    "####  <font color=red>Exercise 4:</font> <a class=\"anchor\" id=\"exercise-4\"></a>\n",
    "\n",
    "Use the methods `lhs` and `rhs` to extract the left-hand and resp. right-hand of the symbolic expression `eqn` defined above."
   ]
  },
  {
   "cell_type": "code",
   "execution_count": null,
   "metadata": {},
   "outputs": [],
   "source": []
  },
  {
   "cell_type": "code",
   "execution_count": null,
   "metadata": {},
   "outputs": [],
   "source": []
  },
  {
   "cell_type": "code",
   "execution_count": null,
   "metadata": {},
   "outputs": [],
   "source": []
  },
  {
   "cell_type": "markdown",
   "metadata": {},
   "source": [
    "Let us solve the symbolic expression `eqn` for the symbolic variable $z$."
   ]
  },
  {
   "cell_type": "code",
   "execution_count": null,
   "metadata": {},
   "outputs": [],
   "source": [
    "solve(eqn, z)"
   ]
  },
  {
   "cell_type": "code",
   "execution_count": null,
   "metadata": {},
   "outputs": [],
   "source": []
  },
  {
   "cell_type": "code",
   "execution_count": null,
   "metadata": {},
   "outputs": [],
   "source": []
  },
  {
   "cell_type": "markdown",
   "metadata": {},
   "source": [
    "####  <font color=red>Exercise 5:</font> <a class=\"anchor\" id=\"exercise-5\"></a>\n",
    "\n",
    "- Read the help documentation on the `solve` command and try some of the examples there. \n",
    "- Use the `solve` command in Sage to solve the equation $y^{7}=y$."
   ]
  },
  {
   "cell_type": "code",
   "execution_count": null,
   "metadata": {},
   "outputs": [],
   "source": []
  },
  {
   "cell_type": "code",
   "execution_count": null,
   "metadata": {},
   "outputs": [],
   "source": []
  },
  {
   "cell_type": "markdown",
   "metadata": {},
   "source": [
    "The roots of the equation can be returned as an a list of object of type dictionary."
   ]
  },
  {
   "cell_type": "code",
   "execution_count": null,
   "metadata": {},
   "outputs": [],
   "source": [
    "solve(x^2-1, x, solution_dict=True)"
   ]
  },
  {
   "cell_type": "code",
   "execution_count": null,
   "metadata": {},
   "outputs": [],
   "source": []
  },
  {
   "cell_type": "markdown",
   "metadata": {},
   "source": [
    "The `solve` command can also be used to solve a system of equations:"
   ]
  },
  {
   "cell_type": "code",
   "execution_count": null,
   "metadata": {},
   "outputs": [],
   "source": [
    "solve([x+y == 3, 2*x+2*y == 6], x, y)"
   ]
  },
  {
   "cell_type": "code",
   "execution_count": null,
   "metadata": {},
   "outputs": [],
   "source": []
  },
  {
   "cell_type": "markdown",
   "metadata": {},
   "source": [
    "This linear system being underdetermined, the variable allowing to parametrise the set of solutions is a real number named $r_1$, $r_2$, etc. If this parameter is known to be an integer, it is named $z_1$, $z_{2}$, etc. "
   ]
  },
  {
   "cell_type": "code",
   "execution_count": null,
   "metadata": {},
   "outputs": [],
   "source": [
    "solve([cos(x)*sin(x) == 1/2, x+y == 0], x, y)"
   ]
  },
  {
   "cell_type": "markdown",
   "metadata": {},
   "source": [
    "####  <font color=red>Exercise 6:</font> <a class=\"anchor\" id=\"exercise-6\"></a>\n",
    "\n",
    "Use the `solve` command to solve the following system of equations: \n",
    "\n",
    "\\begin{align}\n",
    "    \\cos(x)\\,\\sin(x) &= \\frac{1}{2} \\\\\n",
    "    x + y &= 1.\n",
    "\\end{align}\n",
    "\n",
    "and  \n",
    "\n",
    "\\begin{align}\n",
    "    x^{2}\\,y\\,z &= 18 \\\\\n",
    "    x\\,y^{3}\\,z &= 24 \\\\\n",
    "    x\\,y\\,z^{4} &= 6.\n",
    "\\end{align}"
   ]
  },
  {
   "cell_type": "code",
   "execution_count": null,
   "metadata": {},
   "outputs": [],
   "source": []
  },
  {
   "cell_type": "code",
   "execution_count": null,
   "metadata": {},
   "outputs": [],
   "source": []
  },
  {
   "cell_type": "code",
   "execution_count": null,
   "metadata": {},
   "outputs": [],
   "source": []
  },
  {
   "cell_type": "code",
   "execution_count": null,
   "metadata": {},
   "outputs": [],
   "source": []
  },
  {
   "cell_type": "markdown",
   "metadata": {},
   "source": [
    "You may have read in the help documentation for the `solve` command that it can also be used to solve inequalities:"
   ]
  },
  {
   "cell_type": "markdown",
   "metadata": {},
   "source": [
    "####  <font color=red>Exercise 7:</font> <a class=\"anchor\" id=\"exercise-7\"></a>\n",
    "\n",
    "Use the `solve` command to solve the inequality $x^{2}+x-1>0$."
   ]
  },
  {
   "cell_type": "code",
   "execution_count": null,
   "metadata": {},
   "outputs": [],
   "source": []
  },
  {
   "cell_type": "code",
   "execution_count": null,
   "metadata": {},
   "outputs": [],
   "source": []
  },
  {
   "cell_type": "markdown",
   "metadata": {},
   "source": [
    "There are times when one wants to numerically determine the roots of a function over a specific interval. In Sage, one can achieve this with the `find_root` function. It takes as input a function of one variable or a symbolic equality, and the bounds of the interval in which to search for the roots. Sage does not find any symbolic solution to this equation"
   ]
  },
  {
   "cell_type": "code",
   "execution_count": null,
   "metadata": {},
   "outputs": [],
   "source": [
    "trig_expr = sin(x) + sin(2 * x) + sin(3 * x); trig_expr"
   ]
  },
  {
   "cell_type": "code",
   "execution_count": null,
   "metadata": {},
   "outputs": [],
   "source": [
    "solve(trig_expr, x)"
   ]
  },
  {
   "cell_type": "markdown",
   "metadata": {},
   "source": [
    "There are two possible ways to solve this: either a numerical solution using the `find_root` command as demonstrated below:"
   ]
  },
  {
   "cell_type": "code",
   "execution_count": null,
   "metadata": {},
   "outputs": [],
   "source": [
    "find_root(trig_expr, 0.1, pi)"
   ]
  },
  {
   "cell_type": "markdown",
   "metadata": {},
   "source": [
    "or first rewrite the expression"
   ]
  },
  {
   "cell_type": "code",
   "execution_count": null,
   "metadata": {},
   "outputs": [],
   "source": [
    "trig_expr_simplified = trig_expr.simplify_trig(); trig_expr_simplified"
   ]
  },
  {
   "cell_type": "code",
   "execution_count": null,
   "metadata": {},
   "outputs": [],
   "source": [
    "solve(trig_expr_simplified, x)"
   ]
  },
  {
   "cell_type": "code",
   "execution_count": null,
   "metadata": {},
   "outputs": [],
   "source": []
  },
  {
   "cell_type": "markdown",
   "metadata": {},
   "source": [
    "Last but not least, the `roots` function gives the roots of an equation with their multiplicity. The ring in which solutions are looked for can be given; with $\\texttt{RR}\\approx\\mathbb{R}$ or $\\texttt{CC}\\approx\\mathbb{C}$, we obtain floating-point roots. The solving method is specific to the given equation, contrary to `find_roots` which uses a generic method. Let us consider the degree-$3$ equation $x^{3} + 2\\,x + 1 = 0$. This equation has a negative discriminant, thus it has a real root and two complex roots, which are given by the roots method:"
   ]
  },
  {
   "cell_type": "markdown",
   "metadata": {},
   "source": [
    "####  <font color=red>Exercise 8:</font> <a class=\"anchor\" id=\"exercise-8\"></a>\n",
    "\n",
    "- Assign the symbolic expression $x^3+2\\,x+1$ to the variable `my_symb_expr`; \n",
    "- Read the help documentation on the `roots` method accessible to the variable `my_symb_expr`; \n",
    "- Follow the instructions you read from the help documentation to find the roots of the symbolic expression contained in the variable `my_symb_expr`."
   ]
  },
  {
   "cell_type": "code",
   "execution_count": null,
   "metadata": {},
   "outputs": [],
   "source": []
  },
  {
   "cell_type": "code",
   "execution_count": null,
   "metadata": {},
   "outputs": [],
   "source": []
  },
  {
   "cell_type": "code",
   "execution_count": null,
   "metadata": {},
   "outputs": [],
   "source": []
  },
  {
   "cell_type": "code",
   "execution_count": null,
   "metadata": {},
   "outputs": [],
   "source": []
  },
  {
   "cell_type": "markdown",
   "metadata": {},
   "source": [
    "#### 5.1.7 Equations with no Explicit Solution <a class=\"anchor\" id=\"equations-with-no-explicit-solution\"></a>\n",
    "\n",
    "In most cases, as soon as the equation or system becomes too complex, no explicit solution can be found:"
   ]
  },
  {
   "cell_type": "code",
   "execution_count": null,
   "metadata": {},
   "outputs": [],
   "source": [
    "solve(x^(1/x)==(1/x)^x, x)"
   ]
  },
  {
   "cell_type": "code",
   "execution_count": null,
   "metadata": {},
   "outputs": [],
   "source": []
  },
  {
   "cell_type": "markdown",
   "metadata": {},
   "source": [
    "However, this is not necessarily a limitation! Indeed, a specificity of computer algebra is the ability to manipulate objects defined by equations, and in particular to compute their properties, without solving them explicitly. Even better: in some cases, the equation defining a mathematical object is the best algorithmic\n",
    "representation for it."
   ]
  },
  {
   "cell_type": "code",
   "execution_count": null,
   "metadata": {},
   "outputs": [],
   "source": []
  },
  {
   "cell_type": "markdown",
   "metadata": {},
   "source": [
    "### 5.2 Analysis <a class=\"anchor\" id=\"analysis\"></a>\n",
    "\n",
    "In this section, I will give a quick introduction of useful functions in real analysis. There are more advanced topics that one can delve into. Hopefully this should give you some of the basics. Some of the useful functions in analysis include: \n",
    "\n",
    "   - `diff(f(x), x)` := Derivative of the function f with respect to $x$;\n",
    "   - `diff(f(x), x, n)` := $n$-th derivative of the function f with respect to $x$;\n",
    "   - `integrate(f(x), x)` := Antiderivative/ integeration; \n",
    "   - `integral_numerical(f(x), a, b)` := Numerical integration; \n",
    "   - `sum(f(i), i, imin, imax)` := Symbolic summation;\n",
    "   - `limit(f(x), x=a)` := Limit of the function $f(x)$ as $x$ approaches $a$; \n",
    "   - `taylor(f(x), x, a, n)` := Taylor expansion of $f(x)$ at $a$ of order $n$;\n",
    "   - `f.series(x==a, n)` := Power series expansion of $f$ at $a$ of order $n$;\n",
    "   - `plot(f(x), x, a, b)` := Graph of the function $f$ over the range $a \\le x \\le b$."
   ]
  },
  {
   "cell_type": "markdown",
   "metadata": {},
   "source": [
    "#### 5.2.1 Sums <a class=\"anchor\" id=\"sums\"></a>\n",
    "\n",
    "The `sum` function computes symbolic sums. Let us obtain for example the sun of the first $n$ positive integers:"
   ]
  },
  {
   "cell_type": "code",
   "execution_count": null,
   "metadata": {},
   "outputs": [],
   "source": [
    "k, n = var(\"k, n\")"
   ]
  },
  {
   "cell_type": "code",
   "execution_count": null,
   "metadata": {},
   "outputs": [],
   "source": [
    "show(sum(k, k, 1, n).factor())"
   ]
  },
  {
   "cell_type": "markdown",
   "metadata": {},
   "source": [
    "The sum function allows simplifications of a binomial expansion"
   ]
  },
  {
   "cell_type": "code",
   "execution_count": null,
   "metadata": {},
   "outputs": [],
   "source": [
    "(n, k, y) = var(\"n, k, y\")"
   ]
  },
  {
   "cell_type": "code",
   "execution_count": null,
   "metadata": {},
   "outputs": [],
   "source": [
    "sum(binomial(n,k) * x^k * y^(n-k), k, 0, n)"
   ]
  },
  {
   "cell_type": "markdown",
   "metadata": {},
   "source": [
    "Finally, some examples of geometric sums:"
   ]
  },
  {
   "cell_type": "code",
   "execution_count": null,
   "metadata": {},
   "outputs": [],
   "source": [
    "a, q, k, n = var('a, q, k, n')"
   ]
  },
  {
   "cell_type": "code",
   "execution_count": null,
   "metadata": {},
   "outputs": [],
   "source": [
    "sum(a*q^k, k, 0, n)"
   ]
  },
  {
   "cell_type": "markdown",
   "metadata": {},
   "source": [
    "To compute the corresponding power series, we should tell Sage that the modulus of q is less than $1$:"
   ]
  },
  {
   "cell_type": "code",
   "execution_count": null,
   "metadata": {},
   "outputs": [],
   "source": [
    "assume(abs(q) < 1)"
   ]
  },
  {
   "cell_type": "code",
   "execution_count": null,
   "metadata": {},
   "outputs": [],
   "source": [
    "sum(a*q^k, k, 0, infinity)"
   ]
  },
  {
   "cell_type": "code",
   "execution_count": null,
   "metadata": {},
   "outputs": [],
   "source": [
    "forget(); assume(q > 1); sum(a*q^k, k, 0, infinity)"
   ]
  },
  {
   "cell_type": "code",
   "execution_count": null,
   "metadata": {},
   "outputs": [],
   "source": []
  },
  {
   "cell_type": "code",
   "execution_count": null,
   "metadata": {},
   "outputs": [],
   "source": []
  },
  {
   "cell_type": "markdown",
   "metadata": {},
   "source": [
    "#### 5.2.2 Limits <a class=\"anchor\" id=\"limits\"></a>\n",
    "\n",
    "To determine a limit, we use the `limit` command or its alias `lim`. Let us compute the limit of the symbolic function\n",
    "\n",
    "$$f(x) = \\frac{\\sqrt[3]{x}-2}{\\sqrt[3]{x + 19} - 3}$$"
   ]
  },
  {
   "cell_type": "code",
   "execution_count": null,
   "metadata": {},
   "outputs": [],
   "source": [
    "limit((x**(1/3) - 2) / ((x + 19)**(1/3) - 3), x = 8)"
   ]
  },
  {
   "cell_type": "markdown",
   "metadata": {},
   "source": [
    "####  <font color=red>Exercise 9:</font> <a class=\"anchor\" id=\"exercise-9\"></a>\n",
    "\n",
    "Compute the limit of the symbolic function: \n",
    "\n",
    "$$h(x) = \\lim_{x\\to\\frac{\\pi}{4}}\\frac{\\cos\\left(\\frac{\\pi}{4} - x\\right) - \\tan\\left(x\\right)}{1 - \\sin\\left(\\frac{\\pi}{4} + x\\right)}.$$\n",
    "\n",
    "What is $\\lim_{x\\to\\frac{\\pi}{4}+}h(x)$ and $\\lim_{x\\to\\frac{\\pi}{4}-}h(x)$? __Hint__: Read the help documentation of the `lim` function there is an optional parameter you need."
   ]
  },
  {
   "cell_type": "code",
   "execution_count": null,
   "metadata": {},
   "outputs": [],
   "source": []
  },
  {
   "cell_type": "markdown",
   "metadata": {},
   "source": [
    "#### 5.2.3 Sequences <a class=\"anchor\" id=\"sequences\"></a>\n",
    "\n",
    "The evaluation of the symbolic expressions, at the integer values, enables us to studt sequences of numbers. Let us illustrate this by comparing the growth of an exponential sequence and a geometric sequence. \n",
    "\n",
    "Consider the sequence\n",
    "\n",
    "$$u_{n} = \\frac{n^{100}}{100^{n}}.$$\n",
    "\n",
    "\n",
    "####  <font color=red>Exercise 10:</font> <a class=\"anchor\" id=\"exercise-10\"></a>\n",
    "\n",
    "   - Compute the first $15$ terms, i.e., $u_{1}, u_{2},\\dots,u_{15}$. Put your results in a table form. __Hint__: Read on the help documentation for `table`.\n",
    "   - Observing the values you have computed, will you agree that $u_{n}$ tends to infinity?\n",
    "   - Use the `plot` command to plot a graph of $u_{n}$ for $1\\le n\\le 40$.\n",
    "   - What will you say about the growth of $u_{n}$?\n",
    "   - Is there a point at which $u_{n}$ starts to decrease? If so, find the nearest positive integer $n$ at which $u_{n}$ begins to decrease.\n",
    "   - Is there a positive integer $n$ such that from this positive integer, $u_{n} \\in \\left]0,10^{-8}\\right[$ hold?"
   ]
  },
  {
   "cell_type": "markdown",
   "metadata": {},
   "source": [
    "#### 5.2.4 Power Series Expansions <a class=\"anchor\" id=\"power-series-expansions\"></a>\n",
    "\n",
    "To compute a power series expansion of order $n$ at $x_0$, the command to use is `f(x).series(x==x0, n)`. "
   ]
  },
  {
   "cell_type": "markdown",
   "metadata": {},
   "source": [
    "####  <font color=red>Exercise 11:</font> <a class=\"anchor\" id=\"exercise-11\"></a>\n",
    "\n",
    "Determine the power series expansion of the following functions:\n",
    "   - $(1+\\arctan(x))^{\\frac{1}{x}}$ of order $4$ at $x_{0}=0$;\n",
    "   - $\\ln(2\\,\\sin(x))$ of order $4$, at $x_{0}=\\frac{\\pi}{6}$;\n",
    "\n",
    "For each of these power series expansions, use the `trancate()` command to extract its regular part."
   ]
  },
  {
   "cell_type": "code",
   "execution_count": null,
   "metadata": {},
   "outputs": [],
   "source": []
  },
  {
   "cell_type": "markdown",
   "metadata": {},
   "source": [
    "####  <font color=red>Exercise 12:</font> <a class=\"anchor\" id=\"exercise-12\"></a>\n",
    "\n",
    "Use the `taylor` command to study the behaviour of the expression $(x^{3}+x)^{\\frac{1}{3}}-(x^{3}-x)^{\\frac{1}{3}}$ around $+\\infty$."
   ]
  },
  {
   "cell_type": "code",
   "execution_count": null,
   "metadata": {},
   "outputs": [],
   "source": []
  },
  {
   "cell_type": "markdown",
   "metadata": {},
   "source": [
    "####  <font color=red>Exercise 13:</font> <a class=\"anchor\" id=\"exercise-13\"></a>\n",
    "\n",
    "Proof the identity (which is a formula due to Gauss)\n",
    "\n",
    "$$\\frac{\\pi}{4} = 12 \\, \\arctan\\left(\\frac{1}{38}\\right) + 20 \\, \\arctan\\left(\\frac{1}{57}\\right) + 7 \\, \\arctan\\left(\\frac{1}{239}\\right) + 24 \\, \\arctan\\left(\\frac{1}{268}\\right)$$\n",
    "\n",
    "holds. The steps below should be able to give you some hints:\n",
    "\n",
    "   - Define $\\theta = 12 \\, \\arctan\\left(\\frac{1}{38}\\right) + 20 \\, \\arctan\\left(\\frac{1}{57}\\right) + 7 \\, \\arctan\\left(\\frac{1}{239}\\right) + 24 \\, \\arctan\\left(\\frac{1}{268}\\right)$ and verify that $tan(\\theta)=1$. \n",
    "   - Justify the inequality: $\\forall\\,x\\ge0$, $\\arctan(x)\\leq x$ and deduce Gauss' formula. \n",
    "   - Approximate the $\\arctan$ function by its Taylor expansion of order $21$ at $0$, and deduce a new approximation of $\\pi$."
   ]
  },
  {
   "cell_type": "code",
   "execution_count": null,
   "metadata": {},
   "outputs": [],
   "source": []
  },
  {
   "cell_type": "markdown",
   "metadata": {},
   "source": [
    "#### 5.2.5 Series <a class=\"anchor\" id=\"series\"></a>\n",
    "\n",
    "The commands introduced earlier can be used to perform computations on series. Here are some examples of the evaluation of the Riemann zeta function"
   ]
  },
  {
   "cell_type": "code",
   "execution_count": null,
   "metadata": {},
   "outputs": [],
   "source": [
    "k = var(\"k\") \n",
    "\n",
    "(sum(1/k^2, k, 1, infinity), sum(1/k^4, k, 1, infinity), sum(1/k^5, k, 1, infinity))"
   ]
  },
  {
   "cell_type": "markdown",
   "metadata": {},
   "source": [
    "####  <font color=red>Exercise 14:</font> <a class=\"anchor\" id=\"exercise-14\"></a>\n",
    "\n",
    "Use this identity \n",
    "\n",
    "$$\\frac{1}{\\pi} = \\frac{2\\,\\sqrt{2}}{9801}\\sum_{k=0}^{+\\infty}\\frac{(4\\,k)!\\,(1103+26390\\,k)}{(k!)^{4}\\,396^{4\\,k}}$$\n",
    "\n",
    "which is due to Ramanujan to give an approximation of the $\\pi$ and compare it with the value given by Sage. Compute only the first $12$ terms of the series."
   ]
  },
  {
   "cell_type": "code",
   "execution_count": null,
   "metadata": {},
   "outputs": [],
   "source": []
  },
  {
   "cell_type": "markdown",
   "metadata": {},
   "source": [
    "####  <font color=red>Exercise 15:</font> <a class=\"anchor\" id=\"exercise-15\"></a>\n",
    "\n",
    "Does the series below: \n",
    "\n",
    "$$\\sum_{n=0}^{\\infty}\\sin(\\pi\\,\\sqrt{4\\,n^{2}+1})$$\n",
    "\n",
    "converge? Prove your answer. __Hint__: Use $u_{n}=\\sin(\\pi\\,\\sqrt{4\\,n^{2}+1})=\\sin(\\pi(\\sqrt{4\\,n^{2}+1}-2\\,n))$. Then apply the `taylor` function to $u_{n}$."
   ]
  },
  {
   "cell_type": "markdown",
   "metadata": {},
   "source": [
    "#### 5.2.6 Derivatives <a class=\"anchor\" id=\"derivatives\"></a>\n",
    "\n",
    "The `derivative` function (with alias `diff`) computes the derivative of a symbolic expression or function."
   ]
  },
  {
   "cell_type": "code",
   "execution_count": null,
   "metadata": {},
   "outputs": [],
   "source": [
    "diff(sin(x^2), x)"
   ]
  },
  {
   "cell_type": "code",
   "execution_count": null,
   "metadata": {},
   "outputs": [],
   "source": [
    "diff(cos(x), x, 2)"
   ]
  },
  {
   "cell_type": "code",
   "execution_count": null,
   "metadata": {},
   "outputs": [],
   "source": [
    "function('f')(x)"
   ]
  },
  {
   "cell_type": "code",
   "execution_count": null,
   "metadata": {},
   "outputs": [],
   "source": [
    "function('g')(x)"
   ]
  },
  {
   "cell_type": "code",
   "execution_count": null,
   "metadata": {},
   "outputs": [],
   "source": [
    "diff(f(g(x)), x)"
   ]
  },
  {
   "cell_type": "code",
   "execution_count": null,
   "metadata": {},
   "outputs": [],
   "source": []
  },
  {
   "cell_type": "markdown",
   "metadata": {},
   "source": [
    "#### 5.2.7 Partial Derivatives <a class=\"anchor\" id=\"partial-derivatives\"></a>\n",
    "\n",
    "The `derivative` (or `diff`) command also computes iterated or partial derivatives. Here is an example:"
   ]
  },
  {
   "cell_type": "code",
   "execution_count": null,
   "metadata": {},
   "outputs": [],
   "source": [
    "f(x,y) = x*y + sin(x^2) + e^(-x); f(x,y)"
   ]
  },
  {
   "cell_type": "code",
   "execution_count": null,
   "metadata": {},
   "outputs": [],
   "source": [
    "derivative(f, x)"
   ]
  },
  {
   "cell_type": "code",
   "execution_count": null,
   "metadata": {},
   "outputs": [],
   "source": [
    "derivative(f, y)"
   ]
  },
  {
   "cell_type": "markdown",
   "metadata": {},
   "source": [
    "####  <font color=red>Exercise 16:</font> <a class=\"anchor\" id=\"exercise-16\"></a>\n",
    "\n",
    "Show that the function: \n",
    "\n",
    "$$f(x,y) = \\frac{1}{2}\\,\\ln(x^{2}+y^{2}), \\quad \\forall\\, (x, y)\\neq(0,0)$$\n",
    "\n",
    "is [harmonic](https://en.wikipedia.org/wiki/Harmonic_function), i.e., $\\Delta\\,f = \\partial^{2}_{x}\\,f + \\partial^{2}_{y}\\,f$ is zero."
   ]
  },
  {
   "cell_type": "code",
   "execution_count": null,
   "metadata": {},
   "outputs": [],
   "source": []
  },
  {
   "cell_type": "markdown",
   "metadata": {},
   "source": [
    "####  <font color=red>Exercise 17:</font> <a class=\"anchor\" id=\"exercise-17\"></a> \n",
    "\n",
    "Let  $\\,f:\\mathbb{R}\\times\\mathbb{R}\\to\\mathbb{R}$ defined by \n",
    "$$\n",
    "f(x,y) = \n",
    "\\begin{cases}\n",
    "    x\\,y\\,\\frac{x^{2}-y^{2}}{x^{2}+y^{2}} & \\text{ if } (x,y) \\neq (0,0), \\\\\n",
    "    0 & \\text{ if } (x,y) = (0,0).\n",
    "\\end{cases}\n",
    "$$\n",
    "\n",
    "Does $\\partial_{x}\\,\\partial_{y}\\,f(0,0) = \\partial_{y}\\,\\partial_{x}\\,f(0,0)$ hold?"
   ]
  },
  {
   "cell_type": "markdown",
   "metadata": {},
   "source": [
    "#### 5.2.8 Integrals <a class=\"anchor\" id=\"integrals\"></a>\n",
    "\n",
    "To compute an indefinite or definite integral, we use `integrate` as a function or method (or its alias `integral`):"
   ]
  },
  {
   "cell_type": "code",
   "execution_count": null,
   "metadata": {},
   "outputs": [],
   "source": [
    "sin(x).integral(x, 0, pi/2)"
   ]
  },
  {
   "cell_type": "code",
   "execution_count": null,
   "metadata": {},
   "outputs": [],
   "source": [
    "integrate(1/(1+x^2), x)"
   ]
  },
  {
   "cell_type": "code",
   "execution_count": null,
   "metadata": {},
   "outputs": [],
   "source": [
    "integrate(1/(1+x^2), x, -infinity, infinity)"
   ]
  },
  {
   "cell_type": "code",
   "execution_count": null,
   "metadata": {},
   "outputs": [],
   "source": [
    "integrate(exp(-x**2), x, 0, infinity)"
   ]
  },
  {
   "cell_type": "code",
   "execution_count": null,
   "metadata": {},
   "outputs": [],
   "source": [
    "integrate(exp(-x), x, -infinity, infinity)"
   ]
  },
  {
   "cell_type": "markdown",
   "metadata": {},
   "source": [
    "####  <font color=red>Exercise 18:</font> <a class=\"anchor\" id=\"exercise-18\"></a> \n",
    "\n",
    "For $x\\in\\mathbb{R}$, compute the integral:\n",
    "\n",
    "$$\\int_{0}^{+\\infty}\\frac{x\\,\\cos(u)}{u^{2} + x^{2}}\\,\\mathrm{d}u.$$"
   ]
  },
  {
   "cell_type": "code",
   "execution_count": null,
   "metadata": {},
   "outputs": [],
   "source": []
  },
  {
   "cell_type": "markdown",
   "metadata": {},
   "source": [
    "Compute the following integrals:\n",
    "\n",
    "$$\\int_{1}^{2} \\frac{3 \\, x}{\\sqrt{25\\,x^{2}-3}} \\, {\\rm d} x, \\quad \\int_{1}^{e} x \\, \\log(x) \\, {\\rm d} x, \\quad \\text{ and } \\quad \\int e^{x} \\log(x) \\, {\\rm d} x.$$"
   ]
  },
  {
   "cell_type": "code",
   "execution_count": null,
   "metadata": {},
   "outputs": [],
   "source": []
  },
  {
   "cell_type": "code",
   "execution_count": null,
   "metadata": {},
   "outputs": [],
   "source": []
  },
  {
   "cell_type": "code",
   "execution_count": null,
   "metadata": {},
   "outputs": [],
   "source": []
  },
  {
   "cell_type": "code",
   "execution_count": null,
   "metadata": {},
   "outputs": [],
   "source": []
  },
  {
   "cell_type": "markdown",
   "metadata": {},
   "source": [
    "To compute numerically an integral on an interval, we have at our disposal the `integral_numerical` function, which returns a pair, whose first value is the approximation of the integral, while the second value is an estimate of the corresponding error."
   ]
  },
  {
   "cell_type": "code",
   "execution_count": null,
   "metadata": {},
   "outputs": [],
   "source": [
    "integral_numerical(sin(x)/x, 0, 1)"
   ]
  },
  {
   "cell_type": "code",
   "execution_count": null,
   "metadata": {},
   "outputs": [],
   "source": [
    "g = integrate(exp(-x**2), x, 0, infinity)"
   ]
  },
  {
   "cell_type": "code",
   "execution_count": null,
   "metadata": {},
   "outputs": [],
   "source": [
    "g, g.n()"
   ]
  },
  {
   "cell_type": "code",
   "execution_count": null,
   "metadata": {},
   "outputs": [],
   "source": [
    "approx = integral_numerical(exp(-x**2), 0, infinity); approx"
   ]
  },
  {
   "cell_type": "code",
   "execution_count": null,
   "metadata": {},
   "outputs": [],
   "source": [
    "approx[0]-g.n()"
   ]
  },
  {
   "cell_type": "code",
   "execution_count": null,
   "metadata": {},
   "outputs": [],
   "source": []
  },
  {
   "cell_type": "markdown",
   "metadata": {},
   "source": [
    "### 5.3 Basic Linear Algebra <a class=\"anchor\" id=\"basic-linear-algebra\"></a>\n",
    "\n",
    "In this section, we describe the basic useful functions in linear algebra: first operations on vectors, then on matrices. The basics discussed here should prepare you for more advanced discussion on symbolic linear algebra and numerical linear algebra which we will not discuss them here. "
   ]
  },
  {
   "cell_type": "markdown",
   "metadata": {},
   "source": [
    "#### 5.3.1 Vector Computations <a class=\"anchor\" id=\"vector-computations\"></a>\n",
    "\n",
    "The basic functions for manipulating vectors include: \n",
    "\n",
    "   - `vector` := Vector contruction;\n",
    "   - `cross_product` := Cross product;\n",
    "   - `dot_product` := Scalar product;\n",
    "   - `norm` := Norm of a vector;"
   ]
  },
  {
   "cell_type": "markdown",
   "metadata": {},
   "source": [
    "Let us create a vector object over the rationals $\\mathbb{Q}$."
   ]
  },
  {
   "cell_type": "code",
   "execution_count": null,
   "metadata": {},
   "outputs": [],
   "source": [
    "v = vector(QQ, [1, 3, 4, 5]); v"
   ]
  },
  {
   "cell_type": "markdown",
   "metadata": {},
   "source": [
    "####  <font color=red>Exercise 19:</font> <a class=\"anchor\" id=\"exercise-19\"></a> \n",
    "\n",
    "- How can we access all the methods available for the variable `v` containing a vector object? \n",
    "\n",
    "- Read the help documentation of the above functions and try the examples in the help documentation."
   ]
  },
  {
   "cell_type": "code",
   "execution_count": null,
   "metadata": {},
   "outputs": [],
   "source": []
  },
  {
   "cell_type": "code",
   "execution_count": null,
   "metadata": {},
   "outputs": [],
   "source": []
  },
  {
   "cell_type": "code",
   "execution_count": null,
   "metadata": {},
   "outputs": [],
   "source": []
  },
  {
   "cell_type": "markdown",
   "metadata": {},
   "source": [
    "Let us create another vector over the rationals $\\mathbb{Q}$."
   ]
  },
  {
   "cell_type": "code",
   "execution_count": null,
   "metadata": {},
   "outputs": [],
   "source": [
    "u = vector(QQ, [1/2, 3/5, 3/4, 6]); u"
   ]
  },
  {
   "cell_type": "markdown",
   "metadata": {},
   "source": [
    "We can add two vectors"
   ]
  },
  {
   "cell_type": "code",
   "execution_count": null,
   "metadata": {},
   "outputs": [],
   "source": [
    "v + u"
   ]
  },
  {
   "cell_type": "markdown",
   "metadata": {},
   "source": [
    "####  <font color=red>Exercise 20:</font> <a class=\"anchor\" id=\"exercise-20\"></a> \n",
    "\n",
    "Apply the vector methods `cross_product`, `dor_product` and `norm` to the vectors defined above."
   ]
  },
  {
   "cell_type": "code",
   "execution_count": null,
   "metadata": {},
   "outputs": [],
   "source": []
  },
  {
   "cell_type": "code",
   "execution_count": null,
   "metadata": {},
   "outputs": [],
   "source": []
  },
  {
   "cell_type": "code",
   "execution_count": null,
   "metadata": {},
   "outputs": [],
   "source": []
  },
  {
   "cell_type": "code",
   "execution_count": null,
   "metadata": {},
   "outputs": [],
   "source": []
  },
  {
   "cell_type": "markdown",
   "metadata": {},
   "source": [
    "#### 5.3.2 Matrix Computations <a class=\"anchor\" id=\"matrix-computations\"></a>\n",
    "\n",
    "The basic functions for manipulating matrices include: \n",
    "\n",
    "   - `matrix` := Construction of a matrix;\n",
    "   - `solve_right`, `solve_left` := Solving a matrix equation;\n",
    "   - `right_kernel`, `left_kerl` := Computing right and left kernel;\n",
    "   - `echelon_form` := Row echelon form;\n",
    "   - `column_space` := Column-generated vector space;\n",
    "   - `row_space` := Row-generated vector space;\n",
    "   - `block_matrix` := Matrix concatenation; \n",
    "   - `eigenvalues` := Eigenvalues of a matrix;\n",
    "   - `eigenvectors_right` := Eigenvectors of a matrix;\n",
    "   - `jordan_form` := Jordan normal form reduction;\n",
    "   - `minimal_polynomial` := Minimal polynomial;\n",
    "   - `characteristic_polynomial` := Characteristic polynomial;"
   ]
  },
  {
   "cell_type": "markdown",
   "metadata": {},
   "source": [
    "To construct a matrix, what you want is the `matrix` function, which allows to optionally specify the base ring (or field)."
   ]
  },
  {
   "cell_type": "code",
   "execution_count": null,
   "metadata": {},
   "outputs": [],
   "source": [
    "A = matrix(QQ, [[1,2],[3,4]]); A"
   ]
  },
  {
   "cell_type": "markdown",
   "metadata": {},
   "source": [
    "To find a particular solution of the matrix equation $A\\,x = b$ (resp. $x\\,A = b$), we call the `solve_right` function (resp. `solve_left`). To find all the solutions, we should add to that particular solution the general solution of the associated homogeneous equation. To solve a homogeneous equation $A\\,x = 0$ (resp. $x\\,A = 0$), we use the `right_kernel` (resp. `left_kernel`) function, as in the following exercise."
   ]
  },
  {
   "cell_type": "markdown",
   "metadata": {},
   "source": [
    "####  <font color=red>Exercise 21:</font> <a class=\"anchor\" id=\"exercise-21\"></a> \n",
    "\n",
    "Determine a basis of the space of solutions of the linear homogeneous system corresponding to the matrix\n",
    "\n",
    "$$A = \\left(\\begin{array}{rrrrr}\n",
    "2 & -3 & 2 & -12 & 33 \\\\\n",
    "6 & 1 & 26 & -16 & 69 \\\\\n",
    "10 & -29 & -18 & -53 & 32 \\\\\n",
    "2 & 0 & 8 & -18 & 84\n",
    "\\end{array}\\right).$$"
   ]
  },
  {
   "cell_type": "code",
   "execution_count": null,
   "metadata": {},
   "outputs": [],
   "source": []
  },
  {
   "cell_type": "code",
   "execution_count": null,
   "metadata": {},
   "outputs": [],
   "source": []
  },
  {
   "cell_type": "markdown",
   "metadata": {},
   "source": [
    "#### 5.3.3 Reduction of a Square Matrix <a class=\"anchor\" id=\"reduction-of-a-square-matrix\"></a>\n",
    "\n",
    "We begin with the following exercise: "
   ]
  },
  {
   "cell_type": "markdown",
   "metadata": {},
   "source": [
    "####  <font color=red>Exercise 22:</font> <a class=\"anchor\" id=\"exercise-22\"></a> \n",
    "\n",
    "Is the matrix\n",
    "\n",
    "$$A = \\left(\\begin{array}{rrr}\n",
    "2 & 4 & 3 \\\\\n",
    "-4 & -6 & -3 \\\\\n",
    "3 & 3 & 1\n",
    "\\end{array}\\right)$$\n",
    "\n",
    "- Diagonalisable?\n",
    "- Triangularisable?\n",
    "\n",
    "__Hint__: Follow the hints below to answer this exercise."
   ]
  },
  {
   "cell_type": "markdown",
   "metadata": {},
   "source": [
    "We begin by defining the matrix $A$ over the base field $\\mathbb{Q}$."
   ]
  },
  {
   "cell_type": "code",
   "execution_count": null,
   "metadata": {},
   "outputs": [],
   "source": []
  },
  {
   "cell_type": "markdown",
   "metadata": {},
   "source": [
    "Get the characteristic polynomial of the matrix $A$."
   ]
  },
  {
   "cell_type": "code",
   "execution_count": null,
   "metadata": {},
   "outputs": [],
   "source": []
  },
  {
   "cell_type": "markdown",
   "metadata": {},
   "source": [
    "Get the eigenvalues of the matrix $A$."
   ]
  },
  {
   "cell_type": "code",
   "execution_count": null,
   "metadata": {},
   "outputs": [],
   "source": []
  },
  {
   "cell_type": "markdown",
   "metadata": {},
   "source": [
    "Get the minimal polynomial of the matrix $A$ and factor it."
   ]
  },
  {
   "cell_type": "code",
   "execution_count": null,
   "metadata": {},
   "outputs": [],
   "source": []
  },
  {
   "cell_type": "markdown",
   "metadata": {},
   "source": [
    "Observe that the minimal polynomial of $A$ admits a simple root and a double root; thus $A$ is not diagnolisable. However, it minimal polynomial being split into linear factors, $A$ is trigularisable."
   ]
  },
  {
   "cell_type": "markdown",
   "metadata": {},
   "source": [
    "Get the `eigenvectors_right` of $A$."
   ]
  },
  {
   "cell_type": "code",
   "execution_count": null,
   "metadata": {},
   "outputs": [],
   "source": []
  },
  {
   "cell_type": "markdown",
   "metadata": {},
   "source": [
    "Get the Jordan form (`jordan_form`) of $A$ with the optional parameter `transformation` set to `True`."
   ]
  },
  {
   "cell_type": "code",
   "execution_count": null,
   "metadata": {},
   "outputs": [],
   "source": []
  },
  {
   "cell_type": "code",
   "execution_count": null,
   "metadata": {},
   "outputs": [],
   "source": []
  },
  {
   "cell_type": "markdown",
   "metadata": {},
   "source": [
    "####  <font color=red>Exercise 23:</font> <a class=\"anchor\" id=\"exercise-23\"></a> \n",
    "\n",
    "Is the matrix $A = \n",
    "\\left(\\begin{array}{rr}\n",
    "1 & -\\frac{1}{2} \\\\\n",
    "-\\frac{1}{2} & -1\n",
    "\\end{array}\\right)\n",
    "$ diagonalisable? __Hint__: Follow the hints below to answer this exercise."
   ]
  },
  {
   "cell_type": "markdown",
   "metadata": {},
   "source": [
    "Defining the matrix $A$ over the base field $\\mathbb{Q}$."
   ]
  },
  {
   "cell_type": "code",
   "execution_count": null,
   "metadata": {},
   "outputs": [],
   "source": []
  },
  {
   "cell_type": "markdown",
   "metadata": {},
   "source": [
    "Compute the Jordan form of $A$."
   ]
  },
  {
   "cell_type": "code",
   "execution_count": null,
   "metadata": {},
   "outputs": [],
   "source": []
  },
  {
   "cell_type": "markdown",
   "metadata": {},
   "source": [
    "Note that the eigenvalues are not all rational. Let us compute the minimal polynomial of $A$ to check if the eigenvalues are indeed not all rational."
   ]
  },
  {
   "cell_type": "code",
   "execution_count": null,
   "metadata": {},
   "outputs": [],
   "source": []
  },
  {
   "cell_type": "markdown",
   "metadata": {},
   "source": [
    "We therefore have to change the base field fro $\\mathbb{Q}$ to $R = \\mathbb{Q}(\\sqrt{5})$."
   ]
  },
  {
   "cell_type": "code",
   "execution_count": null,
   "metadata": {},
   "outputs": [],
   "source": []
  },
  {
   "cell_type": "markdown",
   "metadata": {},
   "source": [
    "Apply the method `change_ring(R)` to the matrix $A$ and assign it to $A$. "
   ]
  },
  {
   "cell_type": "code",
   "execution_count": null,
   "metadata": {},
   "outputs": [],
   "source": []
  },
  {
   "cell_type": "markdown",
   "metadata": {},
   "source": [
    "Apply the method `jordan_form(transformation=True, subdivide=False)` to $A$"
   ]
  },
  {
   "cell_type": "code",
   "execution_count": null,
   "metadata": {},
   "outputs": [],
   "source": []
  },
  {
   "cell_type": "code",
   "execution_count": null,
   "metadata": {},
   "outputs": [],
   "source": []
  },
  {
   "cell_type": "code",
   "execution_count": null,
   "metadata": {},
   "outputs": [],
   "source": []
  },
  {
   "cell_type": "markdown",
   "metadata": {},
   "source": [
    "####  <font color=red>Exercise 24:</font> <a class=\"anchor\" id=\"exercise-24\"></a> \n",
    "\n",
    "Diagonalise the matrix $A=\\left(\\begin{array}{rrr}\n",
    "2 & \\sqrt{6} & \\sqrt{2} \\\\\n",
    "\\sqrt{6} & 3 & \\sqrt{3} \\\\\n",
    "\\sqrt{2} & \\sqrt{3} & 1\n",
    "\\end{array}\\right)$."
   ]
  },
  {
   "cell_type": "code",
   "execution_count": null,
   "metadata": {},
   "outputs": [],
   "source": []
  },
  {
   "cell_type": "code",
   "execution_count": null,
   "metadata": {},
   "outputs": [],
   "source": []
  },
  {
   "cell_type": "code",
   "execution_count": null,
   "metadata": {},
   "outputs": [],
   "source": []
  },
  {
   "cell_type": "code",
   "execution_count": null,
   "metadata": {},
   "outputs": [],
   "source": []
  }
 ],
 "metadata": {
  "kernelspec": {
   "display_name": "SageMath 8.8",
   "language": "sage",
   "name": "sagemath"
  },
  "language": "python",
  "language_info": {
   "codemirror_mode": {
    "name": "ipython",
    "version": 2
   },
   "file_extension": ".py",
   "mimetype": "text/x-python",
   "name": "python",
   "nbconvert_exporter": "python",
   "pygments_lexer": "ipython2",
   "version": "2.7.15"
  }
 },
 "nbformat": 4,
 "nbformat_minor": 2
}
