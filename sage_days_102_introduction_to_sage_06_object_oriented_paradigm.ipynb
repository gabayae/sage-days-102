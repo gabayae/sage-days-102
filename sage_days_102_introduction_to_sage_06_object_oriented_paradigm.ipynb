{
 "cells": [
  {
   "cell_type": "markdown",
   "metadata": {},
   "source": [
    "<h1 style=\"text-align: left;\"><a title=\"Sage Days 102 Workshop\" href=\"https://wiki.sagemath.org/days102\">Sage Days 102 Workshop</a>, <a title=\"University of Ibadan\" href=\"https://www.ui.edu.ng/\">University of Ibadan</a> Nigeria.</h1>\n",
    "\n",
    "\n",
    "<h2 style=\"text-align: left;\">Day 02 — Introduction to <a title=\"Sage\"href=\"http://www.sagemath.org/\"><em>Sage</em></a>: A Mathematics Software for All</h2>\n",
    "\n",
    "\n",
    "### Instructor: [Evans Doe Ocansey](https://risc.jku.at/m/evans-doe-ocansey/)\n",
    "\n",
    "The outline of the this notebook is as follows:"
   ]
  },
  {
   "cell_type": "markdown",
   "metadata": {},
   "source": [
    "## Table of Contents: <a class=\"anchor\" id=\"toc\"></a>\n",
    "\n",
    "*  [<font color=blue>Object Oriented Paradigm</font>](#object-oriented-paradigm)\n",
    "    *  [<font color=red>Exercise 25</font>](#exercise-25)\n",
    "    *  [<font color=red>Exercise 26</font>](#exercise-26)"
   ]
  },
  {
   "cell_type": "markdown",
   "metadata": {},
   "source": [
    "## 6 Object Oriented Paradigm <a class=\"anchor\" id=object-oriented-paradigm></a>\n",
    "\n",
    "The object-oriented programming paradigm consists in modelling each physical or abstract entity one wishes to manipulate by a programming language construction called an *object* . In most cases, as in Python, each object is an instance of a *class* . For example, the rational number $\\frac{17}{35}$ is represented by an object which is an instance of the $\\texttt{Rational}$ class:"
   ]
  },
  {
   "cell_type": "code",
   "execution_count": null,
   "metadata": {},
   "outputs": [],
   "source": [
    "rat_num = 17/35"
   ]
  },
  {
   "cell_type": "code",
   "execution_count": null,
   "metadata": {},
   "outputs": [],
   "source": [
    "type(rat_num)"
   ]
  },
  {
   "cell_type": "markdown",
   "metadata": {},
   "source": [
    "Note that this class is really associated to the object $\\frac{17}{35}$, and NOT to the *variable* rat\\_num in which it is stored. The object $\\frac{17}{35}$ is the value of the variable rat\\_num. In other words, rat\\_num is a container that contains the object $\\frac{17}{35}$."
   ]
  },
  {
   "cell_type": "code",
   "execution_count": null,
   "metadata": {},
   "outputs": [],
   "source": [
    "type(17/35)"
   ]
  },
  {
   "cell_type": "markdown",
   "metadata": {},
   "source": [
    "More precisely, an object is a part of the computer memory which stores the required information to represent the corresponding entity. Thus a class in turn defines two things:\n",
    "\n",
    "1.  the *data structure* of an object, i.e., how the information is organised in memory. For example, the Rational class specifies that a rational number like $\\frac{17}{37}$ is represented by two integers: its numerator and its denominator\n",
    "2.  its *behaviour* , in particular the available *operations* on this object: how to obtain the numerator of a rational number, how to compute its absolute value, how to multiply or add two rational numbers. Each of these operations is implemented by a method (here respectively numer, abs, \\_\\_mult\\_\\_, \\_\\_add\\_\\_ )\n",
    "\n",
    "In [Sage](http://www.sagemath.org/), when we instantiate an object and assign it a variable, we can have access to all methods or operations which are available for object. All we need to do is to type the name given to the object in memory, i.e., the variable assigned to the object, then enter the period sign and then press the tab key. As an example, let's see the methods available for the object $\\frac{17}{35}$ assigned to the variable rat\\_num."
   ]
  },
  {
   "cell_type": "code",
   "execution_count": null,
   "metadata": {},
   "outputs": [],
   "source": [
    "rat_num.factor()"
   ]
  },
  {
   "cell_type": "code",
   "execution_count": null,
   "metadata": {},
   "outputs": [],
   "source": [
    "show(rat_num.factor()) #show makes the output nicer."
   ]
  },
  {
   "cell_type": "markdown",
   "metadata": {},
   "source": [
    "####  <font color=red>Exercise 25:</font> <a class=\"anchor\" id=\"exercise-25\"></a>\n",
    "\n",
    "Create a $4 \\times 4$ matrix space over the polynomial ring $\\mathbb{F}_{5}[x]$ and pick one of the check the methods that are available to an element in this space."
   ]
  },
  {
   "cell_type": "code",
   "execution_count": null,
   "metadata": {},
   "outputs": [],
   "source": []
  },
  {
   "cell_type": "code",
   "execution_count": null,
   "metadata": {},
   "outputs": [],
   "source": []
  },
  {
   "cell_type": "markdown",
   "metadata": {},
   "source": [
    "####  <font color=red>Exercise 26:</font> <a class=\"anchor\" id=\"exercise-26\"></a>\n",
    "\n",
    "Construct a $4\\times 4$ matrix space over the polynomial ring $\\mathbb{Q}(\\sqrt{-5})[x]$. **Hint:** Check the help for NumberField or QuadraticField."
   ]
  },
  {
   "cell_type": "code",
   "execution_count": null,
   "metadata": {},
   "outputs": [],
   "source": []
  },
  {
   "cell_type": "code",
   "execution_count": null,
   "metadata": {},
   "outputs": [],
   "source": []
  }
 ],
 "metadata": {
  "kernelspec": {
   "display_name": "SageMath 8.8",
   "language": "sage",
   "name": "sagemath"
  },
  "language": "python",
  "language_info": {
   "codemirror_mode": {
    "name": "ipython",
    "version": 2
   },
   "file_extension": ".py",
   "mimetype": "text/x-python",
   "name": "python",
   "nbconvert_exporter": "python",
   "pygments_lexer": "ipython2",
   "version": "2.7.15"
  }
 },
 "nbformat": 4,
 "nbformat_minor": 2
}
